{
 "cells": [
  {
   "cell_type": "markdown",
   "metadata": {
    "colab_type": "text",
    "id": "view-in-github"
   },
   "source": [
    "<a href=\"https://colab.research.google.com/github/RomainGratier/Black-box_Optimization_via_Deep_Generative-Exploratory_Networks/blob/master/CGANtest_thickness_continuous_mnist_FID.ipynb\" target=\"_parent\"><img src=\"https://colab.research.google.com/assets/colab-badge.svg\" alt=\"Open In Colab\"/></a>"
   ]
  },
  {
   "cell_type": "markdown",
   "metadata": {
    "colab_type": "text",
    "id": "tlBHjJd26ldr"
   },
   "source": [
    "# Import Libraries"
   ]
  },
  {
   "cell_type": "code",
   "execution_count": 1,
   "metadata": {
    "colab": {},
    "colab_type": "code",
    "id": "iZ-8Y8FaNubv"
   },
   "outputs": [],
   "source": [
    "# SEED EVERYTHING\n",
    "import torch\n",
    "from torch.autograd import Variable\n",
    "from torch.utils.data import DataLoader\n",
    "\n",
    "import numpy as np\n",
    "import pandas as pd \n",
    "import random\n",
    "\n",
    "import os \n",
    "from copy import deepcopy\n",
    "import shutil\n",
    "\n",
    "import matplotlib.pyplot as plt\n",
    "\n",
    "seed = 42\n",
    "random.seed(seed)\n",
    "np.random.seed(seed)\n",
    "torch.manual_seed(seed)\n",
    "torch.backends.cudnn.deterministic = True\n",
    "torch.backends.cudnn.benchmark = False\n",
    "\n",
    "%load_ext autoreload\n",
    "# Set extension to reload modules every time before executing code\n",
    "%autoreload 2"
   ]
  },
  {
   "cell_type": "markdown",
   "metadata": {
    "colab_type": "text",
    "id": "la2SA6hHtzaM"
   },
   "source": [
    "# Set up the main variables"
   ]
  },
  {
   "cell_type": "code",
   "execution_count": 2,
   "metadata": {
    "colab": {},
    "colab_type": "code",
    "id": "V1o9i5tBuIPr"
   },
   "outputs": [],
   "source": [
    "n_epochs = 125\n",
    "batch_size = 128\n",
    "lr=0.0002\n",
    "b1=0.5\n",
    "b2=0.999\n",
    "n_cpu=8\n",
    "latent_dim=100\n",
    "label_dim_input=1 #14\n",
    "img_size=28\n",
    "channels=1\n",
    "sample_interval=1000\n",
    "n_row = 10\n",
    "\n",
    "img_shape = (channels, img_size, img_size)\n",
    "\n",
    "cuda = True if torch.cuda.is_available() else False"
   ]
  },
  {
   "cell_type": "markdown",
   "metadata": {
    "colab_type": "text",
    "id": "w91sY8CXuSiC"
   },
   "source": [
    "# Create the classes for the models and the dataset"
   ]
  },
  {
   "cell_type": "code",
   "execution_count": 3,
   "metadata": {
    "colab": {},
    "colab_type": "code",
    "id": "1ulO6D3duhiK"
   },
   "outputs": [],
   "source": [
    "import os\n",
    "os.chdir('/Users/4romain/pCloud Drive/ml_master_thesis/repo/')\n",
    "import sys\n",
    "sys.path.append(\"Black-box_Optimization_via_Deep_Generative-Exploratory_Networks/\")\n",
    "from src.generative_model import Generator, Discriminator\n",
    "from src.data import MNISTDataset\n",
    "from src.generative_model import sample_image, save_model_check"
   ]
  },
  {
   "cell_type": "markdown",
   "metadata": {
    "colab_type": "text",
    "id": "62uixsf5uspE"
   },
   "source": [
    "### Create the dataset"
   ]
  },
  {
   "cell_type": "code",
   "execution_count": 4,
   "metadata": {
    "colab": {
     "base_uri": "https://localhost:8080/",
     "height": 1000
    },
    "colab_type": "code",
    "id": "8r2sf_iYS4w5",
    "outputId": "5cad6f41-5dcf-4d4a-fe6e-31beb3b62dcb"
   },
   "outputs": [
    {
     "name": "stdout",
     "output_type": "stream",
     "text": [
      " ---------------------------------------- CHECK NANS\n",
      "Empty DataFrame\n",
      "Columns: [index, area, length, thickness, slant, width, height, digit]\n",
      "Index: []\n",
      "              index          area        length     thickness         slant  \\\n",
      "count  54251.000000  54251.000000  54251.000000  54251.000000  54251.000000   \n",
      "mean   30149.049160     97.446472     37.843823      2.669598      0.099922   \n",
      "std    17335.099438     61.981228     11.781744      1.343455      0.256971   \n",
      "min        0.000000      4.875000      3.517767      0.713251     -0.966770   \n",
      "25%    15185.500000     44.375000     29.531223      1.463335     -0.075722   \n",
      "50%    30258.000000     85.812500     38.377417      2.374688      0.099015   \n",
      "75%    45199.500000    138.000000     46.284271      3.557524      0.283160   \n",
      "max    59999.000000    347.000000     80.661688      5.999532      1.030909   \n",
      "\n",
      "              width        height         digit  \n",
      "count  54251.000000  54251.000000  54251.000000  \n",
      "mean      12.805878     18.977384      4.475641  \n",
      "std        4.035415      1.727615      2.880369  \n",
      "min        2.398727      6.165503      0.000000  \n",
      "25%       10.701276     18.104972      2.000000  \n",
      "50%       13.141609     19.210691      4.000000  \n",
      "75%       15.574317     19.916090      7.000000  \n",
      "max       24.119401     22.820397      9.000000  \n",
      " -------------------- EDA -------------------- \n",
      "\n",
      "The extrem values from our labels:\n",
      "Maximum : 5.999531638467404   Minimum : 0.7132510119321792\n",
      "\n",
      "Check the distribution of our labels\n",
      "thickness\n",
      "1.0    14485\n",
      "2.0    14412\n",
      "3.0    11289\n",
      "4.0     7611\n",
      "5.0     4849\n",
      "6.0     1605\n",
      "Name: thickness, dtype: int64\n",
      "AxesSubplot(0.125,0.125;0.775x0.755)\n",
      "The extrem values from our normalized labels:\n",
      "Maximum : 0.7254649000798026   Minimum : 0.0\n",
      "              index          area        length     thickness         slant  \\\n",
      "count  54251.000000  54251.000000  54251.000000  54251.000000  54251.000000   \n",
      "mean   30149.049160     97.446472     37.843823      2.669598      0.099922   \n",
      "std    17335.099438     61.981228     11.781744      1.343455      0.256971   \n",
      "min        0.000000      4.875000      3.517767      0.713251     -0.966770   \n",
      "25%    15185.500000     44.375000     29.531223      1.463335     -0.075722   \n",
      "50%    30258.000000     85.812500     38.377417      2.374688      0.099015   \n",
      "75%    45199.500000    138.000000     46.284271      3.557524      0.283160   \n",
      "max    59999.000000    347.000000     80.661688      5.999532      1.030909   \n",
      "\n",
      "              width        height         digit  normalized_label  \n",
      "count  54251.000000  54251.000000  54251.000000      54251.000000  \n",
      "mean      12.805878     18.977384      4.475641          0.268480  \n",
      "std        4.035415      1.727615      2.880369          0.184370  \n",
      "min        2.398727      6.165503      0.000000          0.000000  \n",
      "25%       10.701276     18.104972      2.000000          0.102938  \n",
      "50%       13.141609     19.210691      4.000000          0.228008  \n",
      "75%       15.574317     19.916090      7.000000          0.390335  \n",
      "max       24.119401     22.820397      9.000000          0.725465  \n",
      " ---------------------------------------- CHECK NANS\n",
      "Empty DataFrame\n",
      "Columns: [index, area, length, thickness, slant, width, height, digit]\n",
      "Index: []\n",
      "              index          area        length     thickness         slant  \\\n",
      "count  54251.000000  54251.000000  54251.000000  54251.000000  54251.000000   \n",
      "mean   30149.049160     97.446472     37.843823      2.669598      0.099922   \n",
      "std    17335.099438     61.981228     11.781744      1.343455      0.256971   \n",
      "min        0.000000      4.875000      3.517767      0.713251     -0.966770   \n",
      "25%    15185.500000     44.375000     29.531223      1.463335     -0.075722   \n",
      "50%    30258.000000     85.812500     38.377417      2.374688      0.099015   \n",
      "75%    45199.500000    138.000000     46.284271      3.557524      0.283160   \n",
      "max    59999.000000    347.000000     80.661688      5.999532      1.030909   \n",
      "\n",
      "              width        height         digit  \n",
      "count  54251.000000  54251.000000  54251.000000  \n",
      "mean      12.805878     18.977384      4.475641  \n",
      "std        4.035415      1.727615      2.880369  \n",
      "min        2.398727      6.165503      0.000000  \n",
      "25%       10.701276     18.104972      2.000000  \n",
      "50%       13.141609     19.210691      4.000000  \n",
      "75%       15.574317     19.916090      7.000000  \n",
      "max       24.119401     22.820397      9.000000  \n",
      " -------------------- EDA -------------------- \n",
      "\n",
      "The extrem values from our labels:\n",
      "Maximum : 5.999531638467404   Minimum : 0.7132510119321792\n",
      "\n",
      "Check the distribution of our labels\n",
      "thickness\n",
      "1.0    14485\n",
      "2.0    14412\n",
      "3.0    11289\n",
      "4.0     7611\n",
      "5.0     4849\n",
      "6.0     1605\n",
      "Name: thickness, dtype: int64\n",
      "AxesSubplot(0.125,0.125;0.775x0.755)\n",
      "The extrem values from our normalized labels:\n",
      "Maximum : 0.7254649000798026   Minimum : 0.0\n",
      "              index          area        length     thickness         slant  \\\n",
      "count  54251.000000  54251.000000  54251.000000  54251.000000  54251.000000   \n",
      "mean   30149.049160     97.446472     37.843823      2.669598      0.099922   \n",
      "std    17335.099438     61.981228     11.781744      1.343455      0.256971   \n",
      "min        0.000000      4.875000      3.517767      0.713251     -0.966770   \n",
      "25%    15185.500000     44.375000     29.531223      1.463335     -0.075722   \n",
      "50%    30258.000000     85.812500     38.377417      2.374688      0.099015   \n",
      "75%    45199.500000    138.000000     46.284271      3.557524      0.283160   \n",
      "max    59999.000000    347.000000     80.661688      5.999532      1.030909   \n",
      "\n",
      "              width        height         digit  normalized_label  \n",
      "count  54251.000000  54251.000000  54251.000000      54251.000000  \n",
      "mean      12.805878     18.977384      4.475641          0.268480  \n",
      "std        4.035415      1.727615      2.880369          0.184370  \n",
      "min        2.398727      6.165503      0.000000          0.000000  \n",
      "25%       10.701276     18.104972      2.000000          0.102938  \n",
      "50%       13.141609     19.210691      4.000000          0.228008  \n",
      "75%       15.574317     19.916090      7.000000          0.390335  \n",
      "max       24.119401     22.820397      9.000000          0.725465  \n",
      " ---------------------------------------- CHECK NANS\n",
      "Empty DataFrame\n",
      "Columns: [index, area, length, thickness, slant, width, height, digit]\n",
      "Index: []\n",
      "              index          area        length     thickness         slant  \\\n",
      "count  54251.000000  54251.000000  54251.000000  54251.000000  54251.000000   \n",
      "mean   30149.049160     97.446472     37.843823      2.669598      0.099922   \n",
      "std    17335.099438     61.981228     11.781744      1.343455      0.256971   \n",
      "min        0.000000      4.875000      3.517767      0.713251     -0.966770   \n",
      "25%    15185.500000     44.375000     29.531223      1.463335     -0.075722   \n",
      "50%    30258.000000     85.812500     38.377417      2.374688      0.099015   \n",
      "75%    45199.500000    138.000000     46.284271      3.557524      0.283160   \n",
      "max    59999.000000    347.000000     80.661688      5.999532      1.030909   \n",
      "\n",
      "              width        height         digit  \n",
      "count  54251.000000  54251.000000  54251.000000  \n",
      "mean      12.805878     18.977384      4.475641  \n",
      "std        4.035415      1.727615      2.880369  \n",
      "min        2.398727      6.165503      0.000000  \n",
      "25%       10.701276     18.104972      2.000000  \n",
      "50%       13.141609     19.210691      4.000000  \n",
      "75%       15.574317     19.916090      7.000000  \n",
      "max       24.119401     22.820397      9.000000  \n",
      " -------------------- EDA -------------------- \n",
      "\n",
      "The extrem values from our labels:\n",
      "Maximum : 5.999531638467404   Minimum : 0.7132510119321792\n",
      "\n",
      "Check the distribution of our labels\n",
      "thickness\n",
      "1.0    14485\n",
      "2.0    14412\n",
      "3.0    11289\n",
      "4.0     7611\n",
      "5.0     4849\n",
      "6.0     1605\n",
      "Name: thickness, dtype: int64\n",
      "AxesSubplot(0.125,0.125;0.775x0.755)\n",
      " ---------------------------------------- CHECK NANS\n",
      "Empty DataFrame\n",
      "Columns: [index, area, length, thickness, slant, width, height, digit]\n",
      "Index: []\n",
      "             index         area       length    thickness        slant  \\\n",
      "count  9840.000000  9840.000000  9840.000000  9840.000000  9840.000000   \n",
      "mean   4981.231606   111.943712    37.160123     3.108251     0.086199   \n",
      "std    2885.634160    74.773221    11.484931     1.810275     0.246630   \n",
      "min       0.000000     5.750000     1.353553     0.721537    -0.838984   \n",
      "25%    2483.750000    47.562500    28.922781     1.535961    -0.084721   \n",
      "50%    4968.500000    97.437500    37.688077     2.627451     0.081987   \n",
      "75%    7462.250000   158.390625    45.438077     4.242985     0.261439   \n",
      "max    9999.000000   427.437500    73.707630     8.996493     0.856779   \n",
      "\n",
      "             width       height        digit  \n",
      "count  9840.000000  9840.000000  9840.000000  \n",
      "mean     13.082309    19.226310     4.437093  \n",
      "std       4.073021     1.832125     2.895003  \n",
      "min       2.737271     8.181947     0.000000  \n",
      "25%      10.992739    18.203444     2.000000  \n",
      "50%      13.391113    19.329787     4.000000  \n",
      "75%      15.798385    20.679407     7.000000  \n",
      "max      23.550289    23.913798     9.000000  \n",
      " -------------------- EDA -------------------- \n",
      "\n",
      "The extrem values from our labels:\n",
      "Maximum : 8.996492680588556   Minimum : 0.7215373500308595\n",
      "\n",
      "Check the distribution of our labels\n",
      "thickness\n",
      "1.0    2307\n",
      "2.0    2321\n",
      "3.0    1864\n",
      "4.0    1322\n",
      "5.0     891\n",
      "6.0     534\n",
      "7.0     352\n",
      "8.0     182\n",
      "9.0      67\n",
      "Name: thickness, dtype: int64\n",
      "AxesSubplot(0.125,0.125;0.775x0.755)\n",
      "The extrem values from our normalized labels:\n",
      "Maximum : 0.7254649000798026   Minimum : 0.0\n",
      "             index         area       length    thickness        slant  \\\n",
      "count  9840.000000  9840.000000  9840.000000  9840.000000  9840.000000   \n",
      "mean   4981.231606   111.943712    37.160123     3.108251     0.086199   \n",
      "std    2885.634160    74.773221    11.484931     1.810275     0.246630   \n",
      "min       0.000000     5.750000     1.353553     0.721537    -0.838984   \n",
      "25%    2483.750000    47.562500    28.922781     1.535961    -0.084721   \n",
      "50%    4968.500000    97.437500    37.688077     2.627451     0.081987   \n",
      "75%    7462.250000   158.390625    45.438077     4.242985     0.261439   \n",
      "max    9999.000000   427.437500    73.707630     8.996493     0.856779   \n",
      "\n",
      "             width       height        digit  normalized_label  \n",
      "count  9840.000000  9840.000000  9840.000000       9840.000000  \n",
      "mean     13.082309    19.226310     4.437093          0.328679  \n",
      "std       4.073021     1.832125     2.895003          0.248434  \n",
      "min       2.737271     8.181947     0.000000          0.001137  \n",
      "25%      10.992739    18.203444     2.000000          0.112905  \n",
      "50%      13.391113    19.329787     4.000000          0.262696  \n",
      "75%      15.798385    20.679407     7.000000          0.484404  \n",
      "max      23.550289    23.913798     9.000000          1.136754  \n",
      " ---------------------------------------- CHECK NANS\n",
      "Empty DataFrame\n",
      "Columns: [index, area, length, thickness, slant, width, height, digit]\n",
      "Index: []\n",
      "              index          area        length     thickness         slant  \\\n",
      "count  42619.000000  42619.000000  42619.000000  42619.000000  42619.000000   \n",
      "mean   30462.436378    171.534773     40.895775      4.435529      0.096771   \n",
      "std    17450.221223     49.506203     10.915589      0.832197      0.247605   \n",
      "min        0.000000     41.312500     14.828427      1.991525     -0.838935   \n",
      "25%    15452.000000    135.562500     34.495689      3.926954     -0.074674   \n",
      "50%    30775.000000    170.375000     41.241378      4.366501      0.091115   \n",
      "75%    45653.500000    205.812500     48.377417      5.170284      0.271806   \n",
      "max    59999.000000    347.000000     83.615747      5.999829      1.030909   \n",
      "\n",
      "              width        height         digit  \n",
      "count  42619.000000  42619.000000  42619.000000  \n",
      "mean      14.265694     20.627363      4.536686  \n",
      "std        3.927529      1.349726      2.848117  \n",
      "min        3.803261      9.148022      0.000000  \n",
      "25%       12.222279     20.524246      2.000000  \n",
      "50%       14.619933     20.990757      5.000000  \n",
      "75%       16.974761     21.318641      7.000000  \n",
      "max       24.119401     22.822834      9.000000  \n",
      " -------------------- EDA -------------------- \n",
      "\n",
      "The extrem values from our labels:\n",
      "Maximum : 5.999828782899585   Minimum : 1.9915251637973532\n",
      "\n",
      "Check the distribution of our labels\n",
      "thickness\n",
      "2.0      617\n",
      "3.0     7167\n",
      "4.0    16448\n",
      "5.0    13665\n",
      "6.0     4722\n",
      "Name: thickness, dtype: int64\n",
      "AxesSubplot(0.125,0.125;0.775x0.755)\n",
      " ---------------------------------------- CHECK NANS\n",
      "Empty DataFrame\n",
      "Columns: [index, area, length, thickness, slant, width, height, digit]\n",
      "Index: []\n",
      "              index          area        length     thickness         slant  \\\n",
      "count  57516.000000  57516.000000  57516.000000  57516.000000  57516.000000   \n",
      "mean   30079.881598    191.016383     39.060433      5.106976      0.101592   \n",
      "std    17337.479706     60.851946     11.249429      1.400756      0.243986   \n",
      "min        0.000000     41.312500     11.871320      1.991525     -0.838935   \n",
      "25%    15124.750000    146.437500     31.927670      4.115240     -0.066640   \n",
      "50%    30127.500000    186.812500     39.513456      4.956681      0.100217   \n",
      "75%    45137.250000    231.125000     46.902543      6.058492      0.274782   \n",
      "max    59999.000000    426.500000     83.615747      8.999920      1.030909   \n",
      "\n",
      "              width        height         digit  \n",
      "count  57516.000000  57516.000000  57516.000000  \n",
      "mean      14.727574     20.867586      4.433740  \n",
      "std        3.987092      1.338599      2.880984  \n",
      "min        3.803261      9.148022      0.000000  \n",
      "25%       12.540682     20.650939      2.000000  \n",
      "50%       15.068420     21.132246      4.000000  \n",
      "75%       17.554969     21.533632      7.000000  \n",
      "max       24.963836     24.343255      9.000000  \n",
      " -------------------- EDA -------------------- \n",
      "\n",
      "The extrem values from our labels:\n",
      "Maximum : 8.999919732054193   Minimum : 1.9915251637973532\n",
      "\n",
      "Check the distribution of our labels\n",
      "thickness\n",
      "2.0      617\n",
      "3.0     7167\n",
      "4.0    16448\n",
      "5.0    13665\n",
      "6.0     9800\n",
      "7.0     5880\n",
      "8.0     3038\n",
      "9.0      901\n",
      "Name: thickness, dtype: int64\n",
      "AxesSubplot(0.125,0.125;0.775x0.755)\n",
      "The extrem values from our normalized labels:\n",
      "Maximum : 0.6671083308781032   Minimum : 0.0\n",
      "              index          area        length     thickness         slant  \\\n",
      "count  57516.000000  57516.000000  57516.000000  57516.000000  57516.000000   \n",
      "mean   30079.881598    191.016383     39.060433      5.106976      0.101592   \n",
      "std    17337.479706     60.851946     11.249429      1.400756      0.243986   \n",
      "min        0.000000     41.312500     11.871320      1.991525     -0.838935   \n",
      "25%    15124.750000    146.437500     31.927670      4.115240     -0.066640   \n",
      "50%    30127.500000    186.812500     39.513456      4.956681      0.100217   \n",
      "75%    45137.250000    231.125000     46.902543      6.058492      0.274782   \n",
      "max    59999.000000    426.500000     83.615747      8.999920      1.030909   \n",
      "\n",
      "              width        height         digit  normalized_label  \n",
      "count  57516.000000  57516.000000  57516.000000      57516.000000  \n",
      "mean      14.727574     20.867586      4.433740          0.518509  \n",
      "std        3.987092      1.338599      2.880984          0.233130  \n",
      "min        3.803261      9.148022      0.000000          0.000000  \n",
      "25%       12.540682     20.650939      2.000000          0.353453  \n",
      "50%       15.068420     21.132246      4.000000          0.493496  \n",
      "75%       17.554969     21.533632      7.000000          0.676872  \n",
      "max       24.963836     24.343255      9.000000          1.166418  \n"
     ]
    },
    {
     "data": {
      "image/png": "[encoded data removed]",
      "text/plain": [
       "<Figure size 432x288 with 1 Axes>"
      ]
     },
     "metadata": {
      "needs_background": "light"
     },
     "output_type": "display_data"
    },
    {
     "data": {
      "image/png": "[encoded data removed]",
      "text/plain": [
       "<Figure size 432x288 with 1 Axes>"
      ]
     },
     "metadata": {
      "needs_background": "light"
     },
     "output_type": "display_data"
    },
    {
     "data": {
      "image/png": "[encoded data removed]",
      "text/plain": [
       "<Figure size 432x288 with 1 Axes>"
      ]
     },
     "metadata": {
      "needs_background": "light"
     },
     "output_type": "display_data"
    },
    {
     "data": {
      "image/png": "[encoded data removed]",
      "text/plain": [
       "<Figure size 432x288 with 1 Axes>"
      ]
     },
     "metadata": {
      "needs_background": "light"
     },
     "output_type": "display_data"
    },
    {
     "data": {
      "image/png": "[encoded data removed]",
      "text/plain": [
       "<Figure size 432x288 with 1 Axes>"
      ]
     },
     "metadata": {
      "needs_background": "light"
     },
     "output_type": "display_data"
    },
    {
     "data": {
      "image/png": "[encoded data removed]",
      "text/plain": [
       "<Figure size 432x288 with 1 Axes>"
      ]
     },
     "metadata": {
      "needs_background": "light"
     },
     "output_type": "display_data"
    }
   ],
   "source": [
    "## GAN\n",
    "dataset = MNISTDataset('train', 'thickness', data_type='morpho_mnist/global')\n",
    "\n",
    "dataloader = DataLoader(dataset=dataset,\n",
    "                          batch_size=batch_size,\n",
    "                          shuffle=True,\n",
    "                          num_workers=4)\n",
    "\n",
    "# Forward\n",
    "trainset = MNISTDataset('train', 'thickness', data_type='morpho_mnist/global')\n",
    "trainloader = DataLoader(dataset=trainset,\n",
    "                          batch_size=batch_size,\n",
    "                          shuffle=True,\n",
    "                          num_workers=4)\n",
    "\n",
    "testset = MNISTDataset('test', 'thickness', data_type='morpho_mnist/global')\n",
    "testloader = DataLoader(dataset=testset,\n",
    "                          batch_size=batch_size,\n",
    "                          shuffle=True,\n",
    "                          num_workers=4)\n",
    "\n",
    "# Inference\n",
    "fulldataset = MNISTDataset('full', 'thickness', data_type='morpho_mnist/thic')"
   ]
  },
  {
   "cell_type": "markdown",
   "metadata": {
    "colab_type": "text",
    "id": "ec5QeuGsuxAe"
   },
   "source": [
    "### Define the main parameters to train the Generative Adversarial Network"
   ]
  },
  {
   "cell_type": "code",
   "execution_count": 5,
   "metadata": {
    "colab": {
     "base_uri": "https://localhost:8080/",
     "height": 289
    },
    "colab_type": "code",
    "id": "ll96yOT3JKlj",
    "outputId": "878023a6-474f-41d4-faae-45eb9044a397"
   },
   "outputs": [
    {
     "name": "stdout",
     "output_type": "stream",
     "text": [
      "/bin/sh: nvidia-smi: command not found\n"
     ]
    }
   ],
   "source": [
    "#path_generator = 'drive/My Drive/master_thesis/models_mid/generative_wo_weight_global/'\n",
    "\n",
    "def load_obj_csv(path):\n",
    "    return pd.read_csv(path+'.csv')\n",
    "\n",
    "def save_obj_csv(d, path):\n",
    "    d.to_csv(path+'.csv', index=False)\n",
    "\n",
    "def train_loop():\n",
    "\n",
    "    mse_gan_in_distribution = []\n",
    "    mse_gan_out_distribution = []\n",
    "    df_acc_gen = pd.DataFrame(columns=['mse_in', 'mse_out', 'fid_in', 'fid_out'])\n",
    "\n",
    "    '''if os.path.exists(path_generator):\n",
    "        df_check_in_distribution = load_obj_csv(os.path.join(path_generator, 'results_in_distribution'))\n",
    "        df_check_out_distribution = load_obj_csv(os.path.join(path_generator, 'results_out_distribution'))\n",
    "    else:\n",
    "        os.makedirs(path_generator)\n",
    "        df_check_in_distribution = None\n",
    "        df_check_out_distribution = None'''\n",
    "\n",
    "    df_check_in_distribution = None\n",
    "    df_check_out_distribution = None\n",
    "    \n",
    "    # Loss functions\n",
    "    adversarial_loss = torch.nn.MSELoss()\n",
    "\n",
    "    # Initialize generator and discriminator\n",
    "    generator = Generator()\n",
    "    discriminator = Discriminator()\n",
    "\n",
    "\n",
    "    if cuda:\n",
    "        generator.cuda()\n",
    "        discriminator.cuda()\n",
    "        adversarial_loss.cuda()\n",
    "\n",
    "    # Optimizers\n",
    "    optimizer_G = torch.optim.Adam(generator.parameters(), lr=lr, betas=(b1, b2))\n",
    "    optimizer_D = torch.optim.Adam(discriminator.parameters(), lr=lr, betas=(b1, b2))\n",
    "\n",
    "    FloatTensor = torch.cuda.FloatTensor if cuda else torch.FloatTensor\n",
    "    LongTensor = torch.cuda.LongTensor if cuda else torch.LongTensor\n",
    "\n",
    "    if os.path.isdir(\"images\"):\n",
    "        shutil.rmtree(\"images\")\n",
    "    os.makedirs(\"images\", exist_ok=True)\n",
    "\n",
    "    # FID needs\n",
    "    df_test_in = pd.DataFrame(dataset.labels.values, columns=['label'])\n",
    "    df_test_out = pd.DataFrame(fulldataset.labels.values, columns=['label'])\n",
    "    index_in_distribution = df_test_in[df_test_in['label']<=dataset.maximum_label].index\n",
    "    index_out_distribution = df_test_out[df_test_out['label']>dataset.maximum_label].index\n",
    "    print(f'size of in distribution data for fid/kid : {len(index_in_distribution)}')\n",
    "    print(f'size of out distribution data for fid/kid : {len(index_out_distribution)}')\n",
    "    real_dataset_in = deepcopy(dataset.x_data)\n",
    "    real_dataset_out = deepcopy(fulldataset.x_data)\n",
    "\n",
    "    arr = np.array([num for num in np.arange(0, 1, 1/n_row)])\n",
    "    print(f\"Checkup the plots of the displayed labels {arr}\")\n",
    "    in_distribution_index = np.where(arr <= dataset.maximum)\n",
    "    out_distribution_index = np.where(arr > dataset.maximum)\n",
    "\n",
    "    best_res_in = 100000\n",
    "    best_res_out = 100000\n",
    "\n",
    "    for epoch in range(n_epochs):\n",
    "        d_loss_check = []\n",
    "        g_loss_check = []\n",
    "\n",
    "        if (epoch+1) % 50 == 0:\n",
    "            optimizer_G.param_groups[0]['lr'] /= 10\n",
    "            optimizer_D.param_groups[0]['lr'] /= 10\n",
    "            print(\"learning rate change!\")\n",
    "\n",
    "        for i, (imgs, labels) in enumerate(dataloader):\n",
    "            ## Initialization\n",
    "            batch_size = imgs.shape[0]\n",
    "\n",
    "            # Adversarial ground truths\n",
    "            valid = Variable(FloatTensor(batch_size, 1).fill_(1.0), requires_grad=False)\n",
    "            fake = Variable(FloatTensor(batch_size, 1).fill_(0.0), requires_grad=False)\n",
    "\n",
    "            # Configure input\n",
    "            real_imgs = Variable(imgs.type(FloatTensor))\n",
    "            labels = Variable(labels.type(FloatTensor))\n",
    "\n",
    "            # -----------------\n",
    "            #  Train Generator\n",
    "            # -----------------\n",
    "\n",
    "            optimizer_G.zero_grad()\n",
    "\n",
    "            # Sample noise and labels as generator input\n",
    "            z = Variable(FloatTensor(np.random.normal(0, 1, (batch_size, latent_dim))))\n",
    "            gen_labels = Variable(FloatTensor(np.random.rand(batch_size))) \n",
    "\n",
    "            # Generate a batch of images\n",
    "            gen_imgs = generator(z, gen_labels)\n",
    "\n",
    "            # Loss measures generator's ability to fool the discriminator\n",
    "            validity = discriminator(gen_imgs, gen_labels)\n",
    "            g_loss = adversarial_loss(validity, valid)\n",
    "\n",
    "            g_loss.backward()\n",
    "            optimizer_G.step()\n",
    "\n",
    "            g_loss_check.append(g_loss.item())\n",
    "\n",
    "            # ---------------------\n",
    "            #  Train Discriminator\n",
    "            # ---------------------\n",
    "\n",
    "            optimizer_D.zero_grad()\n",
    "\n",
    "            # Loss for real images\n",
    "            validity_real = discriminator(real_imgs, labels)\n",
    "            d_real_loss = adversarial_loss(validity_real, valid)\n",
    "\n",
    "            # Loss for fake images\n",
    "            validity_fake = discriminator(gen_imgs.detach(), gen_labels)\n",
    "            d_fake_loss = adversarial_loss(validity_fake, fake)\n",
    "\n",
    "            # Total discriminator loss\n",
    "            d_loss = (d_real_loss + d_fake_loss) / 2\n",
    "\n",
    "            d_loss.backward()\n",
    "            optimizer_D.step()\n",
    "\n",
    "            d_loss_check.append(d_loss.item())\n",
    "\n",
    "            batches_done = epoch * len(dataloader) + i\n",
    "            if batches_done % sample_interval == 0:\n",
    "\n",
    "                print(\n",
    "                  \"[Epoch %d/%d] [Batch %d/%d] [D loss: %f] [G loss: %f]\"\n",
    "                  % (epoch, n_epochs, i, len(dataloader), np.mean(d_loss_check), np.mean(g_loss_check))\n",
    "                )\n",
    "\n",
    "                # Delete useless data from GPU\n",
    "                del valid; del fake; del real_imgs; del labels; del z; del gen_labels; del g_loss; del d_loss; del gen_imgs; del validity;\n",
    "                torch.cuda.empty_cache()\n",
    "\n",
    "                mse_gan, fid_in, kid_in, fid_out, kid_out = sample_image(n_row, batches_done, in_distribution_index, out_distribution_index, real_dataset_in, real_dataset_out, index_in_distribution, index_out_distribution, generator, dataset, 1000)\n",
    "\n",
    "                mean_in_mse = np.mean(mse_gan[in_distribution_index])\n",
    "                mean_out_mse = np.mean(mse_gan[out_distribution_index])\n",
    "\n",
    "                mse_gan_in_distribution.append(mse_gan[in_distribution_index])\n",
    "                mse_gan_out_distribution.append(mse_gan[out_distribution_index])\n",
    "\n",
    "                df = pd.DataFrame([mean_in_mse], columns=['mse_in'])\n",
    "                df['mse_out'] = mean_out_mse\n",
    "                df['fid_in'] = fid_in[0]\n",
    "                df['fid_out'] = fid_out[0]\n",
    "                df['kid_in'] = kid_in[0]\n",
    "                df['kid_out'] = kid_out[0]\n",
    "\n",
    "                df_acc_gen = df_acc_gen.append(df, ignore_index=True)\n",
    "\n",
    "                '''# Check if we have better results\n",
    "                df_check_in_distribution, best_res_in = save_model_check('in', df_check_in_distribution, df['mse_in'].values, best_res_in, df_acc_gen, path_generator, generator)\n",
    "                df_check_out_distribution, best_res_out = save_model_check('out', df_check_out_distribution, df['mse_out'].values, best_res_out, df_acc_gen, path_generator, generator)\n",
    "'''\n",
    "    return mse_gan_in_distribution, mse_gan_out_distribution, df_acc_gen\n",
    "\n",
    "!nvidia-smi"
   ]
  },
  {
   "cell_type": "markdown",
   "metadata": {
    "colab_type": "text",
    "id": "wJNKZu0Cu8jM"
   },
   "source": [
    "### Training loop GAN\n",
    "\n",
    "\n"
   ]
  },
  {
   "cell_type": "code",
   "execution_count": 6,
   "metadata": {
    "colab": {
     "base_uri": "https://localhost:8080/",
     "height": 1000
    },
    "colab_type": "code",
    "id": "gUJFUVFzr2jS",
    "outputId": "da2617c7-a9b3-4b50-a12e-7cfc550d0260"
   },
   "outputs": [
    {
     "name": "stdout",
     "output_type": "stream",
     "text": [
      "size of in distribution data for fid/kid : 54251\n",
      "size of out distribution data for fid/kid : 14901\n",
      "Checkup the plots of the displayed labels [0.  0.1 0.2 0.3 0.4 0.5 0.6 0.7 0.8 0.9]\n",
      "[Epoch 0/125] [Batch 0/424] [D loss: 0.527005] [G loss: 1.034517]\n"
     ]
    },
    {
     "name": "stderr",
     "output_type": "stream",
     "text": [
      "100%|##########| 100/100 [00:06<00:00, 16.07img/s]\n"
     ]
    },
    {
     "name": "stdout",
     "output_type": "stream",
     "text": [
      "(1000, 1, 32, 32) 0.0 1.0\n",
      "save_data/gen_img_in_distribution.npy\n",
      "(1000, 1, 32, 32) 0.9200987 0.9938154\n"
     ]
    },
    {
     "name": "stderr",
     "output_type": "stream",
     "text": [
      "FID: 100%|██████████| 10/10 [00:00<00:00, 40.07it/s, mean=121]\n"
     ]
    },
    {
     "name": "stdout",
     "output_type": "stream",
     "text": [
      "(1000, 1, 32, 32) 0.0 1.0\n",
      "save_data/gen_img_in_distribution.npy\n",
      "(1000, 1, 32, 32) 0.9200987 0.9938154\n",
      "MMD: 100%|██████████| 100/100 [00:00<00:00, 418.25it/s, mean=4.07]\n",
      "(1000, 1, 32, 32) 0.0 1.0\n",
      "save_data/gen_img_out_distribution.npy\n",
      "(1000, 1, 32, 32) 0.9198133 0.9936454\n"
     ]
    },
    {
     "name": "stderr",
     "output_type": "stream",
     "text": [
      "FID: 100%|██████████| 10/10 [00:00<00:00, 50.63it/s, mean=83.2]\n"
     ]
    },
    {
     "name": "stdout",
     "output_type": "stream",
     "text": [
      "(1000, 1, 32, 32) 0.0 1.0\n",
      "save_data/gen_img_out_distribution.npy\n",
      "(1000, 1, 32, 32) 0.9198133 0.9936454\n",
      "MMD: 100%|██████████| 100/100 [00:00<00:00, 394.16it/s, mean=2.9]\n",
      "\n",
      "The thickness distribution =\n",
      "[0.16600933 0.1653905  0.16871361 0.16863863 0.1693025  0.16154997\n",
      " 0.16784451 0.16592592 0.1645785  0.16750066]\n",
      "Average MSE In dist = 4.578482359646903 \\ Average MSE Out dist = 24.963837307918155\n",
      "\n",
      "FID score in distribution : mean = 120.8988 \\ std = 0.6566\n",
      "FID score out distribution : mean = 83.21 \\ std = 0.9658\n",
      "\n",
      "KID score in distribution : mean = 4.0693 \\ std = 0.1493\n",
      "KID score out distribution : mean = 2.901 \\ std = 0.1076\n"
     ]
    },
    {
     "name": "stderr",
     "output_type": "stream",
     "text": [
      "/anaconda3/lib/python3.7/site-packages/pandas/core/frame.py:6692: FutureWarning: Sorting because non-concatenation axis is not aligned. A future version\n",
      "of pandas will change to not sort by default.\n",
      "\n",
      "To accept the future behavior, pass 'sort=False'.\n",
      "\n",
      "To retain the current behavior and silence the warning, pass 'sort=True'.\n",
      "\n",
      "  sort=sort)\n"
     ]
    },
    {
     "name": "stdout",
     "output_type": "stream",
     "text": [
      "[Epoch 2/125] [Batch 152/424] [D loss: 0.062249] [G loss: 0.791338]\n"
     ]
    },
    {
     "name": "stderr",
     "output_type": "stream",
     "text": [
      "100%|##########| 100/100 [00:06<00:00, 15.69img/s]\n"
     ]
    },
    {
     "name": "stdout",
     "output_type": "stream",
     "text": [
      "(1000, 1, 32, 32) 0.0 1.0\n",
      "save_data/gen_img_in_distribution.npy\n",
      "(1000, 1, 32, 32) 1.5355648e-05 0.9999981\n"
     ]
    },
    {
     "name": "stderr",
     "output_type": "stream",
     "text": [
      "FID: 100%|██████████| 10/10 [00:00<00:00, 45.58it/s, mean=53.5]\n"
     ]
    },
    {
     "name": "stdout",
     "output_type": "stream",
     "text": [
      "(1000, 1, 32, 32) 0.0 1.0\n",
      "save_data/gen_img_in_distribution.npy\n",
      "(1000, 1, 32, 32) 1.5355648e-05 0.9999981\n",
      "MMD: 100%|██████████| 100/100 [00:00<00:00, 380.91it/s, mean=0.737]\n",
      "(1000, 1, 32, 32) 0.0 1.0\n",
      "save_data/gen_img_out_distribution.npy\n",
      "(1000, 1, 32, 32) 1.7009676e-05 0.99999666\n"
     ]
    },
    {
     "name": "stderr",
     "output_type": "stream",
     "text": [
      "FID: 100%|██████████| 10/10 [00:00<00:00, 43.84it/s, mean=46.4]\n"
     ]
    },
    {
     "name": "stdout",
     "output_type": "stream",
     "text": [
      "(1000, 1, 32, 32) 0.0 1.0\n",
      "save_data/gen_img_out_distribution.npy\n",
      "(1000, 1, 32, 32) 1.7009676e-05 0.99999666\n",
      "MMD: 100%|██████████| 100/100 [00:00<00:00, 365.34it/s, mean=0.58]\n",
      "\n",
      "The thickness distribution =\n",
      "[0.11118043 0.08382329 0.08507812 0.07390966 0.07676105 0.10146509\n",
      " 0.10848511 0.09469645 0.09559691 0.07257173]\n",
      "Average MSE In dist = 6.293549287013731 \\ Average MSE Out dist = 31.348862169309452\n",
      "\n",
      "FID score in distribution : mean = 53.5363 \\ std = 0.8347\n",
      "FID score out distribution : mean = 46.3921 \\ std = 0.7546\n",
      "\n",
      "KID score in distribution : mean = 0.7375 \\ std = 0.0857\n",
      "KID score out distribution : mean = 0.5795 \\ std = 0.0747\n"
     ]
    },
    {
     "name": "stderr",
     "output_type": "stream",
     "text": [
      "/anaconda3/lib/python3.7/site-packages/pandas/core/frame.py:6692: FutureWarning: Sorting because non-concatenation axis is not aligned. A future version\n",
      "of pandas will change to not sort by default.\n",
      "\n",
      "To accept the future behavior, pass 'sort=False'.\n",
      "\n",
      "To retain the current behavior and silence the warning, pass 'sort=True'.\n",
      "\n",
      "  sort=sort)\n"
     ]
    },
    {
     "name": "stdout",
     "output_type": "stream",
     "text": [
      "[Epoch 4/125] [Batch 304/424] [D loss: 0.044481] [G loss: 0.868164]\n"
     ]
    },
    {
     "name": "stderr",
     "output_type": "stream",
     "text": [
      "100%|##########| 100/100 [00:06<00:00, 16.01img/s]\n"
     ]
    },
    {
     "name": "stdout",
     "output_type": "stream",
     "text": [
      "(1000, 1, 32, 32) 0.0 1.0\n",
      "save_data/gen_img_in_distribution.npy\n",
      "(1000, 1, 32, 32) 0.0 1.0\n"
     ]
    },
    {
     "name": "stderr",
     "output_type": "stream",
     "text": [
      "FID: 100%|██████████| 10/10 [00:00<00:00, 45.77it/s, mean=52.8]\n"
     ]
    },
    {
     "name": "stdout",
     "output_type": "stream",
     "text": [
      "(1000, 1, 32, 32) 0.0 1.0\n",
      "save_data/gen_img_in_distribution.npy\n",
      "(1000, 1, 32, 32) 0.0 1.0\n",
      "MMD: 100%|██████████| 100/100 [00:00<00:00, 373.54it/s, mean=0.848]\n",
      "(1000, 1, 32, 32) 0.0 1.0\n",
      "save_data/gen_img_out_distribution.npy\n",
      "(1000, 1, 32, 32) 0.0 1.0\n"
     ]
    },
    {
     "name": "stderr",
     "output_type": "stream",
     "text": [
      "FID: 100%|██████████| 10/10 [00:00<00:00, 44.39it/s, mean=50.6]\n"
     ]
    },
    {
     "name": "stdout",
     "output_type": "stream",
     "text": [
      "(1000, 1, 32, 32) 0.0 1.0\n",
      "save_data/gen_img_out_distribution.npy\n",
      "(1000, 1, 32, 32) 0.0 1.0\n",
      "MMD: 100%|██████████| 100/100 [00:00<00:00, 385.90it/s, mean=0.763]\n",
      "\n",
      "The thickness distribution =\n",
      "[0.11257375 0.14796237 0.14835009 0.10942074 0.16153173 0.14871987\n",
      " 0.14738851 0.15252862 0.16799769 0.15147923]\n",
      "Average MSE In dist = 4.903536467799115 \\ Average MSE Out dist = 25.478729365682646\n",
      "\n",
      "FID score in distribution : mean = 52.7673 \\ std = 0.713\n",
      "FID score out distribution : mean = 50.6085 \\ std = 0.5235\n",
      "\n",
      "KID score in distribution : mean = 0.8478 \\ std = 0.0881\n",
      "KID score out distribution : mean = 0.7632 \\ std = 0.0904\n"
     ]
    },
    {
     "name": "stderr",
     "output_type": "stream",
     "text": [
      "/anaconda3/lib/python3.7/site-packages/pandas/core/frame.py:6692: FutureWarning: Sorting because non-concatenation axis is not aligned. A future version\n",
      "of pandas will change to not sort by default.\n",
      "\n",
      "To accept the future behavior, pass 'sort=False'.\n",
      "\n",
      "To retain the current behavior and silence the warning, pass 'sort=True'.\n",
      "\n",
      "  sort=sort)\n"
     ]
    },
    {
     "name": "stdout",
     "output_type": "stream",
     "text": [
      "[Epoch 7/125] [Batch 32/424] [D loss: 0.064057] [G loss: 0.830056]\n"
     ]
    },
    {
     "name": "stderr",
     "output_type": "stream",
     "text": [
      "100%|##########| 100/100 [00:06<00:00, 14.80img/s]\n"
     ]
    },
    {
     "name": "stdout",
     "output_type": "stream",
     "text": [
      "(1000, 1, 32, 32) 0.0 1.0\n",
      "save_data/gen_img_in_distribution.npy\n",
      "(1000, 1, 32, 32) 0.0 1.0\n"
     ]
    },
    {
     "name": "stderr",
     "output_type": "stream",
     "text": [
      "FID: 100%|██████████| 10/10 [00:00<00:00, 50.03it/s, mean=32.3]\n"
     ]
    },
    {
     "name": "stdout",
     "output_type": "stream",
     "text": [
      "(1000, 1, 32, 32) 0.0 1.0\n",
      "save_data/gen_img_in_distribution.npy\n",
      "(1000, 1, 32, 32) 0.0 1.0\n",
      "MMD: 100%|██████████| 100/100 [00:00<00:00, 387.46it/s, mean=0.438]\n",
      "(1000, 1, 32, 32) 0.0 1.0\n",
      "save_data/gen_img_out_distribution.npy\n",
      "(1000, 1, 32, 32) 0.0 1.0\n"
     ]
    },
    {
     "name": "stderr",
     "output_type": "stream",
     "text": [
      "FID: 100%|██████████| 10/10 [00:00<00:00, 43.13it/s, mean=43.5]\n"
     ]
    },
    {
     "name": "stdout",
     "output_type": "stream",
     "text": [
      "(1000, 1, 32, 32) 0.0 1.0\n",
      "save_data/gen_img_out_distribution.npy\n",
      "(1000, 1, 32, 32) 0.0 1.0\n",
      "MMD: 100%|██████████| 100/100 [00:00<00:00, 373.08it/s, mean=0.911]\n",
      "\n",
      "The thickness distribution =\n",
      "[0.17400042 0.13250596 0.14769717 0.20546778 0.1923602  0.18468014\n",
      " 0.14788295 0.20814791 0.17197014 0.14100452]\n",
      "Average MSE In dist = 4.193803303605883 \\ Average MSE Out dist = 25.76506346033929\n",
      "\n",
      "FID score in distribution : mean = 32.297 \\ std = 0.6899\n",
      "FID score out distribution : mean = 43.5386 \\ std = 0.9474\n",
      "\n",
      "KID score in distribution : mean = 0.4375 \\ std = 0.0638\n",
      "KID score out distribution : mean = 0.9114 \\ std = 0.0973\n"
     ]
    },
    {
     "name": "stderr",
     "output_type": "stream",
     "text": [
      "/anaconda3/lib/python3.7/site-packages/pandas/core/frame.py:6692: FutureWarning: Sorting because non-concatenation axis is not aligned. A future version\n",
      "of pandas will change to not sort by default.\n",
      "\n",
      "To accept the future behavior, pass 'sort=False'.\n",
      "\n",
      "To retain the current behavior and silence the warning, pass 'sort=True'.\n",
      "\n",
      "  sort=sort)\n"
     ]
    },
    {
     "name": "stdout",
     "output_type": "stream",
     "text": [
      "[Epoch 9/125] [Batch 184/424] [D loss: 0.072929] [G loss: 0.782876]\n"
     ]
    },
    {
     "name": "stderr",
     "output_type": "stream",
     "text": [
      "100%|##########| 100/100 [00:06<00:00, 14.65img/s]\n"
     ]
    },
    {
     "name": "stdout",
     "output_type": "stream",
     "text": [
      "(1000, 1, 32, 32) 0.0 1.0\n",
      "save_data/gen_img_in_distribution.npy\n",
      "(1000, 1, 32, 32) 0.0 1.0\n"
     ]
    },
    {
     "name": "stderr",
     "output_type": "stream",
     "text": [
      "FID: 100%|██████████| 10/10 [00:00<00:00, 49.13it/s, mean=22.8]\n"
     ]
    },
    {
     "name": "stdout",
     "output_type": "stream",
     "text": [
      "(1000, 1, 32, 32) 0.0 1.0\n",
      "save_data/gen_img_in_distribution.npy\n",
      "(1000, 1, 32, 32) 0.0 1.0\n",
      "MMD: 100%|██████████| 100/100 [00:00<00:00, 282.27it/s, mean=0.407]\n",
      "(1000, 1, 32, 32) 0.0 1.0\n",
      "save_data/gen_img_out_distribution.npy\n",
      "(1000, 1, 32, 32) 0.0 1.0\n"
     ]
    },
    {
     "name": "stderr",
     "output_type": "stream",
     "text": [
      "FID: 100%|██████████| 10/10 [00:00<00:00, 42.11it/s, mean=26.8]\n"
     ]
    },
    {
     "name": "stdout",
     "output_type": "stream",
     "text": [
      "(1000, 1, 32, 32) 0.0 1.0\n",
      "save_data/gen_img_out_distribution.npy\n",
      "(1000, 1, 32, 32) 0.0 1.0\n",
      "MMD: 100%|██████████| 100/100 [00:00<00:00, 341.36it/s, mean=0.598]\n",
      "\n",
      "The thickness distribution =\n",
      "[0.16065742 0.16285195 0.18716486 0.22329756 0.16342917 0.17836126\n",
      " 0.13916853 0.22989407 0.20471153 0.19473402]\n",
      "Average MSE In dist = 4.172018560502229 \\ Average MSE Out dist = 22.61305216859112\n",
      "\n",
      "FID score in distribution : mean = 22.7901 \\ std = 0.7135\n",
      "FID score out distribution : mean = 26.8065 \\ std = 1.448\n",
      "\n",
      "KID score in distribution : mean = 0.4069 \\ std = 0.1014\n",
      "KID score out distribution : mean = 0.5982 \\ std = 0.1009\n"
     ]
    },
    {
     "name": "stderr",
     "output_type": "stream",
     "text": [
      "/anaconda3/lib/python3.7/site-packages/pandas/core/frame.py:6692: FutureWarning: Sorting because non-concatenation axis is not aligned. A future version\n",
      "of pandas will change to not sort by default.\n",
      "\n",
      "To accept the future behavior, pass 'sort=False'.\n",
      "\n",
      "To retain the current behavior and silence the warning, pass 'sort=True'.\n",
      "\n",
      "  sort=sort)\n"
     ]
    },
    {
     "name": "stdout",
     "output_type": "stream",
     "text": [
      "[Epoch 11/125] [Batch 336/424] [D loss: 0.080220] [G loss: 0.755835]\n"
     ]
    },
    {
     "name": "stderr",
     "output_type": "stream",
     "text": [
      "100%|##########| 100/100 [00:06<00:00, 14.57img/s]\n"
     ]
    },
    {
     "name": "stdout",
     "output_type": "stream",
     "text": [
      "(1000, 1, 32, 32) 0.0 1.0\n",
      "save_data/gen_img_in_distribution.npy\n",
      "(1000, 1, 32, 32) 0.0 1.0\n"
     ]
    },
    {
     "name": "stderr",
     "output_type": "stream",
     "text": [
      "FID: 100%|██████████| 10/10 [00:00<00:00, 49.36it/s, mean=23]\n"
     ]
    },
    {
     "name": "stdout",
     "output_type": "stream",
     "text": [
      "(1000, 1, 32, 32) 0.0 1.0\n",
      "save_data/gen_img_in_distribution.npy\n",
      "(1000, 1, 32, 32) 0.0 1.0\n",
      "MMD: 100%|██████████| 100/100 [00:00<00:00, 379.17it/s, mean=0.531]\n",
      "(1000, 1, 32, 32) 0.0 1.0\n",
      "save_data/gen_img_out_distribution.npy\n",
      "(1000, 1, 32, 32) 0.0 1.0\n"
     ]
    },
    {
     "name": "stderr",
     "output_type": "stream",
     "text": [
      "FID: 100%|██████████| 10/10 [00:00<00:00, 41.00it/s, mean=25.8]\n"
     ]
    },
    {
     "name": "stdout",
     "output_type": "stream",
     "text": [
      "(1000, 1, 32, 32) 0.0 1.0\n",
      "save_data/gen_img_out_distribution.npy\n",
      "(1000, 1, 32, 32) 0.0 1.0\n",
      "MMD: 100%|██████████| 100/100 [00:00<00:00, 333.24it/s, mean=0.744]\n",
      "\n",
      "The thickness distribution =\n",
      "[0.14752472 0.15677466 0.24367527 0.23309913 0.21503028 0.3153564\n",
      " 0.31199692 0.40918356 0.3309706  0.34533031]\n",
      "Average MSE In dist = 1.7734115070226364 \\ Average MSE Out dist = 14.00816126206825\n",
      "\n",
      "FID score in distribution : mean = 22.9983 \\ std = 1.0863\n",
      "FID score out distribution : mean = 25.8057 \\ std = 0.9938\n",
      "\n",
      "KID score in distribution : mean = 0.5313 \\ std = 0.1008\n",
      "KID score out distribution : mean = 0.7444 \\ std = 0.1319\n"
     ]
    },
    {
     "name": "stderr",
     "output_type": "stream",
     "text": [
      "/anaconda3/lib/python3.7/site-packages/pandas/core/frame.py:6692: FutureWarning: Sorting because non-concatenation axis is not aligned. A future version\n",
      "of pandas will change to not sort by default.\n",
      "\n",
      "To accept the future behavior, pass 'sort=False'.\n",
      "\n",
      "To retain the current behavior and silence the warning, pass 'sort=True'.\n",
      "\n",
      "  sort=sort)\n"
     ]
    },
    {
     "ename": "KeyboardInterrupt",
     "evalue": "",
     "output_type": "error",
     "traceback": [
      "\u001b[0;31m---------------------------------------------------------------------------\u001b[0m",
      "\u001b[0;31mKeyboardInterrupt\u001b[0m                         Traceback (most recent call last)",
      "\u001b[0;32m<ipython-input-6-010dd2fae03f>\u001b[0m in \u001b[0;36m<module>\u001b[0;34m\u001b[0m\n\u001b[0;32m----> 1\u001b[0;31m \u001b[0mmse_gan_in_distribution\u001b[0m\u001b[0;34m,\u001b[0m \u001b[0mmse_gan_out_distribution\u001b[0m\u001b[0;34m,\u001b[0m \u001b[0mdf_acc_gen\u001b[0m \u001b[0;34m=\u001b[0m \u001b[0mtrain_loop\u001b[0m\u001b[0;34m(\u001b[0m\u001b[0;34m)\u001b[0m\u001b[0;34m\u001b[0m\u001b[0;34m\u001b[0m\u001b[0m\n\u001b[0m",
      "\u001b[0;32m<ipython-input-5-be9ec647ccc9>\u001b[0m in \u001b[0;36mtrain_loop\u001b[0;34m()\u001b[0m\n\u001b[1;32m    120\u001b[0m \u001b[0;34m\u001b[0m\u001b[0m\n\u001b[1;32m    121\u001b[0m             \u001b[0;31m# Loss for fake images\u001b[0m\u001b[0;34m\u001b[0m\u001b[0;34m\u001b[0m\u001b[0;34m\u001b[0m\u001b[0m\n\u001b[0;32m--> 122\u001b[0;31m             \u001b[0mvalidity_fake\u001b[0m \u001b[0;34m=\u001b[0m \u001b[0mdiscriminator\u001b[0m\u001b[0;34m(\u001b[0m\u001b[0mgen_imgs\u001b[0m\u001b[0;34m.\u001b[0m\u001b[0mdetach\u001b[0m\u001b[0;34m(\u001b[0m\u001b[0;34m)\u001b[0m\u001b[0;34m,\u001b[0m \u001b[0mgen_labels\u001b[0m\u001b[0;34m)\u001b[0m\u001b[0;34m\u001b[0m\u001b[0;34m\u001b[0m\u001b[0m\n\u001b[0m\u001b[1;32m    123\u001b[0m             \u001b[0md_fake_loss\u001b[0m \u001b[0;34m=\u001b[0m \u001b[0madversarial_loss\u001b[0m\u001b[0;34m(\u001b[0m\u001b[0mvalidity_fake\u001b[0m\u001b[0;34m,\u001b[0m \u001b[0mfake\u001b[0m\u001b[0;34m)\u001b[0m\u001b[0;34m\u001b[0m\u001b[0;34m\u001b[0m\u001b[0m\n\u001b[1;32m    124\u001b[0m \u001b[0;34m\u001b[0m\u001b[0m\n",
      "\u001b[0;32m/anaconda3/lib/python3.7/site-packages/torch/nn/modules/module.py\u001b[0m in \u001b[0;36m__call__\u001b[0;34m(self, *input, **kwargs)\u001b[0m\n\u001b[1;32m    491\u001b[0m             \u001b[0mresult\u001b[0m \u001b[0;34m=\u001b[0m \u001b[0mself\u001b[0m\u001b[0;34m.\u001b[0m\u001b[0m_slow_forward\u001b[0m\u001b[0;34m(\u001b[0m\u001b[0;34m*\u001b[0m\u001b[0minput\u001b[0m\u001b[0;34m,\u001b[0m \u001b[0;34m**\u001b[0m\u001b[0mkwargs\u001b[0m\u001b[0;34m)\u001b[0m\u001b[0;34m\u001b[0m\u001b[0;34m\u001b[0m\u001b[0m\n\u001b[1;32m    492\u001b[0m         \u001b[0;32melse\u001b[0m\u001b[0;34m:\u001b[0m\u001b[0;34m\u001b[0m\u001b[0;34m\u001b[0m\u001b[0m\n\u001b[0;32m--> 493\u001b[0;31m             \u001b[0mresult\u001b[0m \u001b[0;34m=\u001b[0m \u001b[0mself\u001b[0m\u001b[0;34m.\u001b[0m\u001b[0mforward\u001b[0m\u001b[0;34m(\u001b[0m\u001b[0;34m*\u001b[0m\u001b[0minput\u001b[0m\u001b[0;34m,\u001b[0m \u001b[0;34m**\u001b[0m\u001b[0mkwargs\u001b[0m\u001b[0;34m)\u001b[0m\u001b[0;34m\u001b[0m\u001b[0;34m\u001b[0m\u001b[0m\n\u001b[0m\u001b[1;32m    494\u001b[0m         \u001b[0;32mfor\u001b[0m \u001b[0mhook\u001b[0m \u001b[0;32min\u001b[0m \u001b[0mself\u001b[0m\u001b[0;34m.\u001b[0m\u001b[0m_forward_hooks\u001b[0m\u001b[0;34m.\u001b[0m\u001b[0mvalues\u001b[0m\u001b[0;34m(\u001b[0m\u001b[0;34m)\u001b[0m\u001b[0;34m:\u001b[0m\u001b[0;34m\u001b[0m\u001b[0;34m\u001b[0m\u001b[0m\n\u001b[1;32m    495\u001b[0m             \u001b[0mhook_result\u001b[0m \u001b[0;34m=\u001b[0m \u001b[0mhook\u001b[0m\u001b[0;34m(\u001b[0m\u001b[0mself\u001b[0m\u001b[0;34m,\u001b[0m \u001b[0minput\u001b[0m\u001b[0;34m,\u001b[0m \u001b[0mresult\u001b[0m\u001b[0;34m)\u001b[0m\u001b[0;34m\u001b[0m\u001b[0;34m\u001b[0m\u001b[0m\n",
      "\u001b[0;32m~/pCloud Drive/ml_master_thesis/repo/Black-box_Optimization_via_Deep_Generative-Exploratory_Networks/src/generative_model/models.py\u001b[0m in \u001b[0;36mforward\u001b[0;34m(self, img, labels)\u001b[0m\n\u001b[1;32m     60\u001b[0m         \u001b[0;31m# Concatenate label embedding and image to produce input\u001b[0m\u001b[0;34m\u001b[0m\u001b[0;34m\u001b[0m\u001b[0;34m\u001b[0m\u001b[0m\n\u001b[1;32m     61\u001b[0m         \u001b[0md_in\u001b[0m \u001b[0;34m=\u001b[0m \u001b[0mtorch\u001b[0m\u001b[0;34m.\u001b[0m\u001b[0mcat\u001b[0m\u001b[0;34m(\u001b[0m\u001b[0;34m(\u001b[0m\u001b[0mimg\u001b[0m\u001b[0;34m.\u001b[0m\u001b[0mview\u001b[0m\u001b[0;34m(\u001b[0m\u001b[0mimg\u001b[0m\u001b[0;34m.\u001b[0m\u001b[0msize\u001b[0m\u001b[0;34m(\u001b[0m\u001b[0;36m0\u001b[0m\u001b[0;34m)\u001b[0m\u001b[0;34m,\u001b[0m \u001b[0;34m-\u001b[0m\u001b[0;36m1\u001b[0m\u001b[0;34m)\u001b[0m\u001b[0;34m,\u001b[0m \u001b[0mlabels\u001b[0m\u001b[0;34m.\u001b[0m\u001b[0munsqueeze\u001b[0m\u001b[0;34m(\u001b[0m\u001b[0;36m1\u001b[0m\u001b[0;34m)\u001b[0m\u001b[0;34m)\u001b[0m\u001b[0;34m,\u001b[0m \u001b[0;34m-\u001b[0m\u001b[0;36m1\u001b[0m\u001b[0;34m)\u001b[0m\u001b[0;34m\u001b[0m\u001b[0;34m\u001b[0m\u001b[0m\n\u001b[0;32m---> 62\u001b[0;31m         \u001b[0mvalidity\u001b[0m \u001b[0;34m=\u001b[0m \u001b[0mself\u001b[0m\u001b[0;34m.\u001b[0m\u001b[0mmodel\u001b[0m\u001b[0;34m(\u001b[0m\u001b[0md_in\u001b[0m\u001b[0;34m)\u001b[0m\u001b[0;34m\u001b[0m\u001b[0;34m\u001b[0m\u001b[0m\n\u001b[0m\u001b[1;32m     63\u001b[0m         \u001b[0;32mreturn\u001b[0m \u001b[0mvalidity\u001b[0m\u001b[0;34m\u001b[0m\u001b[0;34m\u001b[0m\u001b[0m\n\u001b[1;32m     64\u001b[0m \u001b[0;34m\u001b[0m\u001b[0m\n",
      "\u001b[0;32m/anaconda3/lib/python3.7/site-packages/torch/nn/modules/module.py\u001b[0m in \u001b[0;36m__call__\u001b[0;34m(self, *input, **kwargs)\u001b[0m\n\u001b[1;32m    491\u001b[0m             \u001b[0mresult\u001b[0m \u001b[0;34m=\u001b[0m \u001b[0mself\u001b[0m\u001b[0;34m.\u001b[0m\u001b[0m_slow_forward\u001b[0m\u001b[0;34m(\u001b[0m\u001b[0;34m*\u001b[0m\u001b[0minput\u001b[0m\u001b[0;34m,\u001b[0m \u001b[0;34m**\u001b[0m\u001b[0mkwargs\u001b[0m\u001b[0;34m)\u001b[0m\u001b[0;34m\u001b[0m\u001b[0;34m\u001b[0m\u001b[0m\n\u001b[1;32m    492\u001b[0m         \u001b[0;32melse\u001b[0m\u001b[0;34m:\u001b[0m\u001b[0;34m\u001b[0m\u001b[0;34m\u001b[0m\u001b[0m\n\u001b[0;32m--> 493\u001b[0;31m             \u001b[0mresult\u001b[0m \u001b[0;34m=\u001b[0m \u001b[0mself\u001b[0m\u001b[0;34m.\u001b[0m\u001b[0mforward\u001b[0m\u001b[0;34m(\u001b[0m\u001b[0;34m*\u001b[0m\u001b[0minput\u001b[0m\u001b[0;34m,\u001b[0m \u001b[0;34m**\u001b[0m\u001b[0mkwargs\u001b[0m\u001b[0;34m)\u001b[0m\u001b[0;34m\u001b[0m\u001b[0;34m\u001b[0m\u001b[0m\n\u001b[0m\u001b[1;32m    494\u001b[0m         \u001b[0;32mfor\u001b[0m \u001b[0mhook\u001b[0m \u001b[0;32min\u001b[0m \u001b[0mself\u001b[0m\u001b[0;34m.\u001b[0m\u001b[0m_forward_hooks\u001b[0m\u001b[0;34m.\u001b[0m\u001b[0mvalues\u001b[0m\u001b[0;34m(\u001b[0m\u001b[0;34m)\u001b[0m\u001b[0;34m:\u001b[0m\u001b[0;34m\u001b[0m\u001b[0;34m\u001b[0m\u001b[0m\n\u001b[1;32m    495\u001b[0m             \u001b[0mhook_result\u001b[0m \u001b[0;34m=\u001b[0m \u001b[0mhook\u001b[0m\u001b[0;34m(\u001b[0m\u001b[0mself\u001b[0m\u001b[0;34m,\u001b[0m \u001b[0minput\u001b[0m\u001b[0;34m,\u001b[0m \u001b[0mresult\u001b[0m\u001b[0;34m)\u001b[0m\u001b[0;34m\u001b[0m\u001b[0;34m\u001b[0m\u001b[0m\n",
      "\u001b[0;32m/anaconda3/lib/python3.7/site-packages/torch/nn/modules/container.py\u001b[0m in \u001b[0;36mforward\u001b[0;34m(self, input)\u001b[0m\n\u001b[1;32m     90\u001b[0m     \u001b[0;32mdef\u001b[0m \u001b[0mforward\u001b[0m\u001b[0;34m(\u001b[0m\u001b[0mself\u001b[0m\u001b[0;34m,\u001b[0m \u001b[0minput\u001b[0m\u001b[0;34m)\u001b[0m\u001b[0;34m:\u001b[0m\u001b[0;34m\u001b[0m\u001b[0;34m\u001b[0m\u001b[0m\n\u001b[1;32m     91\u001b[0m         \u001b[0;32mfor\u001b[0m \u001b[0mmodule\u001b[0m \u001b[0;32min\u001b[0m \u001b[0mself\u001b[0m\u001b[0;34m.\u001b[0m\u001b[0m_modules\u001b[0m\u001b[0;34m.\u001b[0m\u001b[0mvalues\u001b[0m\u001b[0;34m(\u001b[0m\u001b[0;34m)\u001b[0m\u001b[0;34m:\u001b[0m\u001b[0;34m\u001b[0m\u001b[0;34m\u001b[0m\u001b[0m\n\u001b[0;32m---> 92\u001b[0;31m             \u001b[0minput\u001b[0m \u001b[0;34m=\u001b[0m \u001b[0mmodule\u001b[0m\u001b[0;34m(\u001b[0m\u001b[0minput\u001b[0m\u001b[0;34m)\u001b[0m\u001b[0;34m\u001b[0m\u001b[0;34m\u001b[0m\u001b[0m\n\u001b[0m\u001b[1;32m     93\u001b[0m         \u001b[0;32mreturn\u001b[0m \u001b[0minput\u001b[0m\u001b[0;34m\u001b[0m\u001b[0;34m\u001b[0m\u001b[0m\n\u001b[1;32m     94\u001b[0m \u001b[0;34m\u001b[0m\u001b[0m\n",
      "\u001b[0;32m/anaconda3/lib/python3.7/site-packages/torch/nn/modules/module.py\u001b[0m in \u001b[0;36m__call__\u001b[0;34m(self, *input, **kwargs)\u001b[0m\n\u001b[1;32m    491\u001b[0m             \u001b[0mresult\u001b[0m \u001b[0;34m=\u001b[0m \u001b[0mself\u001b[0m\u001b[0;34m.\u001b[0m\u001b[0m_slow_forward\u001b[0m\u001b[0;34m(\u001b[0m\u001b[0;34m*\u001b[0m\u001b[0minput\u001b[0m\u001b[0;34m,\u001b[0m \u001b[0;34m**\u001b[0m\u001b[0mkwargs\u001b[0m\u001b[0;34m)\u001b[0m\u001b[0;34m\u001b[0m\u001b[0;34m\u001b[0m\u001b[0m\n\u001b[1;32m    492\u001b[0m         \u001b[0;32melse\u001b[0m\u001b[0;34m:\u001b[0m\u001b[0;34m\u001b[0m\u001b[0;34m\u001b[0m\u001b[0m\n\u001b[0;32m--> 493\u001b[0;31m             \u001b[0mresult\u001b[0m \u001b[0;34m=\u001b[0m \u001b[0mself\u001b[0m\u001b[0;34m.\u001b[0m\u001b[0mforward\u001b[0m\u001b[0;34m(\u001b[0m\u001b[0;34m*\u001b[0m\u001b[0minput\u001b[0m\u001b[0;34m,\u001b[0m \u001b[0;34m**\u001b[0m\u001b[0mkwargs\u001b[0m\u001b[0;34m)\u001b[0m\u001b[0;34m\u001b[0m\u001b[0;34m\u001b[0m\u001b[0m\n\u001b[0m\u001b[1;32m    494\u001b[0m         \u001b[0;32mfor\u001b[0m \u001b[0mhook\u001b[0m \u001b[0;32min\u001b[0m \u001b[0mself\u001b[0m\u001b[0;34m.\u001b[0m\u001b[0m_forward_hooks\u001b[0m\u001b[0;34m.\u001b[0m\u001b[0mvalues\u001b[0m\u001b[0;34m(\u001b[0m\u001b[0;34m)\u001b[0m\u001b[0;34m:\u001b[0m\u001b[0;34m\u001b[0m\u001b[0;34m\u001b[0m\u001b[0m\n\u001b[1;32m    495\u001b[0m             \u001b[0mhook_result\u001b[0m \u001b[0;34m=\u001b[0m \u001b[0mhook\u001b[0m\u001b[0;34m(\u001b[0m\u001b[0mself\u001b[0m\u001b[0;34m,\u001b[0m \u001b[0minput\u001b[0m\u001b[0;34m,\u001b[0m \u001b[0mresult\u001b[0m\u001b[0;34m)\u001b[0m\u001b[0;34m\u001b[0m\u001b[0;34m\u001b[0m\u001b[0m\n",
      "\u001b[0;32m/anaconda3/lib/python3.7/site-packages/torch/nn/modules/linear.py\u001b[0m in \u001b[0;36mforward\u001b[0;34m(self, input)\u001b[0m\n\u001b[1;32m     90\u001b[0m     \u001b[0;34m@\u001b[0m\u001b[0mweak_script_method\u001b[0m\u001b[0;34m\u001b[0m\u001b[0;34m\u001b[0m\u001b[0m\n\u001b[1;32m     91\u001b[0m     \u001b[0;32mdef\u001b[0m \u001b[0mforward\u001b[0m\u001b[0;34m(\u001b[0m\u001b[0mself\u001b[0m\u001b[0;34m,\u001b[0m \u001b[0minput\u001b[0m\u001b[0;34m)\u001b[0m\u001b[0;34m:\u001b[0m\u001b[0;34m\u001b[0m\u001b[0;34m\u001b[0m\u001b[0m\n\u001b[0;32m---> 92\u001b[0;31m         \u001b[0;32mreturn\u001b[0m \u001b[0mF\u001b[0m\u001b[0;34m.\u001b[0m\u001b[0mlinear\u001b[0m\u001b[0;34m(\u001b[0m\u001b[0minput\u001b[0m\u001b[0;34m,\u001b[0m \u001b[0mself\u001b[0m\u001b[0;34m.\u001b[0m\u001b[0mweight\u001b[0m\u001b[0;34m,\u001b[0m \u001b[0mself\u001b[0m\u001b[0;34m.\u001b[0m\u001b[0mbias\u001b[0m\u001b[0;34m)\u001b[0m\u001b[0;34m\u001b[0m\u001b[0;34m\u001b[0m\u001b[0m\n\u001b[0m\u001b[1;32m     93\u001b[0m \u001b[0;34m\u001b[0m\u001b[0m\n\u001b[1;32m     94\u001b[0m     \u001b[0;32mdef\u001b[0m \u001b[0mextra_repr\u001b[0m\u001b[0;34m(\u001b[0m\u001b[0mself\u001b[0m\u001b[0;34m)\u001b[0m\u001b[0;34m:\u001b[0m\u001b[0;34m\u001b[0m\u001b[0;34m\u001b[0m\u001b[0m\n",
      "\u001b[0;32m/anaconda3/lib/python3.7/site-packages/torch/nn/functional.py\u001b[0m in \u001b[0;36mlinear\u001b[0;34m(input, weight, bias)\u001b[0m\n\u001b[1;32m   1404\u001b[0m     \u001b[0;32mif\u001b[0m \u001b[0minput\u001b[0m\u001b[0;34m.\u001b[0m\u001b[0mdim\u001b[0m\u001b[0;34m(\u001b[0m\u001b[0;34m)\u001b[0m \u001b[0;34m==\u001b[0m \u001b[0;36m2\u001b[0m \u001b[0;32mand\u001b[0m \u001b[0mbias\u001b[0m \u001b[0;32mis\u001b[0m \u001b[0;32mnot\u001b[0m \u001b[0;32mNone\u001b[0m\u001b[0;34m:\u001b[0m\u001b[0;34m\u001b[0m\u001b[0;34m\u001b[0m\u001b[0m\n\u001b[1;32m   1405\u001b[0m         \u001b[0;31m# fused op is marginally faster\u001b[0m\u001b[0;34m\u001b[0m\u001b[0;34m\u001b[0m\u001b[0;34m\u001b[0m\u001b[0m\n\u001b[0;32m-> 1406\u001b[0;31m         \u001b[0mret\u001b[0m \u001b[0;34m=\u001b[0m \u001b[0mtorch\u001b[0m\u001b[0;34m.\u001b[0m\u001b[0maddmm\u001b[0m\u001b[0;34m(\u001b[0m\u001b[0mbias\u001b[0m\u001b[0;34m,\u001b[0m \u001b[0minput\u001b[0m\u001b[0;34m,\u001b[0m \u001b[0mweight\u001b[0m\u001b[0;34m.\u001b[0m\u001b[0mt\u001b[0m\u001b[0;34m(\u001b[0m\u001b[0;34m)\u001b[0m\u001b[0;34m)\u001b[0m\u001b[0;34m\u001b[0m\u001b[0;34m\u001b[0m\u001b[0m\n\u001b[0m\u001b[1;32m   1407\u001b[0m     \u001b[0;32melse\u001b[0m\u001b[0;34m:\u001b[0m\u001b[0;34m\u001b[0m\u001b[0;34m\u001b[0m\u001b[0m\n\u001b[1;32m   1408\u001b[0m         \u001b[0moutput\u001b[0m \u001b[0;34m=\u001b[0m \u001b[0minput\u001b[0m\u001b[0;34m.\u001b[0m\u001b[0mmatmul\u001b[0m\u001b[0;34m(\u001b[0m\u001b[0mweight\u001b[0m\u001b[0;34m.\u001b[0m\u001b[0mt\u001b[0m\u001b[0;34m(\u001b[0m\u001b[0;34m)\u001b[0m\u001b[0;34m)\u001b[0m\u001b[0;34m\u001b[0m\u001b[0;34m\u001b[0m\u001b[0m\n",
      "\u001b[0;31mKeyboardInterrupt\u001b[0m: "
     ]
    }
   ],
   "source": [
    "mse_gan_in_distribution, mse_gan_out_distribution, df_acc_gen = train_loop()"
   ]
  },
  {
   "cell_type": "markdown",
   "metadata": {
    "colab_type": "text",
    "id": "8-GzWkRuLBPR"
   },
   "source": [
    "### Comments :\n",
    "We can see that in distribution the model continue after multiple epochs to converge. But the out of distribution generated data in early epochs start to collapse in modes ! The FID score is decreasing for the distribution present in the training set but not for the out of distribution at a certain point"
   ]
  },
  {
   "cell_type": "markdown",
   "metadata": {
    "colab_type": "text",
    "id": "wrczOgfVi6yZ"
   },
   "source": [
    "### Save/Load the model"
   ]
  },
  {
   "cell_type": "code",
   "execution_count": null,
   "metadata": {
    "colab": {
     "base_uri": "https://localhost:8080/",
     "height": 323
    },
    "colab_type": "code",
    "id": "TFCd9-Oai97j",
    "outputId": "0c2bfd1d-eb59-466e-f75d-4f8bdf451929"
   },
   "outputs": [
    {
     "data": {
      "text/plain": [
       "Generator(\n",
       "  (label_emb): Embedding(1, 1)\n",
       "  (model): Sequential(\n",
       "    (0): Linear(in_features=101, out_features=128, bias=True)\n",
       "    (1): LeakyReLU(negative_slope=0.2, inplace=True)\n",
       "    (2): Linear(in_features=128, out_features=256, bias=True)\n",
       "    (3): BatchNorm1d(256, eps=0.8, momentum=0.1, affine=True, track_running_stats=True)\n",
       "    (4): LeakyReLU(negative_slope=0.2, inplace=True)\n",
       "    (5): Linear(in_features=256, out_features=512, bias=True)\n",
       "    (6): BatchNorm1d(512, eps=0.8, momentum=0.1, affine=True, track_running_stats=True)\n",
       "    (7): LeakyReLU(negative_slope=0.2, inplace=True)\n",
       "    (8): Linear(in_features=512, out_features=1024, bias=True)\n",
       "    (9): BatchNorm1d(1024, eps=0.8, momentum=0.1, affine=True, track_running_stats=True)\n",
       "    (10): LeakyReLU(negative_slope=0.2, inplace=True)\n",
       "    (11): Linear(in_features=1024, out_features=784, bias=True)\n",
       "    (12): Tanh()\n",
       "  )\n",
       ")"
      ]
     },
     "execution_count": 8,
     "metadata": {
      "tags": []
     },
     "output_type": "execute_result"
    }
   ],
   "source": [
    "# Then later:\n",
    "best_generator_in_distribution = torch.load(os.path.join(path_generator, 'best_generator_in_distribution.pth'))\n",
    "best_generator_out_distribution = torch.load(os.path.join(path_generator, 'best_generator_out_distribution.pth'))\n",
    "best_generator_in_distribution.eval()\n",
    "best_generator_out_distribution.eval()"
   ]
  },
  {
   "cell_type": "code",
   "execution_count": null,
   "metadata": {
    "colab": {},
    "colab_type": "code",
    "id": "aYOSTd0rxzn5"
   },
   "outputs": [],
   "source": [
    "data_in = np.mean(mse_gan_in_distribution,axis=1)\n",
    "data_out = np.mean(mse_gan_out_distribution,axis=1)\n",
    "\n",
    "# libraries and data\n",
    "from matplotlib import pyplot as plt\n",
    "import pandas as pd\n",
    "import numpy as np\n",
    "import seaborn as sns; sns.set(color_codes=True)\n",
    "df=pd.DataFrame({'x': [i * sample_interval * batch_size for i in range(0,len(data_in))], 'y': data_in, 'z': data_out})\n",
    "\n",
    "# fist line:\n",
    "plt.subplots(figsize=(10,5), dpi=100)\n",
    "ax = sns.regplot(x=\"x\", y=\"y\", data=df, label = 'In distribution',\n",
    "                 scatter_kws={\"s\": 80},\n",
    "                 order=3, ci=None)\n",
    "ax = sns.regplot(x=\"x\", y=\"z\", data=df, label = 'Out distribution',\n",
    "                 scatter_kws={\"s\": 80},\n",
    "                 order=2, ci=None)\n",
    "\n",
    "plt.ylabel('Mean Squared Error')\n",
    "plt.xlabel('iterations')\n",
    "plt.legend()\n",
    "plt.title(\"Accuracy without reweighting strategy\")"
   ]
  },
  {
   "cell_type": "markdown",
   "metadata": {
    "colab_type": "text",
    "id": "Mgj6KjFxSgFu"
   },
   "source": [
    "# Forward model"
   ]
  },
  {
   "cell_type": "code",
   "execution_count": null,
   "metadata": {
    "colab": {},
    "colab_type": "code",
    "id": "qzeOmXKRSkh6"
   },
   "outputs": [],
   "source": [
    "#from src.models import train_forward_model\n",
    "from src.models import ForwardModel\n",
    "forward = ForwardModel()\n",
    "\n",
    "def eval_forward(dist, df_check, mean_out, best_res, df_acc_gen, path_forward, model):\n",
    "    if df_check is not None:\n",
    "        if mean_out < df_check[f'mse_{dist}'].iloc[-1]:\n",
    "            print(f\" ---------- Better Results {dist} distribution of : {df_check[f'mse_{dist}'].iloc[-1] - mean_out} ---------- \")\n",
    "            torch.save(model, os.path.join(path_forward, f\"best_forward_{dist}_distribution.pth\"))\n",
    "            save_obj_csv(df_acc_gen, os.path.join(path_forward, f\"results_{dist}_distribution\"))\n",
    "\n",
    "            best_res = mean_out\n",
    "            df_check = None\n",
    "\n",
    "    else:\n",
    "        if mean_out < best_res:\n",
    "            print(f\" ---------- Model Improving {dist} distribution of : {best_res - mean_out}---------- \")\n",
    "            torch.save(model, os.path.join(path_forward, f\"best_forward_{dist}_distribution.pth\"))\n",
    "            save_obj_csv(df_acc_gen, os.path.join(path_forward, f\"results_{dist}_distribution\"))\n",
    "\n",
    "            best_res = mean_out\n",
    "\n",
    "    return df_check, best_res\n",
    "\n",
    "def train_forward_model():\n",
    "    import multiprocessing\n",
    "    from src.metrics import mse\n",
    "    from src.models import ForwardModel, RMSELoss\n",
    "    from morphomnist.measure import measure_batch\n",
    "\n",
    "    forward = ForwardModel()\n",
    "    optimizer_F = torch.optim.Adam(forward.parameters(), lr=0.00001, betas=(0.1, 0.3))\n",
    "    forward_loss = RMSELoss() #nn.MSELoss()\n",
    "\n",
    "    path_forward = '/content/drive/My Drive/master_thesis/models/forward/'\n",
    "    if os.path.exists(path_forward):\n",
    "        df_check = load_obj_csv(os.path.join(path_forward, 'results'))\n",
    "    else:\n",
    "        os.makedirs(path_forward)\n",
    "        df_check = None\n",
    "\n",
    "    FloatTensor = torch.cuda.FloatTensor if cuda else torch.FloatTensor\n",
    "    DoubleTensor = torch.cuda.DoubleTensor if cuda else torch.DoubleTensor\n",
    "\n",
    "    if cuda:\n",
    "        forward.cuda()\n",
    "        forward_loss.cuda()\n",
    "\n",
    "    n_ep = 20\n",
    "    best_res = 10000\n",
    "    df_acc_final = pd.DataFrame(columns=['label_norm', 'forward', 'morpho'])\n",
    "\n",
    "    for epoch in range(n_ep):\n",
    "        for i, (imgs, labels) in enumerate(trainloader):\n",
    "            forward.train()\n",
    "            batch_size = imgs.shape[0]\n",
    "\n",
    "            x = Variable(imgs.type(FloatTensor))\n",
    "            y_labels = Variable(labels.type(FloatTensor))\n",
    "\n",
    "            # -----------------\n",
    "            #  Train forward model\n",
    "            # -----------------\n",
    "\n",
    "            optimizer_F.zero_grad()\n",
    "\n",
    "            # forward predictions\n",
    "            y_pred = forward(x.view(-1,28*28))\n",
    "\n",
    "            # Loss measures model's ability\n",
    "            f_loss = forward_loss(y_pred.squeeze(1), y_labels)\n",
    "            f_loss.backward()\n",
    "            optimizer_F.step()\n",
    "\n",
    "            batches_done = epoch * len(trainloader) + i\n",
    "            if batches_done % 500 == 0:\n",
    "                print(\n",
    "                  f\"[Epoch {epoch}/{n_ep}] [Batch {i}/{len(trainloader)}] [F loss: {f_loss.item()}]\"\n",
    "                )\n",
    "\n",
    "                forward.eval()\n",
    "                df_acc_eval = pd.DataFrame(columns=['label_norm', 'forward', 'morpho'])\n",
    "\n",
    "                for j, (imgs, labels) in enumerate(testloader):\n",
    "            \n",
    "                    if j > 5:\n",
    "                        break\n",
    "    \n",
    "                    x = Variable(imgs.type(FloatTensor))\n",
    "                    y_labels = Variable(labels.type(FloatTensor))\n",
    "    \n",
    "                    # forward predictions\n",
    "                    y_pred = forward(x.view(-1,28*28))\n",
    "\n",
    "                    # accuracy measures model's ability\n",
    "                    mse_model = mse(trainset.scaler.inverse_transform(y_pred.cpu().detach().numpy().reshape(-1,1)).squeeze(), trainset.scaler.inverse_transform(y_labels.cpu().detach().numpy().reshape(-1,1)).squeeze())\n",
    "\n",
    "                    # Measure morpho predictions\n",
    "                    with multiprocessing.Pool() as pool:\n",
    "                          y_measure_morpho = measure_batch(x.squeeze(1).cpu().detach().numpy(), pool=pool)['thickness']\n",
    "\n",
    "                    mse_morpho = mse(y_measure_morpho, trainset.scaler.inverse_transform(y_labels.cpu().detach().numpy().reshape(-1,1)).squeeze())\n",
    "    \n",
    "                    df = pd.DataFrame(y_labels.cpu().detach().numpy(), columns=['label_norm'])\n",
    "                    df['forward'] = mse_model\n",
    "                    df['morpho'] = mse_morpho\n",
    "    \n",
    "                    df_acc_eval = df_acc_eval.append(df, ignore_index=True)\n",
    "                \n",
    "                print(\n",
    "                        f\"[Epoch {epoch}] [Batch {j}/{len(testloader)}] [EVAL acc morpho: {df_acc_eval['morpho'].mean()}] [EVAL acc forward: {df_acc_eval['forward'].mean()}]\"\n",
    "                      )\n",
    "                \n",
    "                # Average of the accuracies\n",
    "                acc_res = pd.DataFrame([df_acc_eval.mean().tolist()], columns=['label_norm', 'forward', 'morpho'])\n",
    "                df_acc_final = df_acc_final.append(acc_res)\n",
    "\n",
    "                # Evaluate and save\n",
    "                df_check, best_res = eval_forward('all', df_check, acc_res['forward'].values, best_res, df_acc_final, path_forward, forward)\n",
    "\n",
    "    return forward, df_acc_final\n",
    "\n"
   ]
  },
  {
   "cell_type": "code",
   "execution_count": null,
   "metadata": {
    "colab": {
     "base_uri": "https://localhost:8080/",
     "height": 1000
    },
    "colab_type": "code",
    "id": "-vyvVOboSllm",
    "outputId": "584f3a99-406a-4adb-802f-00e7a930590b"
   },
   "outputs": [
    {
     "name": "stdout",
     "output_type": "stream",
     "text": [
      "[Epoch 0/20] [Batch 0/424] [F loss: 0.28501152992248535]\n"
     ]
    },
    {
     "name": "stderr",
     "output_type": "stream",
     "text": [
      "\n",
      "\n",
      "  0%|          | 0/128 [00:00<?, ?img/s]\u001b[A\u001b[A\n",
      "\n",
      "100%|##########| 128/128 [00:13<00:00,  9.39img/s]\n",
      "\n",
      "\n",
      "  0%|          | 0/128 [00:00<?, ?img/s]\u001b[A\u001b[A\n",
      "\n",
      "100%|##########| 128/128 [00:14<00:00,  8.83img/s]\n",
      "\n",
      "\n",
      "  0%|          | 0/128 [00:00<?, ?img/s]\u001b[A\u001b[A\n",
      "\n",
      "100%|##########| 128/128 [00:12<00:00,  9.85img/s]\n",
      "\n",
      "\n",
      "  0%|          | 0/128 [00:00<?, ?img/s]\u001b[A\u001b[A\n",
      "\n",
      "100%|##########| 128/128 [00:13<00:00,  9.17img/s]\n",
      "\n",
      "\n",
      "  0%|          | 0/128 [00:00<?, ?img/s]\u001b[A\u001b[A\n",
      "\n",
      "100%|##########| 128/128 [00:14<00:00,  9.12img/s]\n",
      "\n",
      "\n",
      "  0%|          | 0/128 [00:00<?, ?img/s]\u001b[A\u001b[A\n",
      "\n",
      "100%|##########| 128/128 [00:13<00:00,  9.42img/s]\n"
     ]
    },
    {
     "name": "stdout",
     "output_type": "stream",
     "text": [
      "[Epoch 0] [Batch 6/77] [EVAL acc morpho: 0.00960595020743306] [EVAL acc forward: 6.6810431480407715]\n",
      " ---------- Model Improving all distribution of : [9993.31896158]---------- \n",
      "[Epoch 1/20] [Batch 76/424] [F loss: 0.04387838393449783]\n"
     ]
    },
    {
     "name": "stderr",
     "output_type": "stream",
     "text": [
      "\n",
      "\n",
      "  0%|          | 0/128 [00:00<?, ?img/s]\u001b[A\u001b[A\n",
      "\n",
      "100%|##########| 128/128 [00:14<00:00,  9.00img/s]\n",
      "\n",
      "\n",
      "  0%|          | 0/128 [00:00<?, ?img/s]\u001b[A\u001b[A\n",
      "\n",
      "100%|##########| 128/128 [00:14<00:00,  8.93img/s]\n",
      "\n",
      "\n",
      "  0%|          | 0/128 [00:00<?, ?img/s]\u001b[A\u001b[A\n",
      "\n",
      "100%|##########| 128/128 [00:13<00:00,  9.57img/s]\n",
      "\n",
      "\n",
      "  0%|          | 0/128 [00:00<?, ?img/s]\u001b[A\u001b[A\n",
      "\n",
      "100%|##########| 128/128 [00:13<00:00,  9.82img/s]\n",
      "\n",
      "\n",
      "  0%|          | 0/128 [00:00<?, ?img/s]\u001b[A\u001b[A\n",
      "\n",
      "100%|##########| 128/128 [00:14<00:00,  9.01img/s]\n",
      "\n",
      "\n",
      "  0%|          | 0/128 [00:00<?, ?img/s]\u001b[A\u001b[A\n",
      "\n",
      "100%|##########| 128/128 [00:13<00:00,  9.46img/s]\n"
     ]
    },
    {
     "name": "stdout",
     "output_type": "stream",
     "text": [
      "[Epoch 1] [Batch 6/77] [EVAL acc morpho: 0.01689483958074485] [EVAL acc forward: 0.28225865960121155]\n",
      " ---------- Model Improving all distribution of : [6.39877988]---------- \n",
      "[Epoch 2/20] [Batch 152/424] [F loss: 0.037029728293418884]\n"
     ]
    },
    {
     "name": "stderr",
     "output_type": "stream",
     "text": [
      "\n",
      "\n",
      "  0%|          | 0/128 [00:00<?, ?img/s]\u001b[A\u001b[A\n",
      "\n",
      "100%|##########| 128/128 [00:13<00:00,  9.30img/s]\n",
      "\n",
      "\n",
      "  0%|          | 0/128 [00:00<?, ?img/s]\u001b[A\u001b[A\n",
      "\n",
      "100%|##########| 128/128 [00:13<00:00,  9.81img/s]\n",
      "\n",
      "\n",
      "  0%|          | 0/128 [00:00<?, ?img/s]\u001b[A\u001b[A\n",
      "\n",
      "100%|##########| 128/128 [00:12<00:00,  9.92img/s]\n",
      "\n",
      "\n",
      "  0%|          | 0/128 [00:00<?, ?img/s]\u001b[A\u001b[A\n",
      "\n",
      "100%|##########| 128/128 [00:14<00:00,  8.58img/s]\n",
      "\n",
      "\n",
      "  0%|          | 0/128 [00:00<?, ?img/s]\u001b[A\u001b[A\n",
      "\n",
      "100%|##########| 128/128 [00:14<00:00,  8.72img/s]\n",
      "\n",
      "\n",
      "  0%|          | 0/128 [00:00<?, ?img/s]\u001b[A\u001b[A"
     ]
    }
   ],
   "source": [
    "forward, df_acc = train_forward_model()"
   ]
  },
  {
   "cell_type": "markdown",
   "metadata": {
    "colab_type": "text",
    "id": "FRBZPM_zF6Vz"
   },
   "source": [
    "### Save the model "
   ]
  },
  {
   "cell_type": "code",
   "execution_count": null,
   "metadata": {
    "colab": {
     "base_uri": "https://localhost:8080/",
     "height": 344
    },
    "colab_type": "code",
    "id": "vFLwARtxF5Pv",
    "outputId": "943c6d33-bb2d-495a-fb67-845d53c5966a"
   },
   "outputs": [
    {
     "ename": "FileNotFoundError",
     "evalue": "ignored",
     "output_type": "error",
     "traceback": [
      "\u001b[0;31m---------------------------------------------------------------------------\u001b[0m",
      "\u001b[0;31mFileNotFoundError\u001b[0m                         Traceback (most recent call last)",
      "\u001b[0;32m<ipython-input-36-0b87fd958e10>\u001b[0m in \u001b[0;36m<module>\u001b[0;34m()\u001b[0m\n\u001b[0;32m----> 1\u001b[0;31m \u001b[0mforward\u001b[0m \u001b[0;34m=\u001b[0m \u001b[0mtorch\u001b[0m\u001b[0;34m.\u001b[0m\u001b[0mload\u001b[0m\u001b[0;34m(\u001b[0m\u001b[0mos\u001b[0m\u001b[0;34m.\u001b[0m\u001b[0mpath\u001b[0m\u001b[0;34m.\u001b[0m\u001b[0mjoin\u001b[0m\u001b[0;34m(\u001b[0m\u001b[0mpath_generator\u001b[0m\u001b[0;34m,\u001b[0m \u001b[0;34m'best_forward_all_distribution.pth'\u001b[0m\u001b[0;34m)\u001b[0m\u001b[0;34m)\u001b[0m\u001b[0;34m\u001b[0m\u001b[0;34m\u001b[0m\u001b[0m\n\u001b[0m\u001b[1;32m      2\u001b[0m \u001b[0mforward\u001b[0m\u001b[0;34m.\u001b[0m\u001b[0meval\u001b[0m\u001b[0;34m(\u001b[0m\u001b[0;34m)\u001b[0m\u001b[0;34m\u001b[0m\u001b[0;34m\u001b[0m\u001b[0m\n",
      "\u001b[0;32m/usr/local/lib/python3.6/dist-packages/torch/serialization.py\u001b[0m in \u001b[0;36mload\u001b[0;34m(f, map_location, pickle_module, **pickle_load_args)\u001b[0m\n\u001b[1;32m    523\u001b[0m         \u001b[0mpickle_load_args\u001b[0m\u001b[0;34m[\u001b[0m\u001b[0;34m'encoding'\u001b[0m\u001b[0;34m]\u001b[0m \u001b[0;34m=\u001b[0m \u001b[0;34m'utf-8'\u001b[0m\u001b[0;34m\u001b[0m\u001b[0;34m\u001b[0m\u001b[0m\n\u001b[1;32m    524\u001b[0m \u001b[0;34m\u001b[0m\u001b[0m\n\u001b[0;32m--> 525\u001b[0;31m     \u001b[0;32mwith\u001b[0m \u001b[0m_open_file_like\u001b[0m\u001b[0;34m(\u001b[0m\u001b[0mf\u001b[0m\u001b[0;34m,\u001b[0m \u001b[0;34m'rb'\u001b[0m\u001b[0;34m)\u001b[0m \u001b[0;32mas\u001b[0m \u001b[0mopened_file\u001b[0m\u001b[0;34m:\u001b[0m\u001b[0;34m\u001b[0m\u001b[0;34m\u001b[0m\u001b[0m\n\u001b[0m\u001b[1;32m    526\u001b[0m         \u001b[0;32mif\u001b[0m \u001b[0m_is_zipfile\u001b[0m\u001b[0;34m(\u001b[0m\u001b[0mopened_file\u001b[0m\u001b[0;34m)\u001b[0m\u001b[0;34m:\u001b[0m\u001b[0;34m\u001b[0m\u001b[0;34m\u001b[0m\u001b[0m\n\u001b[1;32m    527\u001b[0m             \u001b[0;32mwith\u001b[0m \u001b[0m_open_zipfile_reader\u001b[0m\u001b[0;34m(\u001b[0m\u001b[0mf\u001b[0m\u001b[0;34m)\u001b[0m \u001b[0;32mas\u001b[0m \u001b[0mopened_zipfile\u001b[0m\u001b[0;34m:\u001b[0m\u001b[0;34m\u001b[0m\u001b[0;34m\u001b[0m\u001b[0m\n",
      "\u001b[0;32m/usr/local/lib/python3.6/dist-packages/torch/serialization.py\u001b[0m in \u001b[0;36m_open_file_like\u001b[0;34m(name_or_buffer, mode)\u001b[0m\n\u001b[1;32m    210\u001b[0m \u001b[0;32mdef\u001b[0m \u001b[0m_open_file_like\u001b[0m\u001b[0;34m(\u001b[0m\u001b[0mname_or_buffer\u001b[0m\u001b[0;34m,\u001b[0m \u001b[0mmode\u001b[0m\u001b[0;34m)\u001b[0m\u001b[0;34m:\u001b[0m\u001b[0;34m\u001b[0m\u001b[0;34m\u001b[0m\u001b[0m\n\u001b[1;32m    211\u001b[0m     \u001b[0;32mif\u001b[0m \u001b[0m_is_path\u001b[0m\u001b[0;34m(\u001b[0m\u001b[0mname_or_buffer\u001b[0m\u001b[0;34m)\u001b[0m\u001b[0;34m:\u001b[0m\u001b[0;34m\u001b[0m\u001b[0;34m\u001b[0m\u001b[0m\n\u001b[0;32m--> 212\u001b[0;31m         \u001b[0;32mreturn\u001b[0m \u001b[0m_open_file\u001b[0m\u001b[0;34m(\u001b[0m\u001b[0mname_or_buffer\u001b[0m\u001b[0;34m,\u001b[0m \u001b[0mmode\u001b[0m\u001b[0;34m)\u001b[0m\u001b[0;34m\u001b[0m\u001b[0;34m\u001b[0m\u001b[0m\n\u001b[0m\u001b[1;32m    213\u001b[0m     \u001b[0;32melse\u001b[0m\u001b[0;34m:\u001b[0m\u001b[0;34m\u001b[0m\u001b[0;34m\u001b[0m\u001b[0m\n\u001b[1;32m    214\u001b[0m         \u001b[0;32mif\u001b[0m \u001b[0;34m'w'\u001b[0m \u001b[0;32min\u001b[0m \u001b[0mmode\u001b[0m\u001b[0;34m:\u001b[0m\u001b[0;34m\u001b[0m\u001b[0;34m\u001b[0m\u001b[0m\n",
      "\u001b[0;32m/usr/local/lib/python3.6/dist-packages/torch/serialization.py\u001b[0m in \u001b[0;36m__init__\u001b[0;34m(self, name, mode)\u001b[0m\n\u001b[1;32m    191\u001b[0m \u001b[0;32mclass\u001b[0m \u001b[0m_open_file\u001b[0m\u001b[0;34m(\u001b[0m\u001b[0m_opener\u001b[0m\u001b[0;34m)\u001b[0m\u001b[0;34m:\u001b[0m\u001b[0;34m\u001b[0m\u001b[0;34m\u001b[0m\u001b[0m\n\u001b[1;32m    192\u001b[0m     \u001b[0;32mdef\u001b[0m \u001b[0m__init__\u001b[0m\u001b[0;34m(\u001b[0m\u001b[0mself\u001b[0m\u001b[0;34m,\u001b[0m \u001b[0mname\u001b[0m\u001b[0;34m,\u001b[0m \u001b[0mmode\u001b[0m\u001b[0;34m)\u001b[0m\u001b[0;34m:\u001b[0m\u001b[0;34m\u001b[0m\u001b[0;34m\u001b[0m\u001b[0m\n\u001b[0;32m--> 193\u001b[0;31m         \u001b[0msuper\u001b[0m\u001b[0;34m(\u001b[0m\u001b[0m_open_file\u001b[0m\u001b[0;34m,\u001b[0m \u001b[0mself\u001b[0m\u001b[0;34m)\u001b[0m\u001b[0;34m.\u001b[0m\u001b[0m__init__\u001b[0m\u001b[0;34m(\u001b[0m\u001b[0mopen\u001b[0m\u001b[0;34m(\u001b[0m\u001b[0mname\u001b[0m\u001b[0;34m,\u001b[0m \u001b[0mmode\u001b[0m\u001b[0;34m)\u001b[0m\u001b[0;34m)\u001b[0m\u001b[0;34m\u001b[0m\u001b[0;34m\u001b[0m\u001b[0m\n\u001b[0m\u001b[1;32m    194\u001b[0m \u001b[0;34m\u001b[0m\u001b[0m\n\u001b[1;32m    195\u001b[0m     \u001b[0;32mdef\u001b[0m \u001b[0m__exit__\u001b[0m\u001b[0;34m(\u001b[0m\u001b[0mself\u001b[0m\u001b[0;34m,\u001b[0m \u001b[0;34m*\u001b[0m\u001b[0margs\u001b[0m\u001b[0;34m)\u001b[0m\u001b[0;34m:\u001b[0m\u001b[0;34m\u001b[0m\u001b[0;34m\u001b[0m\u001b[0m\n",
      "\u001b[0;31mFileNotFoundError\u001b[0m: [Errno 2] No such file or directory: '/content/drive/My Drive/master_thesis/models/generative/best_forward_all_distribution.pth'"
     ]
    }
   ],
   "source": [
    "# Then later:\n",
    "forward = torch.load(os.path.join(path_generator, 'best_forward_all_distribution.pth'))\n",
    "forward.eval()\n"
   ]
  },
  {
   "cell_type": "markdown",
   "metadata": {
    "colab_type": "text",
    "id": "gmJCpa23eOlF"
   },
   "source": [
    "### EDA of the forward model\n"
   ]
  },
  {
   "cell_type": "code",
   "execution_count": null,
   "metadata": {
    "colab": {},
    "colab_type": "code",
    "id": "Arzhps4mQcgW"
   },
   "outputs": [],
   "source": [
    "df_acc['label'] = np.around(trainset.scaler.inverse_transform(df_acc['label_norm'].values.reshape(-1, 1)).squeeze())\n",
    "#print(df_acc.groupby(['label'])['forward', 'morpho'].mean())\n",
    "\n",
    "df_results = df_acc.groupby(['label'])['forward', 'morpho'].mean()\n",
    "print(df_results)\n",
    "\n",
    "import matplotlib.pyplot as plt\n",
    "import seaborn as sns; sns.set(color_codes=True)\n",
    "\n",
    "my_range=range(1,len(df_results.index)+1)\n",
    "plt.subplots(figsize=(10,5), dpi=100)\n",
    "plt.hlines(y=my_range, xmin=0, xmax=df_results['forward'], color=['skyblue',\n",
    "                                                                  'skyblue',\n",
    "                                                                  'skyblue',\n",
    "                                                                  'skyblue',\n",
    "                                                                  'skyblue',\n",
    "                                                                  'skyblue',\n",
    "                                                                  'darkorange',\n",
    "                                                                  'darkorange',\n",
    "                                                                  'darkorange'])\n",
    "plt.plot(df_results['forward'], my_range, \"o\")\n",
    " \n",
    "# Add titles and axis names\n",
    "plt.yticks(my_range, df_results.index)\n",
    "plt.title(\"Label Mean Squarred Error\")\n",
    "plt.xlabel('MSE')\n",
    "plt.ylabel('Label')"
   ]
  },
  {
   "cell_type": "code",
   "execution_count": null,
   "metadata": {
    "colab": {},
    "colab_type": "code",
    "id": "qRoATOdBddkF"
   },
   "outputs": [],
   "source": [
    "df_acc[df_acc['label']==8]['forward'].plot.hist(bins=15)\n"
   ]
  },
  {
   "cell_type": "code",
   "execution_count": null,
   "metadata": {
    "colab": {},
    "colab_type": "code",
    "id": "4lEkv3VHeFmS"
   },
   "outputs": [],
   "source": [
    "df_acc[df_acc['label']==7]['forward'].plot.hist(bins=15)\n"
   ]
  },
  {
   "cell_type": "code",
   "execution_count": null,
   "metadata": {
    "colab": {},
    "colab_type": "code",
    "id": "amdFChgMeHKz"
   },
   "outputs": [],
   "source": [
    "df_acc[df_acc['label']==6]['forward'].plot.hist(bins=15)"
   ]
  },
  {
   "cell_type": "markdown",
   "metadata": {
    "colab_type": "text",
    "id": "PR12OXWFoE2s"
   },
   "source": [
    "# Monter Carlo inference"
   ]
  },
  {
   "cell_type": "code",
   "execution_count": null,
   "metadata": {
    "colab": {},
    "colab_type": "code",
    "id": "nVdvAg0Vnacs"
   },
   "outputs": [],
   "source": [
    "from src.inference import monte_carlo_inference"
   ]
  },
  {
   "cell_type": "code",
   "execution_count": null,
   "metadata": {
    "colab": {},
    "colab_type": "code",
    "id": "Jy_bNYnl0XA_"
   },
   "outputs": [],
   "source": [
    "generator = best_generator_in_distribution"
   ]
  },
  {
   "cell_type": "code",
   "execution_count": null,
   "metadata": {
    "colab": {
     "base_uri": "https://localhost:8080/",
     "height": 1000
    },
    "colab_type": "code",
    "id": "gFMzc0EKGafU",
    "outputId": "ad22a61c-9231-4337-e801-22c8f16b645d"
   },
   "outputs": [
    {
     "name": "stderr",
     "output_type": "stream",
     "text": [
      "\n",
      "\n",
      "\n",
      "  0%|          | 0/300 [00:00<?, ?img/s]\u001b[A\u001b[A\u001b[AProcess ForkPoolWorker-333:\n",
      "Process ForkPoolWorker-335:\n",
      "Process ForkPoolWorker-336:\n",
      "Process ForkPoolWorker-334:\n",
      "Traceback (most recent call last):\n",
      "Traceback (most recent call last):\n",
      "Traceback (most recent call last):\n",
      "  File \"/usr/lib/python3.6/multiprocessing/process.py\", line 258, in _bootstrap\n",
      "    self.run()\n",
      "  File \"/usr/lib/python3.6/multiprocessing/process.py\", line 258, in _bootstrap\n",
      "    self.run()\n",
      "  File \"/usr/lib/python3.6/multiprocessing/process.py\", line 258, in _bootstrap\n",
      "    self.run()\n",
      "Traceback (most recent call last):\n",
      "  File \"/usr/lib/python3.6/multiprocessing/process.py\", line 93, in run\n",
      "    self._target(*self._args, **self._kwargs)\n",
      "  File \"/usr/lib/python3.6/multiprocessing/process.py\", line 93, in run\n",
      "    self._target(*self._args, **self._kwargs)\n",
      "  File \"/usr/lib/python3.6/multiprocessing/process.py\", line 93, in run\n",
      "    self._target(*self._args, **self._kwargs)\n",
      "  File \"/usr/lib/python3.6/multiprocessing/process.py\", line 258, in _bootstrap\n",
      "    self.run()\n",
      "  File \"/usr/lib/python3.6/multiprocessing/pool.py\", line 119, in worker\n",
      "    result = (True, func(*args, **kwds))\n",
      "  File \"/usr/lib/python3.6/multiprocessing/pool.py\", line 44, in mapstar\n",
      "    return list(map(*args))\n",
      "  File \"/usr/lib/python3.6/multiprocessing/process.py\", line 93, in run\n",
      "    self._target(*self._args, **self._kwargs)\n",
      "  File \"/content/morphomnist/measure.py\", line 75, in _measure_image_unpack\n",
      "    return measure_image(*arg)\n",
      "  File \"/usr/lib/python3.6/multiprocessing/pool.py\", line 119, in worker\n",
      "    result = (True, func(*args, **kwds))\n",
      "  File \"/content/morphomnist/measure.py\", line 53, in measure_image\n",
      "    morph = ImageMorphology(image, threshold, scale)\n",
      "  File \"/usr/lib/python3.6/multiprocessing/pool.py\", line 108, in worker\n",
      "    task = get()\n",
      "  File \"/content/morphomnist/morpho.py\", line 57, in __init__\n",
      "    _process_img_morph(self.image, self.threshold, self.scale)\n",
      "  File \"/usr/lib/python3.6/multiprocessing/pool.py\", line 44, in mapstar\n",
      "    return list(map(*args))\n",
      "  File \"/usr/lib/python3.6/multiprocessing/pool.py\", line 119, in worker\n",
      "    result = (True, func(*args, **kwds))\n",
      "  File \"/content/morphomnist/measure.py\", line 75, in _measure_image_unpack\n",
      "    return measure_image(*arg)\n",
      "  File \"/usr/lib/python3.6/multiprocessing/queues.py\", line 335, in get\n",
      "    res = self._reader.recv_bytes()\n",
      "  File \"/usr/lib/python3.6/multiprocessing/pool.py\", line 44, in mapstar\n",
      "    return list(map(*args))\n",
      "  File \"/usr/lib/python3.6/multiprocessing/connection.py\", line 216, in recv_bytes\n",
      "    buf = self._recv_bytes(maxlength)\n",
      "  File \"/content/morphomnist/measure.py\", line 53, in measure_image\n",
      "    morph = ImageMorphology(image, threshold, scale)\n",
      "  File \"/usr/lib/python3.6/multiprocessing/connection.py\", line 407, in _recv_bytes\n",
      "    buf = self._recv(4)\n",
      "  File \"/content/morphomnist/morpho.py\", line 57, in __init__\n",
      "    _process_img_morph(self.image, self.threshold, self.scale)\n",
      "  File \"/usr/lib/python3.6/multiprocessing/connection.py\", line 379, in _recv\n",
      "    chunk = read(handle, remaining)\n",
      "  File \"/content/morphomnist/morpho.py\", line 16, in _process_img_morph\n",
      "    skel, dist_map = morphology.medial_axis(bin_img, return_distance=True)\n",
      "  File \"/content/morphomnist/morpho.py\", line 16, in _process_img_morph\n",
      "    skel, dist_map = morphology.medial_axis(bin_img, return_distance=True)\n",
      "  File \"/content/morphomnist/measure.py\", line 75, in _measure_image_unpack\n",
      "    return measure_image(*arg)\n",
      "  File \"/usr/local/lib/python3.6/dist-packages/skimage/morphology/_skeletonize.py\", line 478, in medial_axis\n",
      "    corner_score = _table_lookup(masked_image, cornerness_table)\n",
      "  File \"/usr/local/lib/python3.6/dist-packages/skimage/morphology/_skeletonize.py\", line 477, in medial_axis\n",
      "    for index in range(512)])\n",
      "  File \"/content/morphomnist/measure.py\", line 53, in measure_image\n",
      "    morph = ImageMorphology(image, threshold, scale)\n",
      "KeyboardInterrupt\n",
      "  File \"/usr/local/lib/python3.6/dist-packages/skimage/morphology/_skeletonize.py\", line 575, in _table_lookup\n",
      "    image = table[indexer]\n",
      "  File \"/content/morphomnist/morpho.py\", line 57, in __init__\n",
      "    _process_img_morph(self.image, self.threshold, self.scale)\n",
      "  File \"/usr/local/lib/python3.6/dist-packages/skimage/morphology/_skeletonize.py\", line 477, in <listcomp>\n",
      "    for index in range(512)])\n",
      "KeyboardInterrupt\n",
      "KeyboardInterrupt\n",
      "  File \"/content/morphomnist/morpho.py\", line 16, in _process_img_morph\n",
      "    skel, dist_map = morphology.medial_axis(bin_img, return_distance=True)\n",
      "  File \"/usr/local/lib/python3.6/dist-packages/skimage/morphology/_skeletonize.py\", line 457, in medial_axis\n",
      "    for index in range(512)])  # condition 2\n",
      "  File \"/usr/local/lib/python3.6/dist-packages/skimage/morphology/_skeletonize.py\", line 457, in <listcomp>\n",
      "    for index in range(512)])  # condition 2\n",
      "  File \"/usr/local/lib/python3.6/dist-packages/scipy/ndimage/measurements.py\", line 221, in label\n",
      "    max_label = _ni_label._label(input, structure, output)\n",
      "KeyboardInterrupt\n"
     ]
    },
    {
     "ename": "KeyboardInterrupt",
     "evalue": "ignored",
     "output_type": "error",
     "traceback": [
      "\u001b[0;31m---------------------------------------------------------------------------\u001b[0m",
      "\u001b[0;31mIndexError\u001b[0m                                Traceback (most recent call last)",
      "\u001b[0;32m/usr/lib/python3.6/multiprocessing/pool.py\u001b[0m in \u001b[0;36mnext\u001b[0;34m(self, timeout)\u001b[0m\n\u001b[1;32m    719\u001b[0m             \u001b[0;32mtry\u001b[0m\u001b[0;34m:\u001b[0m\u001b[0;34m\u001b[0m\u001b[0;34m\u001b[0m\u001b[0m\n\u001b[0;32m--> 720\u001b[0;31m                 \u001b[0mitem\u001b[0m \u001b[0;34m=\u001b[0m \u001b[0mself\u001b[0m\u001b[0;34m.\u001b[0m\u001b[0m_items\u001b[0m\u001b[0;34m.\u001b[0m\u001b[0mpopleft\u001b[0m\u001b[0;34m(\u001b[0m\u001b[0;34m)\u001b[0m\u001b[0;34m\u001b[0m\u001b[0;34m\u001b[0m\u001b[0m\n\u001b[0m\u001b[1;32m    721\u001b[0m             \u001b[0;32mexcept\u001b[0m \u001b[0mIndexError\u001b[0m\u001b[0;34m:\u001b[0m\u001b[0;34m\u001b[0m\u001b[0;34m\u001b[0m\u001b[0m\n",
      "\u001b[0;31mIndexError\u001b[0m: pop from an empty deque",
      "\nDuring handling of the above exception, another exception occurred:\n",
      "\u001b[0;31mKeyboardInterrupt\u001b[0m                         Traceback (most recent call last)",
      "\u001b[0;32m<ipython-input-38-118346074d7f>\u001b[0m in \u001b[0;36m<module>\u001b[0;34m()\u001b[0m\n\u001b[0;32m----> 1\u001b[0;31m \u001b[0mmonte_carlo_inference\u001b[0m\u001b[0;34m(\u001b[0m\u001b[0;36m9\u001b[0m\u001b[0;34m,\u001b[0m \u001b[0mgenerator\u001b[0m\u001b[0;34m,\u001b[0m \u001b[0mforward\u001b[0m\u001b[0;34m,\u001b[0m \u001b[0mtrainset\u001b[0m\u001b[0;34m,\u001b[0m \u001b[0mfulldataset\u001b[0m\u001b[0;34m,\u001b[0m \u001b[0msample_number\u001b[0m \u001b[0;34m=\u001b[0m \u001b[0;36m300\u001b[0m\u001b[0;34m)\u001b[0m\u001b[0;34m\u001b[0m\u001b[0;34m\u001b[0m\u001b[0m\n\u001b[0m",
      "\u001b[0;32m/content/src/inference/inference.py\u001b[0m in \u001b[0;36mmonte_carlo_inference\u001b[0;34m(target, generator, forward, trainset, testset, ncol, nrow, sample_number)\u001b[0m\n\u001b[1;32m    104\u001b[0m \u001b[0;34m\u001b[0m\u001b[0m\n\u001b[1;32m    105\u001b[0m     \u001b[0;31m# ------------ Compare the forward model and the Measure from morphomnist ------------\u001b[0m\u001b[0;34m\u001b[0m\u001b[0;34m\u001b[0m\u001b[0;34m\u001b[0m\u001b[0m\n\u001b[0;32m--> 106\u001b[0;31m     \u001b[0mthickness\u001b[0m \u001b[0;34m=\u001b[0m \u001b[0mcompute_thickness_ground_truth\u001b[0m\u001b[0;34m(\u001b[0m\u001b[0mimages_generated\u001b[0m\u001b[0;34m)\u001b[0m\u001b[0;34m\u001b[0m\u001b[0;34m\u001b[0m\u001b[0m\n\u001b[0m\u001b[1;32m    107\u001b[0m \u001b[0;34m\u001b[0m\u001b[0m\n\u001b[1;32m    108\u001b[0m     \u001b[0;31m# ------------ Compute the mse between the target and the morpho measure predictions ------------\u001b[0m\u001b[0;34m\u001b[0m\u001b[0;34m\u001b[0m\u001b[0;34m\u001b[0m\u001b[0m\n",
      "\u001b[0;32m/content/src/metrics/metrics.py\u001b[0m in \u001b[0;36mcompute_thickness_ground_truth\u001b[0;34m(images_generated)\u001b[0m\n\u001b[1;32m     55\u001b[0m \u001b[0;32mdef\u001b[0m \u001b[0mcompute_thickness_ground_truth\u001b[0m\u001b[0;34m(\u001b[0m\u001b[0mimages_generated\u001b[0m\u001b[0;34m)\u001b[0m\u001b[0;34m:\u001b[0m\u001b[0;34m\u001b[0m\u001b[0;34m\u001b[0m\u001b[0m\n\u001b[1;32m     56\u001b[0m     \u001b[0;32mwith\u001b[0m \u001b[0mmultiprocessing\u001b[0m\u001b[0;34m.\u001b[0m\u001b[0mPool\u001b[0m\u001b[0;34m(\u001b[0m\u001b[0;34m)\u001b[0m \u001b[0;32mas\u001b[0m \u001b[0mpool\u001b[0m\u001b[0;34m:\u001b[0m\u001b[0;34m\u001b[0m\u001b[0;34m\u001b[0m\u001b[0m\n\u001b[0;32m---> 57\u001b[0;31m         \u001b[0mthickness\u001b[0m \u001b[0;34m=\u001b[0m \u001b[0mmeasure_batch\u001b[0m\u001b[0;34m(\u001b[0m\u001b[0mimages_generated\u001b[0m\u001b[0;34m,\u001b[0m \u001b[0mpool\u001b[0m\u001b[0;34m=\u001b[0m\u001b[0mpool\u001b[0m\u001b[0;34m)\u001b[0m\u001b[0;34m[\u001b[0m\u001b[0;34m'thickness'\u001b[0m\u001b[0;34m]\u001b[0m\u001b[0;34m\u001b[0m\u001b[0;34m\u001b[0m\u001b[0m\n\u001b[0m\u001b[1;32m     58\u001b[0m     \u001b[0;32mreturn\u001b[0m \u001b[0mthickness\u001b[0m\u001b[0;34m\u001b[0m\u001b[0;34m\u001b[0m\u001b[0m\n\u001b[1;32m     59\u001b[0m \u001b[0;34m\u001b[0m\u001b[0m\n",
      "\u001b[0;32m/content/morphomnist/measure.py\u001b[0m in \u001b[0;36mmeasure_batch\u001b[0;34m(images, threshold, scale, bound_frac, pool, chunksize)\u001b[0m\n\u001b[1;32m    134\u001b[0m         \u001b[0mgen\u001b[0m \u001b[0;34m=\u001b[0m \u001b[0mplain_progress\u001b[0m\u001b[0;34m(\u001b[0m\u001b[0mgen\u001b[0m\u001b[0;34m)\u001b[0m\u001b[0;34m\u001b[0m\u001b[0;34m\u001b[0m\u001b[0m\n\u001b[1;32m    135\u001b[0m \u001b[0;34m\u001b[0m\u001b[0m\n\u001b[0;32m--> 136\u001b[0;31m     \u001b[0mresults\u001b[0m \u001b[0;34m=\u001b[0m \u001b[0mlist\u001b[0m\u001b[0;34m(\u001b[0m\u001b[0mgen\u001b[0m\u001b[0;34m)\u001b[0m\u001b[0;34m\u001b[0m\u001b[0;34m\u001b[0m\u001b[0m\n\u001b[0m\u001b[1;32m    137\u001b[0m     \u001b[0mdf\u001b[0m \u001b[0;34m=\u001b[0m \u001b[0mpd\u001b[0m\u001b[0;34m.\u001b[0m\u001b[0mDataFrame\u001b[0m\u001b[0;34m(\u001b[0m\u001b[0mresults\u001b[0m\u001b[0;34m)\u001b[0m\u001b[0;34m\u001b[0m\u001b[0;34m\u001b[0m\u001b[0m\n\u001b[1;32m    138\u001b[0m     \u001b[0;32mreturn\u001b[0m \u001b[0mdf\u001b[0m\u001b[0;34m\u001b[0m\u001b[0;34m\u001b[0m\u001b[0m\n",
      "\u001b[0;32m/usr/local/lib/python3.6/dist-packages/tqdm/std.py\u001b[0m in \u001b[0;36m__iter__\u001b[0;34m(self)\u001b[0m\n\u001b[1;32m   1089\u001b[0m             \"\"\"), fp_write=getattr(self.fp, 'write', sys.stderr.write))\n\u001b[1;32m   1090\u001b[0m \u001b[0;34m\u001b[0m\u001b[0m\n\u001b[0;32m-> 1091\u001b[0;31m         \u001b[0;32mfor\u001b[0m \u001b[0mobj\u001b[0m \u001b[0;32min\u001b[0m \u001b[0miterable\u001b[0m\u001b[0;34m:\u001b[0m\u001b[0;34m\u001b[0m\u001b[0;34m\u001b[0m\u001b[0m\n\u001b[0m\u001b[1;32m   1092\u001b[0m             \u001b[0;32myield\u001b[0m \u001b[0mobj\u001b[0m\u001b[0;34m\u001b[0m\u001b[0;34m\u001b[0m\u001b[0m\n\u001b[1;32m   1093\u001b[0m             \u001b[0;31m# Update and possibly print the progressbar.\u001b[0m\u001b[0;34m\u001b[0m\u001b[0;34m\u001b[0m\u001b[0;34m\u001b[0m\u001b[0m\n",
      "\u001b[0;32m/usr/lib/python3.6/multiprocessing/pool.py\u001b[0m in \u001b[0;36m<genexpr>\u001b[0;34m(.0)\u001b[0m\n\u001b[1;32m    318\u001b[0m                     \u001b[0mresult\u001b[0m\u001b[0;34m.\u001b[0m\u001b[0m_set_length\u001b[0m\u001b[0;34m\u001b[0m\u001b[0;34m\u001b[0m\u001b[0m\n\u001b[1;32m    319\u001b[0m                 ))\n\u001b[0;32m--> 320\u001b[0;31m             \u001b[0;32mreturn\u001b[0m \u001b[0;34m(\u001b[0m\u001b[0mitem\u001b[0m \u001b[0;32mfor\u001b[0m \u001b[0mchunk\u001b[0m \u001b[0;32min\u001b[0m \u001b[0mresult\u001b[0m \u001b[0;32mfor\u001b[0m \u001b[0mitem\u001b[0m \u001b[0;32min\u001b[0m \u001b[0mchunk\u001b[0m\u001b[0;34m)\u001b[0m\u001b[0;34m\u001b[0m\u001b[0;34m\u001b[0m\u001b[0m\n\u001b[0m\u001b[1;32m    321\u001b[0m \u001b[0;34m\u001b[0m\u001b[0m\n\u001b[1;32m    322\u001b[0m     \u001b[0;32mdef\u001b[0m \u001b[0mimap_unordered\u001b[0m\u001b[0;34m(\u001b[0m\u001b[0mself\u001b[0m\u001b[0;34m,\u001b[0m \u001b[0mfunc\u001b[0m\u001b[0;34m,\u001b[0m \u001b[0miterable\u001b[0m\u001b[0;34m,\u001b[0m \u001b[0mchunksize\u001b[0m\u001b[0;34m=\u001b[0m\u001b[0;36m1\u001b[0m\u001b[0;34m)\u001b[0m\u001b[0;34m:\u001b[0m\u001b[0;34m\u001b[0m\u001b[0;34m\u001b[0m\u001b[0m\n",
      "\u001b[0;32m/usr/lib/python3.6/multiprocessing/pool.py\u001b[0m in \u001b[0;36mnext\u001b[0;34m(self, timeout)\u001b[0m\n\u001b[1;32m    722\u001b[0m                 \u001b[0;32mif\u001b[0m \u001b[0mself\u001b[0m\u001b[0;34m.\u001b[0m\u001b[0m_index\u001b[0m \u001b[0;34m==\u001b[0m \u001b[0mself\u001b[0m\u001b[0;34m.\u001b[0m\u001b[0m_length\u001b[0m\u001b[0;34m:\u001b[0m\u001b[0;34m\u001b[0m\u001b[0;34m\u001b[0m\u001b[0m\n\u001b[1;32m    723\u001b[0m                     \u001b[0;32mraise\u001b[0m \u001b[0mStopIteration\u001b[0m\u001b[0;34m\u001b[0m\u001b[0;34m\u001b[0m\u001b[0m\n\u001b[0;32m--> 724\u001b[0;31m                 \u001b[0mself\u001b[0m\u001b[0;34m.\u001b[0m\u001b[0m_cond\u001b[0m\u001b[0;34m.\u001b[0m\u001b[0mwait\u001b[0m\u001b[0;34m(\u001b[0m\u001b[0mtimeout\u001b[0m\u001b[0;34m)\u001b[0m\u001b[0;34m\u001b[0m\u001b[0;34m\u001b[0m\u001b[0m\n\u001b[0m\u001b[1;32m    725\u001b[0m                 \u001b[0;32mtry\u001b[0m\u001b[0;34m:\u001b[0m\u001b[0;34m\u001b[0m\u001b[0;34m\u001b[0m\u001b[0m\n\u001b[1;32m    726\u001b[0m                     \u001b[0mitem\u001b[0m \u001b[0;34m=\u001b[0m \u001b[0mself\u001b[0m\u001b[0;34m.\u001b[0m\u001b[0m_items\u001b[0m\u001b[0;34m.\u001b[0m\u001b[0mpopleft\u001b[0m\u001b[0;34m(\u001b[0m\u001b[0;34m)\u001b[0m\u001b[0;34m\u001b[0m\u001b[0;34m\u001b[0m\u001b[0m\n",
      "\u001b[0;32m/usr/lib/python3.6/threading.py\u001b[0m in \u001b[0;36mwait\u001b[0;34m(self, timeout)\u001b[0m\n\u001b[1;32m    293\u001b[0m         \u001b[0;32mtry\u001b[0m\u001b[0;34m:\u001b[0m    \u001b[0;31m# restore state no matter what (e.g., KeyboardInterrupt)\u001b[0m\u001b[0;34m\u001b[0m\u001b[0;34m\u001b[0m\u001b[0m\n\u001b[1;32m    294\u001b[0m             \u001b[0;32mif\u001b[0m \u001b[0mtimeout\u001b[0m \u001b[0;32mis\u001b[0m \u001b[0;32mNone\u001b[0m\u001b[0;34m:\u001b[0m\u001b[0;34m\u001b[0m\u001b[0;34m\u001b[0m\u001b[0m\n\u001b[0;32m--> 295\u001b[0;31m                 \u001b[0mwaiter\u001b[0m\u001b[0;34m.\u001b[0m\u001b[0macquire\u001b[0m\u001b[0;34m(\u001b[0m\u001b[0;34m)\u001b[0m\u001b[0;34m\u001b[0m\u001b[0;34m\u001b[0m\u001b[0m\n\u001b[0m\u001b[1;32m    296\u001b[0m                 \u001b[0mgotit\u001b[0m \u001b[0;34m=\u001b[0m \u001b[0;32mTrue\u001b[0m\u001b[0;34m\u001b[0m\u001b[0;34m\u001b[0m\u001b[0m\n\u001b[1;32m    297\u001b[0m             \u001b[0;32melse\u001b[0m\u001b[0;34m:\u001b[0m\u001b[0;34m\u001b[0m\u001b[0;34m\u001b[0m\u001b[0m\n",
      "\u001b[0;31mKeyboardInterrupt\u001b[0m: "
     ]
    }
   ],
   "source": [
    "monte_carlo_inference(9, generator, forward, trainset, fulldataset, sample_number = 300)"
   ]
  },
  {
   "cell_type": "code",
   "execution_count": null,
   "metadata": {
    "colab": {},
    "colab_type": "code",
    "id": "QLcD1I2ANwM6"
   },
   "outputs": [],
   "source": [
    "monte_carlo_inference(8, generator, forward, trainset, fulldataset, sample_number = 600)"
   ]
  },
  {
   "cell_type": "code",
   "execution_count": null,
   "metadata": {
    "colab": {},
    "colab_type": "code",
    "id": "YHixxI6sOGmJ"
   },
   "outputs": [],
   "source": [
    "monte_carlo_inference(7, generator, forward, trainset, fulldataset, sample_number = 1000)"
   ]
  },
  {
   "cell_type": "code",
   "execution_count": null,
   "metadata": {
    "colab": {},
    "colab_type": "code",
    "id": "LQpCSMheOJGp"
   },
   "outputs": [],
   "source": [
    "monte_carlo_inference(6, generator, forward, trainset, fulldataset, sample_number = 2000)"
   ]
  },
  {
   "cell_type": "code",
   "execution_count": null,
   "metadata": {
    "colab": {
     "base_uri": "https://localhost:8080/",
     "height": 1000
    },
    "colab_type": "code",
    "id": "oABGP42TOVh3",
    "outputId": "9b34aab1-f6f4-4dc8-9689-71f7bdd59b1f"
   },
   "outputs": [
    {
     "name": "stderr",
     "output_type": "stream",
     "text": [
      "\n",
      "\n",
      "\n",
      "\n",
      "  0%|          | 0/2000 [00:00<?, ?img/s]\u001b[A\u001b[A\u001b[A\u001b[A\n",
      "\n",
      "\n",
      "\n",
      "  0%|          | 1/2000 [00:27<15:10:54, 27.34s/img]\u001b[A\u001b[A\u001b[A\u001b[A\n",
      "\n",
      "\n",
      "\n",
      " 20%|##        | 401/2000 [00:54<8:30:35, 19.16s/img]\u001b[A\u001b[A\u001b[A\u001b[A\n",
      "\n",
      "\n",
      "\n",
      " 35%|###5      | 701/2000 [00:55<4:50:21, 13.41s/img]\u001b[A\u001b[A\u001b[A\u001b[A\n",
      "\n",
      "\n",
      "\n",
      " 35%|###5      | 701/2000 [01:11<4:50:21, 13.41s/img]\u001b[A\u001b[A\u001b[A\u001b[A\n",
      "\n",
      "\n",
      "\n",
      " 40%|####      | 801/2000 [01:18<3:09:01,  9.46s/img]\u001b[A\u001b[A\u001b[A\u001b[A\n",
      "\n",
      "\n",
      "\n",
      " 45%|####5     | 901/2000 [01:21<2:01:25,  6.63s/img]\u001b[A\u001b[A\u001b[A\u001b[A\n",
      "\n",
      "\n",
      "\n",
      " 50%|#####     | 1001/2000 [01:22<1:17:19,  4.64s/img]\u001b[A\u001b[A\u001b[A\u001b[A\n",
      "\n",
      "\n",
      "\n",
      " 55%|#####5    | 1101/2000 [01:23<48:45,  3.25s/img]  \u001b[A\u001b[A\u001b[A\u001b[A\n",
      "\n",
      "\n",
      "\n",
      " 55%|#####5    | 1101/2000 [01:41<48:45,  3.25s/img]\u001b[A\u001b[A\u001b[A\u001b[A\n",
      "\n",
      "\n",
      "\n",
      " 60%|######    | 1201/2000 [01:45<31:12,  2.34s/img]\u001b[A\u001b[A\u001b[A\u001b[A\n",
      "\n",
      "\n",
      "\n",
      " 65%|######5   | 1301/2000 [01:47<19:11,  1.65s/img]\u001b[A\u001b[A\u001b[A\u001b[A\n",
      "\n",
      "\n",
      "\n",
      " 70%|#######   | 1401/2000 [01:49<11:34,  1.16s/img]\u001b[A\u001b[A\u001b[A\u001b[A\n",
      "\n",
      "\n",
      "\n",
      " 75%|#######5  | 1501/2000 [01:50<06:45,  1.23img/s]\u001b[A\u001b[A\u001b[A\u001b[A\n",
      "\n",
      "\n",
      "\n",
      " 75%|#######5  | 1501/2000 [02:01<06:45,  1.23img/s]\u001b[A\u001b[A\u001b[A\u001b[A\n",
      "\n",
      "\n",
      "\n",
      " 80%|########  | 1601/2000 [02:12<04:13,  1.57img/s]\u001b[A\u001b[A\u001b[A\u001b[A\n",
      "\n",
      "\n",
      "\n",
      " 85%|########5 | 1701/2000 [02:14<02:14,  2.22img/s]\u001b[A\u001b[A\u001b[A\u001b[A\n",
      "\n",
      "\n",
      "\n",
      " 90%|######### | 1801/2000 [02:15<01:03,  3.14img/s]\u001b[A\u001b[A\u001b[A\u001b[A\n",
      "\n",
      "\n",
      "\n",
      "100%|##########| 2000/2000 [02:15<00:00, 14.73img/s]\n",
      "\n",
      "\n",
      "\n",
      "\n",
      "  0%|          | 0/4 [00:00<?, ?img/s]\u001b[A\u001b[A\u001b[A\u001b[A\n",
      "\n",
      "\n",
      "\n",
      "100%|##########| 4/4 [00:00<00:00,  6.91img/s]"
     ]
    },
    {
     "name": "stdout",
     "output_type": "stream",
     "text": [
      "\n",
      " ------------ Best forward image ------------\n",
      "MSE measure pred = 0.8981013593277769\n",
      "MSE morpho on Generated data: 1.2142107987305304\n"
     ]
    },
    {
     "name": "stderr",
     "output_type": "stream",
     "text": [
      "\n"
     ]
    },
    {
     "name": "stdout",
     "output_type": "stream",
     "text": [
      "(2000, 1, 32, 32) 0.0 1.0\n",
      "save_data/gen_img_in_distribution.npy\n",
      "(2000, 1, 32, 32) 0.0 0.9984978\n"
     ]
    },
    {
     "name": "stderr",
     "output_type": "stream",
     "text": [
      "\n",
      "\n",
      "\n",
      "\n",
      "FID:   0%|          | 0/10 [00:00<?, ?it/s]\u001b[A\u001b[A\u001b[A\u001b[A\n",
      "\n",
      "\n",
      "\n",
      "FID:   0%|          | 0/10 [00:00<?, ?it/s, mean=15.1]\u001b[A\u001b[A\u001b[A\u001b[A\n",
      "\n",
      "\n",
      "\n",
      "FID:   0%|          | 0/10 [00:00<?, ?it/s, mean=15.5]\u001b[A\u001b[A\u001b[A\u001b[A\n",
      "\n",
      "\n",
      "\n",
      "FID:   0%|          | 0/10 [00:00<?, ?it/s, mean=14.9]\u001b[A\u001b[A\u001b[A\u001b[A\n",
      "\n",
      "\n",
      "\n",
      "FID:  30%|███       | 3/10 [00:00<00:00, 28.31it/s, mean=14.9]\u001b[A\u001b[A\u001b[A\u001b[A\n",
      "\n",
      "\n",
      "\n",
      "FID:  30%|███       | 3/10 [00:00<00:00, 28.31it/s, mean=15]  \u001b[A\u001b[A\u001b[A\u001b[A\n",
      "\n",
      "\n",
      "\n",
      "FID:  30%|███       | 3/10 [00:00<00:00, 28.31it/s, mean=15.1]\u001b[A\u001b[A\u001b[A\u001b[A\n",
      "\n",
      "\n",
      "\n",
      "FID:  30%|███       | 3/10 [00:00<00:00, 28.31it/s, mean=15]  \u001b[A\u001b[A\u001b[A\u001b[A\n",
      "\n",
      "\n",
      "\n",
      "FID:  60%|██████    | 6/10 [00:00<00:00, 28.49it/s, mean=15]\u001b[A\u001b[A\u001b[A\u001b[A\n",
      "\n",
      "\n",
      "\n",
      "FID:  60%|██████    | 6/10 [00:00<00:00, 28.49it/s, mean=15.1]\u001b[A\u001b[A\u001b[A\u001b[A\n",
      "\n",
      "\n",
      "\n",
      "FID:  60%|██████    | 6/10 [00:00<00:00, 28.49it/s, mean=15.2]\u001b[A\u001b[A\u001b[A\u001b[A\n",
      "\n",
      "\n",
      "\n",
      "FID:  60%|██████    | 6/10 [00:00<00:00, 28.49it/s, mean=15.4]\u001b[A\u001b[A\u001b[A\u001b[A\n",
      "\n",
      "\n",
      "\n",
      "FID:  90%|█████████ | 9/10 [00:00<00:00, 28.10it/s, mean=15.4]\u001b[A\u001b[A\u001b[A\u001b[A\n",
      "\n",
      "\n",
      "\n",
      "FID: 100%|██████████| 10/10 [00:00<00:00, 28.04it/s, mean=15.4]\n"
     ]
    },
    {
     "name": "stdout",
     "output_type": "stream",
     "text": [
      "(2000, 1, 32, 32) 0.0 1.0\n",
      "save_data/gen_img_in_distribution.npy\n",
      "(2000, 1, 32, 32) 0.0 1.0\n"
     ]
    },
    {
     "name": "stderr",
     "output_type": "stream",
     "text": [
      "\n",
      "\n",
      "\n",
      "\n",
      "FID:   0%|          | 0/10 [00:00<?, ?it/s]\u001b[A\u001b[A\u001b[A\u001b[A\n",
      "\n",
      "\n",
      "\n",
      "FID:   0%|          | 0/10 [00:00<?, ?it/s, mean=0.459]\u001b[A\u001b[A\u001b[A\u001b[A\n",
      "\n",
      "\n",
      "\n",
      "FID:   0%|          | 0/10 [00:00<?, ?it/s, mean=0.37] \u001b[A\u001b[A\u001b[A\u001b[A\n",
      "\n",
      "\n",
      "\n",
      "FID:   0%|          | 0/10 [00:00<?, ?it/s, mean=0.381]\u001b[A\u001b[A\u001b[A\u001b[A\n",
      "\n",
      "\n",
      "\n",
      "FID:  30%|███       | 3/10 [00:00<00:00, 24.61it/s, mean=0.381]\u001b[A\u001b[A\u001b[A\u001b[A\n",
      "\n",
      "\n",
      "\n",
      "FID:  30%|███       | 3/10 [00:00<00:00, 24.61it/s, mean=0.412]\u001b[A\u001b[A\u001b[A\u001b[A\n",
      "\n",
      "\n",
      "\n",
      "FID:  30%|███       | 3/10 [00:00<00:00, 24.61it/s, mean=0.414]\u001b[A\u001b[A\u001b[A\u001b[A\n",
      "\n",
      "\n",
      "\n",
      "FID:  30%|███       | 3/10 [00:00<00:00, 24.61it/s, mean=0.399]\u001b[A\u001b[A\u001b[A\u001b[A\n",
      "\n",
      "\n",
      "\n",
      "FID:  60%|██████    | 6/10 [00:00<00:00, 25.12it/s, mean=0.399]\u001b[A\u001b[A\u001b[A\u001b[A\n",
      "\n",
      "\n",
      "\n",
      "FID:  60%|██████    | 6/10 [00:00<00:00, 25.12it/s, mean=0.389]\u001b[A\u001b[A\u001b[A\u001b[A\n",
      "\n",
      "\n",
      "\n",
      "FID:  60%|██████    | 6/10 [00:00<00:00, 25.12it/s, mean=0.383]\u001b[A\u001b[A\u001b[A\u001b[A\n",
      "\n",
      "\n",
      "\n",
      "FID:  60%|██████    | 6/10 [00:00<00:00, 25.12it/s, mean=0.387]\u001b[A\u001b[A\u001b[A\u001b[A\n",
      "\n",
      "\n",
      "\n",
      "FID:  90%|█████████ | 9/10 [00:00<00:00, 25.57it/s, mean=0.387]\u001b[A\u001b[A\u001b[A\u001b[A\n",
      "\n",
      "\n",
      "\n",
      "FID: 100%|██████████| 10/10 [00:00<00:00, 25.01it/s, mean=0.383]\n"
     ]
    },
    {
     "data": {
      "image/png": "[encoded data removed]",
      "text/plain": [
       "<Figure size 1600x600 with 8 Axes>"
      ]
     },
     "metadata": {
      "tags": []
     },
     "output_type": "display_data"
    }
   ],
   "source": [
    "inf_best_5, mean_sample_measure_5, fid_gen_5 = monte_carlo_inference(5, generator, forward, trainset, fulldataset, sample_number = 2000)"
   ]
  },
  {
   "cell_type": "code",
   "execution_count": null,
   "metadata": {
    "colab": {
     "base_uri": "https://localhost:8080/",
     "height": 1000
    },
    "colab_type": "code",
    "id": "HRl4OX2EOX5i",
    "outputId": "83c0e7fe-7e4d-47ea-b2cd-554ccd519cf4"
   },
   "outputs": [
    {
     "name": "stderr",
     "output_type": "stream",
     "text": [
      "\n",
      "\n",
      "\n",
      "\n",
      "  0%|          | 0/2000 [00:00<?, ?img/s]\u001b[A\u001b[A\u001b[A\u001b[A\n",
      "\n",
      "\n",
      "\n",
      "  0%|          | 1/2000 [00:27<15:04:09, 27.14s/img]\u001b[A\u001b[A\u001b[A\u001b[A\n",
      "\n",
      "\n",
      "\n",
      "  5%|5         | 101/2000 [00:27<10:01:19, 19.00s/img]\u001b[A\u001b[A\u001b[A\u001b[A\n",
      "\n",
      "\n",
      "\n",
      "  5%|5         | 101/2000 [00:47<10:01:19, 19.00s/img]\u001b[A\u001b[A\u001b[A\u001b[A\n",
      "\n",
      "\n",
      "\n",
      " 20%|##        | 401/2000 [00:53<5:55:06, 13.32s/img] \u001b[A\u001b[A\u001b[A\u001b[A\n",
      "\n",
      "\n",
      "\n",
      " 25%|##5       | 501/2000 [00:55<3:53:09,  9.33s/img]\u001b[A\u001b[A\u001b[A\u001b[A\n",
      "\n",
      "\n",
      "\n",
      " 25%|##5       | 501/2000 [01:07<3:53:09,  9.33s/img]\u001b[A\u001b[A\u001b[A\u001b[A\n",
      "\n",
      "\n",
      "\n",
      " 40%|####      | 801/2000 [01:21<2:11:05,  6.56s/img]\u001b[A\u001b[A\u001b[A\u001b[A\n",
      "\n",
      "\n",
      "\n",
      " 50%|#####     | 1001/2000 [01:22<1:16:28,  4.59s/img]\u001b[A\u001b[A\u001b[A\u001b[A\n",
      "\n",
      "\n",
      "\n",
      " 50%|#####     | 1001/2000 [01:37<1:16:28,  4.59s/img]\u001b[A\u001b[A\u001b[A\u001b[A\n",
      "\n",
      "\n",
      "\n",
      " 60%|######    | 1201/2000 [01:46<43:17,  3.25s/img]  \u001b[A\u001b[A\u001b[A\u001b[A\n",
      "\n",
      "\n",
      "\n",
      " 65%|######5   | 1301/2000 [01:48<26:35,  2.28s/img]\u001b[A\u001b[A\u001b[A\u001b[A\n",
      "\n",
      "\n",
      "\n",
      " 65%|######5   | 1301/2000 [02:07<26:35,  2.28s/img]\u001b[A\u001b[A\u001b[A\u001b[A\n",
      "\n",
      "\n",
      "\n",
      " 80%|########  | 1601/2000 [02:13<10:47,  1.62s/img]\u001b[A\u001b[A\u001b[A\u001b[A\n",
      "\n",
      "\n",
      "\n",
      " 85%|########5 | 1701/2000 [02:14<05:40,  1.14s/img]\u001b[A\u001b[A\u001b[A\u001b[A\n",
      "\n",
      "\n",
      "\n",
      "100%|##########| 2000/2000 [02:15<00:00, 14.78img/s]\n",
      "\n",
      "\n",
      "\n",
      "\n",
      "  0%|          | 0/4 [00:00<?, ?img/s]\u001b[A\u001b[A\u001b[A\u001b[A\n",
      "\n",
      "\n",
      "\n",
      "100%|##########| 4/4 [00:00<00:00,  6.84img/s]\n"
     ]
    },
    {
     "name": "stdout",
     "output_type": "stream",
     "text": [
      "\n",
      " ------------ Best forward image ------------\n",
      "MSE measure pred = 0.11873836072583745\n",
      "MSE morpho on Generated data: 1.6892546135902848\n",
      "(2000, 1, 32, 32) 0.0 1.0\n",
      "save_data/gen_img_in_distribution.npy\n",
      "(2000, 1, 32, 32) 0.0 0.9998033\n"
     ]
    },
    {
     "name": "stderr",
     "output_type": "stream",
     "text": [
      "\n",
      "\n",
      "\n",
      "\n",
      "FID:   0%|          | 0/10 [00:00<?, ?it/s]\u001b[A\u001b[A\u001b[A\u001b[A\n",
      "\n",
      "\n",
      "\n",
      "FID:   0%|          | 0/10 [00:00<?, ?it/s, mean=16.3]\u001b[A\u001b[A\u001b[A\u001b[A\n",
      "\n",
      "\n",
      "\n",
      "FID:   0%|          | 0/10 [00:00<?, ?it/s, mean=15.6]\u001b[A\u001b[A\u001b[A\u001b[A\n",
      "\n",
      "\n",
      "\n",
      "FID:   0%|          | 0/10 [00:00<?, ?it/s, mean=15.7]\u001b[A\u001b[A\u001b[A\u001b[A\n",
      "\n",
      "\n",
      "\n",
      "FID:  30%|███       | 3/10 [00:00<00:00, 25.37it/s, mean=15.7]\u001b[A\u001b[A\u001b[A\u001b[A\n",
      "\n",
      "\n",
      "\n",
      "FID:  30%|███       | 3/10 [00:00<00:00, 25.37it/s, mean=15.5]\u001b[A\u001b[A\u001b[A\u001b[A\n",
      "\n",
      "\n",
      "\n",
      "FID:  30%|███       | 3/10 [00:00<00:00, 25.37it/s, mean=15.8]\u001b[A\u001b[A\u001b[A\u001b[A\n",
      "\n",
      "\n",
      "\n",
      "FID:  30%|███       | 3/10 [00:00<00:00, 25.37it/s, mean=15.7]\u001b[A\u001b[A\u001b[A\u001b[A\n",
      "\n",
      "\n",
      "\n",
      "FID:  60%|██████    | 6/10 [00:00<00:00, 25.39it/s, mean=15.7]\u001b[A\u001b[A\u001b[A\u001b[A\n",
      "\n",
      "\n",
      "\n",
      "FID:  60%|██████    | 6/10 [00:00<00:00, 25.39it/s, mean=15.7]\u001b[A\u001b[A\u001b[A\u001b[A\n",
      "\n",
      "\n",
      "\n",
      "FID:  60%|██████    | 6/10 [00:00<00:00, 25.39it/s, mean=15.7]\u001b[A\u001b[A\u001b[A\u001b[A\n",
      "\n",
      "\n",
      "\n",
      "FID:  60%|██████    | 6/10 [00:00<00:00, 25.39it/s, mean=15.7]\u001b[A\u001b[A\u001b[A\u001b[A\n",
      "\n",
      "\n",
      "\n",
      "FID:  90%|█████████ | 9/10 [00:00<00:00, 26.07it/s, mean=15.7]\u001b[A\u001b[A\u001b[A\u001b[A\n",
      "\n",
      "\n",
      "\n",
      "FID: 100%|██████████| 10/10 [00:00<00:00, 26.13it/s, mean=15.5]\n"
     ]
    },
    {
     "name": "stdout",
     "output_type": "stream",
     "text": [
      "(2000, 1, 32, 32) 0.0 1.0\n",
      "save_data/gen_img_in_distribution.npy\n",
      "(2000, 1, 32, 32) 0.0 1.0\n"
     ]
    },
    {
     "name": "stderr",
     "output_type": "stream",
     "text": [
      "\n",
      "\n",
      "\n",
      "\n",
      "FID:   0%|          | 0/10 [00:00<?, ?it/s]\u001b[A\u001b[A\u001b[A\u001b[A\n",
      "\n",
      "\n",
      "\n",
      "FID:   0%|          | 0/10 [00:00<?, ?it/s, mean=0.708]\u001b[A\u001b[A\u001b[A\u001b[A\n",
      "\n",
      "\n",
      "\n",
      "FID:   0%|          | 0/10 [00:00<?, ?it/s, mean=0.698]\u001b[A\u001b[A\u001b[A\u001b[A\n",
      "\n",
      "\n",
      "\n",
      "FID:   0%|          | 0/10 [00:00<?, ?it/s, mean=0.612]\u001b[A\u001b[A\u001b[A\u001b[A\n",
      "\n",
      "\n",
      "\n",
      "FID:  30%|███       | 3/10 [00:00<00:00, 26.24it/s, mean=0.612]\u001b[A\u001b[A\u001b[A\u001b[A\n",
      "\n",
      "\n",
      "\n",
      "FID:  30%|███       | 3/10 [00:00<00:00, 26.24it/s, mean=0.581]\u001b[A\u001b[A\u001b[A\u001b[A\n",
      "\n",
      "\n",
      "\n",
      "FID:  30%|███       | 3/10 [00:00<00:00, 26.24it/s, mean=0.62] \u001b[A\u001b[A\u001b[A\u001b[A\n",
      "\n",
      "\n",
      "\n",
      "FID:  30%|███       | 3/10 [00:00<00:00, 26.24it/s, mean=0.579]\u001b[A\u001b[A\u001b[A\u001b[A\n",
      "\n",
      "\n",
      "\n",
      "FID:  60%|██████    | 6/10 [00:00<00:00, 25.17it/s, mean=0.579]\u001b[A\u001b[A\u001b[A\u001b[A\n",
      "\n",
      "\n",
      "\n",
      "FID:  60%|██████    | 6/10 [00:00<00:00, 25.17it/s, mean=0.558]\u001b[A\u001b[A\u001b[A\u001b[A\n",
      "\n",
      "\n",
      "\n",
      "FID:  60%|██████    | 6/10 [00:00<00:00, 25.17it/s, mean=0.551]\u001b[A\u001b[A\u001b[A\u001b[A\n",
      "\n",
      "\n",
      "\n",
      "FID:  60%|██████    | 6/10 [00:00<00:00, 25.17it/s, mean=0.534]\u001b[A\u001b[A\u001b[A\u001b[A\n",
      "\n",
      "\n",
      "\n",
      "FID:  90%|█████████ | 9/10 [00:00<00:00, 25.73it/s, mean=0.534]\u001b[A\u001b[A\u001b[A\u001b[A\n",
      "\n",
      "\n",
      "\n",
      "FID: 100%|██████████| 10/10 [00:00<00:00, 25.20it/s, mean=0.547]\n"
     ]
    },
    {
     "data": {
      "image/png": "[encoded data removed]",
      "text/plain": [
       "<Figure size 1600x600 with 8 Axes>"
      ]
     },
     "metadata": {
      "tags": []
     },
     "output_type": "display_data"
    }
   ],
   "source": [
    "inf_best_4, mean_sample_measure_4, fid_gen_4 = monte_carlo_inference(4, generator, forward, trainset, fulldataset, sample_number = 2000)"
   ]
  },
  {
   "cell_type": "code",
   "execution_count": null,
   "metadata": {
    "colab": {
     "base_uri": "https://localhost:8080/",
     "height": 1000
    },
    "colab_type": "code",
    "id": "HZWFmJPjOac4",
    "outputId": "8b8f19b5-c98c-43d9-f52e-a964fbedc2e4"
   },
   "outputs": [
    {
     "name": "stderr",
     "output_type": "stream",
     "text": [
      "\n",
      "\n",
      "\n",
      "\n",
      "  0%|          | 0/2000 [00:00<?, ?img/s]\u001b[A\u001b[A\u001b[A\u001b[A\n",
      "\n",
      "\n",
      "\n",
      "  0%|          | 1/2000 [00:26<14:27:23, 26.03s/img]\u001b[A\u001b[A\u001b[A\u001b[A\n",
      "\n",
      "\n",
      "\n",
      "  5%|5         | 101/2000 [00:26<9:36:52, 18.23s/img]\u001b[A\u001b[A\u001b[A\u001b[A\n",
      "\n",
      "\n",
      "\n",
      " 10%|#         | 201/2000 [00:27<6:22:34, 12.76s/img]\u001b[A\u001b[A\u001b[A\u001b[A\n",
      "\n",
      "\n",
      "\n",
      " 15%|#5        | 301/2000 [00:27<4:12:55,  8.93s/img]\u001b[A\u001b[A\u001b[A\u001b[A\n",
      "\n",
      "\n",
      "\n",
      " 15%|#5        | 301/2000 [00:43<4:12:55,  8.93s/img]\u001b[A\u001b[A\u001b[A\u001b[A\n",
      "\n",
      "\n",
      "\n",
      " 20%|##        | 401/2000 [00:52<2:48:40,  6.33s/img]\u001b[A\u001b[A\u001b[A\u001b[A\n",
      "\n",
      "\n",
      "\n",
      " 25%|##5       | 501/2000 [00:54<1:50:47,  4.43s/img]\u001b[A\u001b[A\u001b[A\u001b[A\n",
      "\n",
      "\n",
      "\n",
      " 25%|##5       | 501/2000 [01:13<1:50:47,  4.43s/img]\u001b[A\u001b[A\u001b[A\u001b[A\n",
      "\n",
      "\n",
      "\n",
      " 40%|####      | 801/2000 [01:19<1:02:32,  3.13s/img]\u001b[A\u001b[A\u001b[A\u001b[A\n",
      "\n",
      "\n",
      "\n",
      " 45%|####5     | 901/2000 [01:21<40:14,  2.20s/img]  \u001b[A\u001b[A\u001b[A\u001b[A\n",
      "\n",
      "\n",
      "\n",
      " 55%|#####5    | 1101/2000 [01:22<23:03,  1.54s/img]\u001b[A\u001b[A\u001b[A\u001b[A\n",
      "\n",
      "\n",
      "\n",
      " 55%|#####5    | 1101/2000 [01:33<23:03,  1.54s/img]\u001b[A\u001b[A\u001b[A\u001b[A\n",
      "\n",
      "\n",
      "\n",
      " 60%|######    | 1201/2000 [01:46<15:19,  1.15s/img]\u001b[A\u001b[A\u001b[A\u001b[A\n",
      "\n",
      "\n",
      "\n",
      " 65%|######5   | 1301/2000 [01:48<09:25,  1.24img/s]\u001b[A\u001b[A\u001b[A\u001b[A\n",
      "\n",
      "\n",
      "\n",
      " 70%|#######   | 1401/2000 [01:49<05:42,  1.75img/s]\u001b[A\u001b[A\u001b[A\u001b[A\n",
      "\n",
      "\n",
      "\n",
      " 70%|#######   | 1401/2000 [02:03<05:42,  1.75img/s]\u001b[A\u001b[A\u001b[A\u001b[A\n",
      "\n",
      "\n",
      "\n",
      " 80%|########  | 1601/2000 [02:13<02:53,  2.30img/s]\u001b[A\u001b[A\u001b[A\u001b[A\n",
      "\n",
      "\n",
      "\n",
      " 85%|########5 | 1701/2000 [02:14<01:32,  3.23img/s]\u001b[A\u001b[A\u001b[A\u001b[A\n",
      "\n",
      "\n",
      "\n",
      " 90%|######### | 1801/2000 [02:15<00:43,  4.60img/s]\u001b[A\u001b[A\u001b[A\u001b[A\n",
      "\n",
      "\n",
      "\n",
      "100%|##########| 2000/2000 [02:16<00:00, 14.70img/s]\n",
      "\n",
      "\n",
      "\n",
      "\n",
      "  0%|          | 0/4 [00:00<?, ?img/s]\u001b[A\u001b[A\u001b[A\u001b[A\n",
      "\n",
      "\n",
      "\n",
      "100%|##########| 4/4 [00:00<00:00,  6.68img/s]"
     ]
    },
    {
     "name": "stdout",
     "output_type": "stream",
     "text": [
      "\n",
      " ------------ Best forward image ------------\n",
      "MSE measure pred = 0.5314444072975285\n",
      "MSE morpho on Generated data: 1.5844161415944478\n"
     ]
    },
    {
     "name": "stderr",
     "output_type": "stream",
     "text": [
      "\n"
     ]
    },
    {
     "name": "stdout",
     "output_type": "stream",
     "text": [
      "(2000, 1, 32, 32) 0.0 1.0\n",
      "save_data/gen_img_in_distribution.npy\n",
      "(2000, 1, 32, 32) 0.0 0.9973556\n"
     ]
    },
    {
     "name": "stderr",
     "output_type": "stream",
     "text": [
      "\n",
      "\n",
      "\n",
      "\n",
      "FID:   0%|          | 0/10 [00:00<?, ?it/s]\u001b[A\u001b[A\u001b[A\u001b[A\n",
      "\n",
      "\n",
      "\n",
      "FID:   0%|          | 0/10 [00:00<?, ?it/s, mean=11.1]\u001b[A\u001b[A\u001b[A\u001b[A\n",
      "\n",
      "\n",
      "\n",
      "FID:   0%|          | 0/10 [00:00<?, ?it/s, mean=12]  \u001b[A\u001b[A\u001b[A\u001b[A\n",
      "\n",
      "\n",
      "\n",
      "FID:   0%|          | 0/10 [00:00<?, ?it/s, mean=11.8]\u001b[A\u001b[A\u001b[A\u001b[A\n",
      "\n",
      "\n",
      "\n",
      "FID:  30%|███       | 3/10 [00:00<00:00, 25.90it/s, mean=11.8]\u001b[A\u001b[A\u001b[A\u001b[A\n",
      "\n",
      "\n",
      "\n",
      "FID:  30%|███       | 3/10 [00:00<00:00, 25.90it/s, mean=11.9]\u001b[A\u001b[A\u001b[A\u001b[A\n",
      "\n",
      "\n",
      "\n",
      "FID:  30%|███       | 3/10 [00:00<00:00, 25.90it/s, mean=11.9]\u001b[A\u001b[A\u001b[A\u001b[A\n",
      "\n",
      "\n",
      "\n",
      "FID:  30%|███       | 3/10 [00:00<00:00, 25.90it/s, mean=11.9]\u001b[A\u001b[A\u001b[A\u001b[A\n",
      "\n",
      "\n",
      "\n",
      "FID:  60%|██████    | 6/10 [00:00<00:00, 25.69it/s, mean=11.9]\u001b[A\u001b[A\u001b[A\u001b[A\n",
      "\n",
      "\n",
      "\n",
      "FID:  60%|██████    | 6/10 [00:00<00:00, 25.69it/s, mean=12]  \u001b[A\u001b[A\u001b[A\u001b[A\n",
      "\n",
      "\n",
      "\n",
      "FID:  60%|██████    | 6/10 [00:00<00:00, 25.69it/s, mean=12]\u001b[A\u001b[A\u001b[A\u001b[A\n",
      "\n",
      "\n",
      "\n",
      "FID:  60%|██████    | 6/10 [00:00<00:00, 25.69it/s, mean=12]\u001b[A\u001b[A\u001b[A\u001b[A\n",
      "\n",
      "\n",
      "\n",
      "FID:  90%|█████████ | 9/10 [00:00<00:00, 26.19it/s, mean=12]\u001b[A\u001b[A\u001b[A\u001b[A\n",
      "\n",
      "\n",
      "\n",
      "FID: 100%|██████████| 10/10 [00:00<00:00, 26.16it/s, mean=12]\n"
     ]
    },
    {
     "name": "stdout",
     "output_type": "stream",
     "text": [
      "(2000, 1, 32, 32) 0.0 1.0\n",
      "save_data/gen_img_in_distribution.npy\n",
      "(2000, 1, 32, 32) 0.0 1.0\n"
     ]
    },
    {
     "name": "stderr",
     "output_type": "stream",
     "text": [
      "\n",
      "\n",
      "\n",
      "\n",
      "FID:   0%|          | 0/10 [00:00<?, ?it/s]\u001b[A\u001b[A\u001b[A\u001b[A\n",
      "\n",
      "\n",
      "\n",
      "FID:   0%|          | 0/10 [00:00<?, ?it/s, mean=0.318]\u001b[A\u001b[A\u001b[A\u001b[A\n",
      "\n",
      "\n",
      "\n",
      "FID:   0%|          | 0/10 [00:00<?, ?it/s, mean=0.313]\u001b[A\u001b[A\u001b[A\u001b[A\n",
      "\n",
      "\n",
      "\n",
      "FID:   0%|          | 0/10 [00:00<?, ?it/s, mean=0.326]\u001b[A\u001b[A\u001b[A\u001b[A\n",
      "\n",
      "\n",
      "\n",
      "FID:  30%|███       | 3/10 [00:00<00:00, 26.80it/s, mean=0.326]\u001b[A\u001b[A\u001b[A\u001b[A\n",
      "\n",
      "\n",
      "\n",
      "FID:  30%|███       | 3/10 [00:00<00:00, 26.80it/s, mean=0.352]\u001b[A\u001b[A\u001b[A\u001b[A\n",
      "\n",
      "\n",
      "\n",
      "FID:  30%|███       | 3/10 [00:00<00:00, 26.80it/s, mean=0.381]\u001b[A\u001b[A\u001b[A\u001b[A\n",
      "\n",
      "\n",
      "\n",
      "FID:  30%|███       | 3/10 [00:00<00:00, 26.80it/s, mean=0.386]\u001b[A\u001b[A\u001b[A\u001b[A\n",
      "\n",
      "\n",
      "\n",
      "FID:  60%|██████    | 6/10 [00:00<00:00, 26.57it/s, mean=0.386]\u001b[A\u001b[A\u001b[A\u001b[A\n",
      "\n",
      "\n",
      "\n",
      "FID:  60%|██████    | 6/10 [00:00<00:00, 26.57it/s, mean=0.397]\u001b[A\u001b[A\u001b[A\u001b[A\n",
      "\n",
      "\n",
      "\n",
      "FID:  60%|██████    | 6/10 [00:00<00:00, 26.57it/s, mean=0.406]\u001b[A\u001b[A\u001b[A\u001b[A\n",
      "\n",
      "\n",
      "\n",
      "FID:  60%|██████    | 6/10 [00:00<00:00, 26.57it/s, mean=0.399]\u001b[A\u001b[A\u001b[A\u001b[A\n",
      "\n",
      "\n",
      "\n",
      "FID:  90%|█████████ | 9/10 [00:00<00:00, 25.68it/s, mean=0.399]\u001b[A\u001b[A\u001b[A\u001b[A\n",
      "\n",
      "\n",
      "\n",
      "FID: 100%|██████████| 10/10 [00:00<00:00, 25.20it/s, mean=0.401]\n"
     ]
    },
    {
     "data": {
      "image/png": "[encoded data removed]",
      "text/plain": [
       "<Figure size 1600x600 with 8 Axes>"
      ]
     },
     "metadata": {
      "tags": []
     },
     "output_type": "display_data"
    }
   ],
   "source": [
    "inf_best_3, mean_sample_measure_3, fid_gen_3 = monte_carlo_inference(3, generator, forward, trainset, fulldataset, sample_number = 2000)"
   ]
  },
  {
   "cell_type": "code",
   "execution_count": null,
   "metadata": {
    "colab": {
     "base_uri": "https://localhost:8080/",
     "height": 1000
    },
    "colab_type": "code",
    "id": "RxjsnD2wOgmz",
    "outputId": "5f34c1a7-b28a-4875-a41e-a1956d4559fe"
   },
   "outputs": [
    {
     "name": "stderr",
     "output_type": "stream",
     "text": [
      "\n",
      "\n",
      "\n",
      "\n",
      "  0%|          | 0/2000 [00:00<?, ?img/s]\u001b[A\u001b[A\u001b[A\u001b[A\n",
      "\n",
      "\n",
      "\n",
      "  0%|          | 1/2000 [00:27<15:24:18, 27.74s/img]\u001b[A\u001b[A\u001b[A\u001b[A\n",
      "\n",
      "\n",
      "\n",
      " 15%|#5        | 301/2000 [00:28<9:09:56, 19.42s/img]\u001b[A\u001b[A\u001b[A\u001b[A\n",
      "\n",
      "\n",
      "\n",
      " 15%|#5        | 301/2000 [00:38<9:09:56, 19.42s/img]\u001b[A\u001b[A\u001b[A\u001b[A\n",
      "\n",
      "\n",
      "\n",
      " 20%|##        | 401/2000 [00:53<6:04:18, 13.67s/img]\u001b[A\u001b[A\u001b[A\u001b[A\n",
      "\n",
      "\n",
      "\n",
      " 25%|##5       | 501/2000 [00:53<3:59:05,  9.57s/img]\u001b[A\u001b[A\u001b[A\u001b[A\n",
      "\n",
      "\n",
      "\n",
      " 30%|###       | 601/2000 [00:53<2:36:12,  6.70s/img]\u001b[A\u001b[A\u001b[A\u001b[A\n",
      "\n",
      "\n",
      "\n",
      " 30%|###       | 601/2000 [01:08<2:36:12,  6.70s/img]\u001b[A\u001b[A\u001b[A\u001b[A\n",
      "\n",
      "\n",
      "\n",
      " 40%|####      | 801/2000 [01:19<1:34:29,  4.73s/img]\u001b[A\u001b[A\u001b[A\u001b[A\n",
      "\n",
      "\n",
      "\n",
      " 45%|####5     | 901/2000 [01:21<1:00:42,  3.31s/img]\u001b[A\u001b[A\u001b[A\u001b[A\n",
      "\n",
      "\n",
      "\n",
      " 45%|####5     | 901/2000 [01:38<1:00:42,  3.31s/img]\u001b[A\u001b[A\u001b[A\u001b[A\n",
      "\n",
      "\n",
      "\n",
      " 60%|######    | 1201/2000 [01:46<31:13,  2.35s/img] \u001b[A\u001b[A\u001b[A\u001b[A\n",
      "\n",
      "\n",
      "\n",
      " 65%|######5   | 1301/2000 [01:48<19:10,  1.65s/img]\u001b[A\u001b[A\u001b[A\u001b[A\n",
      "\n",
      "\n",
      "\n",
      " 75%|#######5  | 1501/2000 [01:48<09:34,  1.15s/img]\u001b[A\u001b[A\u001b[A\u001b[A\n",
      "\n",
      "\n",
      "\n",
      " 75%|#######5  | 1501/2000 [01:58<09:34,  1.15s/img]\u001b[A\u001b[A\u001b[A\u001b[A\n",
      "\n",
      "\n",
      "\n",
      " 80%|########  | 1601/2000 [02:14<05:53,  1.13img/s]\u001b[A\u001b[A\u001b[A\u001b[A\n",
      "\n",
      "\n",
      "\n",
      "100%|##########| 2000/2000 [02:14<00:00, 14.83img/s]\n",
      "\n",
      "\n",
      "\n",
      "\n",
      "  0%|          | 0/4 [00:00<?, ?img/s]\u001b[A\u001b[A\u001b[A\u001b[A\n",
      "\n",
      "\n",
      "\n",
      "100%|##########| 4/4 [00:00<00:00,  6.70img/s]"
     ]
    },
    {
     "name": "stdout",
     "output_type": "stream",
     "text": [
      "\n",
      " ------------ Best forward image ------------\n",
      "MSE measure pred = 0.5342715085765378\n",
      "MSE morpho on Generated data: 0.7791826843293613\n"
     ]
    },
    {
     "name": "stderr",
     "output_type": "stream",
     "text": [
      "\n"
     ]
    },
    {
     "name": "stdout",
     "output_type": "stream",
     "text": [
      "(2000, 1, 32, 32) 0.0 1.0\n",
      "save_data/gen_img_in_distribution.npy\n",
      "(2000, 1, 32, 32) 0.0 0.9992776\n"
     ]
    },
    {
     "name": "stderr",
     "output_type": "stream",
     "text": [
      "\n",
      "\n",
      "\n",
      "\n",
      "FID:   0%|          | 0/10 [00:00<?, ?it/s]\u001b[A\u001b[A\u001b[A\u001b[A\n",
      "\n",
      "\n",
      "\n",
      "FID:   0%|          | 0/10 [00:00<?, ?it/s, mean=11.8]\u001b[A\u001b[A\u001b[A\u001b[A\n",
      "\n",
      "\n",
      "\n",
      "FID:   0%|          | 0/10 [00:00<?, ?it/s, mean=12]  \u001b[A\u001b[A\u001b[A\u001b[A\n",
      "\n",
      "\n",
      "\n",
      "FID:   0%|          | 0/10 [00:00<?, ?it/s, mean=12.1]\u001b[A\u001b[A\u001b[A\u001b[A\n",
      "\n",
      "\n",
      "\n",
      "FID:  30%|███       | 3/10 [00:00<00:00, 27.71it/s, mean=12.1]\u001b[A\u001b[A\u001b[A\u001b[A\n",
      "\n",
      "\n",
      "\n",
      "FID:  30%|███       | 3/10 [00:00<00:00, 27.71it/s, mean=12.3]\u001b[A\u001b[A\u001b[A\u001b[A\n",
      "\n",
      "\n",
      "\n",
      "FID:  30%|███       | 3/10 [00:00<00:00, 27.71it/s, mean=12.4]\u001b[A\u001b[A\u001b[A\u001b[A\n",
      "\n",
      "\n",
      "\n",
      "FID:  30%|███       | 3/10 [00:00<00:00, 27.71it/s, mean=12.5]\u001b[A\u001b[A\u001b[A\u001b[A\n",
      "\n",
      "\n",
      "\n",
      "FID:  60%|██████    | 6/10 [00:00<00:00, 27.72it/s, mean=12.5]\u001b[A\u001b[A\u001b[A\u001b[A\n",
      "\n",
      "\n",
      "\n",
      "FID:  60%|██████    | 6/10 [00:00<00:00, 27.72it/s, mean=12.7]\u001b[A\u001b[A\u001b[A\u001b[A\n",
      "\n",
      "\n",
      "\n",
      "FID:  60%|██████    | 6/10 [00:00<00:00, 27.72it/s, mean=12.6]\u001b[A\u001b[A\u001b[A\u001b[A\n",
      "\n",
      "\n",
      "\n",
      "FID:  60%|██████    | 6/10 [00:00<00:00, 27.72it/s, mean=12.6]\u001b[A\u001b[A\u001b[A\u001b[A\n",
      "\n",
      "\n",
      "\n",
      "FID:  90%|█████████ | 9/10 [00:00<00:00, 27.66it/s, mean=12.6]\u001b[A\u001b[A\u001b[A\u001b[A\n",
      "\n",
      "\n",
      "\n",
      "FID: 100%|██████████| 10/10 [00:00<00:00, 27.43it/s, mean=12.6]\n"
     ]
    },
    {
     "name": "stdout",
     "output_type": "stream",
     "text": [
      "(2000, 1, 32, 32) 0.0 1.0\n",
      "save_data/gen_img_in_distribution.npy\n",
      "(2000, 1, 32, 32) 0.0 1.0\n"
     ]
    },
    {
     "name": "stderr",
     "output_type": "stream",
     "text": [
      "\n",
      "\n",
      "\n",
      "\n",
      "FID:   0%|          | 0/10 [00:00<?, ?it/s]\u001b[A\u001b[A\u001b[A\u001b[A\n",
      "\n",
      "\n",
      "\n",
      "FID:   0%|          | 0/10 [00:00<?, ?it/s, mean=0.637]\u001b[A\u001b[A\u001b[A\u001b[A\n",
      "\n",
      "\n",
      "\n",
      "FID:   0%|          | 0/10 [00:00<?, ?it/s, mean=0.542]\u001b[A\u001b[A\u001b[A\u001b[A\n",
      "\n",
      "\n",
      "\n",
      "FID:   0%|          | 0/10 [00:00<?, ?it/s, mean=0.538]\u001b[A\u001b[A\u001b[A\u001b[A\n",
      "\n",
      "\n",
      "\n",
      "FID:  30%|███       | 3/10 [00:00<00:00, 28.34it/s, mean=0.538]\u001b[A\u001b[A\u001b[A\u001b[A\n",
      "\n",
      "\n",
      "\n",
      "FID:  30%|███       | 3/10 [00:00<00:00, 28.34it/s, mean=0.541]\u001b[A\u001b[A\u001b[A\u001b[A\n",
      "\n",
      "\n",
      "\n",
      "FID:  30%|███       | 3/10 [00:00<00:00, 28.34it/s, mean=0.518]\u001b[A\u001b[A\u001b[A\u001b[A\n",
      "\n",
      "\n",
      "\n",
      "FID:  30%|███       | 3/10 [00:00<00:00, 28.34it/s, mean=0.5]  \u001b[A\u001b[A\u001b[A\u001b[A\n",
      "\n",
      "\n",
      "\n",
      "FID:  60%|██████    | 6/10 [00:00<00:00, 27.87it/s, mean=0.5]\u001b[A\u001b[A\u001b[A\u001b[A\n",
      "\n",
      "\n",
      "\n",
      "FID:  60%|██████    | 6/10 [00:00<00:00, 27.87it/s, mean=0.471]\u001b[A\u001b[A\u001b[A\u001b[A\n",
      "\n",
      "\n",
      "\n",
      "FID:  60%|██████    | 6/10 [00:00<00:00, 27.87it/s, mean=0.452]\u001b[A\u001b[A\u001b[A\u001b[A\n",
      "\n",
      "\n",
      "\n",
      "FID:  60%|██████    | 6/10 [00:00<00:00, 27.87it/s, mean=0.442]\u001b[A\u001b[A\u001b[A\u001b[A\n",
      "\n",
      "\n",
      "\n",
      "FID:  90%|█████████ | 9/10 [00:00<00:00, 26.94it/s, mean=0.442]\u001b[A\u001b[A\u001b[A\u001b[A\n",
      "\n",
      "\n",
      "\n",
      "FID: 100%|██████████| 10/10 [00:00<00:00, 26.34it/s, mean=0.459]\n"
     ]
    },
    {
     "data": {
      "image/png": "[encoded data removed]",
      "text/plain": [
       "<Figure size 1600x600 with 8 Axes>"
      ]
     },
     "metadata": {
      "tags": []
     },
     "output_type": "display_data"
    }
   ],
   "source": [
    "inf_best_2, mean_sample_measure_2, fid_gen_2 = monte_carlo_inference(2, generator, forward, trainset, fulldataset, sample_number = 2000)"
   ]
  },
  {
   "cell_type": "code",
   "execution_count": null,
   "metadata": {
    "colab": {
     "base_uri": "https://localhost:8080/",
     "height": 1000
    },
    "colab_type": "code",
    "id": "m1JfdijcOjXP",
    "outputId": "aedd8540-6420-40bd-eb9a-19f186c89fdd"
   },
   "outputs": [
    {
     "name": "stderr",
     "output_type": "stream",
     "text": [
      "\n",
      "\n",
      "\n",
      "\n",
      "  0%|          | 0/2000 [00:00<?, ?img/s]\u001b[A\u001b[A\u001b[A\u001b[A\n",
      "\n",
      "\n",
      "\n",
      "  0%|          | 1/2000 [00:27<15:17:53, 27.55s/img]\u001b[A\u001b[A\u001b[A\u001b[A\n",
      "\n",
      "\n",
      "\n",
      " 10%|#         | 201/2000 [00:28<9:38:15, 19.29s/img]\u001b[A\u001b[A\u001b[A\u001b[A\n",
      "\n",
      "\n",
      "\n",
      " 10%|#         | 201/2000 [00:45<9:38:15, 19.29s/img]\u001b[A\u001b[A\u001b[A\u001b[A\n",
      "\n",
      "\n",
      "\n",
      " 20%|##        | 401/2000 [00:53<6:00:48, 13.54s/img]\u001b[A\u001b[A\u001b[A\u001b[A\n",
      "\n",
      "\n",
      "\n",
      " 25%|##5       | 501/2000 [00:54<3:56:50,  9.48s/img]\u001b[A\u001b[A\u001b[A\u001b[A\n",
      "\n",
      "\n",
      "\n",
      " 25%|##5       | 501/2000 [01:05<3:56:50,  9.48s/img]\u001b[A\u001b[A\u001b[A\u001b[A\n",
      "\n",
      "\n",
      "\n",
      " 40%|####      | 801/2000 [01:23<2:13:10,  6.66s/img]\u001b[A\u001b[A\u001b[A\u001b[A\n",
      "\n",
      "\n",
      "\n",
      " 40%|####      | 801/2000 [01:35<2:13:10,  6.66s/img]\u001b[A\u001b[A\u001b[A\u001b[A\n",
      "\n",
      "\n",
      "\n",
      " 60%|######    | 1201/2000 [01:49<1:02:23,  4.69s/img]\u001b[A\u001b[A\u001b[A\u001b[A\n",
      "\n",
      "\n",
      "\n",
      " 75%|#######5  | 1501/2000 [01:51<27:17,  3.28s/img]  \u001b[A\u001b[A\u001b[A\u001b[A\n",
      "\n",
      "\n",
      "\n",
      " 75%|#######5  | 1501/2000 [02:05<27:17,  3.28s/img]\u001b[A\u001b[A\u001b[A\u001b[A\n",
      "\n",
      "\n",
      "\n",
      " 80%|########  | 1601/2000 [02:14<15:43,  2.37s/img]\u001b[A\u001b[A\u001b[A\u001b[A\n",
      "\n",
      "\n",
      "\n",
      " 85%|########5 | 1701/2000 [02:15<08:15,  1.66s/img]\u001b[A\u001b[A\u001b[A\u001b[A\n",
      "\n",
      "\n",
      "\n",
      "100%|##########| 2000/2000 [02:16<00:00, 14.66img/s]\n",
      "\n",
      "\n",
      "\n",
      "\n",
      "  0%|          | 0/4 [00:00<?, ?img/s]\u001b[A\u001b[A\u001b[A\u001b[A\n",
      "\n",
      "\n",
      "\n",
      "100%|##########| 4/4 [00:00<00:00,  8.25img/s]\n"
     ]
    },
    {
     "name": "stdout",
     "output_type": "stream",
     "text": [
      "\n",
      " ------------ Best forward image ------------\n",
      "MSE measure pred = 0.012509240867493018\n",
      "MSE morpho on Generated data: 0.15769173395058197\n",
      "(2000, 1, 32, 32) 0.0 1.0\n",
      "save_data/gen_img_in_distribution.npy\n",
      "(2000, 1, 32, 32) 0.0 0.99984014\n"
     ]
    },
    {
     "name": "stderr",
     "output_type": "stream",
     "text": [
      "\n",
      "\n",
      "\n",
      "\n",
      "FID:   0%|          | 0/10 [00:00<?, ?it/s]\u001b[A\u001b[A\u001b[A\u001b[A\n",
      "\n",
      "\n",
      "\n",
      "FID:   0%|          | 0/10 [00:00<?, ?it/s, mean=24]\u001b[A\u001b[A\u001b[A\u001b[A\n",
      "\n",
      "\n",
      "\n",
      "FID:   0%|          | 0/10 [00:00<?, ?it/s, mean=23.9]\u001b[A\u001b[A\u001b[A\u001b[A\n",
      "\n",
      "\n",
      "\n",
      "FID:   0%|          | 0/10 [00:00<?, ?it/s, mean=23.7]\u001b[A\u001b[A\u001b[A\u001b[A\n",
      "\n",
      "\n",
      "\n",
      "FID:  30%|███       | 3/10 [00:00<00:00, 28.39it/s, mean=23.7]\u001b[A\u001b[A\u001b[A\u001b[A\n",
      "\n",
      "\n",
      "\n",
      "FID:  30%|███       | 3/10 [00:00<00:00, 28.39it/s, mean=23.7]\u001b[A\u001b[A\u001b[A\u001b[A\n",
      "\n",
      "\n",
      "\n",
      "FID:  30%|███       | 3/10 [00:00<00:00, 28.39it/s, mean=23.8]\u001b[A\u001b[A\u001b[A\u001b[A\n",
      "\n",
      "\n",
      "\n",
      "FID:  30%|███       | 3/10 [00:00<00:00, 28.39it/s, mean=23.9]\u001b[A\u001b[A\u001b[A\u001b[A\n",
      "\n",
      "\n",
      "\n",
      "FID:  60%|██████    | 6/10 [00:00<00:00, 28.39it/s, mean=23.9]\u001b[A\u001b[A\u001b[A\u001b[A\n",
      "\n",
      "\n",
      "\n",
      "FID:  60%|██████    | 6/10 [00:00<00:00, 28.39it/s, mean=23.8]\u001b[A\u001b[A\u001b[A\u001b[A\n",
      "\n",
      "\n",
      "\n",
      "FID:  60%|██████    | 6/10 [00:00<00:00, 28.39it/s, mean=23.9]\u001b[A\u001b[A\u001b[A\u001b[A\n",
      "\n",
      "\n",
      "\n",
      "FID:  60%|██████    | 6/10 [00:00<00:00, 28.39it/s, mean=23.9]\u001b[A\u001b[A\u001b[A\u001b[A\n",
      "\n",
      "\n",
      "\n",
      "FID:  90%|█████████ | 9/10 [00:00<00:00, 28.27it/s, mean=23.9]\u001b[A\u001b[A\u001b[A\u001b[A\n",
      "\n",
      "\n",
      "\n",
      "FID: 100%|██████████| 10/10 [00:00<00:00, 27.95it/s, mean=23.8]\n"
     ]
    },
    {
     "name": "stdout",
     "output_type": "stream",
     "text": [
      "(2000, 1, 32, 32) 0.0 1.0\n",
      "save_data/gen_img_in_distribution.npy\n",
      "(2000, 1, 32, 32) 0.0 1.0\n"
     ]
    },
    {
     "name": "stderr",
     "output_type": "stream",
     "text": [
      "\n",
      "\n",
      "\n",
      "\n",
      "FID:   0%|          | 0/10 [00:00<?, ?it/s]\u001b[A\u001b[A\u001b[A\u001b[A\n",
      "\n",
      "\n",
      "\n",
      "FID:   0%|          | 0/10 [00:00<?, ?it/s, mean=0.454]\u001b[A\u001b[A\u001b[A\u001b[A\n",
      "\n",
      "\n",
      "\n",
      "FID:   0%|          | 0/10 [00:00<?, ?it/s, mean=0.487]\u001b[A\u001b[A\u001b[A\u001b[A\n",
      "\n",
      "\n",
      "\n",
      "FID:   0%|          | 0/10 [00:00<?, ?it/s, mean=0.504]\u001b[A\u001b[A\u001b[A\u001b[A\n",
      "\n",
      "\n",
      "\n",
      "FID:  30%|███       | 3/10 [00:00<00:00, 27.86it/s, mean=0.504]\u001b[A\u001b[A\u001b[A\u001b[A\n",
      "\n",
      "\n",
      "\n",
      "FID:  30%|███       | 3/10 [00:00<00:00, 27.86it/s, mean=0.549]\u001b[A\u001b[A\u001b[A\u001b[A\n",
      "\n",
      "\n",
      "\n",
      "FID:  30%|███       | 3/10 [00:00<00:00, 27.86it/s, mean=0.527]\u001b[A\u001b[A\u001b[A\u001b[A\n",
      "\n",
      "\n",
      "\n",
      "FID:  30%|███       | 3/10 [00:00<00:00, 27.86it/s, mean=0.513]\u001b[A\u001b[A\u001b[A\u001b[A\n",
      "\n",
      "\n",
      "\n",
      "FID:  60%|██████    | 6/10 [00:00<00:00, 27.75it/s, mean=0.513]\u001b[A\u001b[A\u001b[A\u001b[A\n",
      "\n",
      "\n",
      "\n",
      "FID:  60%|██████    | 6/10 [00:00<00:00, 27.75it/s, mean=0.522]\u001b[A\u001b[A\u001b[A\u001b[A\n",
      "\n",
      "\n",
      "\n",
      "FID:  60%|██████    | 6/10 [00:00<00:00, 27.75it/s, mean=0.523]\u001b[A\u001b[A\u001b[A\u001b[A\n",
      "\n",
      "\n",
      "\n",
      "FID:  60%|██████    | 6/10 [00:00<00:00, 27.75it/s, mean=0.517]\u001b[A\u001b[A\u001b[A\u001b[A\n",
      "\n",
      "\n",
      "\n",
      "FID:  90%|█████████ | 9/10 [00:00<00:00, 26.82it/s, mean=0.517]\u001b[A\u001b[A\u001b[A\u001b[A\n",
      "\n",
      "\n",
      "\n",
      "FID: 100%|██████████| 10/10 [00:00<00:00, 26.02it/s, mean=0.532]\n"
     ]
    },
    {
     "data": {
      "image/png": "[encoded data removed]",
      "text/plain": [
       "<Figure size 1600x600 with 8 Axes>"
      ]
     },
     "metadata": {
      "tags": []
     },
     "output_type": "display_data"
    }
   ],
   "source": [
    "inf_best_1, mean_sample_measure_1, fid_gen_1 = monte_carlo_inference(1, generator, forward, trainset, fulldataset, sample_number = 2000)"
   ]
  },
  {
   "cell_type": "code",
   "execution_count": null,
   "metadata": {
    "colab": {},
    "colab_type": "code",
    "id": "8KpuTssk0Z4T"
   },
   "outputs": [],
   "source": [
    "generator = best_generator_out_distribution"
   ]
  },
  {
   "cell_type": "code",
   "execution_count": null,
   "metadata": {
    "colab": {
     "base_uri": "https://localhost:8080/",
     "height": 1000
    },
    "colab_type": "code",
    "id": "WqBIDaDd0Zy3",
    "outputId": "f77905ae-5ef8-42d8-94e3-24e8e9dad58e"
   },
   "outputs": [
    {
     "name": "stderr",
     "output_type": "stream",
     "text": [
      "\n",
      "\n",
      "\n",
      "\n",
      "  0%|          | 0/300 [00:00<?, ?img/s]\u001b[A\u001b[A\u001b[A\u001b[A\n",
      "\n",
      "\n",
      "\n",
      "  0%|          | 1/300 [00:20<1:43:25, 20.75s/img]\u001b[A\u001b[A\u001b[A\u001b[A\n",
      "\n",
      "\n",
      "\n",
      "100%|##########| 300/300 [00:21<00:00, 14.15img/s]\n",
      "\n",
      "\n",
      "\n",
      "\n",
      "  0%|          | 0/4 [00:00<?, ?img/s]\u001b[A\u001b[A\u001b[A\u001b[A\n",
      "\n",
      "\n",
      "\n",
      "100%|##########| 4/4 [00:00<00:00,  6.94img/s]"
     ]
    },
    {
     "name": "stdout",
     "output_type": "stream",
     "text": [
      "\n",
      " ------------ Best forward image ------------\n",
      "MSE measure pred = 13.619963691247278\n",
      "MSE morpho on Generated data: 26.54438474779027\n"
     ]
    },
    {
     "name": "stderr",
     "output_type": "stream",
     "text": [
      "\n"
     ]
    },
    {
     "name": "stdout",
     "output_type": "stream",
     "text": [
      "(300, 1, 32, 32) 0.0 1.0\n",
      "save_data/gen_img_in_distribution.npy\n",
      "(300, 1, 32, 32) 0.0 0.99317086\n"
     ]
    },
    {
     "name": "stderr",
     "output_type": "stream",
     "text": [
      "\n",
      "\n",
      "\n",
      "\n",
      "FID:   0%|          | 0/10 [00:00<?, ?it/s]\u001b[A\u001b[A\u001b[A\u001b[A\n",
      "\n",
      "\n",
      "\n",
      "FID:   0%|          | 0/10 [00:00<?, ?it/s, mean=36.5]\u001b[A\u001b[A\u001b[A\u001b[A\n",
      "\n",
      "\n",
      "\n",
      "FID:   0%|          | 0/10 [00:00<?, ?it/s, mean=35.5]\u001b[A\u001b[A\u001b[A\u001b[A\n",
      "\n",
      "\n",
      "\n",
      "FID:   0%|          | 0/10 [00:00<?, ?it/s, mean=34.9]\u001b[A\u001b[A\u001b[A\u001b[A\n",
      "\n",
      "\n",
      "\n",
      "FID:   0%|          | 0/10 [00:00<?, ?it/s, mean=34.6]\u001b[A\u001b[A\u001b[A\u001b[A\n",
      "\n",
      "\n",
      "\n",
      "FID:  40%|████      | 4/10 [00:00<00:00, 30.84it/s, mean=34.6]\u001b[A\u001b[A\u001b[A\u001b[A\n",
      "\n",
      "\n",
      "\n",
      "FID:  40%|████      | 4/10 [00:00<00:00, 30.84it/s, mean=34.8]\u001b[A\u001b[A\u001b[A\u001b[A\n",
      "\n",
      "\n",
      "\n",
      "FID:  40%|████      | 4/10 [00:00<00:00, 30.84it/s, mean=35.3]\u001b[A\u001b[A\u001b[A\u001b[A\n",
      "\n",
      "\n",
      "\n",
      "FID:  40%|████      | 4/10 [00:00<00:00, 30.84it/s, mean=35.8]\u001b[A\u001b[A\u001b[A\u001b[A\n",
      "\n",
      "\n",
      "\n",
      "FID:  40%|████      | 4/10 [00:00<00:00, 30.84it/s, mean=36.7]\u001b[A\u001b[A\u001b[A\u001b[A\n",
      "\n",
      "\n",
      "\n",
      "FID:  80%|████████  | 8/10 [00:00<00:00, 30.70it/s, mean=36.7]\u001b[A\u001b[A\u001b[A\u001b[A\n",
      "\n",
      "\n",
      "\n",
      "FID:  80%|████████  | 8/10 [00:00<00:00, 30.70it/s, mean=36.7]\u001b[A\u001b[A\u001b[A\u001b[A\n",
      "\n",
      "\n",
      "\n",
      "FID: 100%|██████████| 10/10 [00:00<00:00, 29.88it/s, mean=36.4]\n"
     ]
    },
    {
     "name": "stdout",
     "output_type": "stream",
     "text": [
      "(300, 1, 32, 32) 0.0 1.0\n",
      "save_data/gen_img_in_distribution.npy\n",
      "(300, 1, 32, 32) 0.0 1.0\n"
     ]
    },
    {
     "name": "stderr",
     "output_type": "stream",
     "text": [
      "\n",
      "\n",
      "\n",
      "\n",
      "FID:   0%|          | 0/10 [00:00<?, ?it/s]\u001b[A\u001b[A\u001b[A\u001b[A\n",
      "\n",
      "\n",
      "\n",
      "FID:   0%|          | 0/10 [00:00<?, ?it/s, mean=1.12]\u001b[A\u001b[A\u001b[A\u001b[A\n",
      "\n",
      "\n",
      "\n",
      "FID:   0%|          | 0/10 [00:00<?, ?it/s, mean=1.47]\u001b[A\u001b[A\u001b[A\u001b[A\n",
      "\n",
      "\n",
      "\n",
      "FID:   0%|          | 0/10 [00:00<?, ?it/s, mean=1.59]\u001b[A\u001b[A\u001b[A\u001b[A\n",
      "\n",
      "\n",
      "\n",
      "FID:   0%|          | 0/10 [00:00<?, ?it/s, mean=1.6] \u001b[A\u001b[A\u001b[A\u001b[A\n",
      "\n",
      "\n",
      "\n",
      "FID:  40%|████      | 4/10 [00:00<00:00, 30.93it/s, mean=1.6]\u001b[A\u001b[A\u001b[A\u001b[A\n",
      "\n",
      "\n",
      "\n",
      "FID:  40%|████      | 4/10 [00:00<00:00, 30.93it/s, mean=1.54]\u001b[A\u001b[A\u001b[A\u001b[A\n",
      "\n",
      "\n",
      "\n",
      "FID:  40%|████      | 4/10 [00:00<00:00, 30.93it/s, mean=1.51]\u001b[A\u001b[A\u001b[A\u001b[A\n",
      "\n",
      "\n",
      "\n",
      "FID:  40%|████      | 4/10 [00:00<00:00, 30.93it/s, mean=1.48]\u001b[A\u001b[A\u001b[A\u001b[A\n",
      "\n",
      "\n",
      "\n",
      "FID:  40%|████      | 4/10 [00:00<00:00, 30.93it/s, mean=1.49]\u001b[A\u001b[A\u001b[A\u001b[A\n",
      "\n",
      "\n",
      "\n",
      "FID:  80%|████████  | 8/10 [00:00<00:00, 31.30it/s, mean=1.49]\u001b[A\u001b[A\u001b[A\u001b[A\n",
      "\n",
      "\n",
      "\n",
      "FID:  80%|████████  | 8/10 [00:00<00:00, 31.30it/s, mean=1.45]\u001b[A\u001b[A\u001b[A\u001b[A\n",
      "\n",
      "\n",
      "\n",
      "FID: 100%|██████████| 10/10 [00:00<00:00, 30.92it/s, mean=1.46]\n"
     ]
    },
    {
     "data": {
      "image/png": "[encoded data removed]",
      "text/plain": [
       "<Figure size 1600x600 with 8 Axes>"
      ]
     },
     "metadata": {
      "tags": []
     },
     "output_type": "display_data"
    }
   ],
   "source": [
    "inf_best_9, mean_sample_measure_9, fid_gen_9 = monte_carlo_inference(9, generator, forward, trainset, fulldataset, sample_number = 300)"
   ]
  },
  {
   "cell_type": "code",
   "execution_count": null,
   "metadata": {
    "colab": {
     "base_uri": "https://localhost:8080/",
     "height": 1000
    },
    "colab_type": "code",
    "id": "IWgLNkNF0ZtI",
    "outputId": "53be211f-d6f5-413b-d1e4-0cd3ea2fe6d1"
   },
   "outputs": [
    {
     "name": "stderr",
     "output_type": "stream",
     "text": [
      "\n",
      "\n",
      "\n",
      "\n",
      "  0%|          | 0/600 [00:00<?, ?img/s]\u001b[A\u001b[A\u001b[A\u001b[A\n",
      "\n",
      "\n",
      "\n",
      "  0%|          | 1/600 [00:27<4:29:53, 27.03s/img]\u001b[A\u001b[A\u001b[A\u001b[A\n",
      "\n",
      "\n",
      "\n",
      " 17%|#6        | 101/600 [00:27<2:37:24, 18.93s/img]\u001b[A\u001b[A\u001b[A\u001b[A\n",
      "\n",
      "\n",
      "\n",
      " 67%|######6   | 401/600 [00:42<43:59, 13.26s/img]  \u001b[A\u001b[A\u001b[A\u001b[A\n",
      "\n",
      "\n",
      "\n",
      "100%|##########| 600/600 [00:43<00:00, 13.92img/s]\n",
      "\n",
      "\n",
      "\n",
      "\n",
      "  0%|          | 0/4 [00:00<?, ?img/s]\u001b[A\u001b[A\u001b[A\u001b[A\n",
      "\n",
      "\n",
      "\n",
      "100%|##########| 4/4 [00:00<00:00,  8.11img/s]"
     ]
    },
    {
     "name": "stdout",
     "output_type": "stream",
     "text": [
      "\n",
      " ------------ Best forward image ------------\n",
      "MSE measure pred = 1.3861189853875784\n",
      "MSE morpho on Generated data: 10.808783790734262\n"
     ]
    },
    {
     "name": "stderr",
     "output_type": "stream",
     "text": [
      "\n"
     ]
    },
    {
     "name": "stdout",
     "output_type": "stream",
     "text": [
      "(600, 1, 32, 32) 0.0 1.0\n",
      "save_data/gen_img_in_distribution.npy\n",
      "(600, 1, 32, 32) 0.0 0.992066\n"
     ]
    },
    {
     "name": "stderr",
     "output_type": "stream",
     "text": [
      "\n",
      "\n",
      "\n",
      "\n",
      "FID:   0%|          | 0/10 [00:00<?, ?it/s]\u001b[A\u001b[A\u001b[A\u001b[A\n",
      "\n",
      "\n",
      "\n",
      "FID:   0%|          | 0/10 [00:00<?, ?it/s, mean=29.8]\u001b[A\u001b[A\u001b[A\u001b[A\n",
      "\n",
      "\n",
      "\n",
      "FID:   0%|          | 0/10 [00:00<?, ?it/s, mean=28.3]\u001b[A\u001b[A\u001b[A\u001b[A\n",
      "\n",
      "\n",
      "\n",
      "FID:   0%|          | 0/10 [00:00<?, ?it/s, mean=28.9]\u001b[A\u001b[A\u001b[A\u001b[A\n",
      "\n",
      "\n",
      "\n",
      "FID:  30%|███       | 3/10 [00:00<00:00, 27.10it/s, mean=28.9]\u001b[A\u001b[A\u001b[A\u001b[A\n",
      "\n",
      "\n",
      "\n",
      "FID:  30%|███       | 3/10 [00:00<00:00, 27.10it/s, mean=29.7]\u001b[A\u001b[A\u001b[A\u001b[A\n",
      "\n",
      "\n",
      "\n",
      "FID:  30%|███       | 3/10 [00:00<00:00, 27.10it/s, mean=29.5]\u001b[A\u001b[A\u001b[A\u001b[A\n",
      "\n",
      "\n",
      "\n",
      "FID:  30%|███       | 3/10 [00:00<00:00, 27.10it/s, mean=29.1]\u001b[A\u001b[A\u001b[A\u001b[A\n",
      "\n",
      "\n",
      "\n",
      "FID:  60%|██████    | 6/10 [00:00<00:00, 26.55it/s, mean=29.1]\u001b[A\u001b[A\u001b[A\u001b[A\n",
      "\n",
      "\n",
      "\n",
      "FID:  60%|██████    | 6/10 [00:00<00:00, 26.55it/s, mean=29.2]\u001b[A\u001b[A\u001b[A\u001b[A\n",
      "\n",
      "\n",
      "\n",
      "FID:  60%|██████    | 6/10 [00:00<00:00, 26.55it/s, mean=29.4]\u001b[A\u001b[A\u001b[A\u001b[A\n",
      "\n",
      "\n",
      "\n",
      "FID:  60%|██████    | 6/10 [00:00<00:00, 26.55it/s, mean=29.6]\u001b[A\u001b[A\u001b[A\u001b[A\n",
      "\n",
      "\n",
      "\n",
      "FID:  90%|█████████ | 9/10 [00:00<00:00, 25.73it/s, mean=29.6]\u001b[A\u001b[A\u001b[A\u001b[A\n",
      "\n",
      "\n",
      "\n",
      "FID: 100%|██████████| 10/10 [00:00<00:00, 25.11it/s, mean=29.7]\n"
     ]
    },
    {
     "name": "stdout",
     "output_type": "stream",
     "text": [
      "(600, 1, 32, 32) 0.0 1.0\n",
      "save_data/gen_img_in_distribution.npy\n",
      "(600, 1, 32, 32) 0.0 1.0\n"
     ]
    },
    {
     "name": "stderr",
     "output_type": "stream",
     "text": [
      "\n",
      "\n",
      "\n",
      "\n",
      "FID:   0%|          | 0/10 [00:00<?, ?it/s]\u001b[A\u001b[A\u001b[A\u001b[A\n",
      "\n",
      "\n",
      "\n",
      "FID:   0%|          | 0/10 [00:00<?, ?it/s, mean=1.08]\u001b[A\u001b[A\u001b[A\u001b[A\n",
      "\n",
      "\n",
      "\n",
      "FID:   0%|          | 0/10 [00:00<?, ?it/s, mean=1.04]\u001b[A\u001b[A\u001b[A\u001b[A\n",
      "\n",
      "\n",
      "\n",
      "FID:   0%|          | 0/10 [00:00<?, ?it/s, mean=0.985]\u001b[A\u001b[A\u001b[A\u001b[A\n",
      "\n",
      "\n",
      "\n",
      "FID:  30%|███       | 3/10 [00:00<00:00, 28.49it/s, mean=0.985]\u001b[A\u001b[A\u001b[A\u001b[A\n",
      "\n",
      "\n",
      "\n",
      "FID:  30%|███       | 3/10 [00:00<00:00, 28.49it/s, mean=0.973]\u001b[A\u001b[A\u001b[A\u001b[A\n",
      "\n",
      "\n",
      "\n",
      "FID:  30%|███       | 3/10 [00:00<00:00, 28.49it/s, mean=0.95] \u001b[A\u001b[A\u001b[A\u001b[A\n",
      "\n",
      "\n",
      "\n",
      "FID:  30%|███       | 3/10 [00:00<00:00, 28.49it/s, mean=1.01]\u001b[A\u001b[A\u001b[A\u001b[A\n",
      "\n",
      "\n",
      "\n",
      "FID:  60%|██████    | 6/10 [00:00<00:00, 28.42it/s, mean=1.01]\u001b[A\u001b[A\u001b[A\u001b[A\n",
      "\n",
      "\n",
      "\n",
      "FID:  60%|██████    | 6/10 [00:00<00:00, 28.42it/s, mean=0.956]\u001b[A\u001b[A\u001b[A\u001b[A\n",
      "\n",
      "\n",
      "\n",
      "FID:  60%|██████    | 6/10 [00:00<00:00, 28.42it/s, mean=0.96] \u001b[A\u001b[A\u001b[A\u001b[A\n",
      "\n",
      "\n",
      "\n",
      "FID:  60%|██████    | 6/10 [00:00<00:00, 28.42it/s, mean=0.933]\u001b[A\u001b[A\u001b[A\u001b[A\n",
      "\n",
      "\n",
      "\n",
      "FID:  90%|█████████ | 9/10 [00:00<00:00, 28.42it/s, mean=0.933]\u001b[A\u001b[A\u001b[A\u001b[A\n",
      "\n",
      "\n",
      "\n",
      "FID: 100%|██████████| 10/10 [00:00<00:00, 28.04it/s, mean=0.917]\n"
     ]
    },
    {
     "data": {
      "image/png": "[encoded data removed]",
      "text/plain": [
       "<Figure size 1600x600 with 8 Axes>"
      ]
     },
     "metadata": {
      "tags": []
     },
     "output_type": "display_data"
    }
   ],
   "source": [
    "inf_best_8, mean_sample_measure_8, fid_gen_8 = monte_carlo_inference(8, generator, forward, trainset, fulldataset, sample_number = 600)"
   ]
  },
  {
   "cell_type": "code",
   "execution_count": null,
   "metadata": {
    "colab": {
     "base_uri": "https://localhost:8080/",
     "height": 1000
    },
    "colab_type": "code",
    "id": "G05o7OGZ0Zj_",
    "outputId": "8e6e0781-b587-4d0c-ed44-fda2eba1d724"
   },
   "outputs": [
    {
     "name": "stderr",
     "output_type": "stream",
     "text": [
      "\n",
      "\n",
      "\n",
      "\n",
      "  0%|          | 0/1000 [00:00<?, ?img/s]\u001b[A\u001b[A\u001b[A\u001b[A\n",
      "\n",
      "\n",
      "\n",
      "  0%|          | 1/1000 [00:27<7:38:38, 27.55s/img]\u001b[A\u001b[A\u001b[A\u001b[A\n",
      "\n",
      "\n",
      "\n",
      " 10%|#         | 101/1000 [00:28<4:48:56, 19.28s/img]\u001b[A\u001b[A\u001b[A\u001b[A\n",
      "\n",
      "\n",
      "\n",
      " 30%|###       | 301/1000 [00:28<2:37:15, 13.50s/img]\u001b[A\u001b[A\u001b[A\u001b[A\n",
      "\n",
      "\n",
      "\n",
      " 30%|###       | 301/1000 [00:45<2:37:15, 13.50s/img]\u001b[A\u001b[A\u001b[A\u001b[A\n",
      "\n",
      "\n",
      "\n",
      " 40%|####      | 401/1000 [00:53<1:35:06,  9.53s/img]\u001b[A\u001b[A\u001b[A\u001b[A\n",
      "\n",
      "\n",
      "\n",
      " 50%|#####     | 501/1000 [00:54<55:29,  6.67s/img]  \u001b[A\u001b[A\u001b[A\u001b[A\n",
      "\n",
      "\n",
      "\n",
      " 70%|#######   | 701/1000 [00:55<23:16,  4.67s/img]\u001b[A\u001b[A\u001b[A\u001b[A\n",
      "\n",
      "\n",
      "\n",
      " 80%|########  | 801/1000 [01:10<10:59,  3.31s/img]\u001b[A\u001b[A\u001b[A\u001b[A\n",
      "\n",
      "\n",
      "\n",
      "100%|##########| 1000/1000 [01:10<00:00, 14.14img/s]\n",
      "\n",
      "\n",
      "\n",
      "\n",
      "  0%|          | 0/4 [00:00<?, ?img/s]\u001b[A\u001b[A\u001b[A\u001b[A\n",
      "\n",
      "\n",
      "\n",
      "100%|##########| 4/4 [00:00<00:00,  6.76img/s]"
     ]
    },
    {
     "name": "stdout",
     "output_type": "stream",
     "text": [
      "\n",
      " ------------ Best forward image ------------\n",
      "MSE measure pred = 0.20284082463952768\n",
      "MSE morpho on Generated data: 3.783389111394672\n"
     ]
    },
    {
     "name": "stderr",
     "output_type": "stream",
     "text": [
      "\n"
     ]
    },
    {
     "name": "stdout",
     "output_type": "stream",
     "text": [
      "(1000, 1, 32, 32) 0.0 1.0\n",
      "save_data/gen_img_in_distribution.npy\n",
      "(1000, 1, 32, 32) 0.0 0.9967613\n"
     ]
    },
    {
     "name": "stderr",
     "output_type": "stream",
     "text": [
      "\n",
      "\n",
      "\n",
      "\n",
      "FID:   0%|          | 0/10 [00:00<?, ?it/s]\u001b[A\u001b[A\u001b[A\u001b[A\n",
      "\n",
      "\n",
      "\n",
      "FID:   0%|          | 0/10 [00:00<?, ?it/s, mean=22.4]\u001b[A\u001b[A\u001b[A\u001b[A\n",
      "\n",
      "\n",
      "\n",
      "FID:   0%|          | 0/10 [00:00<?, ?it/s, mean=23.7]\u001b[A\u001b[A\u001b[A\u001b[A\n",
      "\n",
      "\n",
      "\n",
      "FID:   0%|          | 0/10 [00:00<?, ?it/s, mean=24.1]\u001b[A\u001b[A\u001b[A\u001b[A\n",
      "\n",
      "\n",
      "\n",
      "FID:  30%|███       | 3/10 [00:00<00:00, 27.91it/s, mean=24.1]\u001b[A\u001b[A\u001b[A\u001b[A\n",
      "\n",
      "\n",
      "\n",
      "FID:  30%|███       | 3/10 [00:00<00:00, 27.91it/s, mean=24]  \u001b[A\u001b[A\u001b[A\u001b[A\n",
      "\n",
      "\n",
      "\n",
      "FID:  30%|███       | 3/10 [00:00<00:00, 27.91it/s, mean=24.1]\u001b[A\u001b[A\u001b[A\u001b[A\n",
      "\n",
      "\n",
      "\n",
      "FID:  30%|███       | 3/10 [00:00<00:00, 27.91it/s, mean=24]  \u001b[A\u001b[A\u001b[A\u001b[A\n",
      "\n",
      "\n",
      "\n",
      "FID:  60%|██████    | 6/10 [00:00<00:00, 27.78it/s, mean=24]\u001b[A\u001b[A\u001b[A\u001b[A\n",
      "\n",
      "\n",
      "\n",
      "FID:  60%|██████    | 6/10 [00:00<00:00, 27.78it/s, mean=23.9]\u001b[A\u001b[A\u001b[A\u001b[A\n",
      "\n",
      "\n",
      "\n",
      "FID:  60%|██████    | 6/10 [00:00<00:00, 27.78it/s, mean=23.7]\u001b[A\u001b[A\u001b[A\u001b[A\n",
      "\n",
      "\n",
      "\n",
      "FID:  60%|██████    | 6/10 [00:00<00:00, 27.78it/s, mean=23.3]\u001b[A\u001b[A\u001b[A\u001b[A\n",
      "\n",
      "\n",
      "\n",
      "FID:  90%|█████████ | 9/10 [00:00<00:00, 26.85it/s, mean=23.3]\u001b[A\u001b[A\u001b[A\u001b[A\n",
      "\n",
      "\n",
      "\n",
      "FID: 100%|██████████| 10/10 [00:00<00:00, 26.42it/s, mean=23.3]\n"
     ]
    },
    {
     "name": "stdout",
     "output_type": "stream",
     "text": [
      "(1000, 1, 32, 32) 0.0 1.0\n",
      "save_data/gen_img_in_distribution.npy\n",
      "(1000, 1, 32, 32) 0.0 1.0\n"
     ]
    },
    {
     "name": "stderr",
     "output_type": "stream",
     "text": [
      "\n",
      "\n",
      "\n",
      "\n",
      "FID:   0%|          | 0/10 [00:00<?, ?it/s]\u001b[A\u001b[A\u001b[A\u001b[A\n",
      "\n",
      "\n",
      "\n",
      "FID:   0%|          | 0/10 [00:00<?, ?it/s, mean=0.598]\u001b[A\u001b[A\u001b[A\u001b[A\n",
      "\n",
      "\n",
      "\n",
      "FID:   0%|          | 0/10 [00:00<?, ?it/s, mean=0.544]\u001b[A\u001b[A\u001b[A\u001b[A\n",
      "\n",
      "\n",
      "\n",
      "FID:   0%|          | 0/10 [00:00<?, ?it/s, mean=0.576]\u001b[A\u001b[A\u001b[A\u001b[A\n",
      "\n",
      "\n",
      "\n",
      "FID:  30%|███       | 3/10 [00:00<00:00, 28.14it/s, mean=0.576]\u001b[A\u001b[A\u001b[A\u001b[A\n",
      "\n",
      "\n",
      "\n",
      "FID:  30%|███       | 3/10 [00:00<00:00, 28.14it/s, mean=0.628]\u001b[A\u001b[A\u001b[A\u001b[A\n",
      "\n",
      "\n",
      "\n",
      "FID:  30%|███       | 3/10 [00:00<00:00, 28.14it/s, mean=0.665]\u001b[A\u001b[A\u001b[A\u001b[A\n",
      "\n",
      "\n",
      "\n",
      "FID:  30%|███       | 3/10 [00:00<00:00, 28.14it/s, mean=0.67] \u001b[A\u001b[A\u001b[A\u001b[A\n",
      "\n",
      "\n",
      "\n",
      "FID:  60%|██████    | 6/10 [00:00<00:00, 27.93it/s, mean=0.67]\u001b[A\u001b[A\u001b[A\u001b[A\n",
      "\n",
      "\n",
      "\n",
      "FID:  60%|██████    | 6/10 [00:00<00:00, 27.93it/s, mean=0.687]\u001b[A\u001b[A\u001b[A\u001b[A\n",
      "\n",
      "\n",
      "\n",
      "FID:  60%|██████    | 6/10 [00:00<00:00, 27.93it/s, mean=0.682]\u001b[A\u001b[A\u001b[A\u001b[A\n",
      "\n",
      "\n",
      "\n",
      "FID:  60%|██████    | 6/10 [00:00<00:00, 27.93it/s, mean=0.672]\u001b[A\u001b[A\u001b[A\u001b[A\n",
      "\n",
      "\n",
      "\n",
      "FID:  90%|█████████ | 9/10 [00:00<00:00, 27.68it/s, mean=0.672]\u001b[A\u001b[A\u001b[A\u001b[A\n",
      "\n",
      "\n",
      "\n",
      "FID: 100%|██████████| 10/10 [00:00<00:00, 27.34it/s, mean=0.693]\n"
     ]
    },
    {
     "data": {
      "image/png": "[encoded data removed]",
      "text/plain": [
       "<Figure size 1600x600 with 8 Axes>"
      ]
     },
     "metadata": {
      "tags": []
     },
     "output_type": "display_data"
    }
   ],
   "source": [
    "inf_best_7, mean_sample_measure_7, fid_gen_7 = monte_carlo_inference(7, generator, forward, trainset, fulldataset, sample_number = 1000)"
   ]
  },
  {
   "cell_type": "code",
   "execution_count": null,
   "metadata": {
    "colab": {
     "base_uri": "https://localhost:8080/",
     "height": 1000
    },
    "colab_type": "code",
    "id": "2wqM2a160ZXV",
    "outputId": "4b6c8a5f-79a5-47fd-a062-a886acc23254"
   },
   "outputs": [
    {
     "name": "stderr",
     "output_type": "stream",
     "text": [
      "\n",
      "\n",
      "\n",
      "\n",
      "  0%|          | 0/2000 [00:00<?, ?img/s]\u001b[A\u001b[A\u001b[A\u001b[A\n",
      "\n",
      "\n",
      "\n",
      "  0%|          | 1/2000 [00:26<14:55:01, 26.86s/img]\u001b[A\u001b[A\u001b[A\u001b[A\n",
      "\n",
      "\n",
      "\n",
      "  5%|5         | 101/2000 [00:27<9:55:11, 18.81s/img]\u001b[A\u001b[A\u001b[A\u001b[A\n",
      "\n",
      "\n",
      "\n",
      " 10%|#         | 201/2000 [00:28<6:34:49, 13.17s/img]\u001b[A\u001b[A\u001b[A\u001b[A\n",
      "\n",
      "\n",
      "\n",
      " 10%|#         | 201/2000 [00:42<6:34:49, 13.17s/img]\u001b[A\u001b[A\u001b[A\u001b[A\n",
      "\n",
      "\n",
      "\n",
      " 20%|##        | 401/2000 [00:53<4:06:39,  9.26s/img]\u001b[A\u001b[A\u001b[A\u001b[A\n",
      "\n",
      "\n",
      "\n",
      " 25%|##5       | 501/2000 [00:55<2:41:58,  6.48s/img]\u001b[A\u001b[A\u001b[A\u001b[A\n",
      "\n",
      "\n",
      "\n",
      " 35%|###5      | 701/2000 [00:55<1:38:16,  4.54s/img]\u001b[A\u001b[A\u001b[A\u001b[A\n",
      "\n",
      "\n",
      "\n",
      " 35%|###5      | 701/2000 [01:12<1:38:16,  4.54s/img]\u001b[A\u001b[A\u001b[A\u001b[A\n",
      "\n",
      "\n",
      "\n",
      " 40%|####      | 801/2000 [01:21<1:05:00,  3.25s/img]\u001b[A\u001b[A\u001b[A\u001b[A\n",
      "\n",
      "\n",
      "\n",
      " 50%|#####     | 1001/2000 [01:22<37:56,  2.28s/img] \u001b[A\u001b[A\u001b[A\u001b[A\n",
      "\n",
      "\n",
      "\n",
      " 50%|#####     | 1001/2000 [01:32<37:56,  2.28s/img]\u001b[A\u001b[A\u001b[A\u001b[A\n",
      "\n",
      "\n",
      "\n",
      " 60%|######    | 1201/2000 [01:47<21:44,  1.63s/img]\u001b[A\u001b[A\u001b[A\u001b[A\n",
      "\n",
      "\n",
      "\n",
      " 65%|######5   | 1301/2000 [01:48<13:22,  1.15s/img]\u001b[A\u001b[A\u001b[A\u001b[A\n",
      "\n",
      "\n",
      "\n",
      " 75%|#######5  | 1501/2000 [01:49<06:41,  1.24img/s]\u001b[A\u001b[A\u001b[A\u001b[A\n",
      "\n",
      "\n",
      "\n",
      " 75%|#######5  | 1501/2000 [02:02<06:41,  1.24img/s]\u001b[A\u001b[A\u001b[A\u001b[A\n",
      "\n",
      "\n",
      "\n",
      " 80%|########  | 1601/2000 [02:13<04:14,  1.57img/s]\u001b[A\u001b[A\u001b[A\u001b[A\n",
      "\n",
      "\n",
      "\n",
      " 85%|########5 | 1701/2000 [02:14<02:14,  2.23img/s]\u001b[A\u001b[A\u001b[A\u001b[A\n",
      "\n",
      "\n",
      "\n",
      "100%|##########| 2000/2000 [02:16<00:00, 14.70img/s]\n",
      "\n",
      "\n",
      "\n",
      "\n",
      "  0%|          | 0/4 [00:00<?, ?img/s]\u001b[A\u001b[A\u001b[A\u001b[A\n",
      "\n",
      "\n",
      "\n",
      "100%|##########| 4/4 [00:00<00:00,  6.92img/s]"
     ]
    },
    {
     "name": "stdout",
     "output_type": "stream",
     "text": [
      "\n",
      " ------------ Best forward image ------------\n",
      "MSE measure pred = 0.44729397138058935\n",
      "MSE morpho on Generated data: 1.4415056940807442\n"
     ]
    },
    {
     "name": "stderr",
     "output_type": "stream",
     "text": [
      "\n"
     ]
    },
    {
     "name": "stdout",
     "output_type": "stream",
     "text": [
      "(2000, 1, 32, 32) 0.0 1.0\n",
      "save_data/gen_img_in_distribution.npy\n",
      "(2000, 1, 32, 32) 0.0 0.9979495\n"
     ]
    },
    {
     "name": "stderr",
     "output_type": "stream",
     "text": [
      "\n",
      "\n",
      "\n",
      "\n",
      "FID:   0%|          | 0/10 [00:00<?, ?it/s]\u001b[A\u001b[A\u001b[A\u001b[A\n",
      "\n",
      "\n",
      "\n",
      "FID:   0%|          | 0/10 [00:00<?, ?it/s, mean=18.5]\u001b[A\u001b[A\u001b[A\u001b[A\n",
      "\n",
      "\n",
      "\n",
      "FID:   0%|          | 0/10 [00:00<?, ?it/s, mean=19.3]\u001b[A\u001b[A\u001b[A\u001b[A\n",
      "\n",
      "\n",
      "\n",
      "FID:   0%|          | 0/10 [00:00<?, ?it/s, mean=19.4]\u001b[A\u001b[A\u001b[A\u001b[A\n",
      "\n",
      "\n",
      "\n",
      "FID:  30%|███       | 3/10 [00:00<00:00, 24.25it/s, mean=19.4]\u001b[A\u001b[A\u001b[A\u001b[A\n",
      "\n",
      "\n",
      "\n",
      "FID:  30%|███       | 3/10 [00:00<00:00, 24.25it/s, mean=19.5]\u001b[A\u001b[A\u001b[A\u001b[A\n",
      "\n",
      "\n",
      "\n",
      "FID:  30%|███       | 3/10 [00:00<00:00, 24.25it/s, mean=19.5]\u001b[A\u001b[A\u001b[A\u001b[A\n",
      "\n",
      "\n",
      "\n",
      "FID:  30%|███       | 3/10 [00:00<00:00, 24.25it/s, mean=19.3]\u001b[A\u001b[A\u001b[A\u001b[A\n",
      "\n",
      "\n",
      "\n",
      "FID:  60%|██████    | 6/10 [00:00<00:00, 24.69it/s, mean=19.3]\u001b[A\u001b[A\u001b[A\u001b[A\n",
      "\n",
      "\n",
      "\n",
      "FID:  60%|██████    | 6/10 [00:00<00:00, 24.69it/s, mean=19.2]\u001b[A\u001b[A\u001b[A\u001b[A\n",
      "\n",
      "\n",
      "\n",
      "FID:  60%|██████    | 6/10 [00:00<00:00, 24.69it/s, mean=19.3]\u001b[A\u001b[A\u001b[A\u001b[A\n",
      "\n",
      "\n",
      "\n",
      "FID:  60%|██████    | 6/10 [00:00<00:00, 24.69it/s, mean=19.2]\u001b[A\u001b[A\u001b[A\u001b[A\n",
      "\n",
      "\n",
      "\n",
      "FID:  90%|█████████ | 9/10 [00:00<00:00, 24.76it/s, mean=19.2]\u001b[A\u001b[A\u001b[A\u001b[A\n",
      "\n",
      "\n",
      "\n",
      "FID: 100%|██████████| 10/10 [00:00<00:00, 25.11it/s, mean=19.2]\n"
     ]
    },
    {
     "name": "stdout",
     "output_type": "stream",
     "text": [
      "(2000, 1, 32, 32) 0.0 1.0\n",
      "save_data/gen_img_in_distribution.npy\n",
      "(2000, 1, 32, 32) 0.0 1.0\n"
     ]
    },
    {
     "name": "stderr",
     "output_type": "stream",
     "text": [
      "\n",
      "\n",
      "\n",
      "\n",
      "FID:   0%|          | 0/10 [00:00<?, ?it/s]\u001b[A\u001b[A\u001b[A\u001b[A\n",
      "\n",
      "\n",
      "\n",
      "FID:   0%|          | 0/10 [00:00<?, ?it/s, mean=0.282]\u001b[A\u001b[A\u001b[A\u001b[A\n",
      "\n",
      "\n",
      "\n",
      "FID:   0%|          | 0/10 [00:00<?, ?it/s, mean=0.309]\u001b[A\u001b[A\u001b[A\u001b[A\n",
      "\n",
      "\n",
      "\n",
      "FID:   0%|          | 0/10 [00:00<?, ?it/s, mean=0.302]\u001b[A\u001b[A\u001b[A\u001b[A\n",
      "\n",
      "\n",
      "\n",
      "FID:  30%|███       | 3/10 [00:00<00:00, 29.56it/s, mean=0.302]\u001b[A\u001b[A\u001b[A\u001b[A\n",
      "\n",
      "\n",
      "\n",
      "FID:  30%|███       | 3/10 [00:00<00:00, 29.56it/s, mean=0.333]\u001b[A\u001b[A\u001b[A\u001b[A\n",
      "\n",
      "\n",
      "\n",
      "FID:  30%|███       | 3/10 [00:00<00:00, 29.56it/s, mean=0.317]\u001b[A\u001b[A\u001b[A\u001b[A\n",
      "\n",
      "\n",
      "\n",
      "FID:  30%|███       | 3/10 [00:00<00:00, 29.56it/s, mean=0.339]\u001b[A\u001b[A\u001b[A\u001b[A\n",
      "\n",
      "\n",
      "\n",
      "FID:  60%|██████    | 6/10 [00:00<00:00, 29.05it/s, mean=0.339]\u001b[A\u001b[A\u001b[A\u001b[A\n",
      "\n",
      "\n",
      "\n",
      "FID:  60%|██████    | 6/10 [00:00<00:00, 29.05it/s, mean=0.347]\u001b[A\u001b[A\u001b[A\u001b[A\n",
      "\n",
      "\n",
      "\n",
      "FID:  60%|██████    | 6/10 [00:00<00:00, 29.05it/s, mean=0.344]\u001b[A\u001b[A\u001b[A\u001b[A\n",
      "\n",
      "\n",
      "\n",
      "FID:  60%|██████    | 6/10 [00:00<00:00, 29.05it/s, mean=0.337]\u001b[A\u001b[A\u001b[A\u001b[A\n",
      "\n",
      "\n",
      "\n",
      "FID:  90%|█████████ | 9/10 [00:00<00:00, 27.90it/s, mean=0.337]\u001b[A\u001b[A\u001b[A\u001b[A\n",
      "\n",
      "\n",
      "\n",
      "FID: 100%|██████████| 10/10 [00:00<00:00, 26.76it/s, mean=0.336]\n"
     ]
    },
    {
     "data": {
      "image/png": "[encoded data removed]",
      "text/plain": [
       "<Figure size 1600x600 with 8 Axes>"
      ]
     },
     "metadata": {
      "tags": []
     },
     "output_type": "display_data"
    }
   ],
   "source": [
    "inf_best_6, mean_sample_measure_6, fid_gen_6 = monte_carlo_inference(6, generator, forward, trainset, fulldataset, sample_number = 2000)"
   ]
  },
  {
   "cell_type": "code",
   "execution_count": null,
   "metadata": {
    "colab": {},
    "colab_type": "code",
    "id": "B-liMJ4Usd1_"
   },
   "outputs": [],
   "source": [
    "monte_carlo_inference(5, generator, forward, trainset, testset, sample_number = 2000)"
   ]
  },
  {
   "cell_type": "code",
   "execution_count": null,
   "metadata": {
    "colab": {},
    "colab_type": "code",
    "id": "ryQub3dxsduS"
   },
   "outputs": [],
   "source": [
    "monte_carlo_inference(4, generator, forward, trainset, testset, sample_number = 2000)"
   ]
  },
  {
   "cell_type": "code",
   "execution_count": null,
   "metadata": {
    "colab": {},
    "colab_type": "code",
    "id": "_IeYuCCpsdmv"
   },
   "outputs": [],
   "source": [
    "monte_carlo_inference(3, generator, forward, trainset, testset, sample_number = 2000)"
   ]
  },
  {
   "cell_type": "code",
   "execution_count": null,
   "metadata": {
    "colab": {},
    "colab_type": "code",
    "id": "p9UAL1XGsdeA"
   },
   "outputs": [],
   "source": [
    "monte_carlo_inference(2, generator, forward, trainset, testset, sample_number = 2000)"
   ]
  },
  {
   "cell_type": "code",
   "execution_count": null,
   "metadata": {
    "colab": {},
    "colab_type": "code",
    "id": "nH_2x5ihskK_"
   },
   "outputs": [],
   "source": [
    "monte_carlo_inference(1, generator, forward, trainset, testset, sample_number = 2000)"
   ]
  },
  {
   "cell_type": "code",
   "execution_count": null,
   "metadata": {
    "colab": {
     "base_uri": "https://localhost:8080/",
     "height": 102
    },
    "colab_type": "code",
    "id": "I9ZlnYGeh80l",
    "outputId": "cd3aaf29-fc6b-4b0e-e60f-d73e4240402c"
   },
   "outputs": [
    {
     "name": "stdout",
     "output_type": "stream",
     "text": [
      " ------------------ full model \\ model w/o inference ------------------ \n",
      " ACC in = 0.5206389089819201   /   ACC in = 1.3167660595611563 \n",
      " ACC out = 3.9140543681637436   /   ACC out = 10.644515835999988 \n",
      " FID in = 13.8894153290104\n",
      " FID out = 27.158968297186625\n"
     ]
    }
   ],
   "source": [
    "# Print results\n",
    "in_distribution_wo_inf = (mean_sample_measure_5 + mean_sample_measure_4 + mean_sample_measure_3 + mean_sample_measure_2)/4 #+ mean_sample_measure_1)/5\n",
    "in_distribution_full_model = (inf_best_5 + inf_best_4 + inf_best_3 + inf_best_2)/4 #+ inf_best_1)/5\n",
    "out_distribution_wo_inf = (mean_sample_measure_9 + mean_sample_measure_8 + mean_sample_measure_7 + mean_sample_measure_6)/4 \n",
    "out_distribution_full_model = (inf_best_9 + inf_best_8 + inf_best_7 + inf_best_6)/4 \n",
    "fid_in_distribution = (fid_gen_5 + fid_gen_4 + fid_gen_3 + fid_gen_2)/4 #+ fid_gen_1)/5\n",
    "fid_out_distribution = (fid_gen_9 + fid_gen_8 + fid_gen_7 + fid_gen_6)/4 \n",
    "print(f' ------------------ full model \\ model w/o inference ------------------ ')\n",
    "print(f' ACC in = {in_distribution_full_model}   /   ACC in = {in_distribution_wo_inf} ')\n",
    "print(f' ACC out = {out_distribution_full_model}   /   ACC out = {out_distribution_wo_inf} ')\n",
    "print(f' FID in = {fid_in_distribution}\\n FID out = {fid_out_distribution}')"
   ]
  },
  {
   "cell_type": "code",
   "execution_count": null,
   "metadata": {
    "colab": {},
    "colab_type": "code",
    "id": "yejMyjly5L76"
   },
   "outputs": [],
   "source": []
  }
 ],
 "metadata": {
  "accelerator": "GPU",
  "colab": {
   "collapsed_sections": [],
   "include_colab_link": true,
   "machine_shape": "hm",
   "name": "CGANtest_thickness_continuous_mnist_FID.ipynb",
   "provenance": [],
   "toc_visible": true
  },
  "kernelspec": {
   "display_name": "Python 3",
   "language": "python",
   "name": "python3"
  },
  "language_info": {
   "codemirror_mode": {
    "name": "ipython",
    "version": 3
   },
   "file_extension": ".py",
   "mimetype": "text/x-python",
   "name": "python",
   "nbconvert_exporter": "python",
   "pygments_lexer": "ipython3",
   "version": "3.7.3"
  }
 },
 "nbformat": 4,
 "nbformat_minor": 2
}

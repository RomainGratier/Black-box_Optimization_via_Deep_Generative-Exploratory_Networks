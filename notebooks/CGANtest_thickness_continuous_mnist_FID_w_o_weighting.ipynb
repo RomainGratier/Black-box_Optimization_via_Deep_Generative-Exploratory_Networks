{
 "cells": [
  {
   "cell_type": "markdown",
   "metadata": {
    "colab_type": "text",
    "id": "view-in-github"
   },
   "source": [
    "<a href=\"https://colab.research.google.com/github/RomainGratier/Black-box_Optimization_via_Deep_Generative-Exploratory_Networks/blob/master/notebooks/CGANtest_thickness_continuous_mnist_FID_w_o_weighting.ipynb\" target=\"_parent\"><img src=\"https://colab.research.google.com/assets/colab-badge.svg\" alt=\"Open In Colab\"/></a>"
   ]
  },
  {
   "cell_type": "code",
   "execution_count": null,
   "metadata": {
    "colab": {},
    "colab_type": "code",
    "id": "GoKzLgOY_31G"
   },
   "outputs": [],
   "source": [
    "d=[]\n",
    "while(1):\n",
    "  d.append('1')\n"
   ]
  },
  {
   "cell_type": "code",
   "execution_count": null,
   "metadata": {
    "colab": {
     "base_uri": "https://localhost:8080/",
     "height": 122
    },
    "colab_type": "code",
    "id": "jdGKJEZCO6Ak",
    "outputId": "c18d3924-b3c9-4416-f84f-ddf3506e1375"
   },
   "outputs": [
    {
     "name": "stdout",
     "output_type": "stream",
     "text": [
      "Go to this URL in a browser: https://accounts.google.com/o/oauth2/auth?client_id=947318989803-6bn6qk8qdgf4n4g3pfee6491hc0brc4i.apps.googleusercontent.com&redirect_uri=urn%3aietf%3awg%3aoauth%3a2.0%3aoob&response_type=code&scope=email%20https%3a%2f%2fwww.googleapis.com%2fauth%2fdocs.test%20https%3a%2f%2fwww.googleapis.com%2fauth%2fdrive%20https%3a%2f%2fwww.googleapis.com%2fauth%2fdrive.photos.readonly%20https%3a%2f%2fwww.googleapis.com%2fauth%2fpeopleapi.readonly\n",
      "\n",
      "Enter your authorization code:\n",
      "··········\n",
      "Mounted at /content/drive\n"
     ]
    }
   ],
   "source": [
    "from google.colab import drive\n",
    "drive.mount('/content/drive')"
   ]
  },
  {
   "cell_type": "markdown",
   "metadata": {
    "colab_type": "text",
    "id": "tlBHjJd26ldr"
   },
   "source": [
    "# Import Libraries"
   ]
  },
  {
   "cell_type": "code",
   "execution_count": null,
   "metadata": {
    "colab": {
     "base_uri": "https://localhost:8080/",
     "height": 323
    },
    "colab_type": "code",
    "id": "9rF2FYL2t8jG",
    "outputId": "194b3b26-d3a9-4ef6-ac41-7ac4974a64ed"
   },
   "outputs": [
    {
     "name": "stdout",
     "output_type": "stream",
     "text": [
      "Cloning into 'Morpho-MNIST'...\n",
      "remote: Enumerating objects: 10, done.\u001b[K\n",
      "remote: Counting objects: 100% (10/10), done.\u001b[K\n",
      "remote: Compressing objects: 100% (9/9), done.\u001b[K\n",
      "remote: Total 531 (delta 3), reused 2 (delta 1), pack-reused 521\u001b[K\n",
      "Receiving objects: 100% (531/531), 154.11 KiB | 417.00 KiB/s, done.\n",
      "Resolving deltas: 100% (305/305), done.\n",
      "Cloning into 'gan-metrics-pytorch'...\n",
      "remote: Enumerating objects: 69, done.\u001b[K\n",
      "remote: Total 69 (delta 0), reused 0 (delta 0), pack-reused 69\u001b[K\n",
      "Unpacking objects: 100% (69/69), done.\n",
      "Cloning into 'Black-box_Optimization_via_Deep_Generative-Exploratory_Networks'...\n",
      "remote: Enumerating objects: 185, done.\u001b[K\n",
      "remote: Counting objects: 100% (185/185), done.\u001b[K\n",
      "remote: Compressing objects: 100% (154/154), done.\u001b[K\n",
      "remote: Total 185 (delta 92), reused 92 (delta 26), pack-reused 0\u001b[K\n",
      "Receiving objects: 100% (185/185), 20.20 MiB | 8.74 MiB/s, done.\n",
      "Resolving deltas: 100% (92/92), done.\n"
     ]
    }
   ],
   "source": [
    "!git clone https://github.com/dccastro/Morpho-MNIST.git\n",
    "!cp -r Morpho-MNIST/morphomnist morphomnist\n",
    "\n",
    "!git clone https://github.com/abdulfatir/gan-metrics-pytorch.git\n",
    "!cp -r gan-metrics-pytorch/models models\n",
    "\n",
    "!git clone https://github.com/RomainGratier/Black-box_Optimization_via_Deep_Generative-Exploratory_Networks.git\n",
    "!cp -r Black-box_Optimization_via_Deep_Generative-Exploratory_Networks/src src\n",
    "\n",
    "# SEED EVERYTHING\n",
    "import torch\n",
    "from torch.autograd import Variable\n",
    "from torch.utils.data import DataLoader\n",
    "\n",
    "import numpy as np\n",
    "import pandas as pd \n",
    "import random\n",
    "\n",
    "import os \n",
    "from copy import deepcopy\n",
    "import shutil\n",
    "\n",
    "import matplotlib.pyplot as plt\n",
    "\n",
    "\n",
    "seed = 42\n",
    "random.seed(seed)\n",
    "np.random.seed(seed)\n",
    "torch.manual_seed(seed)\n",
    "torch.backends.cudnn.deterministic = True\n",
    "torch.backends.cudnn.benchmark = False"
   ]
  },
  {
   "cell_type": "markdown",
   "metadata": {
    "colab_type": "text",
    "id": "la2SA6hHtzaM"
   },
   "source": [
    "# Set up the main variables"
   ]
  },
  {
   "cell_type": "code",
   "execution_count": null,
   "metadata": {
    "colab": {},
    "colab_type": "code",
    "id": "V1o9i5tBuIPr"
   },
   "outputs": [],
   "source": [
    "n_epochs = 200\n",
    "batch_size = 128\n",
    "lr=0.0002\n",
    "b1=0.5\n",
    "b2=0.999\n",
    "n_cpu=8\n",
    "latent_dim=100\n",
    "label_dim_input=1 #14\n",
    "img_size=28\n",
    "channels=1\n",
    "sample_interval=1000\n",
    "n_row = 10\n",
    "\n",
    "img_shape = (channels, img_size, img_size)\n",
    "\n",
    "cuda = True if torch.cuda.is_available() else False"
   ]
  },
  {
   "cell_type": "markdown",
   "metadata": {
    "colab_type": "text",
    "id": "w91sY8CXuSiC"
   },
   "source": [
    "# Create the classes for the models and the dataset"
   ]
  },
  {
   "cell_type": "code",
   "execution_count": null,
   "metadata": {
    "colab": {},
    "colab_type": "code",
    "id": "1ulO6D3duhiK"
   },
   "outputs": [],
   "source": [
    "from src.models import Generator, Discriminator, LeNet5\n",
    "from src.data import MNISTDataset\n",
    "from src.metrics import calculate_fid_given_paths\n",
    "from src.models import sample_image, save_model_check"
   ]
  },
  {
   "cell_type": "markdown",
   "metadata": {
    "colab_type": "text",
    "id": "62uixsf5uspE"
   },
   "source": [
    "### Create the dataset"
   ]
  },
  {
   "cell_type": "code",
   "execution_count": null,
   "metadata": {
    "colab": {
     "base_uri": "https://localhost:8080/",
     "height": 996
    },
    "colab_type": "code",
    "id": "QXz8PC-mrvv4",
    "outputId": "06728a5f-7a0f-4de8-b383-e80f41fa18fc"
   },
   "outputs": [
    {
     "name": "stdout",
     "output_type": "stream",
     "text": [
      " ---------------------------------------- CHECK NANS\n",
      "Empty DataFrame\n",
      "Columns: [index, area, length, thickness, slant, width, height, digit]\n",
      "Index: []\n",
      "              index          area  ...        height         digit\n",
      "count  54251.000000  54251.000000  ...  54251.000000  54251.000000\n",
      "mean   30149.049160     97.446472  ...     18.977384      4.475641\n",
      "std    17335.099438     61.981228  ...      1.727615      2.880369\n",
      "min        0.000000      4.875000  ...      6.165503      0.000000\n",
      "25%    15185.500000     44.375000  ...     18.104972      2.000000\n",
      "50%    30258.000000     85.812500  ...     19.210691      4.000000\n",
      "75%    45199.500000    138.000000  ...     19.916090      7.000000\n",
      "max    59999.000000    347.000000  ...     22.820397      9.000000\n",
      "\n",
      "[8 rows x 8 columns]\n",
      " -------------------- EDA -------------------- \n",
      "\n",
      "The extrem values from our labels:\n",
      "Maximum : 5.999531638467404   Minimum : 0.7132510119321792\n",
      "\n",
      "Check the distribution of our labels\n",
      "thickness\n",
      "0      906\n",
      "1    21099\n",
      "2    12704\n",
      "3     8299\n",
      "4     6637\n",
      "5     4606\n",
      "Name: thickness, dtype: int64\n",
      "AxesSubplot(0.125,0.125;0.775x0.755)\n",
      "The extrem values from our normalized labels:\n",
      "Maximum : 0.7254649000798026   Minimum : 0.0\n",
      "              index          area  ...         digit  normalized_label\n",
      "count  54251.000000  54251.000000  ...  54251.000000      54251.000000\n",
      "mean   30149.049160     97.446472  ...      4.475641          0.268480\n",
      "std    17335.099438     61.981228  ...      2.880369          0.184370\n",
      "min        0.000000      4.875000  ...      0.000000          0.000000\n",
      "25%    15185.500000     44.375000  ...      2.000000          0.102938\n",
      "50%    30258.000000     85.812500  ...      4.000000          0.228008\n",
      "75%    45199.500000    138.000000  ...      7.000000          0.390335\n",
      "max    59999.000000    347.000000  ...      9.000000          0.725465\n",
      "\n",
      "[8 rows x 9 columns]\n"
     ]
    },
    {
     "data": {
      "image/png": "[encoded data removed]",
      "text/plain": [
       "<Figure size 432x288 with 1 Axes>"
      ]
     },
     "metadata": {
      "tags": []
     },
     "output_type": "display_data"
    }
   ],
   "source": [
    "dataset = MNISTDataset('train', 'thickness')\n"
   ]
  },
  {
   "cell_type": "code",
   "execution_count": null,
   "metadata": {
    "colab": {
     "base_uri": "https://localhost:8080/",
     "height": 1000
    },
    "colab_type": "code",
    "id": "8r2sf_iYS4w5",
    "outputId": "447a937b-41b4-47da-98f1-30916fdb2ef6"
   },
   "outputs": [
    {
     "name": "stdout",
     "output_type": "stream",
     "text": [
      " ---------------------------------------- CHECK NANS\n",
      "Empty DataFrame\n",
      "Columns: [index, area, length, thickness, slant, width, height, digit]\n",
      "Index: []\n",
      "              index          area  ...        height         digit\n",
      "count  54251.000000  54251.000000  ...  54251.000000  54251.000000\n",
      "mean   30149.049160     97.446472  ...     18.977384      4.475641\n",
      "std    17335.099438     61.981228  ...      1.727615      2.880369\n",
      "min        0.000000      4.875000  ...      6.165503      0.000000\n",
      "25%    15185.500000     44.375000  ...     18.104972      2.000000\n",
      "50%    30258.000000     85.812500  ...     19.210691      4.000000\n",
      "75%    45199.500000    138.000000  ...     19.916090      7.000000\n",
      "max    59999.000000    347.000000  ...     22.820397      9.000000\n",
      "\n",
      "[8 rows x 8 columns]\n",
      " -------------------- EDA -------------------- \n",
      "\n",
      "The extrem values from our labels:\n",
      "Maximum : 5.999531638467404   Minimum : 0.7132510119321792\n",
      "\n",
      "Check the distribution of our labels\n",
      "thickness\n",
      "0      906\n",
      "1    21099\n",
      "2    12704\n",
      "3     8299\n",
      "4     6637\n",
      "5     4606\n",
      "Name: thickness, dtype: int64\n",
      "AxesSubplot(0.125,0.125;0.775x0.755)\n",
      "The extrem values from our normalized labels:\n",
      "Maximum : 0.7254649000798026   Minimum : 0.0\n",
      "              index          area  ...         digit  normalized_label\n",
      "count  54251.000000  54251.000000  ...  54251.000000      54251.000000\n",
      "mean   30149.049160     97.446472  ...      4.475641          0.268480\n",
      "std    17335.099438     61.981228  ...      2.880369          0.184370\n",
      "min        0.000000      4.875000  ...      0.000000          0.000000\n",
      "25%    15185.500000     44.375000  ...      2.000000          0.102938\n",
      "50%    30258.000000     85.812500  ...      4.000000          0.228008\n",
      "75%    45199.500000    138.000000  ...      7.000000          0.390335\n",
      "max    59999.000000    347.000000  ...      9.000000          0.725465\n",
      "\n",
      "[8 rows x 9 columns]\n",
      " ---------------------------------------- CHECK NANS\n",
      "Empty DataFrame\n",
      "Columns: [index, area, length, thickness, slant, width, height, digit]\n",
      "Index: []\n",
      "              index          area  ...        height         digit\n",
      "count  54251.000000  54251.000000  ...  54251.000000  54251.000000\n",
      "mean   30149.049160     97.446472  ...     18.977384      4.475641\n",
      "std    17335.099438     61.981228  ...      1.727615      2.880369\n",
      "min        0.000000      4.875000  ...      6.165503      0.000000\n",
      "25%    15185.500000     44.375000  ...     18.104972      2.000000\n",
      "50%    30258.000000     85.812500  ...     19.210691      4.000000\n",
      "75%    45199.500000    138.000000  ...     19.916090      7.000000\n",
      "max    59999.000000    347.000000  ...     22.820397      9.000000\n",
      "\n",
      "[8 rows x 8 columns]\n",
      " -------------------- EDA -------------------- \n",
      "\n",
      "The extrem values from our labels:\n",
      "Maximum : 5.999531638467404   Minimum : 0.7132510119321792\n",
      "\n",
      "Check the distribution of our labels\n",
      "thickness\n",
      "0      906\n",
      "1    21099\n",
      "2    12704\n",
      "3     8299\n",
      "4     6637\n",
      "5     4606\n",
      "Name: thickness, dtype: int64\n",
      "AxesSubplot(0.125,0.125;0.775x0.755)\n",
      " ---------------------------------------- CHECK NANS\n",
      "Empty DataFrame\n",
      "Columns: [index, area, length, thickness, slant, width, height, digit]\n",
      "Index: []\n",
      "             index         area  ...       height        digit\n",
      "count  9840.000000  9840.000000  ...  9840.000000  9840.000000\n",
      "mean   4981.231606   111.943712  ...    19.226310     4.437093\n",
      "std    2885.634160    74.773221  ...     1.832125     2.895003\n",
      "min       0.000000     5.750000  ...     8.181947     0.000000\n",
      "25%    2483.750000    47.562500  ...    18.203444     2.000000\n",
      "50%    4968.500000    97.437500  ...    19.329787     4.000000\n",
      "75%    7462.250000   158.390625  ...    20.679407     7.000000\n",
      "max    9999.000000   427.437500  ...    23.913798     9.000000\n",
      "\n",
      "[8 rows x 8 columns]\n",
      " -------------------- EDA -------------------- \n",
      "\n",
      "The extrem values from our labels:\n",
      "Maximum : 8.996492680588556   Minimum : 0.7215373500308595\n",
      "\n",
      "Check the distribution of our labels\n",
      "thickness\n",
      "0     122\n",
      "1    3385\n",
      "2    2129\n",
      "3    1327\n",
      "4    1213\n",
      "5     775\n",
      "6     466\n",
      "7     282\n",
      "8     141\n",
      "Name: thickness, dtype: int64\n",
      "AxesSubplot(0.125,0.125;0.775x0.755)\n",
      "The extrem values from our normalized labels:\n",
      "Maximum : 0.7254649000798026   Minimum : 0.0\n",
      "             index         area  ...        digit  normalized_label\n",
      "count  9840.000000  9840.000000  ...  9840.000000       9840.000000\n",
      "mean   4981.231606   111.943712  ...     4.437093          0.328679\n",
      "std    2885.634160    74.773221  ...     2.895003          0.248434\n",
      "min       0.000000     5.750000  ...     0.000000          0.001137\n",
      "25%    2483.750000    47.562500  ...     2.000000          0.112905\n",
      "50%    4968.500000    97.437500  ...     4.000000          0.262696\n",
      "75%    7462.250000   158.390625  ...     7.000000          0.484404\n",
      "max    9999.000000   427.437500  ...     9.000000          1.136754\n",
      "\n",
      "[8 rows x 9 columns]\n",
      " ---------------------------------------- CHECK NANS\n",
      "Empty DataFrame\n",
      "Columns: [index, area, length, thickness, slant, width, height, digit]\n",
      "Index: []\n",
      "              index          area  ...        height         digit\n",
      "count  54251.000000  54251.000000  ...  54251.000000  54251.000000\n",
      "mean   30149.049160     97.446472  ...     18.977384      4.475641\n",
      "std    17335.099438     61.981228  ...      1.727615      2.880369\n",
      "min        0.000000      4.875000  ...      6.165503      0.000000\n",
      "25%    15185.500000     44.375000  ...     18.104972      2.000000\n",
      "50%    30258.000000     85.812500  ...     19.210691      4.000000\n",
      "75%    45199.500000    138.000000  ...     19.916090      7.000000\n",
      "max    59999.000000    347.000000  ...     22.820397      9.000000\n",
      "\n",
      "[8 rows x 8 columns]\n",
      " -------------------- EDA -------------------- \n",
      "\n",
      "The extrem values from our labels:\n",
      "Maximum : 5.999531638467404   Minimum : 0.7132510119321792\n",
      "\n",
      "Check the distribution of our labels\n",
      "thickness\n",
      "0      906\n",
      "1    21099\n",
      "2    12704\n",
      "3     8299\n",
      "4     6637\n",
      "5     4606\n",
      "Name: thickness, dtype: int64\n",
      "AxesSubplot(0.125,0.125;0.775x0.755)\n",
      " ---------------------------------------- CHECK NANS\n",
      "Empty DataFrame\n",
      "Columns: [index, area, length, thickness, slant, width, height, digit]\n",
      "Index: []\n",
      "              index          area  ...        height         digit\n",
      "count  59177.000000  59177.000000  ...  59177.000000  59177.000000\n",
      "mean   30036.643121    109.836575  ...     19.189171      4.448891\n",
      "std    17324.021541     73.960854  ...      1.824353      2.886629\n",
      "min        0.000000      4.875000  ...      6.165503      0.000000\n",
      "25%    15060.000000     46.875000  ...     18.202092      2.000000\n",
      "50%    30052.000000     94.625000  ...     19.325848      4.000000\n",
      "75%    45059.000000    155.500000  ...     20.566627      7.000000\n",
      "max    59999.000000    415.000000  ...     23.891835      9.000000\n",
      "\n",
      "[8 rows x 8 columns]\n",
      " -------------------- EDA -------------------- \n",
      "\n",
      "The extrem values from our labels:\n",
      "Maximum : 8.998538684002229   Minimum : 0.7132510119321792\n",
      "\n",
      "Check the distribution of our labels\n",
      "thickness\n",
      "0      906\n",
      "1    21099\n",
      "2    12704\n",
      "3     8299\n",
      "4     6637\n",
      "5     4606\n",
      "6     2709\n",
      "7     1460\n",
      "8      757\n",
      "Name: thickness, dtype: int64\n",
      "AxesSubplot(0.125,0.125;0.775x0.755)\n",
      "The extrem values from our normalized labels:\n",
      "Maximum : 0.7254649000798026   Minimum : 0.0\n",
      "              index          area  ...         digit  normalized_label\n",
      "count  59177.000000  59177.000000  ...  59177.000000      59177.000000\n",
      "mean   30036.643121    109.836575  ...      4.448891          0.318441\n",
      "std    17324.021541     73.960854  ...      2.886629          0.244184\n",
      "min        0.000000      4.875000  ...      0.000000          0.000000\n",
      "25%    15060.000000     46.875000  ...      2.000000          0.109899\n",
      "50%    30052.000000     94.625000  ...      4.000000          0.252273\n",
      "75%    45059.000000    155.500000  ...      7.000000          0.470357\n",
      "max    59999.000000    415.000000  ...      9.000000          1.137035\n",
      "\n",
      "[8 rows x 9 columns]\n"
     ]
    },
    {
     "data": {
      "image/png": "[encoded data removed]",
      "text/plain": [
       "<Figure size 432x288 with 1 Axes>"
      ]
     },
     "metadata": {
      "tags": []
     },
     "output_type": "display_data"
    },
    {
     "data": {
      "image/png": "[encoded data removed]",
      "text/plain": [
       "<Figure size 432x288 with 1 Axes>"
      ]
     },
     "metadata": {
      "tags": []
     },
     "output_type": "display_data"
    },
    {
     "data": {
      "image/png": "[encoded data removed]",
      "text/plain": [
       "<Figure size 432x288 with 1 Axes>"
      ]
     },
     "metadata": {
      "tags": []
     },
     "output_type": "display_data"
    },
    {
     "data": {
      "image/png": "[encoded data removed]",
      "text/plain": [
       "<Figure size 432x288 with 1 Axes>"
      ]
     },
     "metadata": {
      "tags": []
     },
     "output_type": "display_data"
    },
    {
     "data": {
      "image/png": "[encoded data removed]",
      "text/plain": [
       "<Figure size 432x288 with 1 Axes>"
      ]
     },
     "metadata": {
      "tags": []
     },
     "output_type": "display_data"
    }
   ],
   "source": [
    "## GAN\n",
    "dataloader = DataLoader(dataset=dataset,\n",
    "                          batch_size=batch_size,\n",
    "                          shuffle=True,\n",
    "                          num_workers=4)\n",
    "\n",
    "# Forward\n",
    "trainset = MNISTDataset('train', 'thickness')\n",
    "trainloader = DataLoader(dataset=trainset,\n",
    "                          batch_size=batch_size,\n",
    "                          shuffle=True,\n",
    "                          num_workers=4)\n",
    "\n",
    "testset = MNISTDataset('test', 'thickness')\n",
    "testloader = DataLoader(dataset=testset,\n",
    "                          batch_size=batch_size,\n",
    "                          shuffle=True,\n",
    "                          num_workers=4)\n",
    "\n",
    "# Inference\n",
    "fulldataset = MNISTDataset('full', 'thickness')"
   ]
  },
  {
   "cell_type": "markdown",
   "metadata": {
    "colab_type": "text",
    "id": "ec5QeuGsuxAe"
   },
   "source": [
    "### Define the main parameters to train the Generative Adversarial Network"
   ]
  },
  {
   "cell_type": "code",
   "execution_count": null,
   "metadata": {
    "colab": {
     "base_uri": "https://localhost:8080/",
     "height": 289
    },
    "colab_type": "code",
    "id": "ll96yOT3JKlj",
    "outputId": "0a85f01b-c871-4bd7-96bf-f8bd78c9efa7"
   },
   "outputs": [
    {
     "name": "stdout",
     "output_type": "stream",
     "text": [
      "Wed Apr  8 10:13:14 2020       \n",
      "+-----------------------------------------------------------------------------+\n",
      "| NVIDIA-SMI 440.64.00    Driver Version: 418.67       CUDA Version: 10.1     |\n",
      "|-------------------------------+----------------------+----------------------+\n",
      "| GPU  Name        Persistence-M| Bus-Id        Disp.A | Volatile Uncorr. ECC |\n",
      "| Fan  Temp  Perf  Pwr:Usage/Cap|         Memory-Usage | GPU-Util  Compute M. |\n",
      "|===============================+======================+======================|\n",
      "|   0  Tesla P100-PCIE...  Off  | 00000000:00:04.0 Off |                    0 |\n",
      "| N/A   37C    P0    33W / 250W |    719MiB / 16280MiB |      0%      Default |\n",
      "+-------------------------------+----------------------+----------------------+\n",
      "                                                                               \n",
      "+-----------------------------------------------------------------------------+\n",
      "| Processes:                                                       GPU Memory |\n",
      "|  GPU       PID   Type   Process name                             Usage      |\n",
      "|=============================================================================|\n",
      "+-----------------------------------------------------------------------------+\n"
     ]
    }
   ],
   "source": [
    "path_generator = '/content/drive/My Drive/master_thesis/models/generative_wo_weight/'\n",
    "\n",
    "def load_obj_csv(path):\n",
    "    return pd.read_csv(path+'.csv')\n",
    "\n",
    "def save_obj_csv(d, path):\n",
    "    d.to_csv(path+'.csv', index=False)\n",
    "\n",
    "def train_loop():\n",
    "\n",
    "    mse_gan_in_distribution = []\n",
    "    mse_gan_out_distribution = []\n",
    "    df_acc_gen = pd.DataFrame(columns=['mse_in', 'mse_out', 'fid_in', 'fid_out'])\n",
    "\n",
    "    path_generator = '/content/drive/My Drive/master_thesis/models/generative/'\n",
    "    if os.path.exists(path_generator):\n",
    "        df_check_in_distribution = load_obj_csv(os.path.join(path_generator, 'results_in_distribution'))\n",
    "        df_check_out_distribution = load_obj_csv(os.path.join(path_generator, 'results_out_distribution'))\n",
    "    else:\n",
    "        os.makedirs(path_generator)\n",
    "        df_check_in_distribution = None\n",
    "        df_check_out_distribution = None\n",
    "\n",
    "    # Loss functions\n",
    "    adversarial_loss = torch.nn.MSELoss()\n",
    "\n",
    "    # Initialize generator and discriminator\n",
    "    generator = Generator()\n",
    "    discriminator = Discriminator()\n",
    "\n",
    "\n",
    "    if cuda:\n",
    "        generator.cuda()\n",
    "        discriminator.cuda()\n",
    "        adversarial_loss.cuda()\n",
    "\n",
    "    # Optimizers\n",
    "    optimizer_G = torch.optim.Adam(generator.parameters(), lr=lr, betas=(b1, b2))\n",
    "    optimizer_D = torch.optim.Adam(discriminator.parameters(), lr=lr, betas=(b1, b2))\n",
    "\n",
    "    FloatTensor = torch.cuda.FloatTensor if cuda else torch.FloatTensor\n",
    "    LongTensor = torch.cuda.LongTensor if cuda else torch.LongTensor\n",
    "\n",
    "    if os.path.isdir(\"images\"):\n",
    "        shutil.rmtree(\"images\")\n",
    "    os.makedirs(\"images\", exist_ok=True)\n",
    "\n",
    "    # FID needs\n",
    "    df_test = pd.DataFrame(np.around(testset.y_data.numpy(),1), columns=['label'])\n",
    "    index_in_distribution = df_test[df_test['label']<=dataset.maximum].index\n",
    "    index_out_distribution = df_test[df_test['label']>dataset.maximum].index\n",
    "    real_dataset = deepcopy(testset.x_data)\n",
    "\n",
    "    arr = np.array([num for num in np.arange(0, 1, 1/n_row)])\n",
    "    print(f\"Checkup the plots of the displayed labels {arr}\")\n",
    "    in_distribution_index = np.where(arr <= dataset.maximum)\n",
    "    out_distribution_index = np.where(arr > dataset.maximum)\n",
    "\n",
    "    best_res_in = 100000\n",
    "    best_res_out = 100000\n",
    "\n",
    "    for epoch in range(n_epochs):\n",
    "        for i, (imgs, labels) in enumerate(dataloader):\n",
    "            ## Initialization\n",
    "            batch_size = imgs.shape[0]\n",
    "\n",
    "            # Adversarial ground truths\n",
    "            valid = Variable(FloatTensor(batch_size, 1).fill_(1.0), requires_grad=False)\n",
    "            fake = Variable(FloatTensor(batch_size, 1).fill_(0.0), requires_grad=False)\n",
    "\n",
    "            # Configure input\n",
    "            real_imgs = Variable(imgs.type(FloatTensor))\n",
    "            labels = Variable(labels.type(FloatTensor))\n",
    "\n",
    "            # -----------------\n",
    "            #  Train Generator\n",
    "            # -----------------\n",
    "\n",
    "            optimizer_G.zero_grad()\n",
    "\n",
    "            # Sample noise and labels as generator input\n",
    "            z = Variable(FloatTensor(np.random.normal(0, 1, (batch_size, latent_dim))))\n",
    "            gen_labels = Variable(FloatTensor(np.random.rand(batch_size))) \n",
    "\n",
    "            # Generate a batch of images\n",
    "            gen_imgs = generator(z, gen_labels)\n",
    "\n",
    "            # Loss measures generator's ability to fool the discriminator\n",
    "            validity = discriminator(gen_imgs, gen_labels)\n",
    "            g_loss = adversarial_loss(validity, valid)\n",
    "\n",
    "            g_loss.backward()\n",
    "            optimizer_G.step()\n",
    "\n",
    "            # ---------------------\n",
    "            #  Train Discriminator\n",
    "            # ---------------------\n",
    "\n",
    "            optimizer_D.zero_grad()\n",
    "\n",
    "            # Loss for real images\n",
    "            validity_real = discriminator(real_imgs, labels)\n",
    "            d_real_loss = adversarial_loss(validity_real, valid)\n",
    "\n",
    "            # Loss for fake images\n",
    "            validity_fake = discriminator(gen_imgs.detach(), gen_labels)\n",
    "            d_fake_loss = adversarial_loss(validity_fake, fake)\n",
    "\n",
    "            # Total discriminator loss\n",
    "            d_loss = (d_real_loss + d_fake_loss) / 2\n",
    "\n",
    "            d_loss.backward()\n",
    "            optimizer_D.step()\n",
    "\n",
    "            batches_done = epoch * len(dataloader) + i\n",
    "            if batches_done % sample_interval == 0:\n",
    "\n",
    "                print(\n",
    "                  \"[Epoch %d/%d] [Batch %d/%d] [D loss: %f] [G loss: %f]\"\n",
    "                  % (epoch, n_epochs, i, len(dataloader), d_loss.item(), g_loss.item())\n",
    "                )\n",
    "\n",
    "                # Delete useless data from GPU\n",
    "                del valid; del fake; del real_imgs; del labels; del z; del gen_labels; del g_loss; del d_loss; del gen_imgs; del validity;\n",
    "                torch.cuda.empty_cache()\n",
    "\n",
    "                mse_gan, fid_in, fid_out = sample_image(n_row, batches_done, in_distribution_index, out_distribution_index, index_in_distribution, index_out_distribution, generator, dataset, real_dataset, 700)\n",
    "\n",
    "                mean_in_mse = np.mean(mse_gan[in_distribution_index])\n",
    "                mean_out_mse = np.mean(mse_gan[out_distribution_index])\n",
    "\n",
    "                mse_gan_in_distribution.append(mse_gan[in_distribution_index])\n",
    "                mse_gan_out_distribution.append(mse_gan[out_distribution_index])\n",
    "\n",
    "                df = pd.DataFrame([mean_in_mse], columns=['mse_in'])\n",
    "                df['mse_out'] = mean_out_mse\n",
    "                df['fid_in'] = fid_in\n",
    "                df['fid_out'] = fid_out\n",
    "\n",
    "                df_acc_gen = df_acc_gen.append(df, ignore_index=True)\n",
    "\n",
    "                # Check if we have better results\n",
    "                df_check_in_distribution, best_res_in = save_model_check('in', df_check_in_distribution, df['mse_in'].values, best_res_in, df_acc_gen, path_generator)\n",
    "                df_check_out_distribution, best_res_out = save_model_check('out', df_check_out_distribution, df['mse_out'].values, best_res_out, df_acc_gen, path_generator)\n",
    "\n",
    "    return mse_gan_in_distribution, mse_gan_out_distribution, df_acc_gen\n",
    "\n",
    "!nvidia-smi"
   ]
  },
  {
   "cell_type": "markdown",
   "metadata": {
    "colab_type": "text",
    "id": "wJNKZu0Cu8jM"
   },
   "source": [
    "### Training loop GAN\n",
    "\n",
    "\n"
   ]
  },
  {
   "cell_type": "code",
   "execution_count": null,
   "metadata": {
    "colab": {
     "base_uri": "https://localhost:8080/",
     "height": 1000
    },
    "colab_type": "code",
    "id": "gUJFUVFzr2jS",
    "outputId": "3e58c528-47fd-4498-eeb1-483ddff8aef7"
   },
   "outputs": [
    {
     "name": "stdout",
     "output_type": "stream",
     "text": [
      "Checkup the plots of the displayed labels [0.  0.1 0.2 0.3 0.4 0.5 0.6 0.7 0.8 0.9]\n",
      "[Epoch 0/200] [Batch 0/424] [D loss: 0.459497] [G loss: 0.887410]\n"
     ]
    },
    {
     "name": "stderr",
     "output_type": "stream",
     "text": [
      "100%|##########| 100/100 [00:12<00:00,  7.70img/s]\n"
     ]
    },
    {
     "name": "stdout",
     "output_type": "stream",
     "text": [
      "(700, 1, 32, 32) 0.0 1.0\n",
      "save_data/gen_img_in_distribution.npy\n",
      "(700, 1, 32, 32) 0.8181486 0.9703498\n"
     ]
    },
    {
     "name": "stderr",
     "output_type": "stream",
     "text": [
      "FID: 100%|██████████| 10/10 [00:00<00:00, 34.36it/s, mean=116]\n"
     ]
    },
    {
     "name": "stdout",
     "output_type": "stream",
     "text": [
      "(700, 1, 32, 32) 0.0 1.0\n",
      "save_data/gen_img_out_distribution.npy\n",
      "(700, 1, 32, 32) 0.8278992 0.97755337\n"
     ]
    },
    {
     "name": "stderr",
     "output_type": "stream",
     "text": [
      "FID: 100%|██████████| 10/10 [00:00<00:00, 35.74it/s, mean=84]\n"
     ]
    },
    {
     "name": "stdout",
     "output_type": "stream",
     "text": [
      "\n",
      "The thickness distribution =\n",
      "[0.11175988 0.11868765 0.11750507 0.11517463 0.10276803 0.11007593\n",
      " 0.11786676 0.10984083 0.13001226 0.10437984]\n",
      "Average MSE In dist = 5.807009787223807 \\ Average MSE Out dist = 28.722533168700366\n",
      "FID score in distribution : mean = 115.6022 \\ std = 1.1201\n",
      "FID score out distribution : mean = 84.0156 \\ std = 1.224\n",
      "[Epoch 2/200] [Batch 152/424] [D loss: 0.212992] [G loss: 0.971088]\n"
     ]
    },
    {
     "name": "stderr",
     "output_type": "stream",
     "text": [
      "100%|##########| 100/100 [00:11<00:00,  9.03img/s]\n"
     ]
    },
    {
     "name": "stdout",
     "output_type": "stream",
     "text": [
      "(700, 1, 32, 32) 0.0 1.0\n",
      "save_data/gen_img_in_distribution.npy\n",
      "(700, 1, 32, 32) 5.2154064e-08 0.9999995\n"
     ]
    },
    {
     "name": "stderr",
     "output_type": "stream",
     "text": [
      "FID: 100%|██████████| 10/10 [00:00<00:00, 27.04it/s, mean=28.8]\n"
     ]
    },
    {
     "name": "stdout",
     "output_type": "stream",
     "text": [
      "(700, 1, 32, 32) 0.0 1.0\n",
      "save_data/gen_img_out_distribution.npy\n",
      "(700, 1, 32, 32) 1.3038516e-08 0.99999595\n"
     ]
    },
    {
     "name": "stderr",
     "output_type": "stream",
     "text": [
      "FID: 100%|██████████| 10/10 [00:00<00:00, 29.33it/s, mean=23.1]\n"
     ]
    },
    {
     "name": "stdout",
     "output_type": "stream",
     "text": [
      "\n",
      "The thickness distribution =\n",
      "[0.1024111  0.10632026 0.05377896 0.07939865 0.06938556 0.09211821\n",
      " 0.13275789 0.09822848 0.10487845 0.12377267]\n",
      "Average MSE In dist = 6.216902390599949 \\ Average MSE Out dist = 28.824155610496213\n",
      "FID score in distribution : mean = 28.8082 \\ std = 0.4524\n",
      "FID score out distribution : mean = 23.1332 \\ std = 0.6656\n",
      "[Epoch 4/200] [Batch 304/424] [D loss: 0.101542] [G loss: 0.555652]\n"
     ]
    },
    {
     "name": "stderr",
     "output_type": "stream",
     "text": [
      "100%|##########| 100/100 [00:13<00:00,  7.48img/s]\n"
     ]
    },
    {
     "name": "stdout",
     "output_type": "stream",
     "text": [
      "(700, 1, 32, 32) 0.0 1.0\n",
      "save_data/gen_img_in_distribution.npy\n",
      "(700, 1, 32, 32) 0.0 0.9999997\n"
     ]
    },
    {
     "name": "stderr",
     "output_type": "stream",
     "text": [
      "FID: 100%|██████████| 10/10 [00:00<00:00, 26.89it/s, mean=19.1]\n"
     ]
    },
    {
     "name": "stdout",
     "output_type": "stream",
     "text": [
      "(700, 1, 32, 32) 0.0 1.0\n",
      "save_data/gen_img_out_distribution.npy\n",
      "(700, 1, 32, 32) 0.0 0.9999997\n"
     ]
    },
    {
     "name": "stderr",
     "output_type": "stream",
     "text": [
      "FID: 100%|██████████| 10/10 [00:00<00:00, 32.68it/s, mean=24.3]\n"
     ]
    },
    {
     "name": "stdout",
     "output_type": "stream",
     "text": [
      "\n",
      "The thickness distribution =\n",
      "[0.0943191  0.1038387  0.13607458 0.09832586 0.1063496  0.09364528\n",
      " 0.10926254 0.11407694 0.14117772 0.09542836]\n",
      "Average MSE In dist = 5.901391161202974 \\ Average MSE Out dist = 28.708922079167912\n",
      "FID score in distribution : mean = 19.0566 \\ std = 0.8029\n",
      "FID score out distribution : mean = 24.2779 \\ std = 0.8514\n",
      "[Epoch 7/200] [Batch 32/424] [D loss: 0.167365] [G loss: 0.893014]\n"
     ]
    },
    {
     "name": "stderr",
     "output_type": "stream",
     "text": [
      "100%|##########| 100/100 [00:13<00:00,  7.30img/s]\n"
     ]
    },
    {
     "name": "stdout",
     "output_type": "stream",
     "text": [
      "(700, 1, 32, 32) 0.0 1.0\n",
      "save_data/gen_img_in_distribution.npy\n",
      "(700, 1, 32, 32) 0.0 0.99999744\n"
     ]
    },
    {
     "name": "stderr",
     "output_type": "stream",
     "text": [
      "FID: 100%|██████████| 10/10 [00:00<00:00, 30.97it/s, mean=13.1]\n"
     ]
    },
    {
     "name": "stdout",
     "output_type": "stream",
     "text": [
      "(700, 1, 32, 32) 0.0 1.0\n",
      "save_data/gen_img_out_distribution.npy\n",
      "(700, 1, 32, 32) 0.0 0.99999917\n"
     ]
    },
    {
     "name": "stderr",
     "output_type": "stream",
     "text": [
      "FID: 100%|██████████| 10/10 [00:00<00:00, 28.54it/s, mean=17.2]\n"
     ]
    },
    {
     "name": "stdout",
     "output_type": "stream",
     "text": [
      "\n",
      "The thickness distribution =\n",
      "[0.15216242 0.10750793 0.15137763 0.1181018  0.13353124 0.13820189\n",
      " 0.17666837 0.1190721  0.17708089 0.15805421]\n",
      "Average MSE In dist = 5.158685501440714 \\ Average MSE Out dist = 24.915944104557667\n",
      "FID score in distribution : mean = 13.0799 \\ std = 0.5741\n",
      "FID score out distribution : mean = 17.2081 \\ std = 0.8678\n",
      "[Epoch 9/200] [Batch 184/424] [D loss: 0.122512] [G loss: 0.547483]\n"
     ]
    },
    {
     "name": "stderr",
     "output_type": "stream",
     "text": [
      "100%|##########| 100/100 [00:12<00:00,  7.74img/s]\n"
     ]
    },
    {
     "name": "stdout",
     "output_type": "stream",
     "text": [
      "(700, 1, 32, 32) 0.0 1.0\n",
      "save_data/gen_img_in_distribution.npy\n",
      "(700, 1, 32, 32) 0.0 0.99999493\n"
     ]
    },
    {
     "name": "stderr",
     "output_type": "stream",
     "text": [
      "FID: 100%|██████████| 10/10 [00:00<00:00, 28.08it/s, mean=16.6]\n"
     ]
    },
    {
     "name": "stdout",
     "output_type": "stream",
     "text": [
      "(700, 1, 32, 32) 0.0 1.0\n",
      "save_data/gen_img_out_distribution.npy\n",
      "(700, 1, 32, 32) 0.0 0.9999871\n"
     ]
    },
    {
     "name": "stderr",
     "output_type": "stream",
     "text": [
      "FID: 100%|██████████| 10/10 [00:00<00:00, 27.45it/s, mean=11.6]\n"
     ]
    },
    {
     "name": "stdout",
     "output_type": "stream",
     "text": [
      "\n",
      "The thickness distribution =\n",
      "[0.08411461 0.0954718  0.11800341 0.15753729 0.17619762 0.18943929\n",
      " 0.24100448 0.29844687 0.32660049 0.33351335]\n",
      "Average MSE In dist = 3.124562224786108 \\ Average MSE Out dist = 14.469231198820339\n",
      "FID score in distribution : mean = 16.5762 \\ std = 1.0312\n",
      "FID score out distribution : mean = 11.5852 \\ std = 0.7614\n",
      "[Epoch 11/200] [Batch 336/424] [D loss: 0.141115] [G loss: 0.598004]\n"
     ]
    },
    {
     "name": "stderr",
     "output_type": "stream",
     "text": [
      "100%|##########| 100/100 [00:12<00:00,  8.24img/s]\n"
     ]
    },
    {
     "name": "stdout",
     "output_type": "stream",
     "text": [
      "(700, 1, 32, 32) 0.0 1.0\n",
      "save_data/gen_img_in_distribution.npy\n",
      "(700, 1, 32, 32) 0.0 0.99998677\n"
     ]
    },
    {
     "name": "stderr",
     "output_type": "stream",
     "text": [
      "FID: 100%|██████████| 10/10 [00:00<00:00, 32.11it/s, mean=10.6]\n"
     ]
    },
    {
     "name": "stdout",
     "output_type": "stream",
     "text": [
      "(700, 1, 32, 32) 0.0 1.0\n",
      "save_data/gen_img_out_distribution.npy\n",
      "(700, 1, 32, 32) 0.0 0.9999906\n"
     ]
    },
    {
     "name": "stderr",
     "output_type": "stream",
     "text": [
      "FID: 100%|██████████| 10/10 [00:00<00:00, 28.87it/s, mean=9.71]\n"
     ]
    },
    {
     "name": "stdout",
     "output_type": "stream",
     "text": [
      "\n",
      "The thickness distribution =\n",
      "[0.08869615 0.1262865  0.14026885 0.17395951 0.18962972 0.23343011\n",
      " 0.27018911 0.32124603 0.32049013 0.35368212]\n",
      "Average MSE In dist = 2.625346658464312 \\ Average MSE Out dist = 14.027963668966713\n",
      "FID score in distribution : mean = 10.5819 \\ std = 0.5369\n",
      "FID score out distribution : mean = 9.7144 \\ std = 0.7381\n",
      "[Epoch 14/200] [Batch 64/424] [D loss: 0.136851] [G loss: 0.658891]\n"
     ]
    },
    {
     "name": "stderr",
     "output_type": "stream",
     "text": [
      "100%|##########| 100/100 [00:13<00:00,  7.33img/s]\n"
     ]
    },
    {
     "name": "stdout",
     "output_type": "stream",
     "text": [
      "(700, 1, 32, 32) 0.0 1.0\n",
      "save_data/gen_img_in_distribution.npy\n",
      "(700, 1, 32, 32) 0.0 0.9999842\n"
     ]
    },
    {
     "name": "stderr",
     "output_type": "stream",
     "text": [
      "FID: 100%|██████████| 10/10 [00:00<00:00, 26.47it/s, mean=11.8]\n"
     ]
    },
    {
     "name": "stdout",
     "output_type": "stream",
     "text": [
      "(700, 1, 32, 32) 0.0 1.0\n",
      "save_data/gen_img_out_distribution.npy\n",
      "(700, 1, 32, 32) 0.0 0.99999285\n"
     ]
    },
    {
     "name": "stderr",
     "output_type": "stream",
     "text": [
      "FID: 100%|██████████| 10/10 [00:00<00:00, 30.16it/s, mean=8.95]\n"
     ]
    },
    {
     "name": "stdout",
     "output_type": "stream",
     "text": [
      "\n",
      "The thickness distribution =\n",
      "[0.07092393 0.09986282 0.15483518 0.19663979 0.21793128 0.24630672\n",
      " 0.26891605 0.33857033 0.30027105 0.368793  ]\n",
      "Average MSE In dist = 2.359556129947504 \\ Average MSE Out dist = 14.121333056326822\n",
      "FID score in distribution : mean = 11.8117 \\ std = 0.5166\n",
      "FID score out distribution : mean = 8.9538 \\ std = 0.8561\n",
      "[Epoch 16/200] [Batch 216/424] [D loss: 0.148151] [G loss: 0.504155]\n"
     ]
    },
    {
     "name": "stderr",
     "output_type": "stream",
     "text": [
      "100%|##########| 100/100 [00:12<00:00,  7.73img/s]\n"
     ]
    },
    {
     "name": "stdout",
     "output_type": "stream",
     "text": [
      "(700, 1, 32, 32) 0.0 1.0\n",
      "save_data/gen_img_in_distribution.npy\n",
      "(700, 1, 32, 32) 0.0 0.9999995\n"
     ]
    },
    {
     "name": "stderr",
     "output_type": "stream",
     "text": [
      "FID: 100%|██████████| 10/10 [00:00<00:00, 30.67it/s, mean=8.18]\n"
     ]
    },
    {
     "name": "stdout",
     "output_type": "stream",
     "text": [
      "(700, 1, 32, 32) 0.0 1.0\n",
      "save_data/gen_img_out_distribution.npy\n",
      "(700, 1, 32, 32) 0.0 0.9999995\n"
     ]
    },
    {
     "name": "stderr",
     "output_type": "stream",
     "text": [
      "FID: 100%|██████████| 10/10 [00:00<00:00, 32.33it/s, mean=8.19]\n"
     ]
    },
    {
     "name": "stdout",
     "output_type": "stream",
     "text": [
      "\n",
      "The thickness distribution =\n",
      "[0.07740103 0.12075866 0.17857514 0.18143814 0.28851204 0.27710943\n",
      " 0.32864623 0.30765806 0.35783808 0.34357179]\n",
      "Average MSE In dist = 2.0615635628590554 \\ Average MSE Out dist = 13.410092382930529\n",
      "FID score in distribution : mean = 8.175 \\ std = 0.5201\n",
      "FID score out distribution : mean = 8.1896 \\ std = 0.9264\n",
      "[Epoch 18/200] [Batch 368/424] [D loss: 0.160910] [G loss: 0.447738]\n"
     ]
    },
    {
     "name": "stderr",
     "output_type": "stream",
     "text": [
      "100%|##########| 100/100 [00:12<00:00,  7.94img/s]\n"
     ]
    },
    {
     "name": "stdout",
     "output_type": "stream",
     "text": [
      "(700, 1, 32, 32) 0.0 1.0\n",
      "save_data/gen_img_in_distribution.npy\n",
      "(700, 1, 32, 32) 0.0 0.9999987\n"
     ]
    },
    {
     "name": "stderr",
     "output_type": "stream",
     "text": [
      "FID: 100%|██████████| 10/10 [00:00<00:00, 26.60it/s, mean=8.08]\n"
     ]
    },
    {
     "name": "stdout",
     "output_type": "stream",
     "text": [
      "(700, 1, 32, 32) 0.0 1.0\n",
      "save_data/gen_img_out_distribution.npy\n",
      "(700, 1, 32, 32) 0.0 0.9999465\n"
     ]
    },
    {
     "name": "stderr",
     "output_type": "stream",
     "text": [
      "FID: 100%|██████████| 10/10 [00:00<00:00, 29.80it/s, mean=7.3]\n"
     ]
    },
    {
     "name": "stdout",
     "output_type": "stream",
     "text": [
      "\n",
      "The thickness distribution =\n",
      "[0.07361441 0.09831151 0.13763047 0.19957895 0.21641223 0.31335593\n",
      " 0.31271619 0.357716   0.36802608 0.41970503]\n",
      "Average MSE In dist = 1.9090064590973745 \\ Average MSE Out dist = 11.078223143190034\n",
      "FID score in distribution : mean = 8.0789 \\ std = 0.9624\n",
      "FID score out distribution : mean = 7.3037 \\ std = 1.1313\n",
      "[Epoch 21/200] [Batch 96/424] [D loss: 0.162479] [G loss: 0.431169]\n"
     ]
    },
    {
     "name": "stderr",
     "output_type": "stream",
     "text": [
      "100%|##########| 100/100 [00:12<00:00,  7.87img/s]\n"
     ]
    },
    {
     "name": "stdout",
     "output_type": "stream",
     "text": [
      "(700, 1, 32, 32) 0.0 1.0\n",
      "save_data/gen_img_in_distribution.npy\n",
      "(700, 1, 32, 32) 0.0 0.99998796\n"
     ]
    },
    {
     "name": "stderr",
     "output_type": "stream",
     "text": [
      "FID: 100%|██████████| 10/10 [00:00<00:00, 30.58it/s, mean=6.27]\n"
     ]
    },
    {
     "name": "stdout",
     "output_type": "stream",
     "text": [
      "(700, 1, 32, 32) 0.0 1.0\n",
      "save_data/gen_img_out_distribution.npy\n",
      "(700, 1, 32, 32) 0.0 0.9999991\n"
     ]
    },
    {
     "name": "stderr",
     "output_type": "stream",
     "text": [
      "FID: 100%|██████████| 10/10 [00:00<00:00, 29.47it/s, mean=6.59]\n"
     ]
    },
    {
     "name": "stdout",
     "output_type": "stream",
     "text": [
      "\n",
      "The thickness distribution =\n",
      "[0.06412837 0.10765839 0.17487803 0.18848187 0.30865321 0.28722325\n",
      " 0.35260394 0.38942332 0.38420492 0.45499139]\n",
      "Average MSE In dist = 1.516703377240899 \\ Average MSE Out dist = 9.84726850146977\n",
      "FID score in distribution : mean = 6.2694 \\ std = 0.5165\n",
      "FID score out distribution : mean = 6.5912 \\ std = 0.806\n",
      "[Epoch 23/200] [Batch 248/424] [D loss: 0.137768] [G loss: 0.566132]\n"
     ]
    },
    {
     "name": "stderr",
     "output_type": "stream",
     "text": [
      "100%|##########| 100/100 [00:13<00:00,  7.59img/s]\n"
     ]
    },
    {
     "name": "stdout",
     "output_type": "stream",
     "text": [
      "(700, 1, 32, 32) 0.0 1.0\n",
      "save_data/gen_img_in_distribution.npy\n",
      "(700, 1, 32, 32) 0.0 0.99999833\n"
     ]
    },
    {
     "name": "stderr",
     "output_type": "stream",
     "text": [
      "FID: 100%|██████████| 10/10 [00:00<00:00, 31.93it/s, mean=5.9]\n"
     ]
    },
    {
     "name": "stdout",
     "output_type": "stream",
     "text": [
      "(700, 1, 32, 32) 0.0 1.0\n",
      "save_data/gen_img_out_distribution.npy\n",
      "(700, 1, 32, 32) 0.0 0.99999666\n"
     ]
    },
    {
     "name": "stderr",
     "output_type": "stream",
     "text": [
      "FID: 100%|██████████| 10/10 [00:00<00:00, 34.50it/s, mean=6.84]\n"
     ]
    },
    {
     "name": "stdout",
     "output_type": "stream",
     "text": [
      "\n",
      "The thickness distribution =\n",
      "[0.08576168 0.10843343 0.19889261 0.20401607 0.25320596 0.30535782\n",
      " 0.34015318 0.41301243 0.41308731 0.4047685 ]\n",
      "Average MSE In dist = 1.4996942316258393 \\ Average MSE Out dist = 10.485423408126078\n",
      "FID score in distribution : mean = 5.8991 \\ std = 0.3802\n",
      "FID score out distribution : mean = 6.8399 \\ std = 0.8232\n",
      "[Epoch 25/200] [Batch 400/424] [D loss: 0.149323] [G loss: 0.567512]\n"
     ]
    },
    {
     "name": "stderr",
     "output_type": "stream",
     "text": [
      "100%|##########| 100/100 [00:14<00:00,  7.03img/s]\n"
     ]
    },
    {
     "name": "stdout",
     "output_type": "stream",
     "text": [
      "(700, 1, 32, 32) 0.0 1.0\n",
      "save_data/gen_img_in_distribution.npy\n",
      "(700, 1, 32, 32) 0.0 0.9999965\n"
     ]
    },
    {
     "name": "stderr",
     "output_type": "stream",
     "text": [
      "FID: 100%|██████████| 10/10 [00:00<00:00, 27.57it/s, mean=6.09]\n"
     ]
    },
    {
     "name": "stdout",
     "output_type": "stream",
     "text": [
      "(700, 1, 32, 32) 0.0 1.0\n",
      "save_data/gen_img_out_distribution.npy\n",
      "(700, 1, 32, 32) 0.0 0.999995\n"
     ]
    },
    {
     "name": "stderr",
     "output_type": "stream",
     "text": [
      "FID: 100%|██████████| 10/10 [00:00<00:00, 31.34it/s, mean=7.09]\n"
     ]
    },
    {
     "name": "stdout",
     "output_type": "stream",
     "text": [
      "\n",
      "The thickness distribution =\n",
      "[0.0612658  0.10825384 0.17454725 0.23333335 0.27851753 0.33503774\n",
      " 0.34614392 0.35743477 0.44421225 0.38646989]\n",
      "Average MSE In dist = 1.544306497939641 \\ Average MSE Out dist = 10.361772506495639\n",
      "FID score in distribution : mean = 6.0937 \\ std = 0.5859\n",
      "FID score out distribution : mean = 7.0851 \\ std = 0.6497\n",
      "[Epoch 28/200] [Batch 128/424] [D loss: 0.127759] [G loss: 0.592740]\n"
     ]
    },
    {
     "name": "stderr",
     "output_type": "stream",
     "text": [
      "100%|##########| 100/100 [00:14<00:00,  6.91img/s]\n"
     ]
    },
    {
     "name": "stdout",
     "output_type": "stream",
     "text": [
      "(700, 1, 32, 32) 0.0 1.0\n",
      "save_data/gen_img_in_distribution.npy\n",
      "(700, 1, 32, 32) 0.0 0.99998736\n"
     ]
    },
    {
     "name": "stderr",
     "output_type": "stream",
     "text": [
      "FID: 100%|██████████| 10/10 [00:00<00:00, 29.20it/s, mean=5.87]\n"
     ]
    },
    {
     "name": "stdout",
     "output_type": "stream",
     "text": [
      "(700, 1, 32, 32) 0.0 1.0\n",
      "save_data/gen_img_out_distribution.npy\n",
      "(700, 1, 32, 32) 0.0 0.99999595\n"
     ]
    },
    {
     "name": "stderr",
     "output_type": "stream",
     "text": [
      "FID: 100%|██████████| 10/10 [00:00<00:00, 32.24it/s, mean=6.73]\n"
     ]
    },
    {
     "name": "stdout",
     "output_type": "stream",
     "text": [
      "\n",
      "The thickness distribution =\n",
      "[0.05883571 0.09702266 0.1689314  0.23090122 0.27456692 0.34424568\n",
      " 0.3839384  0.37067192 0.47846411 0.49899006]\n",
      "Average MSE In dist = 1.3562417828605344 \\ Average MSE Out dist = 7.013924159950019\n",
      "FID score in distribution : mean = 5.872 \\ std = 0.3435\n",
      "FID score out distribution : mean = 6.7267 \\ std = 0.8268\n",
      "[Epoch 30/200] [Batch 280/424] [D loss: 0.173013] [G loss: 0.469656]\n"
     ]
    },
    {
     "name": "stderr",
     "output_type": "stream",
     "text": [
      "100%|##########| 100/100 [00:12<00:00,  7.78img/s]\n"
     ]
    },
    {
     "name": "stdout",
     "output_type": "stream",
     "text": [
      "(700, 1, 32, 32) 0.0 1.0\n",
      "save_data/gen_img_in_distribution.npy\n",
      "(700, 1, 32, 32) 0.0 0.99999404\n"
     ]
    },
    {
     "name": "stderr",
     "output_type": "stream",
     "text": [
      "FID: 100%|██████████| 10/10 [00:00<00:00, 26.76it/s, mean=4.89]\n"
     ]
    },
    {
     "name": "stdout",
     "output_type": "stream",
     "text": [
      "(700, 1, 32, 32) 0.0 1.0\n",
      "save_data/gen_img_out_distribution.npy\n",
      "(700, 1, 32, 32) 0.0 0.99998856\n"
     ]
    },
    {
     "name": "stderr",
     "output_type": "stream",
     "text": [
      "FID: 100%|██████████| 10/10 [00:00<00:00, 32.40it/s, mean=6.6]\n"
     ]
    },
    {
     "name": "stdout",
     "output_type": "stream",
     "text": [
      "\n",
      "The thickness distribution =\n",
      "[0.071549   0.09214931 0.16890057 0.24761506 0.32438891 0.34084771\n",
      " 0.44758222 0.44757618 0.41580752 0.44961426]\n",
      "Average MSE In dist = 0.84216497574667 \\ Average MSE Out dist = 9.303902431506184\n",
      "FID score in distribution : mean = 4.8853 \\ std = 0.4625\n",
      "FID score out distribution : mean = 6.5962 \\ std = 0.8548\n",
      "[Epoch 33/200] [Batch 8/424] [D loss: 0.138150] [G loss: 0.617176]\n"
     ]
    },
    {
     "name": "stderr",
     "output_type": "stream",
     "text": [
      "100%|##########| 100/100 [00:12<00:00,  7.69img/s]\n"
     ]
    },
    {
     "name": "stdout",
     "output_type": "stream",
     "text": [
      "(700, 1, 32, 32) 0.0 1.0\n",
      "save_data/gen_img_in_distribution.npy\n",
      "(700, 1, 32, 32) 0.0 0.9999981\n"
     ]
    },
    {
     "name": "stderr",
     "output_type": "stream",
     "text": [
      "FID: 100%|██████████| 10/10 [00:00<00:00, 31.11it/s, mean=5.53]\n"
     ]
    },
    {
     "name": "stdout",
     "output_type": "stream",
     "text": [
      "(700, 1, 32, 32) 0.0 1.0\n",
      "save_data/gen_img_out_distribution.npy\n",
      "(700, 1, 32, 32) 0.0 0.999998\n"
     ]
    },
    {
     "name": "stderr",
     "output_type": "stream",
     "text": [
      "FID: 100%|██████████| 10/10 [00:00<00:00, 32.39it/s, mean=6.73]\n"
     ]
    },
    {
     "name": "stdout",
     "output_type": "stream",
     "text": [
      "\n",
      "The thickness distribution =\n",
      "[0.06808546 0.10400318 0.18446863 0.24440304 0.3144669  0.35637979\n",
      " 0.42522752 0.39302111 0.47058891 0.47502074]\n",
      "Average MSE In dist = 1.0666335451598874 \\ Average MSE Out dist = 7.6756348923568165\n",
      "FID score in distribution : mean = 5.5313 \\ std = 0.5071\n",
      "FID score out distribution : mean = 6.726 \\ std = 0.6552\n",
      "[Epoch 35/200] [Batch 160/424] [D loss: 0.124550] [G loss: 0.631011]\n"
     ]
    },
    {
     "name": "stderr",
     "output_type": "stream",
     "text": [
      "100%|##########| 100/100 [00:12<00:00,  8.24img/s]\n"
     ]
    },
    {
     "name": "stdout",
     "output_type": "stream",
     "text": [
      "(700, 1, 32, 32) 0.0 1.0\n",
      "save_data/gen_img_in_distribution.npy\n",
      "(700, 1, 32, 32) 0.0 0.9999951\n"
     ]
    },
    {
     "name": "stderr",
     "output_type": "stream",
     "text": [
      "FID: 100%|██████████| 10/10 [00:00<00:00, 33.97it/s, mean=5.49]\n"
     ]
    },
    {
     "name": "stdout",
     "output_type": "stream",
     "text": [
      "(700, 1, 32, 32) 0.0 1.0\n",
      "save_data/gen_img_out_distribution.npy\n",
      "(700, 1, 32, 32) 0.0 0.99999905\n"
     ]
    },
    {
     "name": "stderr",
     "output_type": "stream",
     "text": [
      "FID: 100%|██████████| 10/10 [00:00<00:00, 27.08it/s, mean=6.18]\n"
     ]
    },
    {
     "name": "stdout",
     "output_type": "stream",
     "text": [
      "\n",
      "The thickness distribution =\n",
      "[0.0838476  0.0994924  0.19242463 0.24459384 0.28472699 0.34090416\n",
      " 0.41819913 0.38416101 0.4640242  0.40737169]\n",
      "Average MSE In dist = 1.205050361260056 \\ Average MSE Out dist = 9.43959653616527\n",
      "FID score in distribution : mean = 5.493 \\ std = 0.6453\n",
      "FID score out distribution : mean = 6.1846 \\ std = 0.6677\n",
      "[Epoch 37/200] [Batch 312/424] [D loss: 0.138661] [G loss: 0.573743]\n"
     ]
    },
    {
     "name": "stderr",
     "output_type": "stream",
     "text": [
      "100%|##########| 100/100 [00:12<00:00,  7.74img/s]\n"
     ]
    },
    {
     "name": "stdout",
     "output_type": "stream",
     "text": [
      "(700, 1, 32, 32) 0.0 1.0\n",
      "save_data/gen_img_in_distribution.npy\n",
      "(700, 1, 32, 32) 0.0 0.9999954\n"
     ]
    },
    {
     "name": "stderr",
     "output_type": "stream",
     "text": [
      "FID: 100%|██████████| 10/10 [00:00<00:00, 30.68it/s, mean=4.84]\n"
     ]
    },
    {
     "name": "stdout",
     "output_type": "stream",
     "text": [
      "(700, 1, 32, 32) 0.0 1.0\n",
      "save_data/gen_img_out_distribution.npy\n",
      "(700, 1, 32, 32) 0.0 0.9999205\n"
     ]
    },
    {
     "name": "stderr",
     "output_type": "stream",
     "text": [
      "FID: 100%|██████████| 10/10 [00:00<00:00, 27.78it/s, mean=6.59]\n"
     ]
    },
    {
     "name": "stdout",
     "output_type": "stream",
     "text": [
      "\n",
      "The thickness distribution =\n",
      "[0.07201556 0.10701634 0.15392437 0.26238594 0.30909858 0.36405921\n",
      " 0.43745211 0.34040757 0.4174178  0.50008858]\n",
      "Average MSE In dist = 1.2693083991122232 \\ Average MSE Out dist = 8.131715605734628\n",
      "FID score in distribution : mean = 4.8426 \\ std = 0.5047\n",
      "FID score out distribution : mean = 6.5939 \\ std = 0.8646\n",
      "[Epoch 40/200] [Batch 40/424] [D loss: 0.133641] [G loss: 0.579675]\n"
     ]
    },
    {
     "name": "stderr",
     "output_type": "stream",
     "text": [
      "100%|##########| 100/100 [00:13<00:00,  7.46img/s]\n"
     ]
    },
    {
     "name": "stdout",
     "output_type": "stream",
     "text": [
      "(700, 1, 32, 32) 0.0 1.0\n",
      "save_data/gen_img_in_distribution.npy\n",
      "(700, 1, 32, 32) 0.0 0.9999926\n"
     ]
    },
    {
     "name": "stderr",
     "output_type": "stream",
     "text": [
      "FID: 100%|██████████| 10/10 [00:00<00:00, 29.18it/s, mean=6.18]\n"
     ]
    },
    {
     "name": "stdout",
     "output_type": "stream",
     "text": [
      "(700, 1, 32, 32) 0.0 1.0\n",
      "save_data/gen_img_out_distribution.npy\n",
      "(700, 1, 32, 32) 0.0 0.9999854\n"
     ]
    },
    {
     "name": "stderr",
     "output_type": "stream",
     "text": [
      "FID: 100%|██████████| 10/10 [00:00<00:00, 29.74it/s, mean=5.37]\n"
     ]
    },
    {
     "name": "stdout",
     "output_type": "stream",
     "text": [
      "\n",
      "The thickness distribution =\n",
      "[0.07167437 0.12188751 0.16833815 0.26635198 0.38056702 0.39758442\n",
      " 0.44337249 0.43899476 0.45646488 0.43756772]\n",
      "Average MSE In dist = 0.7385317235073602 \\ Average MSE Out dist = 8.810337196197016\n",
      "FID score in distribution : mean = 6.1814 \\ std = 0.783\n",
      "FID score out distribution : mean = 5.3714 \\ std = 0.4442\n",
      "[Epoch 42/200] [Batch 192/424] [D loss: 0.155388] [G loss: 0.460730]\n"
     ]
    },
    {
     "name": "stderr",
     "output_type": "stream",
     "text": [
      "100%|##########| 100/100 [00:11<00:00,  8.38img/s]\n"
     ]
    },
    {
     "name": "stdout",
     "output_type": "stream",
     "text": [
      "(700, 1, 32, 32) 0.0 1.0\n",
      "save_data/gen_img_in_distribution.npy\n",
      "(700, 1, 32, 32) 0.0 0.9999922\n"
     ]
    },
    {
     "name": "stderr",
     "output_type": "stream",
     "text": [
      "FID: 100%|██████████| 10/10 [00:00<00:00, 31.85it/s, mean=4.93]\n"
     ]
    },
    {
     "name": "stdout",
     "output_type": "stream",
     "text": [
      "(700, 1, 32, 32) 0.0 1.0\n",
      "save_data/gen_img_out_distribution.npy\n",
      "(700, 1, 32, 32) 0.0 0.9999669\n"
     ]
    },
    {
     "name": "stderr",
     "output_type": "stream",
     "text": [
      "FID: 100%|██████████| 10/10 [00:00<00:00, 28.56it/s, mean=6.49]\n"
     ]
    },
    {
     "name": "stdout",
     "output_type": "stream",
     "text": [
      "\n",
      "The thickness distribution =\n",
      "[0.07892247 0.12078636 0.17793467 0.23649264 0.30750602 0.34724852\n",
      " 0.40355932 0.37699311 0.39220883 0.39326322]\n",
      "Average MSE In dist = 1.23444169889237 \\ Average MSE Out dist = 11.231966707242803\n",
      "FID score in distribution : mean = 4.9341 \\ std = 0.3365\n",
      "FID score out distribution : mean = 6.4922 \\ std = 0.6695\n",
      "[Epoch 44/200] [Batch 344/424] [D loss: 0.150137] [G loss: 0.702580]\n"
     ]
    },
    {
     "name": "stderr",
     "output_type": "stream",
     "text": [
      "100%|##########| 100/100 [00:13<00:00,  7.35img/s]\n"
     ]
    },
    {
     "name": "stdout",
     "output_type": "stream",
     "text": [
      "(700, 1, 32, 32) 0.0 1.0\n",
      "save_data/gen_img_in_distribution.npy\n",
      "(700, 1, 32, 32) 0.0 0.99999887\n"
     ]
    },
    {
     "name": "stderr",
     "output_type": "stream",
     "text": [
      "FID: 100%|██████████| 10/10 [00:00<00:00, 27.76it/s, mean=5.03]\n"
     ]
    },
    {
     "name": "stdout",
     "output_type": "stream",
     "text": [
      "(700, 1, 32, 32) 0.0 1.0\n",
      "save_data/gen_img_out_distribution.npy\n",
      "(700, 1, 32, 32) 0.0 0.9999949\n"
     ]
    },
    {
     "name": "stderr",
     "output_type": "stream",
     "text": [
      "FID: 100%|██████████| 10/10 [00:00<00:00, 28.33it/s, mean=5.87]\n"
     ]
    },
    {
     "name": "stdout",
     "output_type": "stream",
     "text": [
      "\n",
      "The thickness distribution =\n",
      "[0.07093104 0.11493162 0.1742478  0.25271507 0.34423035 0.39711645\n",
      " 0.38785911 0.43037596 0.46004651 0.42960413]\n",
      "Average MSE In dist = 0.926201528642715 \\ Average MSE Out dist = 8.942565263972508\n",
      "FID score in distribution : mean = 5.0333 \\ std = 0.6168\n",
      "FID score out distribution : mean = 5.8736 \\ std = 0.5334\n",
      "[Epoch 47/200] [Batch 72/424] [D loss: 0.130901] [G loss: 0.655765]\n"
     ]
    },
    {
     "name": "stderr",
     "output_type": "stream",
     "text": [
      "100%|##########| 100/100 [00:12<00:00,  8.02img/s]\n"
     ]
    },
    {
     "name": "stdout",
     "output_type": "stream",
     "text": [
      "(700, 1, 32, 32) 0.0 1.0\n",
      "save_data/gen_img_in_distribution.npy\n",
      "(700, 1, 32, 32) 0.0 1.0\n"
     ]
    },
    {
     "name": "stderr",
     "output_type": "stream",
     "text": [
      "FID: 100%|██████████| 10/10 [00:00<00:00, 31.07it/s, mean=5.48]\n"
     ]
    },
    {
     "name": "stdout",
     "output_type": "stream",
     "text": [
      "(700, 1, 32, 32) 0.0 1.0\n",
      "save_data/gen_img_out_distribution.npy\n",
      "(700, 1, 32, 32) 0.0 0.99999946\n"
     ]
    },
    {
     "name": "stderr",
     "output_type": "stream",
     "text": [
      "FID: 100%|██████████| 10/10 [00:00<00:00, 33.13it/s, mean=6.22]\n"
     ]
    },
    {
     "name": "stdout",
     "output_type": "stream",
     "text": [
      "\n",
      "The thickness distribution =\n",
      "[0.07073988 0.10148344 0.16967588 0.26899008 0.32711236 0.39510035\n",
      " 0.44710292 0.46760784 0.54601449 0.52919291]\n",
      "Average MSE In dist = 0.667609330512439 \\ Average MSE Out dist = 5.362941466589463\n",
      "FID score in distribution : mean = 5.4823 \\ std = 0.3446\n",
      "FID score out distribution : mean = 6.2245 \\ std = 0.5096\n",
      "[Epoch 49/200] [Batch 224/424] [D loss: 0.138493] [G loss: 0.530065]\n"
     ]
    },
    {
     "name": "stderr",
     "output_type": "stream",
     "text": [
      "100%|##########| 100/100 [00:13<00:00,  7.64img/s]\n"
     ]
    },
    {
     "name": "stdout",
     "output_type": "stream",
     "text": [
      "(700, 1, 32, 32) 0.0 1.0\n",
      "save_data/gen_img_in_distribution.npy\n",
      "(700, 1, 32, 32) 0.0 0.9999951\n"
     ]
    },
    {
     "name": "stderr",
     "output_type": "stream",
     "text": [
      "FID: 100%|██████████| 10/10 [00:00<00:00, 27.33it/s, mean=6.54]\n"
     ]
    },
    {
     "name": "stdout",
     "output_type": "stream",
     "text": [
      "(700, 1, 32, 32) 0.0 1.0\n",
      "save_data/gen_img_out_distribution.npy\n",
      "(700, 1, 32, 32) 0.0 0.9999999\n"
     ]
    },
    {
     "name": "stderr",
     "output_type": "stream",
     "text": [
      "FID: 100%|██████████| 10/10 [00:00<00:00, 31.25it/s, mean=6.69]\n"
     ]
    },
    {
     "name": "stdout",
     "output_type": "stream",
     "text": [
      "\n",
      "The thickness distribution =\n",
      "[0.06752536 0.10812544 0.19233659 0.27568919 0.38043598 0.40503047\n",
      " 0.51889564 0.40812024 0.42342031 0.3629247 ]\n",
      "Average MSE In dist = 0.7065122387551933 \\ Average MSE Out dist = 11.422752228246317\n",
      "FID score in distribution : mean = 6.5381 \\ std = 0.7227\n",
      "FID score out distribution : mean = 6.6911 \\ std = 0.412\n",
      "[Epoch 51/200] [Batch 376/424] [D loss: 0.165245] [G loss: 0.616717]\n"
     ]
    },
    {
     "name": "stderr",
     "output_type": "stream",
     "text": [
      "100%|##########| 100/100 [00:11<00:00,  8.56img/s]\n"
     ]
    },
    {
     "name": "stdout",
     "output_type": "stream",
     "text": [
      "(700, 1, 32, 32) 0.0 1.0\n",
      "save_data/gen_img_in_distribution.npy\n",
      "(700, 1, 32, 32) 0.0 0.9999975\n"
     ]
    },
    {
     "name": "stderr",
     "output_type": "stream",
     "text": [
      "FID: 100%|██████████| 10/10 [00:00<00:00, 31.37it/s, mean=4.13]\n"
     ]
    },
    {
     "name": "stdout",
     "output_type": "stream",
     "text": [
      "(700, 1, 32, 32) 0.0 1.0\n",
      "save_data/gen_img_out_distribution.npy\n",
      "(700, 1, 32, 32) 0.0 0.9999949\n"
     ]
    },
    {
     "name": "stderr",
     "output_type": "stream",
     "text": [
      "FID: 100%|██████████| 10/10 [00:00<00:00, 30.67it/s, mean=7.04]\n"
     ]
    },
    {
     "name": "stdout",
     "output_type": "stream",
     "text": [
      "\n",
      "The thickness distribution =\n",
      "[0.06052998 0.09770226 0.16933931 0.27283077 0.34777571 0.43027648\n",
      " 0.42105701 0.41780566 0.45971599 0.52276396]\n",
      "Average MSE In dist = 0.826917473212573 \\ Average MSE Out dist = 6.852136792039894\n",
      "FID score in distribution : mean = 4.1328 \\ std = 0.3942\n",
      "FID score out distribution : mean = 7.0368 \\ std = 0.7462\n",
      "[Epoch 54/200] [Batch 104/424] [D loss: 0.142064] [G loss: 0.554669]\n"
     ]
    },
    {
     "name": "stderr",
     "output_type": "stream",
     "text": [
      "100%|##########| 100/100 [00:13<00:00,  7.40img/s]\n"
     ]
    },
    {
     "name": "stdout",
     "output_type": "stream",
     "text": [
      "(700, 1, 32, 32) 0.0 1.0\n",
      "save_data/gen_img_in_distribution.npy\n",
      "(700, 1, 32, 32) 0.0 0.99999994\n"
     ]
    },
    {
     "name": "stderr",
     "output_type": "stream",
     "text": [
      "FID: 100%|██████████| 10/10 [00:00<00:00, 32.46it/s, mean=5.06]\n"
     ]
    },
    {
     "name": "stdout",
     "output_type": "stream",
     "text": [
      "(700, 1, 32, 32) 0.0 1.0\n",
      "save_data/gen_img_out_distribution.npy\n",
      "(700, 1, 32, 32) 0.0 0.99999964\n"
     ]
    },
    {
     "name": "stderr",
     "output_type": "stream",
     "text": [
      "FID: 100%|██████████| 10/10 [00:00<00:00, 30.73it/s, mean=5.41]\n"
     ]
    },
    {
     "name": "stdout",
     "output_type": "stream",
     "text": [
      "\n",
      "The thickness distribution =\n",
      "[0.07585835 0.10408387 0.17840328 0.27199636 0.33327276 0.47453573\n",
      " 0.42833666 0.37738966 0.39509624 0.36145362]\n",
      "Average MSE In dist = 0.9668146558323264 \\ Average MSE Out dist = 12.052402671400056\n",
      "FID score in distribution : mean = 5.0636 \\ std = 0.5193\n",
      "FID score out distribution : mean = 5.4093 \\ std = 0.3398\n",
      "[Epoch 56/200] [Batch 256/424] [D loss: 0.125514] [G loss: 0.661180]\n"
     ]
    },
    {
     "name": "stderr",
     "output_type": "stream",
     "text": [
      "100%|##########| 100/100 [00:13<00:00,  7.50img/s]\n"
     ]
    },
    {
     "name": "stdout",
     "output_type": "stream",
     "text": [
      "(700, 1, 32, 32) 0.0 1.0\n",
      "save_data/gen_img_in_distribution.npy\n",
      "(700, 1, 32, 32) 0.0 0.99995327\n"
     ]
    },
    {
     "name": "stderr",
     "output_type": "stream",
     "text": [
      "FID: 100%|██████████| 10/10 [00:00<00:00, 32.30it/s, mean=4.23]\n"
     ]
    },
    {
     "name": "stdout",
     "output_type": "stream",
     "text": [
      "(700, 1, 32, 32) 0.0 1.0\n",
      "save_data/gen_img_out_distribution.npy\n",
      "(700, 1, 32, 32) 0.0 0.9999844\n"
     ]
    },
    {
     "name": "stderr",
     "output_type": "stream",
     "text": [
      "FID: 100%|██████████| 10/10 [00:00<00:00, 28.37it/s, mean=6.06]\n"
     ]
    },
    {
     "name": "stdout",
     "output_type": "stream",
     "text": [
      "\n",
      "The thickness distribution =\n",
      "[0.05713782 0.08607594 0.1419704  0.27064813 0.36739275 0.41240587\n",
      " 0.45705294 0.50813328 0.4604556  0.44382716]\n",
      "Average MSE In dist = 0.4889559272650893 \\ Average MSE Out dist = 8.58531504092873\n",
      "FID score in distribution : mean = 4.2317 \\ std = 0.5879\n",
      "FID score out distribution : mean = 6.0631 \\ std = 0.5063\n",
      "[Epoch 58/200] [Batch 408/424] [D loss: 0.156698] [G loss: 0.533206]\n"
     ]
    },
    {
     "name": "stderr",
     "output_type": "stream",
     "text": [
      "100%|##########| 100/100 [00:13<00:00,  7.46img/s]\n"
     ]
    },
    {
     "name": "stdout",
     "output_type": "stream",
     "text": [
      "(700, 1, 32, 32) 0.0 1.0\n",
      "save_data/gen_img_in_distribution.npy\n",
      "(700, 1, 32, 32) 0.0 0.9999658\n"
     ]
    },
    {
     "name": "stderr",
     "output_type": "stream",
     "text": [
      "FID: 100%|██████████| 10/10 [00:00<00:00, 27.09it/s, mean=4.5]\n"
     ]
    },
    {
     "name": "stdout",
     "output_type": "stream",
     "text": [
      "(700, 1, 32, 32) 0.0 1.0\n",
      "save_data/gen_img_out_distribution.npy\n",
      "(700, 1, 32, 32) 0.0 0.9999972\n"
     ]
    },
    {
     "name": "stderr",
     "output_type": "stream",
     "text": [
      "FID: 100%|██████████| 10/10 [00:00<00:00, 27.25it/s, mean=8.61]\n"
     ]
    },
    {
     "name": "stdout",
     "output_type": "stream",
     "text": [
      "\n",
      "The thickness distribution =\n",
      "[0.06501465 0.13190791 0.19952122 0.27892575 0.40700277 0.41091685\n",
      " 0.43513514 0.51737306 0.41036682 0.39652357]\n",
      "Average MSE In dist = 0.4925200559515854 \\ Average MSE Out dist = 10.760115595268477\n",
      "FID score in distribution : mean = 4.5032 \\ std = 0.4766\n",
      "FID score out distribution : mean = 8.6133 \\ std = 0.711\n",
      "[Epoch 61/200] [Batch 136/424] [D loss: 0.196523] [G loss: 0.657248]\n"
     ]
    },
    {
     "name": "stderr",
     "output_type": "stream",
     "text": [
      "100%|##########| 100/100 [00:14<00:00,  7.03img/s]\n"
     ]
    },
    {
     "name": "stdout",
     "output_type": "stream",
     "text": [
      "(700, 1, 32, 32) 0.0 1.0\n",
      "save_data/gen_img_in_distribution.npy\n",
      "(700, 1, 32, 32) 0.0 0.99999166\n"
     ]
    },
    {
     "name": "stderr",
     "output_type": "stream",
     "text": [
      "FID: 100%|██████████| 10/10 [00:00<00:00, 27.22it/s, mean=4.45]\n"
     ]
    },
    {
     "name": "stdout",
     "output_type": "stream",
     "text": [
      "(700, 1, 32, 32) 0.0 1.0\n",
      "save_data/gen_img_out_distribution.npy\n",
      "(700, 1, 32, 32) 0.0 0.99999994\n"
     ]
    },
    {
     "name": "stderr",
     "output_type": "stream",
     "text": [
      "FID: 100%|██████████| 10/10 [00:00<00:00, 28.12it/s, mean=6.34]\n"
     ]
    },
    {
     "name": "stdout",
     "output_type": "stream",
     "text": [
      "\n",
      "The thickness distribution =\n",
      "[0.07602122 0.09853071 0.18528711 0.29947059 0.34954393 0.38526757\n",
      " 0.44516678 0.43017406 0.4168787  0.3467281 ]\n",
      "Average MSE In dist = 0.7864077160259798 \\ Average MSE Out dist = 12.023530389025042\n",
      "FID score in distribution : mean = 4.4521 \\ std = 0.3517\n",
      "FID score out distribution : mean = 6.3431 \\ std = 0.7171\n",
      "[Epoch 63/200] [Batch 288/424] [D loss: 0.146451] [G loss: 0.538479]\n"
     ]
    },
    {
     "name": "stderr",
     "output_type": "stream",
     "text": [
      "100%|##########| 100/100 [00:12<00:00,  7.81img/s]\n"
     ]
    },
    {
     "name": "stdout",
     "output_type": "stream",
     "text": [
      "(700, 1, 32, 32) 0.0 1.0\n",
      "save_data/gen_img_in_distribution.npy\n",
      "(700, 1, 32, 32) 0.0 0.99999845\n"
     ]
    },
    {
     "name": "stderr",
     "output_type": "stream",
     "text": [
      "FID: 100%|██████████| 10/10 [00:00<00:00, 27.31it/s, mean=3.64]\n"
     ]
    },
    {
     "name": "stdout",
     "output_type": "stream",
     "text": [
      "(700, 1, 32, 32) 0.0 1.0\n",
      "save_data/gen_img_out_distribution.npy\n",
      "(700, 1, 32, 32) 0.0 0.9999964\n"
     ]
    },
    {
     "name": "stderr",
     "output_type": "stream",
     "text": [
      "FID: 100%|██████████| 10/10 [00:00<00:00, 28.40it/s, mean=6.44]\n"
     ]
    },
    {
     "name": "stdout",
     "output_type": "stream",
     "text": [
      "\n",
      "The thickness distribution =\n",
      "[0.05507492 0.1085917  0.17937632 0.28251574 0.3528787  0.4250329\n",
      " 0.43023225 0.48220109 0.43728879 0.35607355]\n",
      "Average MSE In dist = 0.5836392763229198 \\ Average MSE Out dist = 11.347175971839475\n",
      "FID score in distribution : mean = 3.6351 \\ std = 0.2744\n",
      "FID score out distribution : mean = 6.4409 \\ std = 1.0262\n",
      "[Epoch 66/200] [Batch 16/424] [D loss: 0.188040] [G loss: 0.334351]\n"
     ]
    },
    {
     "name": "stderr",
     "output_type": "stream",
     "text": [
      "100%|##########| 100/100 [00:12<00:00,  7.97img/s]\n"
     ]
    },
    {
     "name": "stdout",
     "output_type": "stream",
     "text": [
      "(700, 1, 32, 32) 0.0 1.0\n",
      "save_data/gen_img_in_distribution.npy\n",
      "(700, 1, 32, 32) 0.0 0.9999884\n"
     ]
    },
    {
     "name": "stderr",
     "output_type": "stream",
     "text": [
      "FID: 100%|██████████| 10/10 [00:00<00:00, 27.75it/s, mean=4.24]\n"
     ]
    },
    {
     "name": "stdout",
     "output_type": "stream",
     "text": [
      "(700, 1, 32, 32) 0.0 1.0\n",
      "save_data/gen_img_out_distribution.npy\n",
      "(700, 1, 32, 32) 0.0 0.9999901\n"
     ]
    },
    {
     "name": "stderr",
     "output_type": "stream",
     "text": [
      "FID: 100%|██████████| 10/10 [00:00<00:00, 31.27it/s, mean=6.37]\n"
     ]
    },
    {
     "name": "stdout",
     "output_type": "stream",
     "text": [
      "\n",
      "The thickness distribution =\n",
      "[0.08578138 0.10732059 0.19605674 0.25446235 0.35596734 0.45278803\n",
      " 0.5056571  0.49234386 0.43852606 0.36344067]\n",
      "Average MSE In dist = 0.4359954391742328 \\ Average MSE Out dist = 11.112061708874368\n",
      "FID score in distribution : mean = 4.2442 \\ std = 0.2658\n",
      "FID score out distribution : mean = 6.3735 \\ std = 0.7776\n",
      "[Epoch 68/200] [Batch 168/424] [D loss: 0.127781] [G loss: 0.516817]\n"
     ]
    },
    {
     "name": "stderr",
     "output_type": "stream",
     "text": [
      "100%|##########| 100/100 [00:12<00:00,  8.16img/s]\n"
     ]
    },
    {
     "name": "stdout",
     "output_type": "stream",
     "text": [
      "(700, 1, 32, 32) 0.0 1.0\n",
      "save_data/gen_img_in_distribution.npy\n",
      "(700, 1, 32, 32) 0.0 0.99999624\n"
     ]
    },
    {
     "name": "stderr",
     "output_type": "stream",
     "text": [
      "FID: 100%|██████████| 10/10 [00:00<00:00, 27.79it/s, mean=5.89]\n"
     ]
    },
    {
     "name": "stdout",
     "output_type": "stream",
     "text": [
      "(700, 1, 32, 32) 0.0 1.0\n",
      "save_data/gen_img_out_distribution.npy\n",
      "(700, 1, 32, 32) 0.0 0.99999887\n"
     ]
    },
    {
     "name": "stderr",
     "output_type": "stream",
     "text": [
      "FID: 100%|██████████| 10/10 [00:00<00:00, 26.66it/s, mean=6.72]\n"
     ]
    },
    {
     "name": "stdout",
     "output_type": "stream",
     "text": [
      "\n",
      "The thickness distribution =\n",
      "[0.07641017 0.11472014 0.18082136 0.28375288 0.37053823 0.36770027\n",
      " 0.4856861  0.52289219 0.41002999 0.3893182 ]\n",
      "Average MSE In dist = 0.4612315002662742 \\ Average MSE Out dist = 10.961086294535914\n",
      "FID score in distribution : mean = 5.8914 \\ std = 0.88\n",
      "FID score out distribution : mean = 6.7155 \\ std = 0.5128\n",
      "[Epoch 70/200] [Batch 320/424] [D loss: 0.150581] [G loss: 0.560289]\n"
     ]
    },
    {
     "name": "stderr",
     "output_type": "stream",
     "text": [
      "100%|##########| 100/100 [00:13<00:00,  7.45img/s]\n"
     ]
    },
    {
     "name": "stdout",
     "output_type": "stream",
     "text": [
      "(700, 1, 32, 32) 0.0 1.0\n",
      "save_data/gen_img_in_distribution.npy\n",
      "(700, 1, 32, 32) 0.0 0.9999938\n"
     ]
    },
    {
     "name": "stderr",
     "output_type": "stream",
     "text": [
      "FID: 100%|██████████| 10/10 [00:00<00:00, 28.05it/s, mean=3.8]\n"
     ]
    },
    {
     "name": "stdout",
     "output_type": "stream",
     "text": [
      "(700, 1, 32, 32) 0.0 1.0\n",
      "save_data/gen_img_out_distribution.npy\n",
      "(700, 1, 32, 32) 0.0 0.99999666\n"
     ]
    },
    {
     "name": "stderr",
     "output_type": "stream",
     "text": [
      "FID: 100%|██████████| 10/10 [00:00<00:00, 30.55it/s, mean=7.08]\n"
     ]
    },
    {
     "name": "stdout",
     "output_type": "stream",
     "text": [
      "\n",
      "The thickness distribution =\n",
      "[0.05765297 0.08569992 0.20234366 0.26217554 0.32011423 0.41581258\n",
      " 0.51583271 0.46691761 0.47432184 0.39351134]\n",
      "Average MSE In dist = 0.529940539186635 \\ Average MSE Out dist = 9.626354640098086\n",
      "FID score in distribution : mean = 3.8019 \\ std = 0.4205\n",
      "FID score out distribution : mean = 7.0772 \\ std = 0.516\n",
      "[Epoch 73/200] [Batch 48/424] [D loss: 0.156574] [G loss: 0.647201]\n"
     ]
    },
    {
     "name": "stderr",
     "output_type": "stream",
     "text": [
      "100%|##########| 100/100 [00:13<00:00,  7.47img/s]\n"
     ]
    },
    {
     "name": "stdout",
     "output_type": "stream",
     "text": [
      "(700, 1, 32, 32) 0.0 1.0\n",
      "save_data/gen_img_in_distribution.npy\n",
      "(700, 1, 32, 32) 0.0 0.9999925\n"
     ]
    },
    {
     "name": "stderr",
     "output_type": "stream",
     "text": [
      "FID: 100%|██████████| 10/10 [00:00<00:00, 30.59it/s, mean=4.82]\n"
     ]
    },
    {
     "name": "stdout",
     "output_type": "stream",
     "text": [
      "(700, 1, 32, 32) 0.0 1.0\n",
      "save_data/gen_img_out_distribution.npy\n",
      "(700, 1, 32, 32) 0.0 0.9999944\n"
     ]
    },
    {
     "name": "stderr",
     "output_type": "stream",
     "text": [
      "FID: 100%|██████████| 10/10 [00:00<00:00, 30.52it/s, mean=7.79]\n"
     ]
    },
    {
     "name": "stdout",
     "output_type": "stream",
     "text": [
      "\n",
      "The thickness distribution =\n",
      "[0.06403475 0.10117771 0.18394788 0.26967529 0.38767123 0.40388761\n",
      " 0.47172274 0.55559996 0.51968363 0.3847331 ]\n",
      "Average MSE In dist = 0.3449634332849899 \\ Average MSE Out dist = 9.13468483771865\n",
      "FID score in distribution : mean = 4.8203 \\ std = 0.5909\n",
      "FID score out distribution : mean = 7.793 \\ std = 1.0702\n",
      "[Epoch 75/200] [Batch 200/424] [D loss: 0.144097] [G loss: 0.621994]\n"
     ]
    },
    {
     "name": "stderr",
     "output_type": "stream",
     "text": [
      "100%|##########| 100/100 [00:13<00:00,  7.15img/s]\n"
     ]
    },
    {
     "name": "stdout",
     "output_type": "stream",
     "text": [
      "(700, 1, 32, 32) 0.0 1.0\n",
      "save_data/gen_img_in_distribution.npy\n",
      "(700, 1, 32, 32) 0.0 0.9999994\n"
     ]
    },
    {
     "name": "stderr",
     "output_type": "stream",
     "text": [
      "FID: 100%|██████████| 10/10 [00:00<00:00, 26.34it/s, mean=3.79]\n"
     ]
    },
    {
     "name": "stdout",
     "output_type": "stream",
     "text": [
      "(700, 1, 32, 32) 0.0 1.0\n",
      "save_data/gen_img_out_distribution.npy\n",
      "(700, 1, 32, 32) 0.0 0.9999912\n"
     ]
    },
    {
     "name": "stderr",
     "output_type": "stream",
     "text": [
      "FID: 100%|██████████| 10/10 [00:00<00:00, 31.76it/s, mean=7.69]\n"
     ]
    },
    {
     "name": "stdout",
     "output_type": "stream",
     "text": [
      "\n",
      "The thickness distribution =\n",
      "[0.06816554 0.12091338 0.19729269 0.29805505 0.39006036 0.48647221\n",
      " 0.50447309 0.46555816 0.47271851 0.40739883]\n",
      "Average MSE In dist = 0.4610466207207847 \\ Average MSE Out dist = 9.285794070654271\n",
      "FID score in distribution : mean = 3.79 \\ std = 0.4885\n",
      "FID score out distribution : mean = 7.6905 \\ std = 0.651\n",
      "[Epoch 77/200] [Batch 352/424] [D loss: 0.139192] [G loss: 0.649082]\n"
     ]
    },
    {
     "name": "stderr",
     "output_type": "stream",
     "text": [
      "100%|##########| 100/100 [00:13<00:00,  7.30img/s]\n"
     ]
    },
    {
     "name": "stdout",
     "output_type": "stream",
     "text": [
      "(700, 1, 32, 32) 0.0 1.0\n",
      "save_data/gen_img_in_distribution.npy\n",
      "(700, 1, 32, 32) 0.0 0.9999795\n"
     ]
    },
    {
     "name": "stderr",
     "output_type": "stream",
     "text": [
      "FID: 100%|██████████| 10/10 [00:00<00:00, 27.65it/s, mean=4.17]\n"
     ]
    },
    {
     "name": "stdout",
     "output_type": "stream",
     "text": [
      "(700, 1, 32, 32) 0.0 1.0\n",
      "save_data/gen_img_out_distribution.npy\n",
      "(700, 1, 32, 32) 0.0 0.9999945\n"
     ]
    },
    {
     "name": "stderr",
     "output_type": "stream",
     "text": [
      "FID: 100%|██████████| 10/10 [00:00<00:00, 30.75it/s, mean=7]\n"
     ]
    },
    {
     "name": "stdout",
     "output_type": "stream",
     "text": [
      "\n",
      "The thickness distribution =\n",
      "[0.07554697 0.11909996 0.2049452  0.27352487 0.35060089 0.40844183\n",
      " 0.4761806  0.44745702 0.48353217 0.38556392]\n",
      "Average MSE In dist = 0.64200502732508 \\ Average MSE Out dist = 9.684743648543126\n",
      "FID score in distribution : mean = 4.1669 \\ std = 0.4913\n",
      "FID score out distribution : mean = 7.0031 \\ std = 0.6889\n",
      "[Epoch 80/200] [Batch 80/424] [D loss: 0.167218] [G loss: 0.562531]\n"
     ]
    },
    {
     "name": "stderr",
     "output_type": "stream",
     "text": [
      "100%|##########| 100/100 [00:12<00:00,  8.01img/s]\n"
     ]
    },
    {
     "name": "stdout",
     "output_type": "stream",
     "text": [
      "(700, 1, 32, 32) 0.0 1.0\n",
      "save_data/gen_img_in_distribution.npy\n",
      "(700, 1, 32, 32) 0.0 0.99998623\n"
     ]
    },
    {
     "name": "stderr",
     "output_type": "stream",
     "text": [
      "FID: 100%|██████████| 10/10 [00:00<00:00, 29.31it/s, mean=5.02]\n"
     ]
    },
    {
     "name": "stdout",
     "output_type": "stream",
     "text": [
      "(700, 1, 32, 32) 0.0 1.0\n",
      "save_data/gen_img_out_distribution.npy\n",
      "(700, 1, 32, 32) 0.0 0.99997\n"
     ]
    },
    {
     "name": "stderr",
     "output_type": "stream",
     "text": [
      "FID: 100%|██████████| 10/10 [00:00<00:00, 31.50it/s, mean=7.03]\n"
     ]
    },
    {
     "name": "stdout",
     "output_type": "stream",
     "text": [
      "\n",
      "The thickness distribution =\n",
      "[0.07398274 0.11520415 0.19909958 0.28884176 0.32062729 0.44250759\n",
      " 0.43707854 0.4628668  0.3861598  0.34643405]\n",
      "Average MSE In dist = 0.6518344059346831 \\ Average MSE Out dist = 12.682122164793393\n",
      "FID score in distribution : mean = 5.02 \\ std = 0.4229\n",
      "FID score out distribution : mean = 7.0278 \\ std = 0.4827\n",
      "[Epoch 82/200] [Batch 232/424] [D loss: 0.134437] [G loss: 0.604232]\n"
     ]
    },
    {
     "name": "stderr",
     "output_type": "stream",
     "text": [
      "100%|##########| 100/100 [00:12<00:00,  8.11img/s]\n"
     ]
    },
    {
     "name": "stdout",
     "output_type": "stream",
     "text": [
      "(700, 1, 32, 32) 0.0 1.0\n",
      "save_data/gen_img_in_distribution.npy\n",
      "(700, 1, 32, 32) 0.0 0.9999974\n"
     ]
    },
    {
     "name": "stderr",
     "output_type": "stream",
     "text": [
      "FID: 100%|██████████| 10/10 [00:00<00:00, 28.33it/s, mean=3.75]\n"
     ]
    },
    {
     "name": "stdout",
     "output_type": "stream",
     "text": [
      "(700, 1, 32, 32) 0.0 1.0\n",
      "save_data/gen_img_out_distribution.npy\n",
      "(700, 1, 32, 32) 0.0 0.99999374\n"
     ]
    },
    {
     "name": "stderr",
     "output_type": "stream",
     "text": [
      "FID: 100%|██████████| 10/10 [00:00<00:00, 28.13it/s, mean=8.21]\n"
     ]
    },
    {
     "name": "stdout",
     "output_type": "stream",
     "text": [
      "\n",
      "The thickness distribution =\n",
      "[0.06036923 0.09977316 0.19630262 0.28149275 0.38492944 0.4463607\n",
      " 0.50795217 0.52062829 0.41416186 0.32812793]\n",
      "Average MSE In dist = 0.31693421664357235 \\ Average MSE Out dist = 12.634594271656834\n",
      "FID score in distribution : mean = 3.7498 \\ std = 0.3819\n",
      "FID score out distribution : mean = 8.213 \\ std = 0.6894\n",
      "[Epoch 84/200] [Batch 384/424] [D loss: 0.164341] [G loss: 0.452576]\n"
     ]
    },
    {
     "name": "stderr",
     "output_type": "stream",
     "text": [
      "100%|##########| 100/100 [00:13<00:00,  7.20img/s]\n"
     ]
    },
    {
     "name": "stdout",
     "output_type": "stream",
     "text": [
      "(700, 1, 32, 32) 0.0 1.0\n",
      "save_data/gen_img_in_distribution.npy\n",
      "(700, 1, 32, 32) 0.0 0.9999994\n"
     ]
    },
    {
     "name": "stderr",
     "output_type": "stream",
     "text": [
      "FID: 100%|██████████| 10/10 [00:00<00:00, 31.93it/s, mean=4.77]\n"
     ]
    },
    {
     "name": "stdout",
     "output_type": "stream",
     "text": [
      "(700, 1, 32, 32) 0.0 1.0\n",
      "save_data/gen_img_out_distribution.npy\n",
      "(700, 1, 32, 32) 0.0 0.9999702\n"
     ]
    },
    {
     "name": "stderr",
     "output_type": "stream",
     "text": [
      "FID: 100%|██████████| 10/10 [00:00<00:00, 32.82it/s, mean=8.81]\n"
     ]
    },
    {
     "name": "stdout",
     "output_type": "stream",
     "text": [
      "\n",
      "The thickness distribution =\n",
      "[0.05348512 0.13481583 0.17240044 0.27228042 0.36672903 0.43688807\n",
      " 0.51499706 0.44038096 0.41342756 0.32598402]\n",
      "Average MSE In dist = 0.5662799584561178 \\ Average MSE Out dist = 12.714872872055874\n",
      "FID score in distribution : mean = 4.7679 \\ std = 0.3973\n",
      "FID score out distribution : mean = 8.8092 \\ std = 0.8018\n",
      "[Epoch 87/200] [Batch 112/424] [D loss: 0.129508] [G loss: 0.529454]\n"
     ]
    },
    {
     "name": "stderr",
     "output_type": "stream",
     "text": [
      "100%|##########| 100/100 [00:13<00:00,  7.42img/s]\n"
     ]
    },
    {
     "name": "stdout",
     "output_type": "stream",
     "text": [
      "(700, 1, 32, 32) 0.0 1.0\n",
      "save_data/gen_img_in_distribution.npy\n",
      "(700, 1, 32, 32) 0.0 0.999998\n"
     ]
    },
    {
     "name": "stderr",
     "output_type": "stream",
     "text": [
      "FID: 100%|██████████| 10/10 [00:00<00:00, 27.00it/s, mean=4.82]\n"
     ]
    },
    {
     "name": "stdout",
     "output_type": "stream",
     "text": [
      "(700, 1, 32, 32) 0.0 1.0\n",
      "save_data/gen_img_out_distribution.npy\n",
      "(700, 1, 32, 32) 0.0 0.99998945\n"
     ]
    },
    {
     "name": "stderr",
     "output_type": "stream",
     "text": [
      "FID: 100%|██████████| 10/10 [00:00<00:00, 32.08it/s, mean=9.02]\n"
     ]
    },
    {
     "name": "stdout",
     "output_type": "stream",
     "text": [
      "\n",
      "The thickness distribution =\n",
      "[0.07040041 0.10856588 0.19713984 0.26866488 0.37108112 0.46470721\n",
      " 0.52384823 0.49537201 0.44848277 0.37417484]\n",
      "Average MSE In dist = 0.37017202930171467 \\ Average MSE Out dist = 10.620841207482687\n",
      "FID score in distribution : mean = 4.8188 \\ std = 0.6229\n",
      "FID score out distribution : mean = 9.0182 \\ std = 0.6488\n",
      "[Epoch 89/200] [Batch 264/424] [D loss: 0.143581] [G loss: 0.689954]\n"
     ]
    },
    {
     "name": "stderr",
     "output_type": "stream",
     "text": [
      "100%|##########| 100/100 [00:12<00:00,  8.00img/s]\n"
     ]
    },
    {
     "name": "stdout",
     "output_type": "stream",
     "text": [
      "(700, 1, 32, 32) 0.0 1.0\n",
      "save_data/gen_img_in_distribution.npy\n",
      "(700, 1, 32, 32) 0.0 0.9999999\n"
     ]
    },
    {
     "name": "stderr",
     "output_type": "stream",
     "text": [
      "FID: 100%|██████████| 10/10 [00:00<00:00, 30.70it/s, mean=4.48]\n"
     ]
    },
    {
     "name": "stdout",
     "output_type": "stream",
     "text": [
      "(700, 1, 32, 32) 0.0 1.0\n",
      "save_data/gen_img_out_distribution.npy\n",
      "(700, 1, 32, 32) 0.0 0.99999875\n"
     ]
    },
    {
     "name": "stderr",
     "output_type": "stream",
     "text": [
      "FID: 100%|██████████| 10/10 [00:00<00:00, 34.57it/s, mean=9.73]\n"
     ]
    },
    {
     "name": "stdout",
     "output_type": "stream",
     "text": [
      "\n",
      "The thickness distribution =\n",
      "[0.07387367 0.12598901 0.17169421 0.25228022 0.35648203 0.43457671\n",
      " 0.49370957 0.51536491 0.43014512 0.34907015]\n",
      "Average MSE In dist = 0.40335537586334463 \\ Average MSE Out dist = 11.689674453394119\n",
      "FID score in distribution : mean = 4.4849 \\ std = 0.5624\n",
      "FID score out distribution : mean = 9.7314 \\ std = 0.9085\n",
      "[Epoch 91/200] [Batch 416/424] [D loss: 0.130269] [G loss: 0.551435]\n"
     ]
    },
    {
     "name": "stderr",
     "output_type": "stream",
     "text": [
      "100%|##########| 100/100 [00:12<00:00,  8.13img/s]\n"
     ]
    },
    {
     "name": "stdout",
     "output_type": "stream",
     "text": [
      "(700, 1, 32, 32) 0.0 1.0\n",
      "save_data/gen_img_in_distribution.npy\n",
      "(700, 1, 32, 32) 0.0 0.99999315\n"
     ]
    },
    {
     "name": "stderr",
     "output_type": "stream",
     "text": [
      "FID: 100%|██████████| 10/10 [00:00<00:00, 28.07it/s, mean=4.48]\n"
     ]
    },
    {
     "name": "stdout",
     "output_type": "stream",
     "text": [
      "(700, 1, 32, 32) 0.0 1.0\n",
      "save_data/gen_img_out_distribution.npy\n",
      "(700, 1, 32, 32) 0.0 0.9999996\n"
     ]
    },
    {
     "name": "stderr",
     "output_type": "stream",
     "text": [
      "FID: 100%|██████████| 10/10 [00:00<00:00, 32.29it/s, mean=9.39]\n"
     ]
    },
    {
     "name": "stdout",
     "output_type": "stream",
     "text": [
      "\n",
      "The thickness distribution =\n",
      "[0.06344493 0.10684185 0.18163757 0.25979616 0.38765883 0.46924122\n",
      " 0.49501152 0.55281148 0.47039801 0.33715324]\n",
      "Average MSE In dist = 0.26422944627599 \\ Average MSE Out dist = 11.294571644229102\n",
      "FID score in distribution : mean = 4.4763 \\ std = 0.4593\n",
      "FID score out distribution : mean = 9.3936 \\ std = 0.6823\n",
      "[Epoch 94/200] [Batch 144/424] [D loss: 0.145063] [G loss: 0.516060]\n"
     ]
    },
    {
     "name": "stderr",
     "output_type": "stream",
     "text": [
      "100%|##########| 100/100 [00:12<00:00,  8.29img/s]\n"
     ]
    },
    {
     "name": "stdout",
     "output_type": "stream",
     "text": [
      "(700, 1, 32, 32) 0.0 1.0\n",
      "save_data/gen_img_in_distribution.npy\n",
      "(700, 1, 32, 32) 0.0 1.0\n"
     ]
    },
    {
     "name": "stderr",
     "output_type": "stream",
     "text": [
      "FID: 100%|██████████| 10/10 [00:00<00:00, 31.86it/s, mean=4.57]\n"
     ]
    },
    {
     "name": "stdout",
     "output_type": "stream",
     "text": [
      "(700, 1, 32, 32) 0.0 1.0\n",
      "save_data/gen_img_out_distribution.npy\n",
      "(700, 1, 32, 32) 0.0 1.0\n"
     ]
    },
    {
     "name": "stderr",
     "output_type": "stream",
     "text": [
      "FID: 100%|██████████| 10/10 [00:00<00:00, 33.99it/s, mean=9.71]\n"
     ]
    },
    {
     "name": "stdout",
     "output_type": "stream",
     "text": [
      "\n",
      "The thickness distribution =\n",
      "[0.05517666 0.10140395 0.19435615 0.30575045 0.3869288  0.40757881\n",
      " 0.53264417 0.46995316 0.433538   0.24172966]\n",
      "Average MSE In dist = 0.4598324059237953 \\ Average MSE Out dist = 15.06922450534231\n",
      "FID score in distribution : mean = 4.575 \\ std = 0.471\n",
      "FID score out distribution : mean = 9.7101 \\ std = 0.746\n"
     ]
    },
    {
     "ename": "KeyboardInterrupt",
     "evalue": "ignored",
     "output_type": "error",
     "traceback": [
      "\u001b[0;31m---------------------------------------------------------------------------\u001b[0m",
      "\u001b[0;31mKeyboardInterrupt\u001b[0m                         Traceback (most recent call last)",
      "\u001b[0;32m<ipython-input-10-010dd2fae03f>\u001b[0m in \u001b[0;36m<module>\u001b[0;34m()\u001b[0m\n\u001b[0;32m----> 1\u001b[0;31m \u001b[0mmse_gan_in_distribution\u001b[0m\u001b[0;34m,\u001b[0m \u001b[0mmse_gan_out_distribution\u001b[0m\u001b[0;34m,\u001b[0m \u001b[0mdf_acc_gen\u001b[0m \u001b[0;34m=\u001b[0m \u001b[0mtrain_loop\u001b[0m\u001b[0;34m(\u001b[0m\u001b[0;34m)\u001b[0m\u001b[0;34m\u001b[0m\u001b[0;34m\u001b[0m\u001b[0m\n\u001b[0m",
      "\u001b[0;32m<ipython-input-9-f35e0f587b52>\u001b[0m in \u001b[0;36mtrain_loop\u001b[0;34m()\u001b[0m\n\u001b[1;32m     91\u001b[0m \u001b[0;34m\u001b[0m\u001b[0m\n\u001b[1;32m     92\u001b[0m             \u001b[0mg_loss\u001b[0m\u001b[0;34m.\u001b[0m\u001b[0mbackward\u001b[0m\u001b[0;34m(\u001b[0m\u001b[0;34m)\u001b[0m\u001b[0;34m\u001b[0m\u001b[0;34m\u001b[0m\u001b[0m\n\u001b[0;32m---> 93\u001b[0;31m             \u001b[0moptimizer_G\u001b[0m\u001b[0;34m.\u001b[0m\u001b[0mstep\u001b[0m\u001b[0;34m(\u001b[0m\u001b[0;34m)\u001b[0m\u001b[0;34m\u001b[0m\u001b[0;34m\u001b[0m\u001b[0m\n\u001b[0m\u001b[1;32m     94\u001b[0m \u001b[0;34m\u001b[0m\u001b[0m\n\u001b[1;32m     95\u001b[0m             \u001b[0;31m# ---------------------\u001b[0m\u001b[0;34m\u001b[0m\u001b[0;34m\u001b[0m\u001b[0;34m\u001b[0m\u001b[0m\n",
      "\u001b[0;32m/usr/local/lib/python3.6/dist-packages/torch/optim/adam.py\u001b[0m in \u001b[0;36mstep\u001b[0;34m(self, closure)\u001b[0m\n\u001b[1;32m    101\u001b[0m                     \u001b[0mdenom\u001b[0m \u001b[0;34m=\u001b[0m \u001b[0;34m(\u001b[0m\u001b[0mmax_exp_avg_sq\u001b[0m\u001b[0;34m.\u001b[0m\u001b[0msqrt\u001b[0m\u001b[0;34m(\u001b[0m\u001b[0;34m)\u001b[0m \u001b[0;34m/\u001b[0m \u001b[0mmath\u001b[0m\u001b[0;34m.\u001b[0m\u001b[0msqrt\u001b[0m\u001b[0;34m(\u001b[0m\u001b[0mbias_correction2\u001b[0m\u001b[0;34m)\u001b[0m\u001b[0;34m)\u001b[0m\u001b[0;34m.\u001b[0m\u001b[0madd_\u001b[0m\u001b[0;34m(\u001b[0m\u001b[0mgroup\u001b[0m\u001b[0;34m[\u001b[0m\u001b[0;34m'eps'\u001b[0m\u001b[0;34m]\u001b[0m\u001b[0;34m)\u001b[0m\u001b[0;34m\u001b[0m\u001b[0;34m\u001b[0m\u001b[0m\n\u001b[1;32m    102\u001b[0m                 \u001b[0;32melse\u001b[0m\u001b[0;34m:\u001b[0m\u001b[0;34m\u001b[0m\u001b[0;34m\u001b[0m\u001b[0m\n\u001b[0;32m--> 103\u001b[0;31m                     \u001b[0mdenom\u001b[0m \u001b[0;34m=\u001b[0m \u001b[0;34m(\u001b[0m\u001b[0mexp_avg_sq\u001b[0m\u001b[0;34m.\u001b[0m\u001b[0msqrt\u001b[0m\u001b[0;34m(\u001b[0m\u001b[0;34m)\u001b[0m \u001b[0;34m/\u001b[0m \u001b[0mmath\u001b[0m\u001b[0;34m.\u001b[0m\u001b[0msqrt\u001b[0m\u001b[0;34m(\u001b[0m\u001b[0mbias_correction2\u001b[0m\u001b[0;34m)\u001b[0m\u001b[0;34m)\u001b[0m\u001b[0;34m.\u001b[0m\u001b[0madd_\u001b[0m\u001b[0;34m(\u001b[0m\u001b[0mgroup\u001b[0m\u001b[0;34m[\u001b[0m\u001b[0;34m'eps'\u001b[0m\u001b[0;34m]\u001b[0m\u001b[0;34m)\u001b[0m\u001b[0;34m\u001b[0m\u001b[0;34m\u001b[0m\u001b[0m\n\u001b[0m\u001b[1;32m    104\u001b[0m \u001b[0;34m\u001b[0m\u001b[0m\n\u001b[1;32m    105\u001b[0m                 \u001b[0mstep_size\u001b[0m \u001b[0;34m=\u001b[0m \u001b[0mgroup\u001b[0m\u001b[0;34m[\u001b[0m\u001b[0;34m'lr'\u001b[0m\u001b[0;34m]\u001b[0m \u001b[0;34m/\u001b[0m \u001b[0mbias_correction1\u001b[0m\u001b[0;34m\u001b[0m\u001b[0;34m\u001b[0m\u001b[0m\n",
      "\u001b[0;31mKeyboardInterrupt\u001b[0m: "
     ]
    }
   ],
   "source": [
    "mse_gan_in_distribution, mse_gan_out_distribution, df_acc_gen = train_loop()"
   ]
  },
  {
   "cell_type": "markdown",
   "metadata": {
    "colab_type": "text",
    "id": "8-GzWkRuLBPR"
   },
   "source": [
    "### Comments :\n",
    "We can see that in distribution the model continue after multiple epochs to converge. But the out of distribution generated data in early epochs start to collapse in modes ! The FID score is decreasing for the distribution present in the training set but not for the out of distribution at a certain point"
   ]
  },
  {
   "cell_type": "markdown",
   "metadata": {
    "colab_type": "text",
    "id": "wrczOgfVi6yZ"
   },
   "source": [
    "### Save/Load the model"
   ]
  },
  {
   "cell_type": "code",
   "execution_count": null,
   "metadata": {
    "colab": {
     "base_uri": "https://localhost:8080/",
     "height": 323
    },
    "colab_type": "code",
    "id": "TFCd9-Oai97j",
    "outputId": "30cdaf87-5769-46f7-8fd6-180555f23963"
   },
   "outputs": [
    {
     "data": {
      "text/plain": [
       "Generator(\n",
       "  (label_emb): Embedding(1, 1)\n",
       "  (model): Sequential(\n",
       "    (0): Linear(in_features=101, out_features=128, bias=True)\n",
       "    (1): LeakyReLU(negative_slope=0.2, inplace=True)\n",
       "    (2): Linear(in_features=128, out_features=256, bias=True)\n",
       "    (3): BatchNorm1d(256, eps=0.8, momentum=0.1, affine=True, track_running_stats=True)\n",
       "    (4): LeakyReLU(negative_slope=0.2, inplace=True)\n",
       "    (5): Linear(in_features=256, out_features=512, bias=True)\n",
       "    (6): BatchNorm1d(512, eps=0.8, momentum=0.1, affine=True, track_running_stats=True)\n",
       "    (7): LeakyReLU(negative_slope=0.2, inplace=True)\n",
       "    (8): Linear(in_features=512, out_features=1024, bias=True)\n",
       "    (9): BatchNorm1d(1024, eps=0.8, momentum=0.1, affine=True, track_running_stats=True)\n",
       "    (10): LeakyReLU(negative_slope=0.2, inplace=True)\n",
       "    (11): Linear(in_features=1024, out_features=784, bias=True)\n",
       "    (12): Tanh()\n",
       "  )\n",
       ")"
      ]
     },
     "execution_count": 8,
     "metadata": {
      "tags": []
     },
     "output_type": "execute_result"
    }
   ],
   "source": [
    "# Then later:\n",
    "best_generator_in_distribution = torch.load(os.path.join(path_generator, 'best_generator_in_distribution.pth'))\n",
    "best_generator_out_distribution = torch.load(os.path.join(path_generator, 'best_generator_out_distribution.pth'))\n",
    "best_generator_in_distribution.eval()\n",
    "best_generator_out_distribution.eval()"
   ]
  },
  {
   "cell_type": "code",
   "execution_count": null,
   "metadata": {
    "colab": {
     "base_uri": "https://localhost:8080/",
     "height": 232
    },
    "colab_type": "code",
    "id": "aYOSTd0rxzn5",
    "outputId": "fd26d3f5-51d2-4d1e-8bad-8a229246259e"
   },
   "outputs": [
    {
     "ename": "NameError",
     "evalue": "ignored",
     "output_type": "error",
     "traceback": [
      "\u001b[0;31m---------------------------------------------------------------------------\u001b[0m",
      "\u001b[0;31mNameError\u001b[0m                                 Traceback (most recent call last)",
      "\u001b[0;32m<ipython-input-9-35bd22c86c00>\u001b[0m in \u001b[0;36m<module>\u001b[0;34m()\u001b[0m\n\u001b[0;32m----> 1\u001b[0;31m \u001b[0mdata_in\u001b[0m \u001b[0;34m=\u001b[0m \u001b[0mnp\u001b[0m\u001b[0;34m.\u001b[0m\u001b[0mmean\u001b[0m\u001b[0;34m(\u001b[0m\u001b[0mmse_gan_in_distribution\u001b[0m\u001b[0;34m,\u001b[0m\u001b[0maxis\u001b[0m\u001b[0;34m=\u001b[0m\u001b[0;36m1\u001b[0m\u001b[0;34m)\u001b[0m\u001b[0;34m\u001b[0m\u001b[0;34m\u001b[0m\u001b[0m\n\u001b[0m\u001b[1;32m      2\u001b[0m \u001b[0mdata_out\u001b[0m \u001b[0;34m=\u001b[0m \u001b[0mnp\u001b[0m\u001b[0;34m.\u001b[0m\u001b[0mmean\u001b[0m\u001b[0;34m(\u001b[0m\u001b[0mmse_gan_out_distribution\u001b[0m\u001b[0;34m,\u001b[0m\u001b[0maxis\u001b[0m\u001b[0;34m=\u001b[0m\u001b[0;36m1\u001b[0m\u001b[0;34m)\u001b[0m\u001b[0;34m\u001b[0m\u001b[0;34m\u001b[0m\u001b[0m\n\u001b[1;32m      3\u001b[0m \u001b[0;34m\u001b[0m\u001b[0m\n\u001b[1;32m      4\u001b[0m \u001b[0;31m# libraries and data\u001b[0m\u001b[0;34m\u001b[0m\u001b[0;34m\u001b[0m\u001b[0;34m\u001b[0m\u001b[0m\n\u001b[1;32m      5\u001b[0m \u001b[0;32mfrom\u001b[0m \u001b[0mmatplotlib\u001b[0m \u001b[0;32mimport\u001b[0m \u001b[0mpyplot\u001b[0m \u001b[0;32mas\u001b[0m \u001b[0mplt\u001b[0m\u001b[0;34m\u001b[0m\u001b[0;34m\u001b[0m\u001b[0m\n",
      "\u001b[0;31mNameError\u001b[0m: name 'mse_gan_in_distribution' is not defined"
     ]
    }
   ],
   "source": [
    "data_in = np.mean(mse_gan_in_distribution,axis=1)\n",
    "data_out = np.mean(mse_gan_out_distribution,axis=1)\n",
    "\n",
    "# libraries and data\n",
    "from matplotlib import pyplot as plt\n",
    "import pandas as pd\n",
    "import numpy as np\n",
    "import seaborn as sns; sns.set(color_codes=True)\n",
    "df=pd.DataFrame({'x': [i * sample_interval * batch_size for i in range(0,len(data_in))], 'y': data_in, 'z': data_out})\n",
    "\n",
    "# fist line:\n",
    "plt.subplots(figsize=(10,5), dpi=100)\n",
    "ax = sns.regplot(x=\"x\", y=\"y\", data=df, label = 'In distribution',\n",
    "                 scatter_kws={\"s\": 80},\n",
    "                 order=3, ci=None)\n",
    "ax = sns.regplot(x=\"x\", y=\"z\", data=df, label = 'Out distribution',\n",
    "                 scatter_kws={\"s\": 80},\n",
    "                 order=2, ci=None)\n",
    "\n",
    "plt.ylabel('Mean Squared Error')\n",
    "plt.xlabel('iterations')\n",
    "plt.legend()\n",
    "plt.title(\"Accuracy without reweighting strategy\")"
   ]
  },
  {
   "cell_type": "markdown",
   "metadata": {
    "colab_type": "text",
    "id": "Mgj6KjFxSgFu"
   },
   "source": [
    "# Forward model"
   ]
  },
  {
   "cell_type": "code",
   "execution_count": null,
   "metadata": {
    "colab": {},
    "colab_type": "code",
    "id": "qzeOmXKRSkh6"
   },
   "outputs": [],
   "source": [
    "#from src.models import train_forward_model\n",
    "from src.models import ForwardModel\n",
    "forward = ForwardModel()\n",
    "\n",
    "def eval_forward(dist, df_check, mean_out, best_res, df_acc_gen, path_forward, model):\n",
    "    if df_check is not None:\n",
    "        if mean_out < df_check[f'mse_{dist}'].iloc[-1]:\n",
    "            print(f\" ---------- Better Results {dist} distribution of : {df_check[f'mse_{dist}'].iloc[-1] - mean_out} ---------- \")\n",
    "            torch.save(model, os.path.join(path_forward, f\"best_forward_{dist}_distribution.pth\"))\n",
    "            save_obj_csv(df_acc_gen, os.path.join(path_forward, f\"results_{dist}_distribution\"))\n",
    "\n",
    "            best_res = mean_out\n",
    "            df_check = None\n",
    "\n",
    "    else:\n",
    "        if mean_out < best_res:\n",
    "            print(f\" ---------- Model Improving {dist} distribution of : {best_res - mean_out}---------- \")\n",
    "            torch.save(model, os.path.join(path_forward, f\"best_forward_{dist}_distribution.pth\"))\n",
    "            save_obj_csv(df_acc_gen, os.path.join(path_forward, f\"results_{dist}_distribution\"))\n",
    "\n",
    "            best_res = mean_out\n",
    "\n",
    "    return df_check, best_res\n",
    "\n",
    "def train_forward_model():\n",
    "    import multiprocessing\n",
    "    from src.metrics import mse\n",
    "    from src.models import ForwardModel, RMSELoss\n",
    "    from morphomnist.measure import measure_batch\n",
    "\n",
    "    forward = ForwardModel()\n",
    "    optimizer_F = torch.optim.Adam(forward.parameters(), lr=0.00001, betas=(0.1, 0.3))\n",
    "    forward_loss = RMSELoss() #nn.MSELoss()\n",
    "\n",
    "    path_forward = '/content/drive/My Drive/master_thesis/models/forward/'\n",
    "    if os.path.exists(path_forward):\n",
    "        df_check = load_obj_csv(os.path.join(path_forward, 'results'))\n",
    "    else:\n",
    "        os.makedirs(path_forward)\n",
    "        df_check = None\n",
    "\n",
    "    FloatTensor = torch.cuda.FloatTensor if cuda else torch.FloatTensor\n",
    "    DoubleTensor = torch.cuda.DoubleTensor if cuda else torch.DoubleTensor\n",
    "\n",
    "    if cuda:\n",
    "        forward.cuda()\n",
    "        forward_loss.cuda()\n",
    "\n",
    "    n_ep = 20\n",
    "    best_res = 10000\n",
    "    df_acc_final = pd.DataFrame(columns=['label_norm', 'forward', 'morpho'])\n",
    "\n",
    "    for epoch in range(n_ep):\n",
    "        for i, (imgs, labels) in enumerate(trainloader):\n",
    "            forward.train()\n",
    "            batch_size = imgs.shape[0]\n",
    "\n",
    "            x = Variable(imgs.type(FloatTensor))\n",
    "            y_labels = Variable(labels.type(FloatTensor))\n",
    "\n",
    "            # -----------------\n",
    "            #  Train forward model\n",
    "            # -----------------\n",
    "\n",
    "            optimizer_F.zero_grad()\n",
    "\n",
    "            # forward predictions\n",
    "            y_pred = forward(x.view(-1,28*28))\n",
    "\n",
    "            # Loss measures model's ability\n",
    "            f_loss = forward_loss(y_pred.squeeze(1), y_labels)\n",
    "            f_loss.backward()\n",
    "            optimizer_F.step()\n",
    "\n",
    "            batches_done = epoch * len(trainloader) + i\n",
    "            if batches_done % 500 == 0:\n",
    "                print(\n",
    "                  f\"[Epoch {epoch}/{n_ep}] [Batch {i}/{len(trainloader)}] [F loss: {f_loss.item()}]\"\n",
    "                )\n",
    "\n",
    "                forward.eval()\n",
    "                df_acc_eval = pd.DataFrame(columns=['label_norm', 'forward', 'morpho'])\n",
    "\n",
    "                for j, (imgs, labels) in enumerate(testloader):\n",
    "            \n",
    "                    if j > 5:\n",
    "                        break\n",
    "    \n",
    "                    x = Variable(imgs.type(FloatTensor))\n",
    "                    y_labels = Variable(labels.type(FloatTensor))\n",
    "    \n",
    "                    # forward predictions\n",
    "                    y_pred = forward(x.view(-1,28*28))\n",
    "\n",
    "                    # accuracy measures model's ability\n",
    "                    mse_model = mse(trainset.scaler.inverse_transform(y_pred.cpu().detach().numpy().reshape(-1,1)).squeeze(), trainset.scaler.inverse_transform(y_labels.cpu().detach().numpy().reshape(-1,1)).squeeze())\n",
    "\n",
    "                    # Measure morpho predictions\n",
    "                    with multiprocessing.Pool() as pool:\n",
    "                          y_measure_morpho = measure_batch(x.squeeze(1).cpu().detach().numpy(), pool=pool)['thickness']\n",
    "\n",
    "                    mse_morpho = mse(y_measure_morpho, trainset.scaler.inverse_transform(y_labels.cpu().detach().numpy().reshape(-1,1)).squeeze())\n",
    "    \n",
    "                    df = pd.DataFrame(y_labels.cpu().detach().numpy(), columns=['label_norm'])\n",
    "                    df['forward'] = mse_model\n",
    "                    df['morpho'] = mse_morpho\n",
    "    \n",
    "                    df_acc_eval = df_acc_eval.append(df, ignore_index=True)\n",
    "                \n",
    "                print(\n",
    "                        f\"[Epoch {epoch}] [Batch {j}/{len(testloader)}] [EVAL acc morpho: {df_acc_eval['morpho'].mean()}] [EVAL acc forward: {df_acc_eval['forward'].mean()}]\"\n",
    "                      )\n",
    "                \n",
    "                # Average of the accuracies\n",
    "                acc_res = pd.DataFrame([df_acc_eval.mean().tolist()], columns=['label_norm', 'forward', 'morpho'])\n",
    "                df_acc_final = df_acc_final.append(acc_res)\n",
    "\n",
    "                # Evaluate and save\n",
    "                df_check, best_res = eval_forward('all', df_check, acc_res['forward'].values, best_res, df_acc_final, path_forward, forward)\n",
    "\n",
    "    return forward, df_acc_final\n",
    "\n"
   ]
  },
  {
   "cell_type": "code",
   "execution_count": null,
   "metadata": {
    "colab": {
     "base_uri": "https://localhost:8080/",
     "height": 1000
    },
    "colab_type": "code",
    "id": "-vyvVOboSllm",
    "outputId": "fe2b107d-3e55-4d73-e6cd-690f13680037"
   },
   "outputs": [
    {
     "name": "stdout",
     "output_type": "stream",
     "text": [
      "[Epoch 0/20] [Batch 0/424] [F loss: 0.34408900141716003]\n",
      "[Epoch 0/20] [Batch 100/424] [F loss: 0.08631154149770737]\n",
      "[Epoch 0/20] [Batch 200/424] [F loss: 0.05563736334443092]\n",
      "[Epoch 0/20] [Batch 300/424] [F loss: 0.046373624354600906]\n",
      "[Epoch 0/20] [Batch 400/424] [F loss: 0.05222231149673462]\n",
      "[Epoch 1/20] [Batch 76/424] [F loss: 0.0380110926926136]\n",
      "[Epoch 1/20] [Batch 176/424] [F loss: 0.033134825527668]\n",
      "[Epoch 1/20] [Batch 276/424] [F loss: 0.03327115252614021]\n",
      "[Epoch 1/20] [Batch 376/424] [F loss: 0.030001306906342506]\n",
      "[Epoch 2/20] [Batch 52/424] [F loss: 0.027746260166168213]\n",
      "[Epoch 2/20] [Batch 152/424] [F loss: 0.03069542534649372]\n",
      "[Epoch 2/20] [Batch 252/424] [F loss: 0.031615905463695526]\n",
      "[Epoch 2/20] [Batch 352/424] [F loss: 0.038629986345767975]\n",
      "[Epoch 3/20] [Batch 28/424] [F loss: 0.03946368023753166]\n",
      "[Epoch 3/20] [Batch 128/424] [F loss: 0.031089523807168007]\n",
      "[Epoch 3/20] [Batch 228/424] [F loss: 0.028694558888673782]\n",
      "[Epoch 3/20] [Batch 328/424] [F loss: 0.030094757676124573]\n",
      "[Epoch 4/20] [Batch 4/424] [F loss: 0.030866699293255806]\n",
      "[Epoch 4/20] [Batch 104/424] [F loss: 0.030177010223269463]\n",
      "[Epoch 4/20] [Batch 204/424] [F loss: 0.028447171673178673]\n",
      "[Epoch 4/20] [Batch 304/424] [F loss: 0.0320475772023201]\n",
      "[Epoch 4/20] [Batch 404/424] [F loss: 0.024224961176514626]\n",
      "[Epoch 5/20] [Batch 80/424] [F loss: 0.03449608385562897]\n",
      "[Epoch 5/20] [Batch 180/424] [F loss: 0.0270287673920393]\n",
      "[Epoch 5/20] [Batch 280/424] [F loss: 0.029936468228697777]\n",
      "[Epoch 5/20] [Batch 380/424] [F loss: 0.026373667642474174]\n",
      "[Epoch 6/20] [Batch 56/424] [F loss: 0.02745698019862175]\n",
      "[Epoch 6/20] [Batch 156/424] [F loss: 0.025081127882003784]\n",
      "[Epoch 6/20] [Batch 256/424] [F loss: 0.027780400589108467]\n",
      "[Epoch 6/20] [Batch 356/424] [F loss: 0.025101836770772934]\n",
      "[Epoch 7/20] [Batch 32/424] [F loss: 0.02812587469816208]\n",
      "[Epoch 7/20] [Batch 132/424] [F loss: 0.02357313595712185]\n",
      "[Epoch 7/20] [Batch 232/424] [F loss: 0.02445928007364273]\n",
      "[Epoch 7/20] [Batch 332/424] [F loss: 0.030268661677837372]\n",
      "[Epoch 8/20] [Batch 8/424] [F loss: 0.02556803449988365]\n",
      "[Epoch 8/20] [Batch 108/424] [F loss: 0.024359581992030144]\n",
      "[Epoch 8/20] [Batch 208/424] [F loss: 0.023290053009986877]\n",
      "[Epoch 8/20] [Batch 308/424] [F loss: 0.02323339693248272]\n",
      "[Epoch 8/20] [Batch 408/424] [F loss: 0.0275910384953022]\n",
      "[Epoch 9/20] [Batch 84/424] [F loss: 0.02565206028521061]\n",
      "[Epoch 9/20] [Batch 184/424] [F loss: 0.02893850952386856]\n",
      "[Epoch 9/20] [Batch 284/424] [F loss: 0.02899659052491188]\n",
      "[Epoch 9/20] [Batch 384/424] [F loss: 0.025016337633132935]\n",
      "[Epoch 10/20] [Batch 60/424] [F loss: 0.023040132597088814]\n",
      "[Epoch 10/20] [Batch 160/424] [F loss: 0.032776474952697754]\n",
      "[Epoch 10/20] [Batch 260/424] [F loss: 0.022115135565400124]\n",
      "[Epoch 10/20] [Batch 360/424] [F loss: 0.02652493305504322]\n",
      "[Epoch 11/20] [Batch 36/424] [F loss: 0.024844972416758537]\n",
      "[Epoch 11/20] [Batch 136/424] [F loss: 0.022990969941020012]\n",
      "[Epoch 11/20] [Batch 236/424] [F loss: 0.02204194851219654]\n",
      "[Epoch 11/20] [Batch 336/424] [F loss: 0.02768523246049881]\n",
      "[Epoch 12/20] [Batch 12/424] [F loss: 0.022211747244000435]\n",
      "[Epoch 12/20] [Batch 112/424] [F loss: 0.02328345738351345]\n",
      "[Epoch 12/20] [Batch 212/424] [F loss: 0.025523442775011063]\n",
      "[Epoch 12/20] [Batch 312/424] [F loss: 0.024697331711649895]\n",
      "[Epoch 12/20] [Batch 412/424] [F loss: 0.024019936099648476]\n",
      "[Epoch 13/20] [Batch 88/424] [F loss: 0.023193061351776123]\n",
      "[Epoch 13/20] [Batch 188/424] [F loss: 0.02206646278500557]\n",
      "[Epoch 13/20] [Batch 288/424] [F loss: 0.022283462807536125]\n",
      "[Epoch 13/20] [Batch 388/424] [F loss: 0.025755776092410088]\n",
      "[Epoch 14/20] [Batch 64/424] [F loss: 0.024864405393600464]\n",
      "[Epoch 14/20] [Batch 164/424] [F loss: 0.021868249401450157]\n",
      "[Epoch 14/20] [Batch 264/424] [F loss: 0.019675353541970253]\n",
      "[Epoch 14/20] [Batch 364/424] [F loss: 0.019458487629890442]\n",
      "[Epoch 15/20] [Batch 40/424] [F loss: 0.02275151014328003]\n",
      "[Epoch 15/20] [Batch 140/424] [F loss: 0.021098129451274872]\n",
      "[Epoch 15/20] [Batch 240/424] [F loss: 0.022614048793911934]\n",
      "[Epoch 15/20] [Batch 340/424] [F loss: 0.02100011147558689]\n",
      "[Epoch 16/20] [Batch 16/424] [F loss: 0.02510976232588291]\n",
      "[Epoch 16/20] [Batch 116/424] [F loss: 0.021572420373558998]\n",
      "[Epoch 16/20] [Batch 216/424] [F loss: 0.022765424102544785]\n",
      "[Epoch 16/20] [Batch 316/424] [F loss: 0.022782238200306892]\n",
      "[Epoch 16/20] [Batch 416/424] [F loss: 0.01987409219145775]\n",
      "[Epoch 17/20] [Batch 92/424] [F loss: 0.018793901428580284]\n",
      "[Epoch 17/20] [Batch 192/424] [F loss: 0.020073840394616127]\n",
      "[Epoch 17/20] [Batch 292/424] [F loss: 0.02311551384627819]\n",
      "[Epoch 17/20] [Batch 392/424] [F loss: 0.02239956147968769]\n",
      "[Epoch 18/20] [Batch 68/424] [F loss: 0.019902335479855537]\n",
      "[Epoch 18/20] [Batch 168/424] [F loss: 0.017813052982091904]\n",
      "[Epoch 18/20] [Batch 268/424] [F loss: 0.027550406754016876]\n",
      "[Epoch 18/20] [Batch 368/424] [F loss: 0.01871214620769024]\n",
      "[Epoch 19/20] [Batch 44/424] [F loss: 0.019782250747084618]\n",
      "[Epoch 19/20] [Batch 144/424] [F loss: 0.020176764577627182]\n",
      "[Epoch 19/20] [Batch 244/424] [F loss: 0.025862013921141624]\n",
      "[Epoch 19/20] [Batch 344/424] [F loss: 0.02152845822274685]\n"
     ]
    },
    {
     "name": "stderr",
     "output_type": "stream",
     "text": [
      "100%|##########| 128/128 [00:13<00:00,  9.54img/s]"
     ]
    },
    {
     "name": "stdout",
     "output_type": "stream",
     "text": [
      "[Epoch 19] [Batch 0/77] [EVAL acc morpho: 0.00441618914122121] [EVAL acc forward: 0.15501639246940613]\n"
     ]
    },
    {
     "name": "stderr",
     "output_type": "stream",
     "text": [
      "\n",
      "100%|##########| 128/128 [00:14<00:00,  9.05img/s]"
     ]
    },
    {
     "name": "stdout",
     "output_type": "stream",
     "text": [
      "[Epoch 19] [Batch 1/77] [EVAL acc morpho: 0.003555447328683835] [EVAL acc forward: 0.1884002834558487]\n"
     ]
    },
    {
     "name": "stderr",
     "output_type": "stream",
     "text": [
      "\n",
      "100%|##########| 128/128 [00:14<00:00,  8.67img/s]"
     ]
    },
    {
     "name": "stdout",
     "output_type": "stream",
     "text": [
      "[Epoch 19] [Batch 2/77] [EVAL acc morpho: 0.004410783838805106] [EVAL acc forward: 0.06911808997392654]\n"
     ]
    },
    {
     "name": "stderr",
     "output_type": "stream",
     "text": [
      "\n",
      "100%|##########| 128/128 [00:14<00:00,  9.06img/s]"
     ]
    },
    {
     "name": "stdout",
     "output_type": "stream",
     "text": [
      "[Epoch 19] [Batch 3/77] [EVAL acc morpho: 0.007273452199127874] [EVAL acc forward: 0.08308978378772736]\n"
     ]
    },
    {
     "name": "stderr",
     "output_type": "stream",
     "text": [
      "\n",
      "100%|##########| 128/128 [00:14<00:00,  8.79img/s]"
     ]
    },
    {
     "name": "stdout",
     "output_type": "stream",
     "text": [
      "[Epoch 19] [Batch 4/77] [EVAL acc morpho: 0.0026037886867432154] [EVAL acc forward: 0.21048174798488617]\n"
     ]
    },
    {
     "name": "stderr",
     "output_type": "stream",
     "text": [
      "\n",
      "100%|##########| 128/128 [00:13<00:00,  9.70img/s]"
     ]
    },
    {
     "name": "stdout",
     "output_type": "stream",
     "text": [
      "[Epoch 19] [Batch 5/77] [EVAL acc morpho: 0.006548393923484809] [EVAL acc forward: 0.08841288834810257]\n"
     ]
    },
    {
     "name": "stderr",
     "output_type": "stream",
     "text": [
      "\n",
      "100%|##########| 128/128 [00:14<00:00,  8.85img/s]"
     ]
    },
    {
     "name": "stdout",
     "output_type": "stream",
     "text": [
      "[Epoch 19] [Batch 6/77] [EVAL acc morpho: 0.01578687529256161] [EVAL acc forward: 0.23184996843338013]\n"
     ]
    },
    {
     "name": "stderr",
     "output_type": "stream",
     "text": [
      "\n",
      "100%|##########| 128/128 [00:13<00:00,  9.51img/s]"
     ]
    },
    {
     "name": "stdout",
     "output_type": "stream",
     "text": [
      "[Epoch 19] [Batch 7/77] [EVAL acc morpho: 0.0057372201148481235] [EVAL acc forward: 0.12326523661613464]\n"
     ]
    },
    {
     "name": "stderr",
     "output_type": "stream",
     "text": [
      "\n",
      "100%|##########| 128/128 [00:13<00:00,  9.44img/s]"
     ]
    },
    {
     "name": "stdout",
     "output_type": "stream",
     "text": [
      "[Epoch 19] [Batch 8/77] [EVAL acc morpho: 0.06550105444740963] [EVAL acc forward: 0.1404602974653244]\n"
     ]
    },
    {
     "name": "stderr",
     "output_type": "stream",
     "text": [
      "\n",
      "100%|##########| 128/128 [00:14<00:00,  8.75img/s]"
     ]
    },
    {
     "name": "stdout",
     "output_type": "stream",
     "text": [
      "[Epoch 19] [Batch 9/77] [EVAL acc morpho: 0.002329063783838068] [EVAL acc forward: 0.09194033592939377]\n"
     ]
    },
    {
     "name": "stderr",
     "output_type": "stream",
     "text": [
      "\n",
      "100%|##########| 128/128 [00:13<00:00,  9.35img/s]"
     ]
    },
    {
     "name": "stdout",
     "output_type": "stream",
     "text": [
      "[Epoch 19] [Batch 10/77] [EVAL acc morpho: 0.006864088361186898] [EVAL acc forward: 0.14167992770671844]\n"
     ]
    },
    {
     "name": "stderr",
     "output_type": "stream",
     "text": [
      "\n",
      "100%|##########| 128/128 [00:14<00:00,  8.84img/s]"
     ]
    },
    {
     "name": "stdout",
     "output_type": "stream",
     "text": [
      "[Epoch 19] [Batch 11/77] [EVAL acc morpho: 0.003352957271250322] [EVAL acc forward: 0.17675860226154327]\n"
     ]
    },
    {
     "name": "stderr",
     "output_type": "stream",
     "text": [
      "\n",
      "100%|##########| 128/128 [00:13<00:00,  9.65img/s]"
     ]
    },
    {
     "name": "stdout",
     "output_type": "stream",
     "text": [
      "[Epoch 19] [Batch 12/77] [EVAL acc morpho: 0.004063483432015279] [EVAL acc forward: 0.21684926748275757]\n"
     ]
    },
    {
     "name": "stderr",
     "output_type": "stream",
     "text": [
      "\n",
      "100%|##########| 128/128 [00:14<00:00,  8.78img/s]"
     ]
    },
    {
     "name": "stdout",
     "output_type": "stream",
     "text": [
      "[Epoch 19] [Batch 13/77] [EVAL acc morpho: 0.007088017748176535] [EVAL acc forward: 0.118186354637146]\n"
     ]
    },
    {
     "name": "stderr",
     "output_type": "stream",
     "text": [
      "\n",
      "100%|##########| 128/128 [00:14<00:00,  8.85img/s]"
     ]
    },
    {
     "name": "stdout",
     "output_type": "stream",
     "text": [
      "[Epoch 19] [Batch 14/77] [EVAL acc morpho: 0.013912194386882366] [EVAL acc forward: 0.1387685239315033]\n"
     ]
    },
    {
     "name": "stderr",
     "output_type": "stream",
     "text": [
      "\n",
      "100%|##########| 128/128 [00:13<00:00,  9.45img/s]"
     ]
    },
    {
     "name": "stdout",
     "output_type": "stream",
     "text": [
      "[Epoch 19] [Batch 15/77] [EVAL acc morpho: 0.0058261936316185235] [EVAL acc forward: 0.16294708847999573]\n"
     ]
    },
    {
     "name": "stderr",
     "output_type": "stream",
     "text": [
      "\n",
      "100%|##########| 128/128 [00:14<00:00,  8.95img/s]"
     ]
    },
    {
     "name": "stdout",
     "output_type": "stream",
     "text": [
      "[Epoch 19] [Batch 16/77] [EVAL acc morpho: 0.015261511066367873] [EVAL acc forward: 0.15862733125686646]\n"
     ]
    },
    {
     "name": "stderr",
     "output_type": "stream",
     "text": [
      "\n",
      "100%|##########| 128/128 [00:14<00:00,  9.09img/s]"
     ]
    },
    {
     "name": "stdout",
     "output_type": "stream",
     "text": [
      "[Epoch 19] [Batch 17/77] [EVAL acc morpho: 0.004191035550139752] [EVAL acc forward: 0.10440631955862045]\n"
     ]
    },
    {
     "name": "stderr",
     "output_type": "stream",
     "text": [
      "\n",
      "100%|##########| 128/128 [00:13<00:00,  9.56img/s]"
     ]
    },
    {
     "name": "stdout",
     "output_type": "stream",
     "text": [
      "[Epoch 19] [Batch 18/77] [EVAL acc morpho: 0.0055243889605279504] [EVAL acc forward: 0.2040109932422638]\n"
     ]
    },
    {
     "name": "stderr",
     "output_type": "stream",
     "text": [
      "\n",
      "100%|##########| 128/128 [00:14<00:00,  9.05img/s]"
     ]
    },
    {
     "name": "stdout",
     "output_type": "stream",
     "text": [
      "[Epoch 19] [Batch 19/77] [EVAL acc morpho: 0.006729463537895044] [EVAL acc forward: 0.11022759228944778]\n"
     ]
    },
    {
     "name": "stderr",
     "output_type": "stream",
     "text": [
      "\n",
      "100%|##########| 128/128 [00:14<00:00,  8.59img/s]\n"
     ]
    },
    {
     "name": "stdout",
     "output_type": "stream",
     "text": [
      "[Epoch 19] [Batch 20/77] [EVAL acc morpho: 0.0051286908029697905] [EVAL acc forward: 0.12968066334724426]\n"
     ]
    }
   ],
   "source": [
    "forward, df_acc = train_forward_model()"
   ]
  },
  {
   "cell_type": "markdown",
   "metadata": {
    "colab_type": "text",
    "id": "d57mOF3OIDUw"
   },
   "source": [
    "### Save the model "
   ]
  },
  {
   "cell_type": "code",
   "execution_count": null,
   "metadata": {
    "colab": {},
    "colab_type": "code",
    "id": "5oJaR0PeIImT"
   },
   "outputs": [],
   "source": [
    "# Then later:\n",
    "forward = torch.load(os.path.join(path_generator, 'best_forward_all_distribution.pth'))\n",
    "forward.eval()\n"
   ]
  },
  {
   "cell_type": "markdown",
   "metadata": {
    "colab_type": "text",
    "id": "gmJCpa23eOlF"
   },
   "source": [
    "### EDA of the forward model\n"
   ]
  },
  {
   "cell_type": "code",
   "execution_count": null,
   "metadata": {
    "colab": {
     "base_uri": "https://localhost:8080/",
     "height": 780
    },
    "colab_type": "code",
    "id": "Arzhps4mQcgW",
    "outputId": "619de76c-89ee-4e7d-babc-621fd1ed8b5d"
   },
   "outputs": [
    {
     "name": "stdout",
     "output_type": "stream",
     "text": [
      "        forward    morpho\n",
      "label                    \n",
      "1.0    0.012488  0.000120\n",
      "2.0    0.020031  0.000317\n",
      "3.0    0.023517  0.001206\n",
      "4.0    0.038617  0.004252\n",
      "5.0    0.054402  0.014134\n",
      "6.0    0.208119  0.024362\n",
      "7.0    0.882440  0.106942\n",
      "8.0    2.647644  0.060411\n",
      "9.0    4.815137  0.158916\n"
     ]
    },
    {
     "name": "stderr",
     "output_type": "stream",
     "text": [
      "/usr/local/lib/python3.6/dist-packages/ipykernel_launcher.py:4: FutureWarning: Indexing with multiple keys (implicitly converted to a tuple of keys) will be deprecated, use a list instead.\n",
      "  after removing the cwd from sys.path.\n",
      "/usr/local/lib/python3.6/dist-packages/statsmodels/tools/_testing.py:19: FutureWarning: pandas.util.testing is deprecated. Use the functions in the public API at pandas.testing instead.\n",
      "  import pandas.util.testing as tm\n"
     ]
    },
    {
     "data": {
      "text/plain": [
       "Text(0, 0.5, 'Label')"
      ]
     },
     "execution_count": 15,
     "metadata": {
      "tags": []
     },
     "output_type": "execute_result"
    },
    {
     "data": {
      "image/png": "[encoded data removed]",
      "text/plain": [
       "<Figure size 1000x500 with 1 Axes>"
      ]
     },
     "metadata": {
      "tags": []
     },
     "output_type": "display_data"
    }
   ],
   "source": [
    "df_acc['label'] = np.around(trainset.scaler.inverse_transform(df_acc['label_norm'].values.reshape(-1, 1)).squeeze())\n",
    "#print(df_acc.groupby(['label'])['forward', 'morpho'].mean())\n",
    "\n",
    "df_results = df_acc.groupby(['label'])['forward', 'morpho'].mean()\n",
    "print(df_results)\n",
    "\n",
    "import matplotlib.pyplot as plt\n",
    "import seaborn as sns; sns.set(color_codes=True)\n",
    "\n",
    "my_range=range(1,len(df_results.index)+1)\n",
    "plt.subplots(figsize=(10,5), dpi=100)\n",
    "plt.hlines(y=my_range, xmin=0, xmax=df_results['forward'], color=['skyblue',\n",
    "                                                                  'skyblue',\n",
    "                                                                  'skyblue',\n",
    "                                                                  'skyblue',\n",
    "                                                                  'skyblue',\n",
    "                                                                  'skyblue',\n",
    "                                                                  'darkorange',\n",
    "                                                                  'darkorange',\n",
    "                                                                  'darkorange'])\n",
    "plt.plot(df_results['forward'], my_range, \"o\")\n",
    " \n",
    "# Add titles and axis names\n",
    "plt.yticks(my_range, df_results.index)\n",
    "plt.title(\"Label Mean Squarred Error\")\n",
    "plt.xlabel('MSE')\n",
    "plt.ylabel('Label')"
   ]
  },
  {
   "cell_type": "code",
   "execution_count": null,
   "metadata": {
    "colab": {
     "base_uri": "https://localhost:8080/",
     "height": 285
    },
    "colab_type": "code",
    "id": "qRoATOdBddkF",
    "outputId": "9999dcac-cbf0-4662-f7c3-0736927e966d"
   },
   "outputs": [
    {
     "data": {
      "text/plain": [
       "<matplotlib.axes._subplots.AxesSubplot at 0x7f461b583668>"
      ]
     },
     "execution_count": 16,
     "metadata": {
      "tags": []
     },
     "output_type": "execute_result"
    },
    {
     "data": {
      "image/png": "[encoded data removed]",
      "text/plain": [
       "<Figure size 432x288 with 1 Axes>"
      ]
     },
     "metadata": {
      "tags": []
     },
     "output_type": "display_data"
    }
   ],
   "source": [
    "df_acc[df_acc['label']==8]['forward'].plot.hist(bins=15)\n"
   ]
  },
  {
   "cell_type": "code",
   "execution_count": null,
   "metadata": {
    "colab": {
     "base_uri": "https://localhost:8080/",
     "height": 285
    },
    "colab_type": "code",
    "id": "4lEkv3VHeFmS",
    "outputId": "09e76b77-3fe3-47f2-a486-e952e382b656"
   },
   "outputs": [
    {
     "data": {
      "text/plain": [
       "<matplotlib.axes._subplots.AxesSubplot at 0x7f461455a9b0>"
      ]
     },
     "execution_count": 17,
     "metadata": {
      "tags": []
     },
     "output_type": "execute_result"
    },
    {
     "data": {
      "image/png": "[encoded data removed]",
      "text/plain": [
       "<Figure size 432x288 with 1 Axes>"
      ]
     },
     "metadata": {
      "tags": []
     },
     "output_type": "display_data"
    }
   ],
   "source": [
    "df_acc[df_acc['label']==7]['forward'].plot.hist(bins=15)\n"
   ]
  },
  {
   "cell_type": "code",
   "execution_count": null,
   "metadata": {
    "colab": {
     "base_uri": "https://localhost:8080/",
     "height": 285
    },
    "colab_type": "code",
    "id": "amdFChgMeHKz",
    "outputId": "4737eb09-fd13-424d-e4bd-a60183004b2d"
   },
   "outputs": [
    {
     "data": {
      "text/plain": [
       "<matplotlib.axes._subplots.AxesSubplot at 0x7f4616801358>"
      ]
     },
     "execution_count": 18,
     "metadata": {
      "tags": []
     },
     "output_type": "execute_result"
    },
    {
     "data": {
      "image/png": "[encoded data removed]",
      "text/plain": [
       "<Figure size 432x288 with 1 Axes>"
      ]
     },
     "metadata": {
      "tags": []
     },
     "output_type": "display_data"
    }
   ],
   "source": [
    "df_acc[df_acc['label']==6]['forward'].plot.hist(bins=15)"
   ]
  },
  {
   "cell_type": "markdown",
   "metadata": {
    "colab_type": "text",
    "id": "PR12OXWFoE2s"
   },
   "source": [
    "# Monter Carlo inference"
   ]
  },
  {
   "cell_type": "code",
   "execution_count": null,
   "metadata": {
    "colab": {},
    "colab_type": "code",
    "id": "nVdvAg0Vnacs"
   },
   "outputs": [],
   "source": [
    "from src.inference import monte_carlo_inference"
   ]
  },
  {
   "cell_type": "code",
   "execution_count": null,
   "metadata": {
    "colab": {},
    "colab_type": "code",
    "id": "Jy_bNYnl0XA_"
   },
   "outputs": [],
   "source": [
    "generator = best_generator_in_distribution"
   ]
  },
  {
   "cell_type": "code",
   "execution_count": null,
   "metadata": {
    "colab": {
     "base_uri": "https://localhost:8080/",
     "height": 494
    },
    "colab_type": "code",
    "id": "gFMzc0EKGafU",
    "outputId": "5a8fe61e-a6e0-460e-8d49-c3fdffc1366e"
   },
   "outputs": [
    {
     "name": "stderr",
     "output_type": "stream",
     "text": [
      "  0%|          | 0/300 [00:00<?, ?img/s]Process ForkPoolWorker-243:\n",
      "Process ForkPoolWorker-242:\n",
      "Process ForkPoolWorker-244:\n",
      "Process ForkPoolWorker-241:\n"
     ]
    },
    {
     "ename": "KeyboardInterrupt",
     "evalue": "ignored",
     "output_type": "error",
     "traceback": [
      "\u001b[0;31m---------------------------------------------------------------------------\u001b[0m",
      "\u001b[0;31mIndexError\u001b[0m                                Traceback (most recent call last)",
      "\u001b[0;32m/usr/lib/python3.6/multiprocessing/pool.py\u001b[0m in \u001b[0;36mnext\u001b[0;34m(self, timeout)\u001b[0m\n\u001b[1;32m    719\u001b[0m             \u001b[0;32mtry\u001b[0m\u001b[0;34m:\u001b[0m\u001b[0;34m\u001b[0m\u001b[0;34m\u001b[0m\u001b[0m\n\u001b[0;32m--> 720\u001b[0;31m                 \u001b[0mitem\u001b[0m \u001b[0;34m=\u001b[0m \u001b[0mself\u001b[0m\u001b[0;34m.\u001b[0m\u001b[0m_items\u001b[0m\u001b[0;34m.\u001b[0m\u001b[0mpopleft\u001b[0m\u001b[0;34m(\u001b[0m\u001b[0;34m)\u001b[0m\u001b[0;34m\u001b[0m\u001b[0;34m\u001b[0m\u001b[0m\n\u001b[0m\u001b[1;32m    721\u001b[0m             \u001b[0;32mexcept\u001b[0m \u001b[0mIndexError\u001b[0m\u001b[0;34m:\u001b[0m\u001b[0;34m\u001b[0m\u001b[0;34m\u001b[0m\u001b[0m\n",
      "\u001b[0;31mIndexError\u001b[0m: pop from an empty deque",
      "\nDuring handling of the above exception, another exception occurred:\n",
      "\u001b[0;31mKeyboardInterrupt\u001b[0m                         Traceback (most recent call last)",
      "\u001b[0;32m<ipython-input-26-118346074d7f>\u001b[0m in \u001b[0;36m<module>\u001b[0;34m()\u001b[0m\n\u001b[0;32m----> 1\u001b[0;31m \u001b[0mmonte_carlo_inference\u001b[0m\u001b[0;34m(\u001b[0m\u001b[0;36m9\u001b[0m\u001b[0;34m,\u001b[0m \u001b[0mgenerator\u001b[0m\u001b[0;34m,\u001b[0m \u001b[0mforward\u001b[0m\u001b[0;34m,\u001b[0m \u001b[0mtrainset\u001b[0m\u001b[0;34m,\u001b[0m \u001b[0mfulldataset\u001b[0m\u001b[0;34m,\u001b[0m \u001b[0msample_number\u001b[0m \u001b[0;34m=\u001b[0m \u001b[0;36m300\u001b[0m\u001b[0;34m)\u001b[0m\u001b[0;34m\u001b[0m\u001b[0;34m\u001b[0m\u001b[0m\n\u001b[0m",
      "\u001b[0;32m/content/src/inference/inference.py\u001b[0m in \u001b[0;36mmonte_carlo_inference\u001b[0;34m(target, generator, forward, trainset, testset, ncol, nrow, sample_number)\u001b[0m\n\u001b[1;32m    104\u001b[0m \u001b[0;34m\u001b[0m\u001b[0m\n\u001b[1;32m    105\u001b[0m     \u001b[0;31m# ------------ Compare the forward model and the Measure from morphomnist ------------\u001b[0m\u001b[0;34m\u001b[0m\u001b[0;34m\u001b[0m\u001b[0;34m\u001b[0m\u001b[0m\n\u001b[0;32m--> 106\u001b[0;31m     \u001b[0mthickness\u001b[0m \u001b[0;34m=\u001b[0m \u001b[0mcompute_thickness_ground_truth\u001b[0m\u001b[0;34m(\u001b[0m\u001b[0mimages_generated\u001b[0m\u001b[0;34m)\u001b[0m\u001b[0;34m\u001b[0m\u001b[0;34m\u001b[0m\u001b[0m\n\u001b[0m\u001b[1;32m    107\u001b[0m \u001b[0;34m\u001b[0m\u001b[0m\n\u001b[1;32m    108\u001b[0m     \u001b[0;31m# ------------ Compute the mse between the target and the morpho measure predictions ------------\u001b[0m\u001b[0;34m\u001b[0m\u001b[0;34m\u001b[0m\u001b[0;34m\u001b[0m\u001b[0m\n",
      "\u001b[0;32m/content/src/metrics/metrics.py\u001b[0m in \u001b[0;36mcompute_thickness_ground_truth\u001b[0;34m(images_generated)\u001b[0m\n\u001b[1;32m     55\u001b[0m \u001b[0;32mdef\u001b[0m \u001b[0mcompute_thickness_ground_truth\u001b[0m\u001b[0;34m(\u001b[0m\u001b[0mimages_generated\u001b[0m\u001b[0;34m)\u001b[0m\u001b[0;34m:\u001b[0m\u001b[0;34m\u001b[0m\u001b[0;34m\u001b[0m\u001b[0m\n\u001b[1;32m     56\u001b[0m     \u001b[0;32mwith\u001b[0m \u001b[0mmultiprocessing\u001b[0m\u001b[0;34m.\u001b[0m\u001b[0mPool\u001b[0m\u001b[0;34m(\u001b[0m\u001b[0;34m)\u001b[0m \u001b[0;32mas\u001b[0m \u001b[0mpool\u001b[0m\u001b[0;34m:\u001b[0m\u001b[0;34m\u001b[0m\u001b[0;34m\u001b[0m\u001b[0m\n\u001b[0;32m---> 57\u001b[0;31m         \u001b[0mthickness\u001b[0m \u001b[0;34m=\u001b[0m \u001b[0mmeasure_batch\u001b[0m\u001b[0;34m(\u001b[0m\u001b[0mimages_generated\u001b[0m\u001b[0;34m,\u001b[0m \u001b[0mpool\u001b[0m\u001b[0;34m=\u001b[0m\u001b[0mpool\u001b[0m\u001b[0;34m)\u001b[0m\u001b[0;34m[\u001b[0m\u001b[0;34m'thickness'\u001b[0m\u001b[0;34m]\u001b[0m\u001b[0;34m\u001b[0m\u001b[0;34m\u001b[0m\u001b[0m\n\u001b[0m\u001b[1;32m     58\u001b[0m     \u001b[0;32mreturn\u001b[0m \u001b[0mthickness\u001b[0m\u001b[0;34m\u001b[0m\u001b[0;34m\u001b[0m\u001b[0m\n\u001b[1;32m     59\u001b[0m \u001b[0;34m\u001b[0m\u001b[0m\n",
      "\u001b[0;32m/content/morphomnist/measure.py\u001b[0m in \u001b[0;36mmeasure_batch\u001b[0;34m(images, threshold, scale, bound_frac, pool, chunksize)\u001b[0m\n\u001b[1;32m    134\u001b[0m         \u001b[0mgen\u001b[0m \u001b[0;34m=\u001b[0m \u001b[0mplain_progress\u001b[0m\u001b[0;34m(\u001b[0m\u001b[0mgen\u001b[0m\u001b[0;34m)\u001b[0m\u001b[0;34m\u001b[0m\u001b[0;34m\u001b[0m\u001b[0m\n\u001b[1;32m    135\u001b[0m \u001b[0;34m\u001b[0m\u001b[0m\n\u001b[0;32m--> 136\u001b[0;31m     \u001b[0mresults\u001b[0m \u001b[0;34m=\u001b[0m \u001b[0mlist\u001b[0m\u001b[0;34m(\u001b[0m\u001b[0mgen\u001b[0m\u001b[0;34m)\u001b[0m\u001b[0;34m\u001b[0m\u001b[0;34m\u001b[0m\u001b[0m\n\u001b[0m\u001b[1;32m    137\u001b[0m     \u001b[0mdf\u001b[0m \u001b[0;34m=\u001b[0m \u001b[0mpd\u001b[0m\u001b[0;34m.\u001b[0m\u001b[0mDataFrame\u001b[0m\u001b[0;34m(\u001b[0m\u001b[0mresults\u001b[0m\u001b[0;34m)\u001b[0m\u001b[0;34m\u001b[0m\u001b[0;34m\u001b[0m\u001b[0m\n\u001b[1;32m    138\u001b[0m     \u001b[0;32mreturn\u001b[0m \u001b[0mdf\u001b[0m\u001b[0;34m\u001b[0m\u001b[0;34m\u001b[0m\u001b[0m\n",
      "\u001b[0;32m/usr/local/lib/python3.6/dist-packages/tqdm/std.py\u001b[0m in \u001b[0;36m__iter__\u001b[0;34m(self)\u001b[0m\n\u001b[1;32m   1089\u001b[0m             \"\"\"), fp_write=getattr(self.fp, 'write', sys.stderr.write))\n\u001b[1;32m   1090\u001b[0m \u001b[0;34m\u001b[0m\u001b[0m\n\u001b[0;32m-> 1091\u001b[0;31m         \u001b[0;32mfor\u001b[0m \u001b[0mobj\u001b[0m \u001b[0;32min\u001b[0m \u001b[0miterable\u001b[0m\u001b[0;34m:\u001b[0m\u001b[0;34m\u001b[0m\u001b[0;34m\u001b[0m\u001b[0m\n\u001b[0m\u001b[1;32m   1092\u001b[0m             \u001b[0;32myield\u001b[0m \u001b[0mobj\u001b[0m\u001b[0;34m\u001b[0m\u001b[0;34m\u001b[0m\u001b[0m\n\u001b[1;32m   1093\u001b[0m             \u001b[0;31m# Update and possibly print the progressbar.\u001b[0m\u001b[0;34m\u001b[0m\u001b[0;34m\u001b[0m\u001b[0;34m\u001b[0m\u001b[0m\n",
      "\u001b[0;32m/usr/lib/python3.6/multiprocessing/pool.py\u001b[0m in \u001b[0;36m<genexpr>\u001b[0;34m(.0)\u001b[0m\n\u001b[1;32m    318\u001b[0m                     \u001b[0mresult\u001b[0m\u001b[0;34m.\u001b[0m\u001b[0m_set_length\u001b[0m\u001b[0;34m\u001b[0m\u001b[0;34m\u001b[0m\u001b[0m\n\u001b[1;32m    319\u001b[0m                 ))\n\u001b[0;32m--> 320\u001b[0;31m             \u001b[0;32mreturn\u001b[0m \u001b[0;34m(\u001b[0m\u001b[0mitem\u001b[0m \u001b[0;32mfor\u001b[0m \u001b[0mchunk\u001b[0m \u001b[0;32min\u001b[0m \u001b[0mresult\u001b[0m \u001b[0;32mfor\u001b[0m \u001b[0mitem\u001b[0m \u001b[0;32min\u001b[0m \u001b[0mchunk\u001b[0m\u001b[0;34m)\u001b[0m\u001b[0;34m\u001b[0m\u001b[0;34m\u001b[0m\u001b[0m\n\u001b[0m\u001b[1;32m    321\u001b[0m \u001b[0;34m\u001b[0m\u001b[0m\n\u001b[1;32m    322\u001b[0m     \u001b[0;32mdef\u001b[0m \u001b[0mimap_unordered\u001b[0m\u001b[0;34m(\u001b[0m\u001b[0mself\u001b[0m\u001b[0;34m,\u001b[0m \u001b[0mfunc\u001b[0m\u001b[0;34m,\u001b[0m \u001b[0miterable\u001b[0m\u001b[0;34m,\u001b[0m \u001b[0mchunksize\u001b[0m\u001b[0;34m=\u001b[0m\u001b[0;36m1\u001b[0m\u001b[0;34m)\u001b[0m\u001b[0;34m:\u001b[0m\u001b[0;34m\u001b[0m\u001b[0;34m\u001b[0m\u001b[0m\n",
      "\u001b[0;32m/usr/lib/python3.6/multiprocessing/pool.py\u001b[0m in \u001b[0;36mnext\u001b[0;34m(self, timeout)\u001b[0m\n\u001b[1;32m    722\u001b[0m                 \u001b[0;32mif\u001b[0m \u001b[0mself\u001b[0m\u001b[0;34m.\u001b[0m\u001b[0m_index\u001b[0m \u001b[0;34m==\u001b[0m \u001b[0mself\u001b[0m\u001b[0;34m.\u001b[0m\u001b[0m_length\u001b[0m\u001b[0;34m:\u001b[0m\u001b[0;34m\u001b[0m\u001b[0;34m\u001b[0m\u001b[0m\n\u001b[1;32m    723\u001b[0m                     \u001b[0;32mraise\u001b[0m \u001b[0mStopIteration\u001b[0m\u001b[0;34m\u001b[0m\u001b[0;34m\u001b[0m\u001b[0m\n\u001b[0;32m--> 724\u001b[0;31m                 \u001b[0mself\u001b[0m\u001b[0;34m.\u001b[0m\u001b[0m_cond\u001b[0m\u001b[0;34m.\u001b[0m\u001b[0mwait\u001b[0m\u001b[0;34m(\u001b[0m\u001b[0mtimeout\u001b[0m\u001b[0;34m)\u001b[0m\u001b[0;34m\u001b[0m\u001b[0;34m\u001b[0m\u001b[0m\n\u001b[0m\u001b[1;32m    725\u001b[0m                 \u001b[0;32mtry\u001b[0m\u001b[0;34m:\u001b[0m\u001b[0;34m\u001b[0m\u001b[0;34m\u001b[0m\u001b[0m\n\u001b[1;32m    726\u001b[0m                     \u001b[0mitem\u001b[0m \u001b[0;34m=\u001b[0m \u001b[0mself\u001b[0m\u001b[0;34m.\u001b[0m\u001b[0m_items\u001b[0m\u001b[0;34m.\u001b[0m\u001b[0mpopleft\u001b[0m\u001b[0;34m(\u001b[0m\u001b[0;34m)\u001b[0m\u001b[0;34m\u001b[0m\u001b[0;34m\u001b[0m\u001b[0m\n",
      "\u001b[0;32m/usr/lib/python3.6/threading.py\u001b[0m in \u001b[0;36mwait\u001b[0;34m(self, timeout)\u001b[0m\n\u001b[1;32m    293\u001b[0m         \u001b[0;32mtry\u001b[0m\u001b[0;34m:\u001b[0m    \u001b[0;31m# restore state no matter what (e.g., KeyboardInterrupt)\u001b[0m\u001b[0;34m\u001b[0m\u001b[0;34m\u001b[0m\u001b[0m\n\u001b[1;32m    294\u001b[0m             \u001b[0;32mif\u001b[0m \u001b[0mtimeout\u001b[0m \u001b[0;32mis\u001b[0m \u001b[0;32mNone\u001b[0m\u001b[0;34m:\u001b[0m\u001b[0;34m\u001b[0m\u001b[0;34m\u001b[0m\u001b[0m\n\u001b[0;32m--> 295\u001b[0;31m                 \u001b[0mwaiter\u001b[0m\u001b[0;34m.\u001b[0m\u001b[0macquire\u001b[0m\u001b[0;34m(\u001b[0m\u001b[0;34m)\u001b[0m\u001b[0;34m\u001b[0m\u001b[0;34m\u001b[0m\u001b[0m\n\u001b[0m\u001b[1;32m    296\u001b[0m                 \u001b[0mgotit\u001b[0m \u001b[0;34m=\u001b[0m \u001b[0;32mTrue\u001b[0m\u001b[0;34m\u001b[0m\u001b[0;34m\u001b[0m\u001b[0m\n\u001b[1;32m    297\u001b[0m             \u001b[0;32melse\u001b[0m\u001b[0;34m:\u001b[0m\u001b[0;34m\u001b[0m\u001b[0;34m\u001b[0m\u001b[0m\n",
      "\u001b[0;31mKeyboardInterrupt\u001b[0m: "
     ]
    }
   ],
   "source": [
    "monte_carlo_inference(9, generator, forward, trainset, fulldataset, sample_number = 300)"
   ]
  },
  {
   "cell_type": "code",
   "execution_count": null,
   "metadata": {
    "colab": {},
    "colab_type": "code",
    "id": "QLcD1I2ANwM6"
   },
   "outputs": [],
   "source": [
    "monte_carlo_inference(8, generator, forward, trainset, fulldataset, sample_number = 600)"
   ]
  },
  {
   "cell_type": "code",
   "execution_count": null,
   "metadata": {
    "colab": {},
    "colab_type": "code",
    "id": "YHixxI6sOGmJ"
   },
   "outputs": [],
   "source": [
    "monte_carlo_inference(7, generator, forward, trainset, fulldataset, sample_number = 1000)"
   ]
  },
  {
   "cell_type": "code",
   "execution_count": null,
   "metadata": {
    "colab": {},
    "colab_type": "code",
    "id": "LQpCSMheOJGp"
   },
   "outputs": [],
   "source": [
    "monte_carlo_inference(6, generator, forward, trainset, fulldataset, sample_number = 2000)"
   ]
  },
  {
   "cell_type": "code",
   "execution_count": null,
   "metadata": {
    "colab": {
     "base_uri": "https://localhost:8080/",
     "height": 1000
    },
    "colab_type": "code",
    "id": "oABGP42TOVh3",
    "outputId": "a99cb03c-9b52-4f84-f67f-82380ff71557"
   },
   "outputs": [
    {
     "name": "stderr",
     "output_type": "stream",
     "text": [
      "\n",
      "  0%|          | 0/2000 [00:00<?, ?img/s]\u001b[A\n",
      "  0%|          | 1/2000 [00:23<12:55:51, 23.29s/img]\u001b[A\n",
      " 20%|##        | 401/2000 [00:43<7:14:50, 16.32s/img]\u001b[A\n",
      " 25%|##5       | 501/2000 [00:44<4:45:25, 11.42s/img]\u001b[A\n",
      " 35%|###5      | 701/2000 [00:45<2:53:10,  8.00s/img]\u001b[A\n",
      " 35%|###5      | 701/2000 [00:57<2:53:10,  8.00s/img]\u001b[A\n",
      " 40%|####      | 801/2000 [01:05<1:53:03,  5.66s/img]\u001b[A\n",
      " 45%|####5     | 901/2000 [01:05<1:12:34,  3.96s/img]\u001b[A\n",
      " 50%|#####     | 1001/2000 [01:08<46:17,  2.78s/img] \u001b[A\n",
      " 55%|#####5    | 1101/2000 [01:08<29:10,  1.95s/img]\u001b[A\n",
      " 60%|######    | 1201/2000 [01:27<18:53,  1.42s/img]\u001b[A\n",
      " 65%|######5   | 1301/2000 [01:28<11:36,  1.00img/s]\u001b[A\n",
      " 70%|#######   | 1401/2000 [01:30<07:01,  1.42img/s]\u001b[A\n",
      " 75%|#######5  | 1501/2000 [01:30<04:06,  2.02img/s]\u001b[A\n",
      " 75%|#######5  | 1501/2000 [01:47<04:06,  2.02img/s]\u001b[A\n",
      " 80%|########  | 1601/2000 [01:48<02:39,  2.50img/s]\u001b[A\n",
      " 85%|########5 | 1701/2000 [01:50<01:25,  3.50img/s]\u001b[A\n",
      " 90%|######### | 1801/2000 [01:51<00:40,  4.96img/s]\u001b[A\n",
      "100%|##########| 2000/2000 [01:51<00:00, 17.93img/s]\n",
      "\n",
      "  0%|          | 0/4 [00:00<?, ?img/s]\u001b[A\n",
      "100%|##########| 4/4 [00:00<00:00,  8.58img/s]"
     ]
    },
    {
     "name": "stdout",
     "output_type": "stream",
     "text": [
      "\n",
      " ------------ Best forward image ------------\n",
      "MSE measure pred = 0.2927919183535529\n",
      "MSE morpho on Generated data: 1.618456526261352\n"
     ]
    },
    {
     "name": "stderr",
     "output_type": "stream",
     "text": [
      "\n"
     ]
    },
    {
     "name": "stdout",
     "output_type": "stream",
     "text": [
      "(2000, 1, 32, 32) 0.0 1.0\n",
      "save_data/gen_img_in_distribution.npy\n",
      "(2000, 1, 32, 32) 0.0 0.9996405\n"
     ]
    },
    {
     "name": "stderr",
     "output_type": "stream",
     "text": [
      "\n",
      "FID:   0%|          | 0/10 [00:00<?, ?it/s]\u001b[A\n",
      "FID:   0%|          | 0/10 [00:00<?, ?it/s, mean=16.5]\u001b[A\n",
      "FID:   0%|          | 0/10 [00:00<?, ?it/s, mean=16.7]\u001b[A\n",
      "FID:   0%|          | 0/10 [00:00<?, ?it/s, mean=16.6]\u001b[A\n",
      "FID:   0%|          | 0/10 [00:00<?, ?it/s, mean=16.4]\u001b[A\n",
      "FID:  40%|████      | 4/10 [00:00<00:00, 38.70it/s, mean=16.4]\u001b[A\n",
      "FID:  40%|████      | 4/10 [00:00<00:00, 38.70it/s, mean=16.5]\u001b[A\n",
      "FID:  40%|████      | 4/10 [00:00<00:00, 38.70it/s, mean=16.6]\u001b[A\n",
      "FID:  40%|████      | 4/10 [00:00<00:00, 38.70it/s, mean=16.6]\u001b[A\n",
      "FID:  40%|████      | 4/10 [00:00<00:00, 38.70it/s, mean=16.5]\u001b[A\n",
      "FID:  80%|████████  | 8/10 [00:00<00:00, 38.17it/s, mean=16.5]\u001b[A\n",
      "FID:  80%|████████  | 8/10 [00:00<00:00, 38.17it/s, mean=16.5]\u001b[A\n",
      "FID: 100%|██████████| 10/10 [00:00<00:00, 35.60it/s, mean=16.5]\n"
     ]
    },
    {
     "name": "stdout",
     "output_type": "stream",
     "text": [
      "(2000, 1, 32, 32) 0.0 1.0\n",
      "save_data/gen_img_in_distribution.npy\n",
      "(2000, 1, 32, 32) 0.0 1.0\n"
     ]
    },
    {
     "name": "stderr",
     "output_type": "stream",
     "text": [
      "\n",
      "FID:   0%|          | 0/10 [00:00<?, ?it/s]\u001b[A\n",
      "FID:   0%|          | 0/10 [00:00<?, ?it/s, mean=0.346]\u001b[A\n",
      "FID:   0%|          | 0/10 [00:00<?, ?it/s, mean=0.368]\u001b[A\n",
      "FID:   0%|          | 0/10 [00:00<?, ?it/s, mean=0.397]\u001b[A\n",
      "FID:   0%|          | 0/10 [00:00<?, ?it/s, mean=0.415]\u001b[A\n",
      "FID:  40%|████      | 4/10 [00:00<00:00, 37.73it/s, mean=0.415]\u001b[A\n",
      "FID:  40%|████      | 4/10 [00:00<00:00, 37.73it/s, mean=0.393]\u001b[A\n",
      "FID:  40%|████      | 4/10 [00:00<00:00, 37.73it/s, mean=0.378]\u001b[A\n",
      "FID:  40%|████      | 4/10 [00:00<00:00, 37.73it/s, mean=0.365]\u001b[A\n",
      "FID:  40%|████      | 4/10 [00:00<00:00, 37.73it/s, mean=0.36] \u001b[A\n",
      "FID:  80%|████████  | 8/10 [00:00<00:00, 37.12it/s, mean=0.36]\u001b[A\n",
      "FID:  80%|████████  | 8/10 [00:00<00:00, 37.12it/s, mean=0.357]\u001b[A\n",
      "FID: 100%|██████████| 10/10 [00:00<00:00, 35.12it/s, mean=0.357]\n"
     ]
    },
    {
     "data": {
      "image/png": "[encoded data removed]",
      "text/plain": [
       "<Figure size 1600x600 with 8 Axes>"
      ]
     },
     "metadata": {
      "tags": []
     },
     "output_type": "display_data"
    }
   ],
   "source": [
    "inf_best_5, mean_sample_measure_5, fid_gen_5 = monte_carlo_inference(5, generator, forward, trainset, fulldataset, sample_number = 2000)"
   ]
  },
  {
   "cell_type": "code",
   "execution_count": null,
   "metadata": {
    "colab": {
     "base_uri": "https://localhost:8080/",
     "height": 1000
    },
    "colab_type": "code",
    "id": "HRl4OX2EOX5i",
    "outputId": "34ba58ad-7bfc-4f80-8334-2c7afdbbce4e"
   },
   "outputs": [
    {
     "name": "stderr",
     "output_type": "stream",
     "text": [
      "\n",
      "  0%|          | 0/2000 [00:00<?, ?img/s]\u001b[A\n",
      "  0%|          | 1/2000 [00:20<11:32:53, 20.80s/img]\u001b[A\n",
      "  5%|5         | 101/2000 [00:21<7:40:52, 14.56s/img]\u001b[A\n",
      " 10%|#         | 201/2000 [00:22<5:05:42, 10.20s/img]\u001b[A\n",
      " 15%|#5        | 301/2000 [00:23<3:22:08,  7.14s/img]\u001b[A\n",
      " 20%|##        | 401/2000 [00:42<2:14:41,  5.05s/img]\u001b[A\n",
      " 25%|##5       | 501/2000 [00:44<1:28:31,  3.54s/img]\u001b[A\n",
      " 30%|###       | 601/2000 [00:45<57:55,  2.48s/img]  \u001b[A\n",
      " 30%|###       | 601/2000 [01:03<57:55,  2.48s/img]\u001b[A\n",
      " 40%|####      | 801/2000 [01:04<35:19,  1.77s/img]\u001b[A\n",
      " 45%|####5     | 901/2000 [01:05<22:42,  1.24s/img]\u001b[A\n",
      " 50%|#####     | 1001/2000 [01:07<14:32,  1.15img/s]\u001b[A\n",
      " 55%|#####5    | 1101/2000 [01:08<09:12,  1.63img/s]\u001b[A\n",
      " 55%|#####5    | 1101/2000 [01:23<09:12,  1.63img/s]\u001b[A\n",
      " 60%|######    | 1201/2000 [01:27<06:29,  2.05img/s]\u001b[A\n",
      " 65%|######5   | 1301/2000 [01:27<03:58,  2.93img/s]\u001b[A\n",
      " 70%|#######   | 1401/2000 [01:30<02:29,  4.02img/s]\u001b[A\n",
      " 70%|#######   | 1401/2000 [01:43<02:29,  4.02img/s]\u001b[A\n",
      " 80%|########  | 1601/2000 [01:49<01:21,  4.92img/s]\u001b[A\n",
      "100%|##########| 2000/2000 [01:50<00:00, 18.04img/s]\n",
      "\n",
      "  0%|          | 0/4 [00:00<?, ?img/s]\u001b[A\n",
      "100%|##########| 4/4 [00:00<00:00,  8.10img/s]"
     ]
    },
    {
     "name": "stdout",
     "output_type": "stream",
     "text": [
      "\n",
      " ------------ Best forward image ------------\n",
      "MSE measure pred = 0.2671367088776216\n",
      "MSE morpho on Generated data: 1.5560671824203192\n"
     ]
    },
    {
     "name": "stderr",
     "output_type": "stream",
     "text": [
      "\n"
     ]
    },
    {
     "name": "stdout",
     "output_type": "stream",
     "text": [
      "(2000, 1, 32, 32) 0.0 1.0\n",
      "save_data/gen_img_in_distribution.npy\n",
      "(2000, 1, 32, 32) 0.0 0.99890745\n"
     ]
    },
    {
     "name": "stderr",
     "output_type": "stream",
     "text": [
      "\n",
      "FID:   0%|          | 0/10 [00:00<?, ?it/s]\u001b[A\n",
      "FID:   0%|          | 0/10 [00:00<?, ?it/s, mean=15.4]\u001b[A\n",
      "FID:   0%|          | 0/10 [00:00<?, ?it/s, mean=16.3]\u001b[A\n",
      "FID:   0%|          | 0/10 [00:00<?, ?it/s, mean=16.2]\u001b[A\n",
      "FID:   0%|          | 0/10 [00:00<?, ?it/s, mean=16.3]\u001b[A\n",
      "FID:  40%|████      | 4/10 [00:00<00:00, 35.94it/s, mean=16.3]\u001b[A\n",
      "FID:  40%|████      | 4/10 [00:00<00:00, 35.94it/s, mean=16.1]\u001b[A\n",
      "FID:  40%|████      | 4/10 [00:00<00:00, 35.94it/s, mean=16]  \u001b[A\n",
      "FID:  40%|████      | 4/10 [00:00<00:00, 35.94it/s, mean=15.7]\u001b[A\n",
      "FID:  40%|████      | 4/10 [00:00<00:00, 35.94it/s, mean=15.8]\u001b[A\n",
      "FID:  80%|████████  | 8/10 [00:00<00:00, 35.41it/s, mean=15.8]\u001b[A\n",
      "FID:  80%|████████  | 8/10 [00:00<00:00, 35.41it/s, mean=15.8]\u001b[A\n",
      "FID: 100%|██████████| 10/10 [00:00<00:00, 33.74it/s, mean=15.8]\n"
     ]
    },
    {
     "name": "stdout",
     "output_type": "stream",
     "text": [
      "(2000, 1, 32, 32) 0.0 1.0\n",
      "save_data/gen_img_in_distribution.npy\n",
      "(2000, 1, 32, 32) 0.0 1.0\n"
     ]
    },
    {
     "name": "stderr",
     "output_type": "stream",
     "text": [
      "\n",
      "FID:   0%|          | 0/10 [00:00<?, ?it/s]\u001b[A\n",
      "FID:   0%|          | 0/10 [00:00<?, ?it/s, mean=0.591]\u001b[A\n",
      "FID:   0%|          | 0/10 [00:00<?, ?it/s, mean=0.457]\u001b[A\n",
      "FID:   0%|          | 0/10 [00:00<?, ?it/s, mean=0.544]\u001b[A\n",
      "FID:   0%|          | 0/10 [00:00<?, ?it/s, mean=0.576]\u001b[A\n",
      "FID:  40%|████      | 4/10 [00:00<00:00, 34.56it/s, mean=0.576]\u001b[A\n",
      "FID:  40%|████      | 4/10 [00:00<00:00, 34.56it/s, mean=0.587]\u001b[A\n",
      "FID:  40%|████      | 4/10 [00:00<00:00, 34.56it/s, mean=0.591]\u001b[A\n",
      "FID:  40%|████      | 4/10 [00:00<00:00, 34.56it/s, mean=0.584]\u001b[A\n",
      "FID:  40%|████      | 4/10 [00:00<00:00, 34.56it/s, mean=0.552]\u001b[A\n",
      "FID:  80%|████████  | 8/10 [00:00<00:00, 33.97it/s, mean=0.552]\u001b[A\n",
      "FID:  80%|████████  | 8/10 [00:00<00:00, 33.97it/s, mean=0.534]\u001b[A\n",
      "FID: 100%|██████████| 10/10 [00:00<00:00, 33.68it/s, mean=0.56]\n"
     ]
    },
    {
     "data": {
      "image/png": "[encoded data removed]",
      "text/plain": [
       "<Figure size 1600x600 with 8 Axes>"
      ]
     },
     "metadata": {
      "tags": []
     },
     "output_type": "display_data"
    }
   ],
   "source": [
    "inf_best_4, mean_sample_measure_4, fid_gen_4 = monte_carlo_inference(4, generator, forward, trainset, fulldataset, sample_number = 2000)"
   ]
  },
  {
   "cell_type": "code",
   "execution_count": null,
   "metadata": {
    "colab": {
     "base_uri": "https://localhost:8080/",
     "height": 1000
    },
    "colab_type": "code",
    "id": "HZWFmJPjOac4",
    "outputId": "ee136efc-2da7-4ea7-b784-a5a35f4584c0"
   },
   "outputs": [
    {
     "name": "stderr",
     "output_type": "stream",
     "text": [
      "\n",
      "  0%|          | 0/2000 [00:00<?, ?img/s]\u001b[A\n",
      "  0%|          | 1/2000 [00:21<12:00:37, 21.63s/img]\u001b[A\n",
      "  5%|5         | 101/2000 [00:22<7:59:17, 15.14s/img]\u001b[A\n",
      " 15%|#5        | 301/2000 [00:22<5:00:10, 10.60s/img]\u001b[A\n",
      " 15%|#5        | 301/2000 [00:39<5:00:10, 10.60s/img]\u001b[A\n",
      " 20%|##        | 401/2000 [00:43<3:19:23,  7.48s/img]\u001b[A\n",
      " 25%|##5       | 501/2000 [00:45<2:10:59,  5.24s/img]\u001b[A\n",
      " 25%|##5       | 501/2000 [00:59<2:10:59,  5.24s/img]\u001b[A\n",
      " 40%|####      | 801/2000 [01:06<1:13:45,  3.69s/img]\u001b[A\n",
      " 55%|#####5    | 1101/2000 [01:06<38:43,  2.58s/img] \u001b[A\n",
      " 55%|#####5    | 1101/2000 [01:19<38:43,  2.58s/img]\u001b[A\n",
      " 60%|######    | 1201/2000 [01:26<24:53,  1.87s/img]\u001b[A\n",
      " 65%|######5   | 1301/2000 [01:27<15:16,  1.31s/img]\u001b[A\n",
      " 70%|#######   | 1401/2000 [01:28<09:10,  1.09img/s]\u001b[A\n",
      " 75%|#######5  | 1501/2000 [01:28<05:22,  1.55img/s]\u001b[A\n",
      " 75%|#######5  | 1501/2000 [01:39<05:22,  1.55img/s]\u001b[A\n",
      " 80%|########  | 1601/2000 [01:47<03:22,  1.97img/s]\u001b[A\n",
      "100%|##########| 2000/2000 [01:49<00:00, 18.20img/s]\n",
      "\n",
      "  0%|          | 0/4 [00:00<?, ?img/s]\u001b[A\n",
      "100%|##########| 4/4 [00:00<00:00, 11.79img/s]"
     ]
    },
    {
     "name": "stdout",
     "output_type": "stream",
     "text": [
      "\n",
      " ------------ Best forward image ------------\n",
      "MSE measure pred = 0.6264442405724361\n",
      "MSE morpho on Generated data: 1.3155935417535038\n"
     ]
    },
    {
     "name": "stderr",
     "output_type": "stream",
     "text": [
      "\n"
     ]
    },
    {
     "name": "stdout",
     "output_type": "stream",
     "text": [
      "(2000, 1, 32, 32) 0.0 1.0\n",
      "save_data/gen_img_in_distribution.npy\n",
      "(2000, 1, 32, 32) 0.0 0.99858594\n"
     ]
    },
    {
     "name": "stderr",
     "output_type": "stream",
     "text": [
      "\n",
      "FID:   0%|          | 0/10 [00:00<?, ?it/s]\u001b[A\n",
      "FID:   0%|          | 0/10 [00:00<?, ?it/s, mean=15.2]\u001b[A\n",
      "FID:   0%|          | 0/10 [00:00<?, ?it/s, mean=15.6]\u001b[A\n",
      "FID:   0%|          | 0/10 [00:00<?, ?it/s, mean=15.3]\u001b[A\n",
      "FID:   0%|          | 0/10 [00:00<?, ?it/s, mean=15]  \u001b[A\n",
      "FID:  40%|████      | 4/10 [00:00<00:00, 36.85it/s, mean=15]\u001b[A\n",
      "FID:  40%|████      | 4/10 [00:00<00:00, 36.85it/s, mean=14.8]\u001b[A\n",
      "FID:  40%|████      | 4/10 [00:00<00:00, 36.85it/s, mean=14.9]\u001b[A\n",
      "FID:  40%|████      | 4/10 [00:00<00:00, 36.85it/s, mean=14.8]\u001b[A\n",
      "FID:  40%|████      | 4/10 [00:00<00:00, 36.85it/s, mean=14.6]\u001b[A\n",
      "FID:  80%|████████  | 8/10 [00:00<00:00, 36.39it/s, mean=14.6]\u001b[A\n",
      "FID:  80%|████████  | 8/10 [00:00<00:00, 36.39it/s, mean=14.4]\u001b[A\n",
      "FID: 100%|██████████| 10/10 [00:00<00:00, 35.50it/s, mean=14.3]\n"
     ]
    },
    {
     "name": "stdout",
     "output_type": "stream",
     "text": [
      "(2000, 1, 32, 32) 0.0 1.0\n",
      "save_data/gen_img_in_distribution.npy\n",
      "(2000, 1, 32, 32) 0.0 1.0\n"
     ]
    },
    {
     "name": "stderr",
     "output_type": "stream",
     "text": [
      "\n",
      "FID:   0%|          | 0/10 [00:00<?, ?it/s]\u001b[A\n",
      "FID:   0%|          | 0/10 [00:00<?, ?it/s, mean=0.469]\u001b[A\n",
      "FID:   0%|          | 0/10 [00:00<?, ?it/s, mean=0.434]\u001b[A\n",
      "FID:   0%|          | 0/10 [00:00<?, ?it/s, mean=0.411]\u001b[A\n",
      "FID:   0%|          | 0/10 [00:00<?, ?it/s, mean=0.383]\u001b[A\n",
      "FID:  40%|████      | 4/10 [00:00<00:00, 37.30it/s, mean=0.383]\u001b[A\n",
      "FID:  40%|████      | 4/10 [00:00<00:00, 37.30it/s, mean=0.406]\u001b[A\n",
      "FID:  40%|████      | 4/10 [00:00<00:00, 37.30it/s, mean=0.406]\u001b[A\n",
      "FID:  40%|████      | 4/10 [00:00<00:00, 37.30it/s, mean=0.435]\u001b[A\n",
      "FID:  40%|████      | 4/10 [00:00<00:00, 37.30it/s, mean=0.424]\u001b[A\n",
      "FID:  80%|████████  | 8/10 [00:00<00:00, 36.69it/s, mean=0.424]\u001b[A\n",
      "FID:  80%|████████  | 8/10 [00:00<00:00, 36.69it/s, mean=0.417]\u001b[A\n",
      "FID: 100%|██████████| 10/10 [00:00<00:00, 35.42it/s, mean=0.412]\n"
     ]
    },
    {
     "data": {
      "image/png": "[encoded data removed]",
      "text/plain": [
       "<Figure size 1600x600 with 8 Axes>"
      ]
     },
     "metadata": {
      "tags": []
     },
     "output_type": "display_data"
    }
   ],
   "source": [
    "inf_best_3, mean_sample_measure_3, fid_gen_3 = monte_carlo_inference(3, generator, forward, trainset, fulldataset, sample_number = 2000)"
   ]
  },
  {
   "cell_type": "code",
   "execution_count": null,
   "metadata": {
    "colab": {
     "base_uri": "https://localhost:8080/",
     "height": 1000
    },
    "colab_type": "code",
    "id": "RxjsnD2wOgmz",
    "outputId": "10d5036c-edcf-4f2b-edb6-9837b9bf69fa"
   },
   "outputs": [
    {
     "name": "stderr",
     "output_type": "stream",
     "text": [
      "\n",
      "  0%|          | 0/2000 [00:00<?, ?img/s]\u001b[A\n",
      "  0%|          | 1/2000 [00:22<12:38:43, 22.77s/img]\u001b[A\n",
      " 15%|#5        | 301/2000 [00:22<7:31:24, 15.94s/img]\u001b[A\n",
      " 15%|#5        | 301/2000 [00:36<7:31:24, 15.94s/img]\u001b[A\n",
      " 20%|##        | 401/2000 [00:43<4:59:02, 11.22s/img]\u001b[A\n",
      " 25%|##5       | 501/2000 [00:44<3:16:16,  7.86s/img]\u001b[A\n",
      " 30%|###       | 601/2000 [00:44<2:08:14,  5.50s/img]\u001b[A\n",
      " 35%|###5      | 701/2000 [00:44<1:23:22,  3.85s/img]\u001b[A\n",
      " 35%|###5      | 701/2000 [00:56<1:23:22,  3.85s/img]\u001b[A\n",
      " 40%|####      | 801/2000 [01:04<55:03,  2.76s/img]  \u001b[A\n",
      " 45%|####5     | 901/2000 [01:06<35:25,  1.93s/img]\u001b[A\n",
      " 50%|#####     | 1001/2000 [01:06<22:32,  1.35s/img]\u001b[A\n",
      " 55%|#####5    | 1101/2000 [01:07<14:15,  1.05img/s]\u001b[A\n",
      " 60%|######    | 1201/2000 [01:26<09:37,  1.38img/s]\u001b[A\n",
      " 65%|######5   | 1301/2000 [01:27<05:56,  1.96img/s]\u001b[A\n",
      " 70%|#######   | 1401/2000 [01:28<03:34,  2.80img/s]\u001b[A\n",
      " 75%|#######5  | 1501/2000 [01:30<02:08,  3.90img/s]\u001b[A\n",
      " 75%|#######5  | 1501/2000 [01:46<02:08,  3.90img/s]\u001b[A\n",
      " 80%|########  | 1601/2000 [01:47<01:31,  4.34img/s]\u001b[A\n",
      "100%|##########| 2000/2000 [01:50<00:00, 18.16img/s]\n",
      "\n",
      "  0%|          | 0/4 [00:00<?, ?img/s]\u001b[A\n",
      "100%|##########| 4/4 [00:00<00:00, 11.43img/s]"
     ]
    },
    {
     "name": "stdout",
     "output_type": "stream",
     "text": [
      "\n",
      " ------------ Best forward image ------------\n",
      "MSE measure pred = 0.04109108778458156\n",
      "MSE morpho on Generated data: 0.6957702923107782\n"
     ]
    },
    {
     "name": "stderr",
     "output_type": "stream",
     "text": [
      "\n"
     ]
    },
    {
     "name": "stdout",
     "output_type": "stream",
     "text": [
      "(2000, 1, 32, 32) 0.0 1.0\n",
      "save_data/gen_img_in_distribution.npy\n",
      "(2000, 1, 32, 32) 0.0 0.9947518\n"
     ]
    },
    {
     "name": "stderr",
     "output_type": "stream",
     "text": [
      "\n",
      "FID:   0%|          | 0/10 [00:00<?, ?it/s]\u001b[A\n",
      "FID:   0%|          | 0/10 [00:00<?, ?it/s, mean=15.1]\u001b[A\n",
      "FID:   0%|          | 0/10 [00:00<?, ?it/s, mean=15.2]\u001b[A\n",
      "FID:   0%|          | 0/10 [00:00<?, ?it/s, mean=15.3]\u001b[A\n",
      "FID:   0%|          | 0/10 [00:00<?, ?it/s, mean=15.3]\u001b[A\n",
      "FID:  40%|████      | 4/10 [00:00<00:00, 31.14it/s, mean=15.3]\u001b[A\n",
      "FID:  40%|████      | 4/10 [00:00<00:00, 31.14it/s, mean=15.2]\u001b[A\n",
      "FID:  40%|████      | 4/10 [00:00<00:00, 31.14it/s, mean=15.2]\u001b[A\n",
      "FID:  40%|████      | 4/10 [00:00<00:00, 31.14it/s, mean=15.3]\u001b[A\n",
      "FID:  40%|████      | 4/10 [00:00<00:00, 31.14it/s, mean=15.3]\u001b[A\n",
      "FID:  80%|████████  | 8/10 [00:00<00:00, 31.55it/s, mean=15.3]\u001b[A\n",
      "FID:  80%|████████  | 8/10 [00:00<00:00, 31.55it/s, mean=15.3]\u001b[A\n",
      "FID: 100%|██████████| 10/10 [00:00<00:00, 32.36it/s, mean=15.3]\n"
     ]
    },
    {
     "name": "stdout",
     "output_type": "stream",
     "text": [
      "(2000, 1, 32, 32) 0.0 1.0\n",
      "save_data/gen_img_in_distribution.npy\n",
      "(2000, 1, 32, 32) 0.0 1.0\n"
     ]
    },
    {
     "name": "stderr",
     "output_type": "stream",
     "text": [
      "\n",
      "FID:   0%|          | 0/10 [00:00<?, ?it/s]\u001b[A\n",
      "FID:   0%|          | 0/10 [00:00<?, ?it/s, mean=0.489]\u001b[A\n",
      "FID:   0%|          | 0/10 [00:00<?, ?it/s, mean=0.447]\u001b[A\n",
      "FID:   0%|          | 0/10 [00:00<?, ?it/s, mean=0.44] \u001b[A\n",
      "FID:   0%|          | 0/10 [00:00<?, ?it/s, mean=0.422]\u001b[A\n",
      "FID:  40%|████      | 4/10 [00:00<00:00, 37.97it/s, mean=0.422]\u001b[A\n",
      "FID:  40%|████      | 4/10 [00:00<00:00, 37.97it/s, mean=0.425]\u001b[A\n",
      "FID:  40%|████      | 4/10 [00:00<00:00, 37.97it/s, mean=0.422]\u001b[A\n",
      "FID:  40%|████      | 4/10 [00:00<00:00, 37.97it/s, mean=0.424]\u001b[A\n",
      "FID:  40%|████      | 4/10 [00:00<00:00, 37.97it/s, mean=0.421]\u001b[A\n",
      "FID:  80%|████████  | 8/10 [00:00<00:00, 37.55it/s, mean=0.421]\u001b[A\n",
      "FID:  80%|████████  | 8/10 [00:00<00:00, 37.55it/s, mean=0.417]\u001b[A\n",
      "FID: 100%|██████████| 10/10 [00:00<00:00, 36.25it/s, mean=0.412]\n"
     ]
    },
    {
     "data": {
      "image/png": "[encoded data removed]",
      "text/plain": [
       "<Figure size 1600x600 with 8 Axes>"
      ]
     },
     "metadata": {
      "tags": []
     },
     "output_type": "display_data"
    }
   ],
   "source": [
    "inf_best_2, mean_sample_measure_2, fid_gen_2 = monte_carlo_inference(2, generator, forward, trainset, fulldataset, sample_number = 2000)"
   ]
  },
  {
   "cell_type": "code",
   "execution_count": null,
   "metadata": {
    "colab": {
     "base_uri": "https://localhost:8080/",
     "height": 1000
    },
    "colab_type": "code",
    "id": "m1JfdijcOjXP",
    "outputId": "a58686a1-9f10-4357-f0e1-ad90a4bd7f22"
   },
   "outputs": [
    {
     "name": "stderr",
     "output_type": "stream",
     "text": [
      "\n",
      "  0%|          | 0/2000 [00:00<?, ?img/s]\u001b[A\n",
      "  0%|          | 1/2000 [00:21<11:41:31, 21.06s/img]\u001b[A\n",
      "  5%|5         | 101/2000 [00:21<7:46:30, 14.74s/img]\u001b[A\n",
      " 10%|#         | 201/2000 [00:23<5:09:34, 10.33s/img]\u001b[A\n",
      " 10%|#         | 201/2000 [00:33<5:09:34, 10.33s/img]\u001b[A\n",
      " 20%|##        | 401/2000 [00:43<3:13:24,  7.26s/img]\u001b[A\n",
      " 25%|##5       | 501/2000 [00:43<2:06:56,  5.08s/img]\u001b[A\n",
      " 35%|###5      | 701/2000 [00:44<1:17:01,  3.56s/img]\u001b[A\n",
      " 35%|###5      | 701/2000 [01:03<1:17:01,  3.56s/img]\u001b[A\n",
      " 40%|####      | 801/2000 [01:05<51:01,  2.55s/img]  \u001b[A\n",
      " 45%|####5     | 901/2000 [01:06<32:46,  1.79s/img]\u001b[A\n",
      " 45%|####5     | 901/2000 [01:23<32:46,  1.79s/img]\u001b[A\n",
      " 60%|######    | 1201/2000 [01:26<16:57,  1.27s/img]\u001b[A\n",
      " 65%|######5   | 1301/2000 [01:28<10:26,  1.12img/s]\u001b[A\n",
      " 70%|#######   | 1401/2000 [01:29<06:17,  1.59img/s]\u001b[A\n",
      " 70%|#######   | 1401/2000 [01:43<06:17,  1.59img/s]\u001b[A\n",
      " 80%|########  | 1601/2000 [01:48<03:07,  2.13img/s]\u001b[A\n",
      " 90%|######### | 1801/2000 [01:49<01:05,  3.03img/s]\u001b[A\n",
      "100%|##########| 2000/2000 [01:50<00:00, 18.16img/s]\n",
      "\n",
      "  0%|          | 0/4 [00:00<?, ?img/s]\u001b[A\n",
      "100%|##########| 4/4 [00:00<00:00,  8.75img/s]"
     ]
    },
    {
     "name": "stdout",
     "output_type": "stream",
     "text": [
      "\n",
      " ------------ Best forward image ------------\n",
      "MSE measure pred = 0.012670306137530247\n",
      "MSE morpho on Generated data: 0.21309990093545542\n"
     ]
    },
    {
     "name": "stderr",
     "output_type": "stream",
     "text": [
      "\n"
     ]
    },
    {
     "name": "stdout",
     "output_type": "stream",
     "text": [
      "(2000, 1, 32, 32) 0.0 1.0\n",
      "save_data/gen_img_in_distribution.npy\n",
      "(2000, 1, 32, 32) 0.0 0.995452\n"
     ]
    },
    {
     "name": "stderr",
     "output_type": "stream",
     "text": [
      "\n",
      "FID:   0%|          | 0/10 [00:00<?, ?it/s]\u001b[A\n",
      "FID:   0%|          | 0/10 [00:00<?, ?it/s, mean=20.3]\u001b[A\n",
      "FID:   0%|          | 0/10 [00:00<?, ?it/s, mean=19.9]\u001b[A\n",
      "FID:   0%|          | 0/10 [00:00<?, ?it/s, mean=19.8]\u001b[A\n",
      "FID:   0%|          | 0/10 [00:00<?, ?it/s, mean=19.8]\u001b[A\n",
      "FID:  40%|████      | 4/10 [00:00<00:00, 35.07it/s, mean=19.8]\u001b[A\n",
      "FID:  40%|████      | 4/10 [00:00<00:00, 35.07it/s, mean=20.2]\u001b[A\n",
      "FID:  40%|████      | 4/10 [00:00<00:00, 35.07it/s, mean=20.2]\u001b[A\n",
      "FID:  40%|████      | 4/10 [00:00<00:00, 35.07it/s, mean=20]  \u001b[A\n",
      "FID:  40%|████      | 4/10 [00:00<00:00, 35.07it/s, mean=20.1]\u001b[A\n",
      "FID:  80%|████████  | 8/10 [00:00<00:00, 33.69it/s, mean=20.1]\u001b[A\n",
      "FID:  80%|████████  | 8/10 [00:00<00:00, 33.69it/s, mean=20.1]\u001b[A\n",
      "FID: 100%|██████████| 10/10 [00:00<00:00, 33.01it/s, mean=20.2]\n"
     ]
    },
    {
     "name": "stdout",
     "output_type": "stream",
     "text": [
      "(2000, 1, 32, 32) 0.0 1.0\n",
      "save_data/gen_img_in_distribution.npy\n",
      "(2000, 1, 32, 32) 0.0 1.0\n"
     ]
    },
    {
     "name": "stderr",
     "output_type": "stream",
     "text": [
      "\n",
      "FID:   0%|          | 0/10 [00:00<?, ?it/s]\u001b[A\n",
      "FID:   0%|          | 0/10 [00:00<?, ?it/s, mean=0.702]\u001b[A\n",
      "FID:   0%|          | 0/10 [00:00<?, ?it/s, mean=0.556]\u001b[A\n",
      "FID:   0%|          | 0/10 [00:00<?, ?it/s, mean=0.543]\u001b[A\n",
      "FID:   0%|          | 0/10 [00:00<?, ?it/s, mean=0.521]\u001b[A\n",
      "FID:  40%|████      | 4/10 [00:00<00:00, 34.67it/s, mean=0.521]\u001b[A\n",
      "FID:  40%|████      | 4/10 [00:00<00:00, 34.67it/s, mean=0.501]\u001b[A\n",
      "FID:  40%|████      | 4/10 [00:00<00:00, 34.67it/s, mean=0.501]\u001b[A\n",
      "FID:  40%|████      | 4/10 [00:00<00:00, 34.67it/s, mean=0.509]\u001b[A\n",
      "FID:  40%|████      | 4/10 [00:00<00:00, 34.67it/s, mean=0.532]\u001b[A\n",
      "FID:  80%|████████  | 8/10 [00:00<00:00, 34.74it/s, mean=0.532]\u001b[A\n",
      "FID:  80%|████████  | 8/10 [00:00<00:00, 34.74it/s, mean=0.526]\u001b[A\n",
      "FID: 100%|██████████| 10/10 [00:00<00:00, 33.90it/s, mean=0.529]\n"
     ]
    },
    {
     "data": {
      "image/png": "[encoded data removed]",
      "text/plain": [
       "<Figure size 1600x600 with 8 Axes>"
      ]
     },
     "metadata": {
      "tags": []
     },
     "output_type": "display_data"
    }
   ],
   "source": [
    "inf_best_1, mean_sample_measure_1, fid_gen_1 = monte_carlo_inference(1, generator, forward, trainset, fulldataset, sample_number = 2000)"
   ]
  },
  {
   "cell_type": "code",
   "execution_count": null,
   "metadata": {
    "colab": {},
    "colab_type": "code",
    "id": "8KpuTssk0Z4T"
   },
   "outputs": [],
   "source": [
    "generator = best_generator_out_distribution"
   ]
  },
  {
   "cell_type": "code",
   "execution_count": null,
   "metadata": {
    "colab": {
     "base_uri": "https://localhost:8080/",
     "height": 1000
    },
    "colab_type": "code",
    "id": "WqBIDaDd0Zy3",
    "outputId": "e50542f7-1ee7-4ec4-f8a4-a3ca9d31f70f"
   },
   "outputs": [
    {
     "name": "stderr",
     "output_type": "stream",
     "text": [
      "\n",
      "  0%|          | 0/300 [00:00<?, ?img/s]\u001b[A\n",
      "  0%|          | 1/300 [00:17<1:25:49, 17.22s/img]\u001b[A\n",
      "100%|##########| 300/300 [00:17<00:00, 17.02img/s]\n",
      "\n",
      "  0%|          | 0/4 [00:00<?, ?img/s]\u001b[A\n",
      "100%|##########| 4/4 [00:00<00:00,  9.20img/s]"
     ]
    },
    {
     "name": "stdout",
     "output_type": "stream",
     "text": [
      "\n",
      " ------------ Best forward image ------------\n",
      "MSE measure pred = 15.693929430621605\n",
      "MSE morpho on Generated data: 22.685014490794217\n"
     ]
    },
    {
     "name": "stderr",
     "output_type": "stream",
     "text": [
      "\n"
     ]
    },
    {
     "name": "stdout",
     "output_type": "stream",
     "text": [
      "(300, 1, 32, 32) 0.0 1.0\n",
      "save_data/gen_img_in_distribution.npy\n"
     ]
    },
    {
     "name": "stderr",
     "output_type": "stream",
     "text": [
      "\n",
      "FID:   0%|          | 0/10 [00:00<?, ?it/s]\u001b[A\n",
      "FID:   0%|          | 0/10 [00:00<?, ?it/s, mean=32.1]\u001b[A\n",
      "FID:   0%|          | 0/10 [00:00<?, ?it/s, mean=33.8]\u001b[A"
     ]
    },
    {
     "name": "stdout",
     "output_type": "stream",
     "text": [
      "(300, 1, 32, 32) 0.0 0.99995476\n"
     ]
    },
    {
     "name": "stderr",
     "output_type": "stream",
     "text": [
      "\n",
      "FID:   0%|          | 0/10 [00:00<?, ?it/s, mean=33]  \u001b[A\n",
      "FID:   0%|          | 0/10 [00:00<?, ?it/s, mean=32.9]\u001b[A\n",
      "FID:  40%|████      | 4/10 [00:00<00:00, 37.00it/s, mean=32.9]\u001b[A\n",
      "FID:  40%|████      | 4/10 [00:00<00:00, 37.00it/s, mean=33]  \u001b[A\n",
      "FID:  40%|████      | 4/10 [00:00<00:00, 37.00it/s, mean=33.2]\u001b[A\n",
      "FID:  40%|████      | 4/10 [00:00<00:00, 37.00it/s, mean=32.8]\u001b[A\n",
      "FID:  40%|████      | 4/10 [00:00<00:00, 37.00it/s, mean=32.9]\u001b[A\n",
      "FID:  80%|████████  | 8/10 [00:00<00:00, 36.42it/s, mean=32.9]\u001b[A\n",
      "FID:  80%|████████  | 8/10 [00:00<00:00, 36.42it/s, mean=32.9]\u001b[A\n",
      "FID: 100%|██████████| 10/10 [00:00<00:00, 35.66it/s, mean=32.9]\n"
     ]
    },
    {
     "name": "stdout",
     "output_type": "stream",
     "text": [
      "(300, 1, 32, 32) 0.0 1.0\n",
      "save_data/gen_img_in_distribution.npy\n"
     ]
    },
    {
     "name": "stderr",
     "output_type": "stream",
     "text": [
      "\n",
      "FID:   0%|          | 0/10 [00:00<?, ?it/s]\u001b[A\n",
      "FID:   0%|          | 0/10 [00:00<?, ?it/s, mean=1.1]\u001b[A\n",
      "FID:   0%|          | 0/10 [00:00<?, ?it/s, mean=1.22]\u001b[A"
     ]
    },
    {
     "name": "stdout",
     "output_type": "stream",
     "text": [
      "(300, 1, 32, 32) 0.0 1.0\n"
     ]
    },
    {
     "name": "stderr",
     "output_type": "stream",
     "text": [
      "\n",
      "FID:   0%|          | 0/10 [00:00<?, ?it/s, mean=1.24]\u001b[A\n",
      "FID:   0%|          | 0/10 [00:00<?, ?it/s, mean=1.21]\u001b[A\n",
      "FID:   0%|          | 0/10 [00:00<?, ?it/s, mean=1.22]\u001b[A\n",
      "FID:  50%|█████     | 5/10 [00:00<00:00, 39.96it/s, mean=1.22]\u001b[A\n",
      "FID:  50%|█████     | 5/10 [00:00<00:00, 39.96it/s, mean=1.27]\u001b[A\n",
      "FID:  50%|█████     | 5/10 [00:00<00:00, 39.96it/s, mean=1.3] \u001b[A\n",
      "FID:  50%|█████     | 5/10 [00:00<00:00, 39.96it/s, mean=1.29]\u001b[A\n",
      "FID:  50%|█████     | 5/10 [00:00<00:00, 39.96it/s, mean=1.33]\u001b[A\n",
      "FID:  90%|█████████ | 9/10 [00:00<00:00, 37.67it/s, mean=1.33]\u001b[A\n",
      "FID: 100%|██████████| 10/10 [00:00<00:00, 36.28it/s, mean=1.34]\n"
     ]
    },
    {
     "data": {
      "image/png": "[encoded data removed]",
      "text/plain": [
       "<Figure size 1600x600 with 8 Axes>"
      ]
     },
     "metadata": {
      "tags": []
     },
     "output_type": "display_data"
    }
   ],
   "source": [
    "inf_best_9, mean_sample_measure_9, fid_gen_9 = monte_carlo_inference(9, generator, forward, trainset, fulldataset, sample_number = 300)"
   ]
  },
  {
   "cell_type": "code",
   "execution_count": null,
   "metadata": {
    "colab": {
     "base_uri": "https://localhost:8080/",
     "height": 1000
    },
    "colab_type": "code",
    "id": "IWgLNkNF0ZtI",
    "outputId": "2b2c32d6-614c-4d61-94b7-865364a38376"
   },
   "outputs": [
    {
     "name": "stderr",
     "output_type": "stream",
     "text": [
      "\n",
      "  0%|          | 0/600 [00:00<?, ?img/s]\u001b[A\n",
      "  0%|          | 1/600 [00:22<3:47:53, 22.83s/img]\u001b[A\n",
      " 34%|###3      | 201/600 [00:23<1:46:15, 15.98s/img]\u001b[A\n",
      " 67%|######6   | 401/600 [00:33<37:09, 11.20s/img]  \u001b[A\n",
      "100%|##########| 600/600 [00:34<00:00, 17.19img/s]\n",
      "\n",
      "  0%|          | 0/4 [00:00<?, ?img/s]\u001b[A\n",
      "100%|##########| 4/4 [00:00<00:00, 12.03img/s]"
     ]
    },
    {
     "name": "stdout",
     "output_type": "stream",
     "text": [
      "\n",
      " ------------ Best forward image ------------\n",
      "MSE measure pred = 5.756458937284639\n",
      "MSE morpho on Generated data: 13.684621324527923\n"
     ]
    },
    {
     "name": "stderr",
     "output_type": "stream",
     "text": [
      "\n"
     ]
    },
    {
     "name": "stdout",
     "output_type": "stream",
     "text": [
      "(600, 1, 32, 32) 0.0 1.0\n",
      "save_data/gen_img_in_distribution.npy\n",
      "(600, 1, 32, 32) 0.0 0.99971455\n"
     ]
    },
    {
     "name": "stderr",
     "output_type": "stream",
     "text": [
      "\n",
      "FID:   0%|          | 0/10 [00:00<?, ?it/s]\u001b[A\n",
      "FID:   0%|          | 0/10 [00:00<?, ?it/s, mean=30.1]\u001b[A\n",
      "FID:   0%|          | 0/10 [00:00<?, ?it/s, mean=29.7]\u001b[A\n",
      "FID:   0%|          | 0/10 [00:00<?, ?it/s, mean=30.1]\u001b[A\n",
      "FID:   0%|          | 0/10 [00:00<?, ?it/s, mean=30.4]\u001b[A\n",
      "FID:  40%|████      | 4/10 [00:00<00:00, 37.35it/s, mean=30.4]\u001b[A\n",
      "FID:  40%|████      | 4/10 [00:00<00:00, 37.35it/s, mean=30.5]\u001b[A\n",
      "FID:  40%|████      | 4/10 [00:00<00:00, 37.35it/s, mean=30.4]\u001b[A\n",
      "FID:  40%|████      | 4/10 [00:00<00:00, 37.35it/s, mean=30.5]\u001b[A\n",
      "FID:  40%|████      | 4/10 [00:00<00:00, 37.35it/s, mean=30.6]\u001b[A\n",
      "FID:  80%|████████  | 8/10 [00:00<00:00, 36.83it/s, mean=30.6]\u001b[A\n",
      "FID:  80%|████████  | 8/10 [00:00<00:00, 36.83it/s, mean=30.6]\u001b[A\n",
      "FID: 100%|██████████| 10/10 [00:00<00:00, 35.85it/s, mean=30.5]\n"
     ]
    },
    {
     "name": "stdout",
     "output_type": "stream",
     "text": [
      "(600, 1, 32, 32) 0.0 1.0\n",
      "save_data/gen_img_in_distribution.npy\n",
      "(600, 1, 32, 32) 0.0 1.0\n"
     ]
    },
    {
     "name": "stderr",
     "output_type": "stream",
     "text": [
      "\n",
      "FID:   0%|          | 0/10 [00:00<?, ?it/s]\u001b[A\n",
      "FID:   0%|          | 0/10 [00:00<?, ?it/s, mean=0.863]\u001b[A\n",
      "FID:   0%|          | 0/10 [00:00<?, ?it/s, mean=1.04] \u001b[A\n",
      "FID:   0%|          | 0/10 [00:00<?, ?it/s, mean=1.03]\u001b[A\n",
      "FID:   0%|          | 0/10 [00:00<?, ?it/s, mean=1.06]\u001b[A\n",
      "FID:  40%|████      | 4/10 [00:00<00:00, 36.27it/s, mean=1.06]\u001b[A\n",
      "FID:  40%|████      | 4/10 [00:00<00:00, 36.27it/s, mean=1.04]\u001b[A\n",
      "FID:  40%|████      | 4/10 [00:00<00:00, 36.27it/s, mean=1.01]\u001b[A\n",
      "FID:  40%|████      | 4/10 [00:00<00:00, 36.27it/s, mean=0.969]\u001b[A\n",
      "FID:  40%|████      | 4/10 [00:00<00:00, 36.27it/s, mean=0.952]\u001b[A\n",
      "FID:  80%|████████  | 8/10 [00:00<00:00, 36.72it/s, mean=0.952]\u001b[A\n",
      "FID:  80%|████████  | 8/10 [00:00<00:00, 36.72it/s, mean=0.938]\u001b[A\n",
      "FID: 100%|██████████| 10/10 [00:00<00:00, 36.91it/s, mean=0.932]\n"
     ]
    },
    {
     "data": {
      "image/png": "[encoded data removed]",
      "text/plain": [
       "<Figure size 1600x600 with 8 Axes>"
      ]
     },
     "metadata": {
      "tags": []
     },
     "output_type": "display_data"
    }
   ],
   "source": [
    "inf_best_8, mean_sample_measure_8, fid_gen_8 = monte_carlo_inference(8, generator, forward, trainset, fulldataset, sample_number = 600)"
   ]
  },
  {
   "cell_type": "code",
   "execution_count": null,
   "metadata": {
    "colab": {
     "base_uri": "https://localhost:8080/",
     "height": 1000
    },
    "colab_type": "code",
    "id": "G05o7OGZ0Zj_",
    "outputId": "a4c06736-3ae6-407a-9e4b-3ecd4d15efb0"
   },
   "outputs": [
    {
     "name": "stderr",
     "output_type": "stream",
     "text": [
      "\n",
      "  0%|          | 0/1000 [00:00<?, ?img/s]\u001b[A\n",
      "  0%|          | 1/1000 [00:22<6:10:27, 22.25s/img]\u001b[A\n",
      " 20%|##        | 201/1000 [00:23<3:27:25, 15.58s/img]\u001b[A\n",
      " 20%|##        | 201/1000 [00:39<3:27:25, 15.58s/img]\u001b[A\n",
      " 40%|####      | 401/1000 [00:43<1:49:09, 10.93s/img]\u001b[A\n",
      " 50%|#####     | 501/1000 [00:44<1:03:40,  7.66s/img]\u001b[A\n",
      " 70%|#######   | 701/1000 [00:45<26:42,  5.36s/img]  \u001b[A\n",
      " 80%|########  | 801/1000 [00:56<12:33,  3.79s/img]\u001b[A\n",
      "100%|##########| 1000/1000 [00:57<00:00, 17.46img/s]\n",
      "\n",
      "  0%|          | 0/4 [00:00<?, ?img/s]\u001b[A\n",
      "100%|##########| 4/4 [00:00<00:00,  8.98img/s]"
     ]
    },
    {
     "name": "stdout",
     "output_type": "stream",
     "text": [
      "\n",
      " ------------ Best forward image ------------\n",
      "MSE measure pred = 4.9280653658182265\n",
      "MSE morpho on Generated data: 7.294698172117688\n"
     ]
    },
    {
     "name": "stderr",
     "output_type": "stream",
     "text": [
      "\n"
     ]
    },
    {
     "name": "stdout",
     "output_type": "stream",
     "text": [
      "(1000, 1, 32, 32) 0.0 1.0\n",
      "save_data/gen_img_in_distribution.npy\n",
      "(1000, 1, 32, 32) 2.9808128e-08 0.9998757\n"
     ]
    },
    {
     "name": "stderr",
     "output_type": "stream",
     "text": [
      "\n",
      "FID:   0%|          | 0/10 [00:00<?, ?it/s]\u001b[A\n",
      "FID:   0%|          | 0/10 [00:00<?, ?it/s, mean=24.8]\u001b[A\n",
      "FID:   0%|          | 0/10 [00:00<?, ?it/s, mean=25.4]\u001b[A\n",
      "FID:   0%|          | 0/10 [00:00<?, ?it/s, mean=26]  \u001b[A\n",
      "FID:  30%|███       | 3/10 [00:00<00:00, 29.78it/s, mean=26]\u001b[A\n",
      "FID:  30%|███       | 3/10 [00:00<00:00, 29.78it/s, mean=26.1]\u001b[A\n",
      "FID:  30%|███       | 3/10 [00:00<00:00, 29.78it/s, mean=26.4]\u001b[A\n",
      "FID:  30%|███       | 3/10 [00:00<00:00, 29.78it/s, mean=26.8]\u001b[A\n",
      "FID:  30%|███       | 3/10 [00:00<00:00, 29.78it/s, mean=27.2]\u001b[A\n",
      "FID:  70%|███████   | 7/10 [00:00<00:00, 31.84it/s, mean=27.2]\u001b[A\n",
      "FID:  70%|███████   | 7/10 [00:00<00:00, 31.84it/s, mean=27.2]\u001b[A\n",
      "FID:  70%|███████   | 7/10 [00:00<00:00, 31.84it/s, mean=27.1]\u001b[A\n",
      "FID: 100%|██████████| 10/10 [00:00<00:00, 34.90it/s, mean=27.1]\n"
     ]
    },
    {
     "name": "stdout",
     "output_type": "stream",
     "text": [
      "(1000, 1, 32, 32) 0.0 1.0\n",
      "save_data/gen_img_in_distribution.npy\n",
      "(1000, 1, 32, 32) 0.0 1.0\n"
     ]
    },
    {
     "name": "stderr",
     "output_type": "stream",
     "text": [
      "\n",
      "FID:   0%|          | 0/10 [00:00<?, ?it/s]\u001b[A\n",
      "FID:   0%|          | 0/10 [00:00<?, ?it/s, mean=0.644]\u001b[A\n",
      "FID:   0%|          | 0/10 [00:00<?, ?it/s, mean=0.674]\u001b[A\n",
      "FID:   0%|          | 0/10 [00:00<?, ?it/s, mean=0.748]\u001b[A\n",
      "FID:   0%|          | 0/10 [00:00<?, ?it/s, mean=0.816]\u001b[A\n",
      "FID:   0%|          | 0/10 [00:00<?, ?it/s, mean=0.804]\u001b[A\n",
      "FID:  50%|█████     | 5/10 [00:00<00:00, 39.74it/s, mean=0.804]\u001b[A\n",
      "FID:  50%|█████     | 5/10 [00:00<00:00, 39.74it/s, mean=0.758]\u001b[A\n",
      "FID:  50%|█████     | 5/10 [00:00<00:00, 39.74it/s, mean=0.725]\u001b[A\n",
      "FID:  50%|█████     | 5/10 [00:00<00:00, 39.74it/s, mean=0.715]\u001b[A\n",
      "FID:  50%|█████     | 5/10 [00:00<00:00, 39.74it/s, mean=0.693]\u001b[A\n",
      "FID:  90%|█████████ | 9/10 [00:00<00:00, 38.61it/s, mean=0.693]\u001b[A\n",
      "FID: 100%|██████████| 10/10 [00:00<00:00, 37.23it/s, mean=0.687]\n"
     ]
    },
    {
     "data": {
      "image/png": "[encoded data removed]",
      "text/plain": [
       "<Figure size 1600x600 with 8 Axes>"
      ]
     },
     "metadata": {
      "tags": []
     },
     "output_type": "display_data"
    }
   ],
   "source": [
    "inf_best_7, mean_sample_measure_7, fid_gen_7 = monte_carlo_inference(7, generator, forward, trainset, fulldataset, sample_number = 1000)"
   ]
  },
  {
   "cell_type": "code",
   "execution_count": null,
   "metadata": {
    "colab": {
     "base_uri": "https://localhost:8080/",
     "height": 1000
    },
    "colab_type": "code",
    "id": "2wqM2a160ZXV",
    "outputId": "2bdd2eee-fc4f-47c7-9b09-069c7c239f66"
   },
   "outputs": [
    {
     "name": "stderr",
     "output_type": "stream",
     "text": [
      "\n",
      "  0%|          | 0/2000 [00:00<?, ?img/s]\u001b[A\n",
      "  0%|          | 1/2000 [00:20<11:31:41, 20.76s/img]\u001b[A\n",
      "  5%|5         | 101/2000 [00:22<7:40:09, 14.54s/img]\u001b[A\n",
      "  5%|5         | 101/2000 [00:34<7:40:09, 14.54s/img]\u001b[A\n",
      " 20%|##        | 401/2000 [00:43<4:31:45, 10.20s/img]\u001b[A\n",
      " 25%|##5       | 501/2000 [00:44<2:58:28,  7.14s/img]\u001b[A\n",
      " 30%|###       | 601/2000 [00:45<1:56:38,  5.00s/img]\u001b[A\n",
      " 40%|####      | 801/2000 [01:03<1:10:31,  3.53s/img]\u001b[A\n",
      " 45%|####5     | 901/2000 [01:06<45:25,  2.48s/img]  \u001b[A\n",
      " 55%|#####5    | 1101/2000 [01:08<26:02,  1.74s/img]\u001b[A\n",
      " 55%|#####5    | 1101/2000 [01:24<26:02,  1.74s/img]\u001b[A\n",
      " 60%|######    | 1201/2000 [01:25<16:53,  1.27s/img]\u001b[A\n",
      " 65%|######5   | 1301/2000 [01:30<10:31,  1.11img/s]\u001b[A\n",
      " 80%|########  | 1601/2000 [01:47<04:19,  1.54img/s]\u001b[A\n",
      " 85%|########5 | 1701/2000 [01:49<02:17,  2.17img/s]\u001b[A\n",
      "100%|##########| 2000/2000 [01:51<00:00, 17.99img/s]\n",
      "\n",
      "  0%|          | 0/4 [00:00<?, ?img/s]\u001b[A\n",
      "100%|##########| 4/4 [00:00<00:00, 11.24img/s]"
     ]
    },
    {
     "name": "stdout",
     "output_type": "stream",
     "text": [
      "\n",
      " ------------ Best forward image ------------\n",
      "MSE measure pred = 1.617917889894503\n",
      "MSE morpho on Generated data: 3.5887689223655315\n"
     ]
    },
    {
     "name": "stderr",
     "output_type": "stream",
     "text": [
      "\n"
     ]
    },
    {
     "name": "stdout",
     "output_type": "stream",
     "text": [
      "(2000, 1, 32, 32) 0.0 1.0\n",
      "save_data/gen_img_in_distribution.npy\n",
      "(2000, 1, 32, 32) 0.0 0.99968463\n"
     ]
    },
    {
     "name": "stderr",
     "output_type": "stream",
     "text": [
      "\n",
      "FID:   0%|          | 0/10 [00:00<?, ?it/s]\u001b[A\n",
      "FID:   0%|          | 0/10 [00:00<?, ?it/s, mean=18.4]\u001b[A\n",
      "FID:   0%|          | 0/10 [00:00<?, ?it/s, mean=19.2]\u001b[A\n",
      "FID:   0%|          | 0/10 [00:00<?, ?it/s, mean=19.2]\u001b[A\n",
      "FID:   0%|          | 0/10 [00:00<?, ?it/s, mean=19.3]\u001b[A\n",
      "FID:  40%|████      | 4/10 [00:00<00:00, 36.04it/s, mean=19.3]\u001b[A\n",
      "FID:  40%|████      | 4/10 [00:00<00:00, 36.04it/s, mean=19.4]\u001b[A\n",
      "FID:  40%|████      | 4/10 [00:00<00:00, 36.04it/s, mean=19.2]\u001b[A\n",
      "FID:  40%|████      | 4/10 [00:00<00:00, 36.04it/s, mean=19.2]\u001b[A\n",
      "FID:  40%|████      | 4/10 [00:00<00:00, 36.04it/s, mean=19.2]\u001b[A\n",
      "FID:  80%|████████  | 8/10 [00:00<00:00, 36.66it/s, mean=19.2]\u001b[A\n",
      "FID:  80%|████████  | 8/10 [00:00<00:00, 36.66it/s, mean=19.2]\u001b[A\n",
      "FID: 100%|██████████| 10/10 [00:00<00:00, 36.99it/s, mean=19.1]\n"
     ]
    },
    {
     "name": "stdout",
     "output_type": "stream",
     "text": [
      "(2000, 1, 32, 32) 0.0 1.0\n",
      "save_data/gen_img_in_distribution.npy\n",
      "(2000, 1, 32, 32) 0.0 1.0\n"
     ]
    },
    {
     "name": "stderr",
     "output_type": "stream",
     "text": [
      "\n",
      "FID:   0%|          | 0/10 [00:00<?, ?it/s]\u001b[A\n",
      "FID:   0%|          | 0/10 [00:00<?, ?it/s, mean=0.29]\u001b[A\n",
      "FID:   0%|          | 0/10 [00:00<?, ?it/s, mean=0.283]\u001b[A\n",
      "FID:   0%|          | 0/10 [00:00<?, ?it/s, mean=0.278]\u001b[A\n",
      "FID:   0%|          | 0/10 [00:00<?, ?it/s, mean=0.289]\u001b[A\n",
      "FID:  40%|████      | 4/10 [00:00<00:00, 37.89it/s, mean=0.289]\u001b[A\n",
      "FID:  40%|████      | 4/10 [00:00<00:00, 37.89it/s, mean=0.306]\u001b[A\n",
      "FID:  40%|████      | 4/10 [00:00<00:00, 37.89it/s, mean=0.299]\u001b[A\n",
      "FID:  40%|████      | 4/10 [00:00<00:00, 37.89it/s, mean=0.292]\u001b[A\n",
      "FID:  40%|████      | 4/10 [00:00<00:00, 37.89it/s, mean=0.294]\u001b[A\n",
      "FID:  80%|████████  | 8/10 [00:00<00:00, 36.92it/s, mean=0.294]\u001b[A\n",
      "FID:  80%|████████  | 8/10 [00:00<00:00, 36.92it/s, mean=0.291]\u001b[A\n",
      "FID: 100%|██████████| 10/10 [00:00<00:00, 36.26it/s, mean=0.29]\n"
     ]
    },
    {
     "data": {
      "image/png": "[encoded data removed]",
      "text/plain": [
       "<Figure size 1600x600 with 8 Axes>"
      ]
     },
     "metadata": {
      "tags": []
     },
     "output_type": "display_data"
    }
   ],
   "source": [
    "inf_best_6, mean_sample_measure_6, fid_gen_6 = monte_carlo_inference(6, generator, forward, trainset, fulldataset, sample_number = 2000)"
   ]
  },
  {
   "cell_type": "code",
   "execution_count": null,
   "metadata": {
    "colab": {
     "base_uri": "https://localhost:8080/",
     "height": 803
    },
    "colab_type": "code",
    "id": "B-liMJ4Usd1_",
    "outputId": "d1300b35-d6a1-4fd2-c44a-e72e46f0e931"
   },
   "outputs": [
    {
     "name": "stderr",
     "output_type": "stream",
     "text": [
      "100%|##########| 800/800 [00:56<00:00, 14.27img/s]  \n",
      "100%|##########| 4/4 [00:00<00:00,  6.64img/s]"
     ]
    },
    {
     "name": "stdout",
     "output_type": "stream",
     "text": [
      "\n",
      " ------------ Best forward image ------------\n",
      "MSE measure pred = 2.688102091722096\n",
      "MSE morpho on Generated data: 1.8782967266038304\n"
     ]
    },
    {
     "name": "stderr",
     "output_type": "stream",
     "text": [
      "\n"
     ]
    },
    {
     "name": "stdout",
     "output_type": "stream",
     "text": [
      "(800, 1, 32, 32) 0.0 1.0\n",
      "save_data/gen_img_in_distribution.npy\n",
      "(800, 1, 32, 32) 0.0 0.998704\n"
     ]
    },
    {
     "name": "stderr",
     "output_type": "stream",
     "text": [
      "FID: 100%|██████████| 10/10 [00:00<00:00, 29.47it/s, mean=19]\n"
     ]
    },
    {
     "name": "stdout",
     "output_type": "stream",
     "text": [
      "(800, 1, 32, 32) 0.0 1.0\n",
      "save_data/gen_img_in_distribution.npy\n",
      "(800, 1, 32, 32) 0.0 1.0\n"
     ]
    },
    {
     "name": "stderr",
     "output_type": "stream",
     "text": [
      "FID: 100%|██████████| 10/10 [00:00<00:00, 30.40it/s, mean=0.705]\n"
     ]
    },
    {
     "data": {
      "image/png": "[encoded data removed]",
      "text/plain": [
       "<Figure size 1600x600 with 8 Axes>"
      ]
     },
     "metadata": {
      "tags": []
     },
     "output_type": "display_data"
    },
    {
     "data": {
      "text/plain": [
       "(2.688102091722096, 1.8782967266038304, 18.994745647649506)"
      ]
     },
     "execution_count": 22,
     "metadata": {
      "tags": []
     },
     "output_type": "execute_result"
    }
   ],
   "source": [
    "monte_carlo_inference(5, generator, forward, trainset, fulldataset, sample_number = 2000)"
   ]
  },
  {
   "cell_type": "code",
   "execution_count": null,
   "metadata": {
    "colab": {
     "base_uri": "https://localhost:8080/",
     "height": 803
    },
    "colab_type": "code",
    "id": "ryQub3dxsduS",
    "outputId": "3626c7e1-d6f1-4e33-a5be-feb71b0ce988"
   },
   "outputs": [
    {
     "name": "stderr",
     "output_type": "stream",
     "text": [
      "100%|##########| 1200/1200 [01:24<00:00, 14.27img/s]\n",
      "100%|##########| 4/4 [00:00<00:00,  6.60img/s]"
     ]
    },
    {
     "name": "stdout",
     "output_type": "stream",
     "text": [
      "\n",
      " ------------ Best forward image ------------\n",
      "MSE measure pred = 0.7373011163714159\n",
      "MSE morpho on Generated data: 1.5502470083782065\n"
     ]
    },
    {
     "name": "stderr",
     "output_type": "stream",
     "text": [
      "\n"
     ]
    },
    {
     "name": "stdout",
     "output_type": "stream",
     "text": [
      "(1200, 1, 32, 32) 0.0 1.0\n",
      "save_data/gen_img_in_distribution.npy\n",
      "(1200, 1, 32, 32) 0.0 0.99929005\n"
     ]
    },
    {
     "name": "stderr",
     "output_type": "stream",
     "text": [
      "FID: 100%|██████████| 10/10 [00:00<00:00, 29.84it/s, mean=16.7]\n"
     ]
    },
    {
     "name": "stdout",
     "output_type": "stream",
     "text": [
      "(1200, 1, 32, 32) 0.0 1.0\n",
      "save_data/gen_img_in_distribution.npy\n",
      "(1200, 1, 32, 32) 0.0 1.0\n"
     ]
    },
    {
     "name": "stderr",
     "output_type": "stream",
     "text": [
      "FID: 100%|██████████| 10/10 [00:00<00:00, 28.69it/s, mean=0.474]\n"
     ]
    },
    {
     "data": {
      "image/png": "[encoded data removed]",
      "text/plain": [
       "<Figure size 1600x600 with 8 Axes>"
      ]
     },
     "metadata": {
      "tags": []
     },
     "output_type": "display_data"
    },
    {
     "data": {
      "text/plain": [
       "(0.7373011163714159, 1.5502470083782065, 16.727472816114783)"
      ]
     },
     "execution_count": 23,
     "metadata": {
      "tags": []
     },
     "output_type": "execute_result"
    }
   ],
   "source": [
    "monte_carlo_inference(4, generator, forward, trainset, fulldataset, sample_number = 2000)"
   ]
  },
  {
   "cell_type": "code",
   "execution_count": null,
   "metadata": {
    "colab": {
     "base_uri": "https://localhost:8080/",
     "height": 803
    },
    "colab_type": "code",
    "id": "_IeYuCCpsdmv",
    "outputId": "753db3ec-b457-42d9-9997-33fa410589f3"
   },
   "outputs": [
    {
     "name": "stderr",
     "output_type": "stream",
     "text": [
      "100%|##########| 1250/1250 [01:29<00:00, 14.01img/s]\n",
      "100%|##########| 4/4 [00:00<00:00,  6.75img/s]"
     ]
    },
    {
     "name": "stdout",
     "output_type": "stream",
     "text": [
      "\n",
      " ------------ Best forward image ------------\n",
      "MSE measure pred = 0.36732331756\n",
      "MSE morpho on Generated data: 1.4513103349568663\n"
     ]
    },
    {
     "name": "stderr",
     "output_type": "stream",
     "text": [
      "\n"
     ]
    },
    {
     "name": "stdout",
     "output_type": "stream",
     "text": [
      "(1250, 1, 32, 32) 0.0 1.0\n",
      "save_data/gen_img_in_distribution.npy\n",
      "(1250, 1, 32, 32) 0.0 0.9985265\n"
     ]
    },
    {
     "name": "stderr",
     "output_type": "stream",
     "text": [
      "FID: 100%|██████████| 10/10 [00:00<00:00, 28.91it/s, mean=15.5]\n"
     ]
    },
    {
     "name": "stdout",
     "output_type": "stream",
     "text": [
      "(1250, 1, 32, 32) 0.0 1.0\n",
      "save_data/gen_img_in_distribution.npy\n",
      "(1250, 1, 32, 32) 0.0 1.0\n"
     ]
    },
    {
     "name": "stderr",
     "output_type": "stream",
     "text": [
      "FID: 100%|██████████| 10/10 [00:00<00:00, 28.53it/s, mean=0.594]\n"
     ]
    },
    {
     "data": {
      "image/png": "[encoded data removed]",
      "text/plain": [
       "<Figure size 1600x600 with 8 Axes>"
      ]
     },
     "metadata": {
      "tags": []
     },
     "output_type": "display_data"
    },
    {
     "data": {
      "text/plain": [
       "(0.36732331756, 1.4513103349568663, 15.548208310702762)"
      ]
     },
     "execution_count": 24,
     "metadata": {
      "tags": []
     },
     "output_type": "execute_result"
    }
   ],
   "source": [
    "monte_carlo_inference(3, generator, forward, trainset, fulldataset, sample_number = 2000)"
   ]
  },
  {
   "cell_type": "code",
   "execution_count": null,
   "metadata": {
    "colab": {
     "base_uri": "https://localhost:8080/",
     "height": 803
    },
    "colab_type": "code",
    "id": "p9UAL1XGsdeA",
    "outputId": "c5918520-8964-4f98-9216-bfec3c0fded4"
   },
   "outputs": [
    {
     "name": "stderr",
     "output_type": "stream",
     "text": [
      "100%|##########| 2000/2000 [02:19<00:00, 14.36img/s]\n",
      "100%|##########| 4/4 [00:00<00:00,  7.08img/s]"
     ]
    },
    {
     "name": "stdout",
     "output_type": "stream",
     "text": [
      "\n",
      " ------------ Best forward image ------------\n",
      "MSE measure pred = 0.004196802092098069\n",
      "MSE morpho on Generated data: 0.7169989926665067\n"
     ]
    },
    {
     "name": "stderr",
     "output_type": "stream",
     "text": [
      "\n"
     ]
    },
    {
     "name": "stdout",
     "output_type": "stream",
     "text": [
      "(2000, 1, 32, 32) 0.0 1.0\n",
      "save_data/gen_img_in_distribution.npy\n",
      "(2000, 1, 32, 32) 0.0 0.9962828\n"
     ]
    },
    {
     "name": "stderr",
     "output_type": "stream",
     "text": [
      "FID: 100%|██████████| 10/10 [00:00<00:00, 28.32it/s, mean=16.7]\n"
     ]
    },
    {
     "name": "stdout",
     "output_type": "stream",
     "text": [
      "(2000, 1, 32, 32) 0.0 1.0\n",
      "save_data/gen_img_in_distribution.npy\n",
      "(2000, 1, 32, 32) 0.0 1.0\n"
     ]
    },
    {
     "name": "stderr",
     "output_type": "stream",
     "text": [
      "FID: 100%|██████████| 10/10 [00:00<00:00, 28.15it/s, mean=0.285]\n"
     ]
    },
    {
     "data": {
      "image/png": "[encoded data removed]",
      "text/plain": [
       "<Figure size 1600x600 with 8 Axes>"
      ]
     },
     "metadata": {
      "tags": []
     },
     "output_type": "display_data"
    },
    {
     "data": {
      "text/plain": [
       "(0.004196802092098069, 0.7169989926665067, 16.66548369997819)"
      ]
     },
     "execution_count": 25,
     "metadata": {
      "tags": []
     },
     "output_type": "execute_result"
    }
   ],
   "source": [
    "monte_carlo_inference(2, generator, forward, trainset, fulldataset, sample_number = 2000)"
   ]
  },
  {
   "cell_type": "code",
   "execution_count": null,
   "metadata": {
    "colab": {
     "base_uri": "https://localhost:8080/",
     "height": 1000
    },
    "colab_type": "code",
    "id": "nH_2x5ihskK_",
    "outputId": "e9007035-5ca5-4f04-f9b1-55b72428687a"
   },
   "outputs": [
    {
     "name": "stderr",
     "output_type": "stream",
     "text": [
      " 40%|####      | 801/2000 [01:22<2:16:38,  6.84s/img]Process ForkPoolWorker-313:\n",
      "Process ForkPoolWorker-316:\n",
      "Process ForkPoolWorker-314:\n",
      "Traceback (most recent call last):\n",
      "Traceback (most recent call last):\n",
      "Process ForkPoolWorker-315:\n",
      "  File \"/usr/lib/python3.6/multiprocessing/process.py\", line 258, in _bootstrap\n",
      "    self.run()\n",
      "Traceback (most recent call last):\n",
      "  File \"/usr/lib/python3.6/multiprocessing/process.py\", line 93, in run\n",
      "    self._target(*self._args, **self._kwargs)\n",
      "  File \"/usr/lib/python3.6/multiprocessing/process.py\", line 258, in _bootstrap\n",
      "    self.run()\n",
      "  File \"/usr/lib/python3.6/multiprocessing/process.py\", line 258, in _bootstrap\n",
      "    self.run()\n",
      "  File \"/usr/lib/python3.6/multiprocessing/process.py\", line 93, in run\n",
      "    self._target(*self._args, **self._kwargs)\n",
      "  File \"/usr/lib/python3.6/multiprocessing/pool.py\", line 119, in worker\n",
      "    result = (True, func(*args, **kwds))\n",
      "Traceback (most recent call last):\n",
      "  File \"/usr/lib/python3.6/multiprocessing/process.py\", line 93, in run\n",
      "    self._target(*self._args, **self._kwargs)\n",
      "  File \"/usr/lib/python3.6/multiprocessing/pool.py\", line 44, in mapstar\n",
      "    return list(map(*args))\n",
      "  File \"/usr/lib/python3.6/multiprocessing/pool.py\", line 119, in worker\n",
      "    result = (True, func(*args, **kwds))\n",
      "  File \"/usr/lib/python3.6/multiprocessing/process.py\", line 258, in _bootstrap\n",
      "    self.run()\n",
      "  File \"/usr/lib/python3.6/multiprocessing/pool.py\", line 119, in worker\n",
      "    result = (True, func(*args, **kwds))\n",
      "  File \"/usr/lib/python3.6/multiprocessing/pool.py\", line 44, in mapstar\n",
      "    return list(map(*args))\n",
      "  File \"/content/morphomnist/measure.py\", line 75, in _measure_image_unpack\n",
      "    return measure_image(*arg)\n",
      "  File \"/content/morphomnist/measure.py\", line 75, in _measure_image_unpack\n",
      "    return measure_image(*arg)\n",
      "  File \"/content/morphomnist/measure.py\", line 53, in measure_image\n",
      "    morph = ImageMorphology(image, threshold, scale)\n",
      "  File \"/content/morphomnist/measure.py\", line 53, in measure_image\n",
      "    morph = ImageMorphology(image, threshold, scale)\n",
      "  File \"/content/morphomnist/morpho.py\", line 57, in __init__\n",
      "    _process_img_morph(self.image, self.threshold, self.scale)\n",
      "  File \"/content/morphomnist/morpho.py\", line 57, in __init__\n",
      "    _process_img_morph(self.image, self.threshold, self.scale)\n",
      "  File \"/usr/lib/python3.6/multiprocessing/process.py\", line 93, in run\n",
      "    self._target(*self._args, **self._kwargs)\n",
      "  File \"/usr/lib/python3.6/multiprocessing/pool.py\", line 44, in mapstar\n",
      "    return list(map(*args))\n",
      "  File \"/content/morphomnist/morpho.py\", line 16, in _process_img_morph\n",
      "    skel, dist_map = morphology.medial_axis(bin_img, return_distance=True)\n",
      "  File \"/content/morphomnist/measure.py\", line 75, in _measure_image_unpack\n",
      "    return measure_image(*arg)\n",
      "  File \"/usr/lib/python3.6/multiprocessing/pool.py\", line 119, in worker\n",
      "    result = (True, func(*args, **kwds))\n",
      "  File \"/content/morphomnist/measure.py\", line 53, in measure_image\n",
      "    morph = ImageMorphology(image, threshold, scale)\n",
      "  File \"/usr/local/lib/python3.6/dist-packages/skimage/morphology/_skeletonize.py\", line 457, in medial_axis\n",
      "    for index in range(512)])  # condition 2\n",
      "  File \"/content/morphomnist/morpho.py\", line 57, in __init__\n",
      "    _process_img_morph(self.image, self.threshold, self.scale)\n",
      "  File \"/usr/local/lib/python3.6/dist-packages/skimage/morphology/_skeletonize.py\", line 457, in <listcomp>\n",
      "    for index in range(512)])  # condition 2\n",
      "  File \"/usr/lib/python3.6/multiprocessing/pool.py\", line 44, in mapstar\n",
      "    return list(map(*args))\n",
      "  File \"/content/morphomnist/morpho.py\", line 16, in _process_img_morph\n",
      "    skel, dist_map = morphology.medial_axis(bin_img, return_distance=True)\n",
      "  File \"/usr/local/lib/python3.6/dist-packages/scipy/ndimage/measurements.py\", line 221, in label\n",
      "    max_label = _ni_label._label(input, structure, output)\n",
      "  File \"/content/morphomnist/measure.py\", line 75, in _measure_image_unpack\n",
      "    return measure_image(*arg)\n",
      "  File \"/content/morphomnist/morpho.py\", line 16, in _process_img_morph\n",
      "    skel, dist_map = morphology.medial_axis(bin_img, return_distance=True)\n",
      "  File \"/usr/local/lib/python3.6/dist-packages/skimage/morphology/_skeletonize.py\", line 457, in medial_axis\n",
      "    for index in range(512)])  # condition 2\n",
      "  File \"/usr/local/lib/python3.6/dist-packages/skimage/morphology/_skeletonize.py\", line 457, in medial_axis\n",
      "    for index in range(512)])  # condition 2\n",
      "KeyboardInterrupt\n",
      "  File \"/content/morphomnist/measure.py\", line 53, in measure_image\n",
      "    morph = ImageMorphology(image, threshold, scale)\n",
      "  File \"/content/morphomnist/morpho.py\", line 57, in __init__\n",
      "    _process_img_morph(self.image, self.threshold, self.scale)\n"
     ]
    },
    {
     "ename": "KeyboardInterrupt",
     "evalue": "ignored",
     "output_type": "error",
     "traceback": [
      "\u001b[0;31m---------------------------------------------------------------------------\u001b[0m",
      "\u001b[0;31mIndexError\u001b[0m                                Traceback (most recent call last)",
      "\u001b[0;32m/usr/lib/python3.6/multiprocessing/pool.py\u001b[0m in \u001b[0;36mnext\u001b[0;34m(self, timeout)\u001b[0m\n\u001b[1;32m    719\u001b[0m             \u001b[0;32mtry\u001b[0m\u001b[0;34m:\u001b[0m\u001b[0;34m\u001b[0m\u001b[0;34m\u001b[0m\u001b[0m\n\u001b[0;32m--> 720\u001b[0;31m                 \u001b[0mitem\u001b[0m \u001b[0;34m=\u001b[0m \u001b[0mself\u001b[0m\u001b[0;34m.\u001b[0m\u001b[0m_items\u001b[0m\u001b[0;34m.\u001b[0m\u001b[0mpopleft\u001b[0m\u001b[0;34m(\u001b[0m\u001b[0;34m)\u001b[0m\u001b[0;34m\u001b[0m\u001b[0;34m\u001b[0m\u001b[0m\n\u001b[0m\u001b[1;32m    721\u001b[0m             \u001b[0;32mexcept\u001b[0m \u001b[0mIndexError\u001b[0m\u001b[0;34m:\u001b[0m\u001b[0;34m\u001b[0m\u001b[0;34m\u001b[0m\u001b[0m\n",
      "\u001b[0;31mIndexError\u001b[0m: pop from an empty deque",
      "\nDuring handling of the above exception, another exception occurred:\n",
      "\u001b[0;31mKeyboardInterrupt\u001b[0m                         Traceback (most recent call last)",
      "\u001b[0;32m<ipython-input-26-a51a819ecb38>\u001b[0m in \u001b[0;36m<module>\u001b[0;34m()\u001b[0m\n\u001b[0;32m----> 1\u001b[0;31m \u001b[0mmonte_carlo_inference\u001b[0m\u001b[0;34m(\u001b[0m\u001b[0;36m1\u001b[0m\u001b[0;34m,\u001b[0m \u001b[0mgenerator\u001b[0m\u001b[0;34m,\u001b[0m \u001b[0mforward\u001b[0m\u001b[0;34m,\u001b[0m \u001b[0mtrainset\u001b[0m\u001b[0;34m,\u001b[0m \u001b[0mtestset\u001b[0m\u001b[0;34m,\u001b[0m \u001b[0msample_number\u001b[0m \u001b[0;34m=\u001b[0m \u001b[0;36m2000\u001b[0m\u001b[0;34m)\u001b[0m\u001b[0;34m\u001b[0m\u001b[0;34m\u001b[0m\u001b[0m\n\u001b[0m",
      "\u001b[0;32m/content/src/inference/inference.py\u001b[0m in \u001b[0;36mmonte_carlo_inference\u001b[0;34m(target, generator, forward, trainset, testset, ncol, nrow, sample_number)\u001b[0m\n\u001b[1;32m    104\u001b[0m \u001b[0;34m\u001b[0m\u001b[0m\n\u001b[1;32m    105\u001b[0m     \u001b[0;31m# ------------ Compare the forward model and the Measure from morphomnist ------------\u001b[0m\u001b[0;34m\u001b[0m\u001b[0;34m\u001b[0m\u001b[0;34m\u001b[0m\u001b[0m\n\u001b[0;32m--> 106\u001b[0;31m     \u001b[0mthickness\u001b[0m \u001b[0;34m=\u001b[0m \u001b[0mcompute_thickness_ground_truth\u001b[0m\u001b[0;34m(\u001b[0m\u001b[0mimages_generated\u001b[0m\u001b[0;34m)\u001b[0m\u001b[0;34m\u001b[0m\u001b[0;34m\u001b[0m\u001b[0m\n\u001b[0m\u001b[1;32m    107\u001b[0m \u001b[0;34m\u001b[0m\u001b[0m\n\u001b[1;32m    108\u001b[0m     \u001b[0;31m# ------------ Compute the mse between the target and the morpho measure predictions ------------\u001b[0m\u001b[0;34m\u001b[0m\u001b[0;34m\u001b[0m\u001b[0;34m\u001b[0m\u001b[0m\n",
      "\u001b[0;32m/content/src/metrics/metrics.py\u001b[0m in \u001b[0;36mcompute_thickness_ground_truth\u001b[0;34m(images_generated)\u001b[0m\n\u001b[1;32m     55\u001b[0m \u001b[0;32mdef\u001b[0m \u001b[0mcompute_thickness_ground_truth\u001b[0m\u001b[0;34m(\u001b[0m\u001b[0mimages_generated\u001b[0m\u001b[0;34m)\u001b[0m\u001b[0;34m:\u001b[0m\u001b[0;34m\u001b[0m\u001b[0;34m\u001b[0m\u001b[0m\n\u001b[1;32m     56\u001b[0m     \u001b[0;32mwith\u001b[0m \u001b[0mmultiprocessing\u001b[0m\u001b[0;34m.\u001b[0m\u001b[0mPool\u001b[0m\u001b[0;34m(\u001b[0m\u001b[0;34m)\u001b[0m \u001b[0;32mas\u001b[0m \u001b[0mpool\u001b[0m\u001b[0;34m:\u001b[0m\u001b[0;34m\u001b[0m\u001b[0;34m\u001b[0m\u001b[0m\n\u001b[0;32m---> 57\u001b[0;31m         \u001b[0mthickness\u001b[0m \u001b[0;34m=\u001b[0m \u001b[0mmeasure_batch\u001b[0m\u001b[0;34m(\u001b[0m\u001b[0mimages_generated\u001b[0m\u001b[0;34m,\u001b[0m \u001b[0mpool\u001b[0m\u001b[0;34m=\u001b[0m\u001b[0mpool\u001b[0m\u001b[0;34m)\u001b[0m\u001b[0;34m[\u001b[0m\u001b[0;34m'thickness'\u001b[0m\u001b[0;34m]\u001b[0m\u001b[0;34m\u001b[0m\u001b[0;34m\u001b[0m\u001b[0m\n\u001b[0m\u001b[1;32m     58\u001b[0m     \u001b[0;32mreturn\u001b[0m \u001b[0mthickness\u001b[0m\u001b[0;34m\u001b[0m\u001b[0;34m\u001b[0m\u001b[0m\n\u001b[1;32m     59\u001b[0m \u001b[0;34m\u001b[0m\u001b[0m\n",
      "\u001b[0;32m/content/morphomnist/measure.py\u001b[0m in \u001b[0;36mmeasure_batch\u001b[0;34m(images, threshold, scale, bound_frac, pool, chunksize)\u001b[0m\n\u001b[1;32m    134\u001b[0m         \u001b[0mgen\u001b[0m \u001b[0;34m=\u001b[0m \u001b[0mplain_progress\u001b[0m\u001b[0;34m(\u001b[0m\u001b[0mgen\u001b[0m\u001b[0;34m)\u001b[0m\u001b[0;34m\u001b[0m\u001b[0;34m\u001b[0m\u001b[0m\n\u001b[1;32m    135\u001b[0m \u001b[0;34m\u001b[0m\u001b[0m\n\u001b[0;32m--> 136\u001b[0;31m     \u001b[0mresults\u001b[0m \u001b[0;34m=\u001b[0m \u001b[0mlist\u001b[0m\u001b[0;34m(\u001b[0m\u001b[0mgen\u001b[0m\u001b[0;34m)\u001b[0m\u001b[0;34m\u001b[0m\u001b[0;34m\u001b[0m\u001b[0m\n\u001b[0m\u001b[1;32m    137\u001b[0m     \u001b[0mdf\u001b[0m \u001b[0;34m=\u001b[0m \u001b[0mpd\u001b[0m\u001b[0;34m.\u001b[0m\u001b[0mDataFrame\u001b[0m\u001b[0;34m(\u001b[0m\u001b[0mresults\u001b[0m\u001b[0;34m)\u001b[0m\u001b[0;34m\u001b[0m\u001b[0;34m\u001b[0m\u001b[0m\n\u001b[1;32m    138\u001b[0m     \u001b[0;32mreturn\u001b[0m \u001b[0mdf\u001b[0m\u001b[0;34m\u001b[0m\u001b[0;34m\u001b[0m\u001b[0m\n",
      "\u001b[0;32m/usr/local/lib/python3.6/dist-packages/tqdm/std.py\u001b[0m in \u001b[0;36m__iter__\u001b[0;34m(self)\u001b[0m\n\u001b[1;32m   1089\u001b[0m             \"\"\"), fp_write=getattr(self.fp, 'write', sys.stderr.write))\n\u001b[1;32m   1090\u001b[0m \u001b[0;34m\u001b[0m\u001b[0m\n\u001b[0;32m-> 1091\u001b[0;31m         \u001b[0;32mfor\u001b[0m \u001b[0mobj\u001b[0m \u001b[0;32min\u001b[0m \u001b[0miterable\u001b[0m\u001b[0;34m:\u001b[0m\u001b[0;34m\u001b[0m\u001b[0;34m\u001b[0m\u001b[0m\n\u001b[0m\u001b[1;32m   1092\u001b[0m             \u001b[0;32myield\u001b[0m \u001b[0mobj\u001b[0m\u001b[0;34m\u001b[0m\u001b[0;34m\u001b[0m\u001b[0m\n\u001b[1;32m   1093\u001b[0m             \u001b[0;31m# Update and possibly print the progressbar.\u001b[0m\u001b[0;34m\u001b[0m\u001b[0;34m\u001b[0m\u001b[0;34m\u001b[0m\u001b[0m\n",
      "\u001b[0;32m/usr/lib/python3.6/multiprocessing/pool.py\u001b[0m in \u001b[0;36m<genexpr>\u001b[0;34m(.0)\u001b[0m\n\u001b[1;32m    318\u001b[0m                     \u001b[0mresult\u001b[0m\u001b[0;34m.\u001b[0m\u001b[0m_set_length\u001b[0m\u001b[0;34m\u001b[0m\u001b[0;34m\u001b[0m\u001b[0m\n\u001b[1;32m    319\u001b[0m                 ))\n\u001b[0;32m--> 320\u001b[0;31m             \u001b[0;32mreturn\u001b[0m \u001b[0;34m(\u001b[0m\u001b[0mitem\u001b[0m \u001b[0;32mfor\u001b[0m \u001b[0mchunk\u001b[0m \u001b[0;32min\u001b[0m \u001b[0mresult\u001b[0m \u001b[0;32mfor\u001b[0m \u001b[0mitem\u001b[0m \u001b[0;32min\u001b[0m \u001b[0mchunk\u001b[0m\u001b[0;34m)\u001b[0m\u001b[0;34m\u001b[0m\u001b[0;34m\u001b[0m\u001b[0m\n\u001b[0m\u001b[1;32m    321\u001b[0m \u001b[0;34m\u001b[0m\u001b[0m\n\u001b[1;32m    322\u001b[0m     \u001b[0;32mdef\u001b[0m \u001b[0mimap_unordered\u001b[0m\u001b[0;34m(\u001b[0m\u001b[0mself\u001b[0m\u001b[0;34m,\u001b[0m \u001b[0mfunc\u001b[0m\u001b[0;34m,\u001b[0m \u001b[0miterable\u001b[0m\u001b[0;34m,\u001b[0m \u001b[0mchunksize\u001b[0m\u001b[0;34m=\u001b[0m\u001b[0;36m1\u001b[0m\u001b[0;34m)\u001b[0m\u001b[0;34m:\u001b[0m\u001b[0;34m\u001b[0m\u001b[0;34m\u001b[0m\u001b[0m\n",
      "\u001b[0;32m/usr/lib/python3.6/multiprocessing/pool.py\u001b[0m in \u001b[0;36mnext\u001b[0;34m(self, timeout)\u001b[0m\n\u001b[1;32m    722\u001b[0m                 \u001b[0;32mif\u001b[0m \u001b[0mself\u001b[0m\u001b[0;34m.\u001b[0m\u001b[0m_index\u001b[0m \u001b[0;34m==\u001b[0m \u001b[0mself\u001b[0m\u001b[0;34m.\u001b[0m\u001b[0m_length\u001b[0m\u001b[0;34m:\u001b[0m\u001b[0;34m\u001b[0m\u001b[0;34m\u001b[0m\u001b[0m\n\u001b[1;32m    723\u001b[0m                     \u001b[0;32mraise\u001b[0m \u001b[0mStopIteration\u001b[0m\u001b[0;34m\u001b[0m\u001b[0;34m\u001b[0m\u001b[0m\n\u001b[0;32m--> 724\u001b[0;31m                 \u001b[0mself\u001b[0m\u001b[0;34m.\u001b[0m\u001b[0m_cond\u001b[0m\u001b[0;34m.\u001b[0m\u001b[0mwait\u001b[0m\u001b[0;34m(\u001b[0m\u001b[0mtimeout\u001b[0m\u001b[0;34m)\u001b[0m\u001b[0;34m\u001b[0m\u001b[0;34m\u001b[0m\u001b[0m\n\u001b[0m\u001b[1;32m    725\u001b[0m                 \u001b[0;32mtry\u001b[0m\u001b[0;34m:\u001b[0m\u001b[0;34m\u001b[0m\u001b[0;34m\u001b[0m\u001b[0m\n\u001b[1;32m    726\u001b[0m                     \u001b[0mitem\u001b[0m \u001b[0;34m=\u001b[0m \u001b[0mself\u001b[0m\u001b[0;34m.\u001b[0m\u001b[0m_items\u001b[0m\u001b[0;34m.\u001b[0m\u001b[0mpopleft\u001b[0m\u001b[0;34m(\u001b[0m\u001b[0;34m)\u001b[0m\u001b[0;34m\u001b[0m\u001b[0;34m\u001b[0m\u001b[0m\n",
      "\u001b[0;32m/usr/lib/python3.6/threading.py\u001b[0m in \u001b[0;36mwait\u001b[0;34m(self, timeout)\u001b[0m\n\u001b[1;32m    293\u001b[0m         \u001b[0;32mtry\u001b[0m\u001b[0;34m:\u001b[0m    \u001b[0;31m# restore state no matter what (e.g., KeyboardInterrupt)\u001b[0m\u001b[0;34m\u001b[0m\u001b[0;34m\u001b[0m\u001b[0m\n\u001b[1;32m    294\u001b[0m             \u001b[0;32mif\u001b[0m \u001b[0mtimeout\u001b[0m \u001b[0;32mis\u001b[0m \u001b[0;32mNone\u001b[0m\u001b[0;34m:\u001b[0m\u001b[0;34m\u001b[0m\u001b[0;34m\u001b[0m\u001b[0m\n\u001b[0;32m--> 295\u001b[0;31m                 \u001b[0mwaiter\u001b[0m\u001b[0;34m.\u001b[0m\u001b[0macquire\u001b[0m\u001b[0;34m(\u001b[0m\u001b[0;34m)\u001b[0m\u001b[0;34m\u001b[0m\u001b[0;34m\u001b[0m\u001b[0m\n\u001b[0m\u001b[1;32m    296\u001b[0m                 \u001b[0mgotit\u001b[0m \u001b[0;34m=\u001b[0m \u001b[0;32mTrue\u001b[0m\u001b[0;34m\u001b[0m\u001b[0;34m\u001b[0m\u001b[0m\n\u001b[1;32m    297\u001b[0m             \u001b[0;32melse\u001b[0m\u001b[0;34m:\u001b[0m\u001b[0;34m\u001b[0m\u001b[0;34m\u001b[0m\u001b[0m\n",
      "\u001b[0;31mKeyboardInterrupt\u001b[0m: "
     ]
    }
   ],
   "source": [
    "monte_carlo_inference(1, generator, forward, trainset, fulldataset, sample_number = 2000)"
   ]
  },
  {
   "cell_type": "code",
   "execution_count": null,
   "metadata": {
    "colab": {
     "base_uri": "https://localhost:8080/",
     "height": 102
    },
    "colab_type": "code",
    "id": "I9ZlnYGeh80l",
    "outputId": "0d9b9f8c-9753-4496-f2fd-6e887bed0b0f"
   },
   "outputs": [
    {
     "name": "stdout",
     "output_type": "stream",
     "text": [
      " ------------------ wo IS \\ Naive ------------------ \n",
      " ACC in = 0.3068659888970481   /   ACC in = 1.2964718856864885 \n",
      " ACC out = 6.999092905904743   /   ACC out = 11.813275727451341 \n",
      " FID in = 15.471496444256989\n",
      " FID out = 27.422452455813186\n"
     ]
    }
   ],
   "source": [
    "# Print results\n",
    "in_distribution_wo_inf = (mean_sample_measure_5 + mean_sample_measure_4 + mean_sample_measure_3 + mean_sample_measure_2)/4 #+ mean_sample_measure_1)/5\n",
    "in_distribution_full_model = (inf_best_5 + inf_best_4 + inf_best_3 + inf_best_2)/4 #+ inf_best_1)/5\n",
    "out_distribution_wo_inf = (mean_sample_measure_9 + mean_sample_measure_8 + mean_sample_measure_7 + mean_sample_measure_6)/4 \n",
    "out_distribution_full_model = (inf_best_9 + inf_best_8 + inf_best_7 + inf_best_6)/4 \n",
    "fid_in_distribution = (fid_gen_5 + fid_gen_4 + fid_gen_3 + fid_gen_2)/4 #+ fid_gen_1)/5\n",
    "fid_out_distribution = (fid_gen_9 + fid_gen_8 + fid_gen_7 + fid_gen_6)/4 \n",
    "print(f' ------------------ wo IS \\ Naive ------------------ ')\n",
    "print(f' ACC in = {in_distribution_full_model}   /   ACC in = {in_distribution_wo_inf} ')\n",
    "print(f' ACC out = {out_distribution_full_model}   /   ACC out = {out_distribution_wo_inf} ')\n",
    "print(f\" FID in = {fid_in_distribution}\\n FID out = {fid_out_distribution}\")"
   ]
  },
  {
   "cell_type": "code",
   "execution_count": null,
   "metadata": {
    "colab": {},
    "colab_type": "code",
    "id": "8hrOfQMxWJ8X"
   },
   "outputs": [],
   "source": []
  }
 ],
 "metadata": {
  "accelerator": "GPU",
  "colab": {
   "collapsed_sections": [],
   "include_colab_link": true,
   "machine_shape": "hm",
   "name": "CGANtest_thickness_continuous_mnist_FID_w/o_weighting.ipynb",
   "provenance": [],
   "toc_visible": true
  },
  "kernelspec": {
   "display_name": "Python 3",
   "language": "python",
   "name": "python3"
  },
  "language_info": {
   "codemirror_mode": {
    "name": "ipython",
    "version": 3
   },
   "file_extension": ".py",
   "mimetype": "text/x-python",
   "name": "python",
   "nbconvert_exporter": "python",
   "pygments_lexer": "ipython3",
   "version": "3.7.3"
  }
 },
 "nbformat": 4,
 "nbformat_minor": 2
}
